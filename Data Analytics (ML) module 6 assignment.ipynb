{
 "cells": [
  {
   "cell_type": "markdown",
   "metadata": {},
   "source": [
    "# Theoritical"
   ]
  },
  {
   "cell_type": "markdown",
   "metadata": {},
   "source": [
    "Ques 1 - What is Logistic Regression, and how does it differ from Linear Regression.\n"
   ]
  },
  {
   "cell_type": "markdown",
   "metadata": {},
   "source": [
    "Ans 1) Logistic Regression is a statistical method used for binary classification tasks. It predicts the probability of an outcome belonging to one of two classes using a logistic function (sigmoid function). Unlike Linear Regression, which predicts continuous values, Logistic Regression predicts probabilities that are then mapped to discrete classes.\n",
    "\n",
    "Key differences:\n",
    "1. **Output**: Linear Regression predicts continuous values, while Logistic Regression predicts probabilities (bounded between 0 and 1).\n",
    "2. **Function**: Linear Regression uses a linear function, whereas Logistic Regression uses the sigmoid function to model the relationship.\n",
    "3. **Use Case**: Linear Regression is used for regression tasks, while Logistic Regression is used for classification tasks."
   ]
  },
  {
   "cell_type": "markdown",
   "metadata": {},
   "source": [
    "Ques 2 - What is the mathematical equation of Logistic Regression.\n"
   ]
  },
  {
   "cell_type": "markdown",
   "metadata": {
    "vscode": {
     "languageId": "markdown"
    }
   },
   "source": [
    "Ans 2) The mathematical equation of Logistic Regression is:\n",
    "\n",
    "\\[ h_\\theta(x) = \\frac{1}{1 + e^{-\\theta^T x}} \\]\n",
    "\n",
    "Where:\n",
    "- \\( h_\\theta(x) \\) is the predicted probability of the positive class.\n",
    "- \\( \\theta \\) is the vector of model coefficients (weights).\n",
    "- \\( x \\) is the input feature vector.\n",
    "- \\( e \\) is the base of the natural logarithm.\n",
    "\n",
    "The sigmoid function \\( \\frac{1}{1 + e^{-z}} \\) maps any real-valued number \\( z \\) into the range [0, 1], making it suitable for binary classification tasks."
   ]
  },
  {
   "cell_type": "markdown",
   "metadata": {},
   "source": [
    "Ques 3 - Why do we use the Sigmoid function in Logistic Regression.\n"
   ]
  },
  {
   "cell_type": "markdown",
   "metadata": {
    "vscode": {
     "languageId": "markdown"
    }
   },
   "source": [
    "Ans 3) The Sigmoid function is used in Logistic Regression because it maps any real-valued number into a range between 0 and 1. This makes it ideal for binary classification tasks, where the output represents the probability of belonging to a particular class.\n",
    "\n",
    "Key reasons for using the Sigmoid function:\n",
    "1. **Probability Output**: The sigmoid function outputs values between 0 and 1, which can be interpreted as probabilities.\n",
    "2. **Non-linearity**: It introduces non-linearity, allowing Logistic Regression to model complex relationships between features and the target variable.\n",
    "3. **Thresholding**: The output of the sigmoid function can be thresholded (e.g., at 0.5) to classify data into two distinct classes.\n",
    "4. **Gradient-based Optimization**: The sigmoid function is differentiable, which is essential for optimization algorithms like gradient descent used in Logistic Regression."
   ]
  },
  {
   "cell_type": "markdown",
   "metadata": {},
   "source": [
    "Ques 4 - What is the cost function of Logistic Regression.\n"
   ]
  },
  {
   "cell_type": "markdown",
   "metadata": {},
   "source": [
    "Ans 4) The cost function of Logistic Regression is the Log Loss (Logarithmic Loss) function, which measures the error between the predicted probabilities and the actual class labels. It is defined as:\n",
    "\n",
    "\\[\n",
    "J(\\theta) = -\\frac{1}{m} \\sum_{i=1}^{m} \\left[ y^{(i)} \\log(h_\\theta(x^{(i)})) + (1 - y^{(i)}) \\log(1 - h_\\theta(x^{(i)})) \\right]\n",
    "\\]\n",
    "\n",
    "Where:\n",
    "- \\( m \\) is the number of training examples.\n",
    "- \\( y^{(i)} \\) is the actual label for the \\( i \\)-th training example (0 or 1).\n",
    "- \\( h_\\theta(x^{(i)}) \\) is the predicted probability for the \\( i \\)-th training example.\n",
    "- \\( \\theta \\) represents the model parameters.\n",
    "\n",
    "The cost function penalizes incorrect predictions more heavily as the predicted probability diverges from the actual label. The goal of Logistic Regression is to minimize this cost function to find the optimal model parameters."
   ]
  },
  {
   "cell_type": "markdown",
   "metadata": {},
   "source": [
    "Ques 5 - What is Regularization in Logistic Regression? Why is it needed.\n"
   ]
  },
  {
   "cell_type": "markdown",
   "metadata": {
    "vscode": {
     "languageId": "markdown"
    }
   },
   "source": [
    "Ans 5) Regularization in Logistic Regression is a technique used to prevent overfitting by adding a penalty term to the cost function. This penalty discourages the model from assigning too much importance to any single feature, thereby improving its generalization to unseen data.\n",
    "\n",
    "Key points:\n",
    "1. **Types of Regularization**:\n",
    "    - **L1 Regularization (Lasso)**: Adds the absolute value of coefficients as a penalty term (\\( \\lambda \\sum |\\theta_j| \\)).\n",
    "    - **L2 Regularization (Ridge)**: Adds the square of coefficients as a penalty term (\\( \\lambda \\sum \\theta_j^2 \\)).\n",
    "    - **Elastic Net**: Combines L1 and L2 regularization.\n",
    "\n",
    "2. **Why is it needed?**:\n",
    "    - **Prevents Overfitting**: Regularization reduces the complexity of the model by penalizing large coefficients, which helps in avoiding overfitting.\n",
    "    - **Feature Selection**: L1 regularization can shrink some coefficients to zero, effectively performing feature selection.\n",
    "    - **Improves Generalization**: By controlling the magnitude of coefficients, regularization ensures the model performs well on both training and testing data."
   ]
  },
  {
   "cell_type": "markdown",
   "metadata": {},
   "source": [
    "Ques 6 - Explain the difference between Lasso, Ridge, and Elastic Net regressionC\n"
   ]
  },
  {
   "cell_type": "markdown",
   "metadata": {
    "vscode": {
     "languageId": "markdown"
    }
   },
   "source": [
    "Ans 6) Lasso, Ridge, and Elastic Net are types of regularization techniques used in regression models to prevent overfitting by adding a penalty term to the cost function. Here's how they differ:\n",
    "\n",
    "1. **Lasso Regression (L1 Regularization)**:\n",
    "    - Adds the absolute value of coefficients as a penalty term (\\( \\lambda \\sum |\\theta_j| \\)).\n",
    "    - Can shrink some coefficients to exactly zero, effectively performing feature selection.\n",
    "    - Suitable when you expect only a few features to be important.\n",
    "\n",
    "2. **Ridge Regression (L2 Regularization)**:\n",
    "    - Adds the square of coefficients as a penalty term (\\( \\lambda \\sum \\theta_j^2 \\)).\n",
    "    - Shrinks coefficients towards zero but does not make them exactly zero.\n",
    "    - Suitable when all features are expected to contribute to the model.\n",
    "\n",
    "3. **Elastic Net Regression**:\n",
    "    - Combines L1 and L2 regularization (\\( \\lambda_1 \\sum |\\theta_j| + \\lambda_2 \\sum \\theta_j^2 \\)).\n",
    "    - Balances the benefits of both Lasso and Ridge.\n",
    "    - Suitable when there are multiple correlated features or when you want both feature selection and regularization.\n",
    "\n",
    "Key Differences:\n",
    "- Lasso performs feature selection, Ridge does not.\n",
    "- Elastic Net is a hybrid approach that combines the strengths of both Lasso and Ridge."
   ]
  },
  {
   "cell_type": "markdown",
   "metadata": {},
   "source": [
    "Ques 7 - When should we use Elastic Net instead of Lasso or Ridge.\n"
   ]
  },
  {
   "cell_type": "markdown",
   "metadata": {
    "vscode": {
     "languageId": "markdown"
    }
   },
   "source": [
    "Ans 7) Elastic Net should be used instead of Lasso or Ridge when:\n",
    "\n",
    "1. **Multicollinearity**: There are multiple correlated features in the dataset. Elastic Net combines the strengths of Lasso and Ridge, making it effective in handling multicollinearity.\n",
    "\n",
    "2. **Feature Selection and Regularization**: You want both feature selection (like Lasso) and regularization (like Ridge). Elastic Net can shrink some coefficients to zero while also penalizing large coefficients.\n",
    "\n",
    "3. **Balanced Approach**: When neither Lasso nor Ridge alone provides satisfactory results, Elastic Net offers a balanced approach by combining both penalties.\n",
    "\n",
    "Elastic Net is particularly useful when the dataset has a large number of features, some of which are highly correlated, and you want to achieve a balance between feature selection and model complexity."
   ]
  },
  {
   "cell_type": "markdown",
   "metadata": {},
   "source": [
    "Ques 8 - What is the impact of the regularization parameter (λ) in Logistic Regression.\n"
   ]
  },
  {
   "cell_type": "markdown",
   "metadata": {
    "vscode": {
     "languageId": "markdown"
    }
   },
   "source": [
    "Ans 8) The regularization parameter (λ) in Logistic Regression controls the strength of the penalty applied to the model's coefficients. It plays a crucial role in balancing the trade-off between bias and variance.\n",
    "\n",
    "Key impacts of λ:\n",
    "1. **High λ (Strong Regularization)**:\n",
    "    - Shrinks the coefficients towards zero.\n",
    "    - Reduces model complexity, preventing overfitting.\n",
    "    - May lead to underfitting if λ is too large, as the model becomes too simple to capture the underlying patterns.\n",
    "\n",
    "2. **Low λ (Weak Regularization)**:\n",
    "    - Allows the coefficients to take larger values.\n",
    "    - Increases model complexity, which can lead to overfitting if λ is too small.\n",
    "\n",
    "3. **λ = 0 (No Regularization)**:\n",
    "    - The model is equivalent to standard Logistic Regression without any penalty.\n",
    "    - May overfit the training data, especially when there are many features or multicollinearity.\n",
    "\n",
    "Choosing the right value of λ is critical and is often done using techniques like cross-validation to ensure the model generalizes well to unseen data."
   ]
  },
  {
   "cell_type": "markdown",
   "metadata": {},
   "source": [
    "Ques 9 - What are the key assumptions of Logistic Regression.\n"
   ]
  },
  {
   "cell_type": "markdown",
   "metadata": {
    "vscode": {
     "languageId": "markdown"
    }
   },
   "source": [
    "Ans 9) The key assumptions of Logistic Regression are:\n",
    "\n",
    "1. **Linearity of Features and Log Odds**:\n",
    "    - Logistic Regression assumes a linear relationship between the independent variables (features) and the log odds of the dependent variable (target).\n",
    "\n",
    "2. **Independence of Observations**:\n",
    "    - The observations in the dataset should be independent of each other.\n",
    "\n",
    "3. **No Multicollinearity**:\n",
    "    - The independent variables should not be highly correlated with each other. Multicollinearity can affect the stability of the model coefficients.\n",
    "\n",
    "4. **Binary or Categorical Dependent Variable**:\n",
    "    - Logistic Regression is primarily used for binary classification tasks, though it can be extended to multiclass classification.\n",
    "\n",
    "5. **Large Sample Size**:\n",
    "    - Logistic Regression performs better with a large sample size, as it relies on maximum likelihood estimation, which can be unstable with small datasets.\n",
    "\n",
    "6. **No Outliers**:\n",
    "    - Outliers in the independent variables can disproportionately influence the model and should be handled appropriately.\n",
    "\n",
    "7. **Independent Variables Can Be Continuous or Categorical**:\n",
    "    - Logistic Regression can handle both continuous and categorical independent variables, but categorical variables may need to be encoded (e.g., one-hot encoding)."
   ]
  },
  {
   "cell_type": "markdown",
   "metadata": {},
   "source": [
    "Ques 10 - What are some alternatives to Logistic Regression for classification tasks.\n"
   ]
  },
  {
   "cell_type": "markdown",
   "metadata": {
    "vscode": {
     "languageId": "markdown"
    }
   },
   "source": [
    "Ans 10) Some alternatives to Logistic Regression for classification tasks include:\n",
    "\n",
    "1. **Decision Trees**:\n",
    "    - Non-linear model that splits data based on feature values.\n",
    "    - Easy to interpret and visualize.\n",
    "\n",
    "2. **Random Forest**:\n",
    "    - Ensemble method using multiple decision trees.\n",
    "    - Reduces overfitting and improves accuracy.\n",
    "\n",
    "3. **Support Vector Machines (SVM)**:\n",
    "    - Finds the hyperplane that best separates classes.\n",
    "    - Effective for high-dimensional data.\n",
    "\n",
    "4. **K-Nearest Neighbors (KNN)**:\n",
    "    - Instance-based learning algorithm.\n",
    "    - Classifies based on the majority class of nearest neighbors.\n",
    "\n",
    "5. **Naive Bayes**:\n",
    "    - Probabilistic classifier based on Bayes' theorem.\n",
    "    - Assumes independence between features.\n",
    "\n",
    "6. **Gradient Boosting (e.g., XGBoost, LightGBM)**:\n",
    "    - Ensemble method that builds models sequentially to correct errors.\n",
    "    - Highly effective for structured data.\n",
    "\n",
    "7. **Neural Networks**:\n",
    "    - Suitable for complex and non-linear relationships.\n",
    "    - Often used for large datasets and deep learning tasks.\n",
    "\n",
    "8. **Linear Discriminant Analysis (LDA)**:\n",
    "    - Assumes normal distribution of features.\n",
    "    - Projects data to maximize class separability.\n",
    "\n",
    "9. **Quadratic Discriminant Analysis (QDA)**:\n",
    "    - Similar to LDA but allows for non-linear decision boundaries.\n",
    "\n",
    "10. **Logistic Regression Variants**:\n",
    "    - Multinomial Logistic Regression for multiclass problems.\n",
    "    - Regularized Logistic Regression (L1, L2, Elastic Net) for feature selection and regularization.\n",
    "\n",
    "The choice of algorithm depends on the dataset, problem complexity, and interpretability requirements."
   ]
  },
  {
   "cell_type": "markdown",
   "metadata": {},
   "source": [
    "Ques 11 - What are Classification Evaluation Metrics.\n"
   ]
  },
  {
   "cell_type": "markdown",
   "metadata": {
    "vscode": {
     "languageId": "tex"
    }
   },
   "source": [
    "Ans 11) Classification Evaluation Metrics are used to assess the performance of a classification model. These metrics help in understanding how well the model is predicting the target classes. Common classification evaluation metrics include:\n",
    "\n",
    "1. **Accuracy**:\n",
    "    - Measures the proportion of correctly predicted instances out of the total instances.\n",
    "    - Formula: \\( \\text{Accuracy} = \\frac{\\text{TP} + \\text{TN}}{\\text{TP} + \\text{TN} + \\text{FP} + \\text{FN}} \\)\n",
    "\n",
    "2. **Precision**:\n",
    "    - Measures the proportion of true positive predictions out of all positive predictions.\n",
    "    - Formula: \\( \\text{Precision} = \\frac{\\text{TP}}{\\text{TP} + \\text{FP}} \\)\n",
    "\n",
    "3. **Recall (Sensitivity or True Positive Rate)**:\n",
    "    - Measures the proportion of actual positives that are correctly identified.\n",
    "    - Formula: \\( \\text{Recall} = \\frac{\\text{TP}}{\\text{TP} + \\text{FN}} \\)\n",
    "\n",
    "4. **F1-Score**:\n",
    "    - Harmonic mean of Precision and Recall, providing a balance between the two.\n",
    "    - Formula: \\( \\text{F1-Score} = 2 \\times \\frac{\\text{Precision} \\times \\text{Recall}}{\\text{Precision} + \\text{Recall}} \\)\n",
    "\n",
    "5. **Specificity (True Negative Rate)**:\n",
    "    - Measures the proportion of actual negatives that are correctly identified.\n",
    "    - Formula: \\( \\text{Specificity} = \\frac{\\text{TN}}{\\text{TN} + \\text{FP}} \\)\n",
    "\n",
    "6. **ROC-AUC (Receiver Operating Characteristic - Area Under Curve)**:\n",
    "    - Evaluates the model's ability to distinguish between classes by plotting the True Positive Rate (TPR) against the False Positive Rate (FPR) at various thresholds.\n",
    "\n",
    "7. **Log Loss (Logarithmic Loss)**:\n",
    "    - Measures the uncertainty of predictions by penalizing incorrect predictions more heavily.\n",
    "\n",
    "8. **Confusion Matrix**:\n",
    "    - A table that summarizes the performance of a classification model by showing the counts of True Positives (TP), True Negatives (TN), False Positives (FP), and False Negatives (FN).\n",
    "\n",
    "The choice of metric depends on the problem and the importance of false positives and false negatives in the specific context."
   ]
  },
  {
   "cell_type": "markdown",
   "metadata": {},
   "source": [
    "Ques 12 - How does class imbalance affect Logistic Regression.\n"
   ]
  },
  {
   "cell_type": "markdown",
   "metadata": {
    "vscode": {
     "languageId": "markdown"
    }
   },
   "source": [
    "Ans 12) Class imbalance affects Logistic Regression by causing the model to be biased towards the majority class, as it tries to minimize the overall error. This can lead to poor performance in predicting the minority class, which is often the class of interest.\n",
    "\n",
    "Key impacts of class imbalance:\n",
    "1. **Biased Predictions**:\n",
    "    - The model may predict the majority class for most instances, ignoring the minority class.\n",
    "\n",
    "2. **Skewed Evaluation Metrics**:\n",
    "    - Metrics like accuracy can be misleading, as high accuracy may be achieved by predicting only the majority class.\n",
    "\n",
    "3. **Poor Generalization**:\n",
    "    - The model may fail to learn meaningful patterns for the minority class, leading to poor generalization.\n",
    "\n",
    "Strategies to handle class imbalance:\n",
    "1. **Resampling Techniques**:\n",
    "    - Oversampling the minority class (e.g., SMOTE).\n",
    "    - Undersampling the majority class.\n",
    "\n",
    "2. **Class Weights**:\n",
    "    - Assign higher weights to the minority class during training.\n",
    "\n",
    "3. **Evaluation Metrics**:\n",
    "    - Use metrics like Precision, Recall, F1-Score, and ROC-AUC instead of accuracy.\n",
    "\n",
    "4. **Algorithmic Adjustments**:\n",
    "    - Use algorithms that are robust to class imbalance or support class weighting.\n",
    "\n",
    "5. **Data Augmentation**:\n",
    "    - Generate synthetic data for the minority class to balance the dataset."
   ]
  },
  {
   "cell_type": "markdown",
   "metadata": {},
   "source": [
    "Ques 13 - What is Hyperparameter Tuning in Logistic Regression.\n"
   ]
  },
  {
   "cell_type": "markdown",
   "metadata": {
    "vscode": {
     "languageId": "markdown"
    }
   },
   "source": [
    "Ans 13) Hyperparameter Tuning in Logistic Regression is the process of selecting the best set of hyperparameters to optimize the model's performance. Hyperparameters are configuration settings that are not learned from the data but are set before training the model.\n",
    "\n",
    "Key hyperparameters in Logistic Regression:\n",
    "1. **C (Inverse of Regularization Strength)**:\n",
    "    - Controls the trade-off between achieving a low error on the training data and minimizing model complexity.\n",
    "    - Smaller values of C imply stronger regularization.\n",
    "\n",
    "2. **Penalty**:\n",
    "    - Specifies the type of regularization to apply (e.g., 'l1', 'l2', 'elasticnet').\n",
    "\n",
    "3. **Solver**:\n",
    "    - Determines the optimization algorithm to use (e.g., 'liblinear', 'saga', 'lbfgs').\n",
    "\n",
    "4. **Multi-class Strategy**:\n",
    "    - Specifies how to handle multi-class classification (e.g., 'ovr' for One-vs-Rest, 'multinomial' for Softmax).\n",
    "\n",
    "Methods for Hyperparameter Tuning:\n",
    "1. **Grid Search**:\n",
    "    - Exhaustively searches over a specified parameter grid to find the best combination of hyperparameters.\n",
    "\n",
    "2. **Randomized Search**:\n",
    "    - Randomly samples hyperparameter combinations from a specified distribution.\n",
    "\n",
    "3. **Bayesian Optimization**:\n",
    "    - Uses probabilistic models to find the optimal hyperparameters efficiently.\n",
    "\n",
    "4. **Cross-Validation**:\n",
    "    - Evaluates the model's performance for each hyperparameter combination using cross-validation to ensure generalization.\n",
    "\n",
    "The goal of hyperparameter tuning is to improve the model's performance on unseen data by finding the optimal configuration of hyperparameters."
   ]
  },
  {
   "cell_type": "markdown",
   "metadata": {},
   "source": [
    "Ques 14 - What are different solvers in Logistic Regression? Which one should be used.\n"
   ]
  },
  {
   "cell_type": "markdown",
   "metadata": {
    "vscode": {
     "languageId": "markdown"
    }
   },
   "source": [
    "Ans 14) Logistic Regression supports several solvers, each optimized for different scenarios. The choice of solver depends on the dataset size, regularization type, and whether the problem is binary or multiclass.\n",
    "\n",
    "1. **liblinear**:\n",
    "    - Uses a coordinate descent algorithm.\n",
    "    - Suitable for small datasets.\n",
    "    - Supports L1 and L2 regularization.\n",
    "    - Does not support multiclass classification with `multi_class='multinomial'`.\n",
    "\n",
    "2. **lbfgs**:\n",
    "    - Uses a quasi-Newton optimization method.\n",
    "    - Suitable for large datasets.\n",
    "    - Supports L2 regularization.\n",
    "    - Efficient for multiclass classification with `multi_class='multinomial'`.\n",
    "\n",
    "3. **saga**:\n",
    "    - Stochastic Average Gradient Descent solver.\n",
    "    - Suitable for large datasets and sparse data.\n",
    "    - Supports L1, L2, and Elastic Net regularization.\n",
    "    - Works well for multiclass classification.\n",
    "\n",
    "4. **newton-cg**:\n",
    "    - Uses a Newton-Conjugate Gradient method.\n",
    "    - Suitable for large datasets.\n",
    "    - Supports L2 regularization.\n",
    "    - Efficient for multiclass classification with `multi_class='multinomial'`.\n",
    "\n"
   ]
  },
  {
   "cell_type": "markdown",
   "metadata": {},
   "source": [
    "Ques 15 - How is Logistic Regression extended for multiclass classification.\n"
   ]
  },
  {
   "cell_type": "markdown",
   "metadata": {
    "vscode": {
     "languageId": "markdown"
    }
   },
   "source": [
    "Ans 15) Logistic Regression is extended for multiclass classification using the following approaches:\n",
    "\n",
    "1. **One-vs-Rest (OvR)**:\n",
    "    - Also known as One-vs-All.\n",
    "    - Trains one Logistic Regression model per class.\n",
    "    - Each model predicts whether an instance belongs to a specific class or not.\n",
    "    - The class with the highest probability is selected as the final prediction.\n",
    "    - Suitable for problems with a small number of classes.\n",
    "\n",
    "2. **Softmax Regression (Multinomial Logistic Regression)**:\n",
    "    - Generalizes Logistic Regression to handle multiple classes directly.\n",
    "    - Uses the softmax function to compute probabilities for each class.\n",
    "    - The class with the highest probability is selected as the final prediction.\n",
    "    - Suitable for problems with a large number of classes or when probabilities for all classes are needed.\n",
    "\n",
    "Key Differences:\n",
    "- OvR trains multiple binary classifiers, while Softmax trains a single model for all classes.\n",
    "- Softmax is computationally more efficient for large datasets with many classes.\n",
    "\n",
    "The choice between OvR and Softmax depends on the dataset, computational resources, and the specific requirements of the problem."
   ]
  },
  {
   "cell_type": "markdown",
   "metadata": {},
   "source": [
    "Ques 16 - What are the advantages and disadvantages of Logistic Regression.\n"
   ]
  },
  {
   "cell_type": "markdown",
   "metadata": {
    "vscode": {
     "languageId": "markdown"
    }
   },
   "source": [
    "Ans 16) Logistic Regression has several advantages and disadvantages, which are outlined below:\n",
    "\n",
    "**Advantages**:\n",
    "1. **Simplicity**:\n",
    "    - Easy to implement and interpret.\n",
    "    - Requires less computational power compared to more complex models.\n",
    "\n",
    "2. **Efficiency**:\n",
    "    - Works well for linearly separable datasets.\n",
    "    - Performs efficiently on small to medium-sized datasets.\n",
    "\n",
    "3. **Probabilistic Output**:\n",
    "    - Provides probabilities for class membership, which can be useful for decision-making.\n",
    "\n",
    "4. **Feature Importance**:\n",
    "    - Coefficients provide insights into the importance of features.\n",
    "\n",
    "5. **Regularization**:\n",
    "    - Supports L1, L2, and Elastic Net regularization to prevent overfitting.\n",
    "\n",
    "6. **Versatility**:\n",
    "    - Can be extended to multiclass classification using One-vs-Rest (OvR) or Softmax Regression.\n",
    "\n",
    "**Disadvantages**:\n",
    "1. **Linearity Assumption**:\n",
    "    - Assumes a linear relationship between features and the log odds, which may not hold for complex datasets.\n",
    "\n",
    "2. **Sensitive to Outliers**:\n",
    "    - Outliers can disproportionately influence the model.\n",
    "\n",
    "3. **Multicollinearity**:\n",
    "    - High correlation between features can affect the stability of coefficients.\n",
    "\n",
    "4. **Limited to Binary or Categorical Targets**:\n",
    "    - Primarily designed for binary classification, though it can be extended to multiclass problems.\n",
    "\n",
    "5. **Not Suitable for Non-linear Problems**:\n",
    "    - Performs poorly when the relationship between features and the target is non-linear.\n",
    "\n",
    "6. **Requires Feature Scaling**:\n",
    "    - Sensitive to feature scaling, especially when using regularization.\n",
    "\n",
    "7. **Overfitting with High-Dimensional Data**:\n",
    "    - May overfit when the number of features is much larger than the number of observations.\n",
    "\n",
    "Logistic Regression is a powerful and interpretable model for classification tasks, but its limitations should be considered when choosing it for a specific problem."
   ]
  },
  {
   "cell_type": "markdown",
   "metadata": {},
   "source": [
    "Ques 17 - What are some use cases of Logistic Regression.\n"
   ]
  },
  {
   "cell_type": "markdown",
   "metadata": {
    "vscode": {
     "languageId": "markdown"
    }
   },
   "source": [
    "Ans 17) Logistic Regression is widely used in various fields due to its simplicity and effectiveness for binary and multiclass classification tasks. Some common use cases include:\n",
    "\n",
    "1. **Medical Diagnosis**:\n",
    "    - Predicting the presence or absence of a disease based on patient data (e.g., diabetes prediction).\n",
    "\n",
    "2. **Customer Churn Prediction**:\n",
    "    - Identifying customers likely to stop using a service or product.\n",
    "\n",
    "3. **Credit Scoring**:\n",
    "    - Assessing the likelihood of a customer defaulting on a loan.\n",
    "\n",
    "4. **Spam Email Detection**:\n",
    "    - Classifying emails as spam or not spam.\n",
    "\n",
    "5. **Marketing Campaigns**:\n",
    "    - Predicting the likelihood of a customer responding to a marketing campaign.\n",
    "\n",
    "6. **Fraud Detection**:\n",
    "    - Identifying fraudulent transactions in financial systems.\n",
    "\n",
    "7. **Employee Attrition**:\n",
    "    - Predicting whether an employee is likely to leave an organization.\n",
    "\n",
    "8. **Sentiment Analysis**:\n",
    "    - Classifying text data (e.g., reviews) as positive or negative sentiment.\n",
    "\n",
    "9. **Image Classification**:\n",
    "    - Used as a baseline model for binary image classification tasks.\n",
    "\n",
    "10. **Predicting Election Outcomes**:\n",
    "    - Estimating the probability of a candidate winning based on survey data.\n",
    "\n",
    "11. **Risk Assessment**:\n",
    "    - Evaluating risks in insurance and financial sectors.\n",
    "\n",
    "12. **Behavioral Analysis**:\n",
    "    - Predicting user behavior, such as click-through rates in online advertising.\n",
    "\n",
    "Logistic Regression is particularly useful when interpretability is important, as it provides insights into the relationship between features and the target variable."
   ]
  },
  {
   "cell_type": "markdown",
   "metadata": {},
   "source": [
    "Ques 18 - What is the difference between Softmax Regression and Logistic Regression.\n"
   ]
  },
  {
   "cell_type": "markdown",
   "metadata": {
    "vscode": {
     "languageId": "markdown"
    }
   },
   "source": [
    "Ans 18) The difference between Softmax Regression and Logistic Regression lies in their application and the way they handle classification tasks:\n",
    "\n",
    "1. **Logistic Regression**:\n",
    "    - Used for binary classification tasks.\n",
    "    - Predicts the probability of an instance belonging to one of two classes.\n",
    "    - Uses the sigmoid function to map predictions to probabilities.\n",
    "    - Outputs a single probability value for the positive class, with the probability of the negative class being \\( 1 - p \\).\n",
    "\n",
    "2. **Softmax Regression**:\n",
    "    - Used for multiclass classification tasks.\n",
    "    - Predicts the probability of an instance belonging to each class.\n",
    "    - Uses the softmax function to map predictions to probabilities for all classes.\n",
    "    - Outputs a probability distribution over all classes, where the sum of probabilities equals 1.\n",
    "\n",
    "**Key Differences**:\n",
    "- Logistic Regression is limited to binary classification, while Softmax Regression handles multiple classes.\n",
    "- Logistic Regression uses the sigmoid function, whereas Softmax Regression uses the softmax function.\n",
    "- Logistic Regression outputs a single probability, while Softmax Regression outputs probabilities for all classes.\n",
    "\n",
    "Softmax Regression is essentially a generalization of Logistic Regression for multiclass problems."
   ]
  },
  {
   "cell_type": "markdown",
   "metadata": {},
   "source": [
    "Ques 19 - How do we choose between One-vs-Rest (OvR) and Softmax for multiclass classification.\n"
   ]
  },
  {
   "cell_type": "markdown",
   "metadata": {
    "vscode": {
     "languageId": "markdown"
    }
   },
   "source": [
    "Ans 19) The choice between One-vs-Rest (OvR) and Softmax for multiclass classification depends on the specific requirements of the problem and the dataset characteristics:\n",
    "\n",
    "1. **One-vs-Rest (OvR)**:\n",
    "    - Suitable for problems with a small number of classes.\n",
    "    - Trains one binary classifier per class, which can be computationally expensive for a large number of classes.\n",
    "    - Provides flexibility as each binary classifier can use a different algorithm or hyperparameters.\n",
    "    - May perform better when classes are imbalanced or when the decision boundaries between classes are not well-separated.\n",
    "\n",
    "2. **Softmax**:\n",
    "    - Suitable for problems with a large number of classes or when probabilities for all classes are needed.\n",
    "    - Trains a single model for all classes, which is computationally efficient for large datasets.\n",
    "    - Assumes that the classes are mutually exclusive and uses the softmax function to compute probabilities.\n",
    "    - May perform better when the dataset is balanced and the decision boundaries between classes are well-separated.\n",
    "\n",
    "**Key Considerations**:\n",
    "- Use OvR when interpretability and flexibility are important, or when dealing with imbalanced classes.\n",
    "- Use Softmax when computational efficiency and probability distribution over all classes are required.\n",
    "\n",
    "The choice can also be guided by cross-validation to determine which approach performs better for the specific dataset."
   ]
  },
  {
   "cell_type": "markdown",
   "metadata": {},
   "source": [
    "Ques 20 - How do we interpret coefficients in Logistic Regression?"
   ]
  },
  {
   "cell_type": "markdown",
   "metadata": {
    "vscode": {
     "languageId": "markdown"
    }
   },
   "source": [
    "Ans 20) In Logistic Regression, the coefficients represent the relationship between the independent variables (features) and the log odds of the dependent variable (target). Here's how to interpret them:\n",
    "\n",
    "1. **Log Odds**:\n",
    "    - Each coefficient indicates the change in the log odds of the target variable for a one-unit increase in the corresponding feature, holding all other features constant.\n",
    "\n",
    "2. **Odds Ratio**:\n",
    "    - The exponential of a coefficient (\\( e^{\\beta_i} \\)) gives the odds ratio.\n",
    "    - An odds ratio greater than 1 indicates a positive association between the feature and the target.\n",
    "    - An odds ratio less than 1 indicates a negative association.\n",
    "\n",
    "3. **Direction of Relationship**:\n",
    "    - Positive coefficients increase the log odds (and probability) of the target being in the positive class.\n",
    "    - Negative coefficients decrease the log odds (and probability) of the target being in the positive class.\n",
    "\n",
    "4. **Magnitude**:\n",
    "    - Larger absolute values of coefficients indicate stronger relationships between the feature and the target.\n",
    "\n",
    "5. **Feature Scaling**:\n",
    "    - Coefficients are sensitive to the scale of features. Standardizing or normalizing features ensures meaningful comparisons.\n",
    "\n",
    "Example:\n",
    "- If a coefficient for a feature is 0.5, the odds ratio is \\( e^{0.5} \\approx 1.65 \\), meaning a one-unit increase in the feature increases the odds of the positive class by 65%.\n",
    "\n",
    "Interpreting coefficients helps in understanding the impact of features on the target variable and provides insights into the model's decision-making process."
   ]
  },
  {
   "cell_type": "markdown",
   "metadata": {},
   "source": [
    "# Practical"
   ]
  },
  {
   "cell_type": "markdown",
   "metadata": {},
   "source": [
    "Ques 1 - Write a Python program that loads a dataset, splits it into training and testing sets, applies Logistic\n",
    "Regression, and prints the model accuracy."
   ]
  },
  {
   "cell_type": "code",
   "execution_count": 53,
   "metadata": {},
   "outputs": [
    {
     "name": "stdout",
     "output_type": "stream",
     "text": [
      "Model Accuracy: 0.87\n"
     ]
    }
   ],
   "source": [
    "from sklearn.model_selection import train_test_split\n",
    "from sklearn.linear_model import LogisticRegression\n",
    "from sklearn.metrics import accuracy_score\n",
    "from sklearn.datasets import load_iris\n",
    "\n",
    "import warnings\n",
    "warnings.filterwarnings(\"ignore\")\n",
    "\n",
    "\n",
    "data = load_iris()\n",
    "X, y = data.data, data.target\n",
    "\n",
    "\n",
    "X_train, X_test, y_train, y_test = train_test_split(X, y, test_size=0.2, random_state=7)\n",
    "\n",
    "\n",
    "model = LogisticRegression(max_iter=200)\n",
    "model.fit(X_train, y_train)\n",
    "\n",
    "\n",
    "y_pred = model.predict(X_test)\n",
    "accuracy = accuracy_score(y_test, y_pred)\n",
    "print(f\"Model Accuracy: {accuracy:.2f}\")"
   ]
  },
  {
   "cell_type": "markdown",
   "metadata": {},
   "source": [
    "\n",
    "Ques 2 - Write a Python program to apply L1 regularization (Lasso) on a dataset using LogisticRegression(penalty='l1')\n",
    "and print the model accuracy.\n"
   ]
  },
  {
   "cell_type": "code",
   "execution_count": 54,
   "metadata": {},
   "outputs": [
    {
     "name": "stdout",
     "output_type": "stream",
     "text": [
      "Model Accuracy with L1 Regularization: 0.80\n"
     ]
    }
   ],
   "source": [
    "# Apply L1 regularization (Lasso)\n",
    "model_l1 = LogisticRegression(penalty='l1', solver='liblinear', max_iter=200)\n",
    "model_l1.fit(X_train, y_train)\n",
    "\n",
    "# Predict and calculate accuracy\n",
    "y_pred_l1 = model_l1.predict(X_test)\n",
    "accuracy_l1 = accuracy_score(y_test, y_pred_l1)\n",
    "print(f\"Model Accuracy with L1 Regularization: {accuracy_l1:.2f}\")"
   ]
  },
  {
   "cell_type": "markdown",
   "metadata": {},
   "source": [
    "\n",
    "Ques 3 - Write a Python program to train Logistic Regression with L2 regularization (Ridge) using\n",
    "LogisticRegression(penalty='l2'). Print model accuracy and coefficients.\n"
   ]
  },
  {
   "cell_type": "code",
   "execution_count": 55,
   "metadata": {},
   "outputs": [
    {
     "name": "stdout",
     "output_type": "stream",
     "text": [
      "Model Accuracy with L2 Regularization: 0.87\n",
      "Model Coefficients with L2 Regularization:\n",
      "[[-0.43484979  0.85298887 -2.30696744 -0.99818608]\n",
      " [ 0.33927935 -0.71568716 -0.09664542 -0.8981027 ]\n",
      " [ 0.09557044 -0.13730172  2.40361286  1.89628877]]\n"
     ]
    }
   ],
   "source": [
    "# Train Logistic Regression with L2 regularization (Ridge)\n",
    "model_l2 = LogisticRegression(penalty='l2', max_iter=200)\n",
    "model_l2.fit(X_train, y_train)\n",
    "\n",
    "# Predict and calculate accuracy\n",
    "y_pred_l2 = model_l2.predict(X_test)\n",
    "accuracy_l2 = accuracy_score(y_test, y_pred_l2)\n",
    "print(f\"Model Accuracy with L2 Regularization: {accuracy_l2:.2f}\")\n",
    "\n",
    "# Print model coefficients\n",
    "print(\"Model Coefficients with L2 Regularization:\")\n",
    "print(model_l2.coef_)"
   ]
  },
  {
   "cell_type": "markdown",
   "metadata": {},
   "source": [
    "\n",
    "Ques 4 - Write a Python program to train Logistic Regression with Elastic Net Regularization (penalty='elasticnet').\n"
   ]
  },
  {
   "cell_type": "code",
   "execution_count": 56,
   "metadata": {},
   "outputs": [
    {
     "name": "stdout",
     "output_type": "stream",
     "text": [
      "Model Accuracy with Elastic Net Regularization: 0.97\n"
     ]
    }
   ],
   "source": [
    "# Train Logistic Regression with Elastic Net Regularization\n",
    "model_elasticnet = LogisticRegression(penalty='elasticnet', solver='saga', l1_ratio=0.5, max_iter=200)\n",
    "model_elasticnet.fit(X_train, y_train)\n",
    "\n",
    "# Predict and calculate accuracy\n",
    "y_pred_elasticnet = model_elasticnet.predict(X_test)\n",
    "accuracy_elasticnet = accuracy_score(y_test, y_pred_elasticnet)\n",
    "print(f\"Model Accuracy with Elastic Net Regularization: {accuracy_elasticnet:.2f}\")"
   ]
  },
  {
   "cell_type": "markdown",
   "metadata": {},
   "source": [
    "\n",
    "Ques 5 - Write a Python program to train a Logistic Regression model for multiclass classification using\n",
    "multi_class='ovr'.\n"
   ]
  },
  {
   "cell_type": "code",
   "execution_count": 57,
   "metadata": {},
   "outputs": [
    {
     "name": "stdout",
     "output_type": "stream",
     "text": [
      "Model Accuracy with OvR: 0.77\n"
     ]
    }
   ],
   "source": [
    "# Train Logistic Regression model for multiclass classification using multi_class='ovr'\n",
    "model_ovr = LogisticRegression(multi_class='ovr', max_iter=200)\n",
    "model_ovr.fit(X_train, y_train)\n",
    "\n",
    "# Predict and calculate accuracy\n",
    "y_pred_ovr = model_ovr.predict(X_test)\n",
    "accuracy_ovr = accuracy_score(y_test, y_pred_ovr)\n",
    "print(f\"Model Accuracy with OvR: {accuracy_ovr:.2f}\")"
   ]
  },
  {
   "cell_type": "markdown",
   "metadata": {},
   "source": [
    "\n",
    "Ques 6 - Write a Python program to apply GridSearchCV to tune the hyperparameters (C and penalty) of Logistic\n",
    "Regression. Print the best parameters and accuracy.\n"
   ]
  },
  {
   "cell_type": "code",
   "execution_count": 58,
   "metadata": {},
   "outputs": [
    {
     "name": "stdout",
     "output_type": "stream",
     "text": [
      "Best Parameters: {'C': 1, 'penalty': 'l2', 'solver': 'liblinear'}\n",
      "Best Accuracy: 0.97\n"
     ]
    }
   ],
   "source": [
    "from sklearn.model_selection import GridSearchCV\n",
    "\n",
    "# Define the parameter grid\n",
    "param_grid = {\n",
    "    'C': [0.1, 1, 10, 100],\n",
    "    'penalty': ['l1', 'l2'],\n",
    "    'solver': ['liblinear']  # 'liblinear' supports both 'l1' and 'l2' penalties\n",
    "}\n",
    "\n",
    "# Initialize the Logistic Regression model\n",
    "log_reg = LogisticRegression(max_iter=200)\n",
    "\n",
    "# Apply GridSearchCV\n",
    "grid_search = GridSearchCV(estimator=log_reg, param_grid=param_grid, cv=5, scoring='accuracy')\n",
    "grid_search.fit(X_train, y_train)\n",
    "\n",
    "# Print the best parameters and accuracy\n",
    "print(\"Best Parameters:\", grid_search.best_params_)\n",
    "print(f\"Best Accuracy: {grid_search.best_score_:.2f}\")"
   ]
  },
  {
   "cell_type": "markdown",
   "metadata": {},
   "source": [
    "\n",
    "Ques 7 - Write a Python program to evaluate Logistic Regression using Stratified K-Fold Cross-Validation. Print the\n",
    "average accuracy.\n"
   ]
  },
  {
   "cell_type": "code",
   "execution_count": 59,
   "metadata": {},
   "outputs": [
    {
     "name": "stdout",
     "output_type": "stream",
     "text": [
      "Average Accuracy with Stratified K-Fold: 0.97\n"
     ]
    }
   ],
   "source": [
    "from sklearn.model_selection import StratifiedKFold, cross_val_score\n",
    "\n",
    "# Initialize Stratified K-Fold\n",
    "skf = StratifiedKFold(n_splits=5, shuffle=True, random_state=42)\n",
    "\n",
    "# Evaluate Logistic Regression using cross-validation\n",
    "cv_scores = cross_val_score(model, X, y, cv=skf, scoring='accuracy')\n",
    "\n",
    "# Print the average accuracy\n",
    "print(f\"Average Accuracy with Stratified K-Fold: {cv_scores.mean():.2f}\")"
   ]
  },
  {
   "cell_type": "markdown",
   "metadata": {},
   "source": [
    "\n",
    "Ques 8 - Write a Python program to load a dataset from a CSV file, apply Logistic Regression, and evaluate its\n",
    "accuracy.\n"
   ]
  },
  {
   "cell_type": "code",
   "execution_count": 60,
   "metadata": {},
   "outputs": [
    {
     "name": "stdout",
     "output_type": "stream",
     "text": [
      "Model Accuracy: 1.00\n"
     ]
    }
   ],
   "source": [
    "import pandas as pd\n",
    "from sklearn.model_selection import train_test_split\n",
    "from sklearn.linear_model import LogisticRegression\n",
    "from sklearn.metrics import accuracy_score\n",
    "\n",
    "# Use the already loaded Iris dataset\n",
    "X = data.data\n",
    "y = data.target\n",
    "\n",
    "# Split the dataset into training and testing sets\n",
    "X_train, X_test, y_train, y_test = train_test_split(X, y, test_size=0.2, random_state=42)\n",
    "\n",
    "# Train Logistic Regression model\n",
    "model = LogisticRegression(max_iter=200)\n",
    "model.fit(X_train, y_train)\n",
    "\n",
    "# Predict and evaluate accuracy\n",
    "y_pred = model.predict(X_test)\n",
    "accuracy = accuracy_score(y_test, y_pred)\n",
    "print(f\"Model Accuracy: {accuracy:.2f}\")"
   ]
  },
  {
   "cell_type": "markdown",
   "metadata": {},
   "source": [
    "\n",
    "Ques 9 - Write a Python program to apply RandomizedSearchCV for tuning hyperparameters (C, penalty, solver) in\n",
    "Logistic Regression. Print the best parameters and accuracy.\n"
   ]
  },
  {
   "cell_type": "code",
   "execution_count": 61,
   "metadata": {},
   "outputs": [
    {
     "name": "stdout",
     "output_type": "stream",
     "text": [
      "Best Parameters: {'solver': 'saga', 'penalty': 'l2', 'C': np.float64(0.46415888336127775)}\n",
      "Best Accuracy: 0.97\n"
     ]
    }
   ],
   "source": [
    "from sklearn.model_selection import RandomizedSearchCV\n",
    "import numpy as np\n",
    "\n",
    "# Define the parameter distribution\n",
    "param_dist = {\n",
    "    'C': np.logspace(-3, 3, 10),\n",
    "    'penalty': ['l1', 'l2'],\n",
    "    'solver': ['liblinear', 'saga']  # Both solvers support l1 and l2 penalties\n",
    "}\n",
    "\n",
    "# Initialize the Logistic Regression model\n",
    "log_reg = LogisticRegression(max_iter=200)\n",
    "\n",
    "# Apply RandomizedSearchCV\n",
    "random_search = RandomizedSearchCV(estimator=log_reg, param_distributions=param_dist, n_iter=20, cv=5, scoring='accuracy', random_state=42)\n",
    "random_search.fit(X_train, y_train)\n",
    "\n",
    "# Print the best parameters and accuracy\n",
    "print(\"Best Parameters:\", random_search.best_params_)\n",
    "print(f\"Best Accuracy: {random_search.best_score_:.2f}\")"
   ]
  },
  {
   "cell_type": "markdown",
   "metadata": {},
   "source": [
    "\n",
    "Ques 10 - Write a Python program to implement One-vs-One (OvO) Multiclass Logistic Regression and print accuracyM\n",
    "EEM Write a Python program to train a Logistic Regression model and visualize the confusion matrix for binary\n",
    "classification.\n"
   ]
  },
  {
   "cell_type": "code",
   "execution_count": 62,
   "metadata": {},
   "outputs": [
    {
     "name": "stdout",
     "output_type": "stream",
     "text": [
      "Model Accuracy with OvO: 1.00\n"
     ]
    },
    {
     "data": {
      "image/png": "[encoded data removed]",
      "text/plain": [
       "<Figure size 640x480 with 2 Axes>"
      ]
     },
     "metadata": {},
     "output_type": "display_data"
    }
   ],
   "source": [
    "from sklearn.multiclass import OneVsOneClassifier\n",
    "from sklearn.linear_model import LogisticRegression\n",
    "from sklearn.metrics import accuracy_score, confusion_matrix, ConfusionMatrixDisplay\n",
    "\n",
    "import matplotlib.pyplot as plt\n",
    "\n",
    "# One-vs-One (OvO) Multiclass Logistic Regression\n",
    "ovo_model = OneVsOneClassifier(LogisticRegression(max_iter=200))\n",
    "ovo_model.fit(X_train, y_train)\n",
    "\n",
    "# Predict and calculate accuracy\n",
    "y_pred_ovo = ovo_model.predict(X_test)\n",
    "accuracy_ovo = accuracy_score(y_test, y_pred_ovo)\n",
    "print(f\"Model Accuracy with OvO: {accuracy_ovo:.2f}\")\n",
    "\n",
    "# Binary classification confusion matrix visualization\n",
    "# Assuming binary classification for the first two classes\n",
    "binary_X_train = X_train[y_train < 2]\n",
    "binary_y_train = y_train[y_train < 2]\n",
    "binary_X_test = X_test[y_test < 2]\n",
    "binary_y_test = y_test[y_test < 2]\n",
    "\n",
    "binary_model = LogisticRegression(max_iter=200)\n",
    "binary_model.fit(binary_X_train, binary_y_train)\n",
    "\n",
    "binary_y_pred = binary_model.predict(binary_X_test)\n",
    "conf_matrix = confusion_matrix(binary_y_test, binary_y_pred)\n",
    "\n",
    "# Visualize the confusion matrix\n",
    "disp = ConfusionMatrixDisplay(confusion_matrix=conf_matrix, display_labels=binary_model.classes_)\n",
    "disp.plot(cmap=plt.cm.Blues)\n",
    "plt.title(\"Confusion Matrix for Binary Classification\")\n",
    "plt.show()"
   ]
  },
  {
   "cell_type": "markdown",
   "metadata": {},
   "source": [
    "\n",
    "Ques 11 - Write a Python program to train a Logistic Regression model and evaluate its performance using Precision,\n",
    "Recall, and F1-Score.\n"
   ]
  },
  {
   "cell_type": "code",
   "execution_count": 63,
   "metadata": {},
   "outputs": [
    {
     "name": "stdout",
     "output_type": "stream",
     "text": [
      "Precision: 1.00\n",
      "Recall: 1.00\n",
      "F1-Score: 1.00\n"
     ]
    }
   ],
   "source": [
    "from sklearn.metrics import precision_score, recall_score, f1_score\n",
    "\n",
    "# Train Logistic Regression model (already trained as 'model')\n",
    "# Predict on the test set\n",
    "y_pred = model.predict(X_test)\n",
    "\n",
    "# Calculate Precision, Recall, and F1-Score\n",
    "precision = precision_score(y_test, y_pred, average='weighted')\n",
    "recall = recall_score(y_test, y_pred, average='weighted')\n",
    "f1 = f1_score(y_test, y_pred, average='weighted')\n",
    "\n",
    "# Print the evaluation metrics\n",
    "print(f\"Precision: {precision:.2f}\")\n",
    "print(f\"Recall: {recall:.2f}\")\n",
    "print(f\"F1-Score: {f1:.2f}\")"
   ]
  },
  {
   "cell_type": "markdown",
   "metadata": {},
   "source": [
    "\n",
    "Ques 12 - Write a Python program to train a Logistic Regression model on imbalanced data and apply class weights to\n",
    "improve model performance.\n"
   ]
  },
  {
   "cell_type": "code",
   "execution_count": 64,
   "metadata": {},
   "outputs": [
    {
     "name": "stdout",
     "output_type": "stream",
     "text": [
      "Classification Report with Class Weights:\n",
      "              precision    recall  f1-score   support\n",
      "\n",
      "           0       1.00      1.00      1.00       184\n",
      "           1       1.00      1.00      1.00        16\n",
      "\n",
      "    accuracy                           1.00       200\n",
      "   macro avg       1.00      1.00      1.00       200\n",
      "weighted avg       1.00      1.00      1.00       200\n",
      "\n"
     ]
    }
   ],
   "source": [
    "from sklearn.datasets import make_classification\n",
    "from sklearn.linear_model import LogisticRegression\n",
    "from sklearn.model_selection import train_test_split\n",
    "from sklearn.metrics import classification_report\n",
    "\n",
    "# Generate an imbalanced dataset\n",
    "X_imbalanced, y_imbalanced = make_classification(n_classes=2, class_sep=2, \n",
    "                                                 weights=[0.9, 0.1], n_informative=3, \n",
    "                                                 n_redundant=1, flip_y=0, \n",
    "                                                 n_features=5, n_clusters_per_class=1, \n",
    "                                                 n_samples=1000, random_state=42)\n",
    "\n",
    "# Split the dataset into training and testing sets\n",
    "X_train_imbalanced, X_test_imbalanced, y_train_imbalanced, y_test_imbalanced = train_test_split(\n",
    "    X_imbalanced, y_imbalanced, test_size=0.2, random_state=42)\n",
    "\n",
    "# Train Logistic Regression model with class weights\n",
    "model_weighted = LogisticRegression(class_weight='balanced', max_iter=200)\n",
    "model_weighted.fit(X_train_imbalanced, y_train_imbalanced)\n",
    "\n",
    "# Predict and evaluate performance\n",
    "y_pred_weighted = model_weighted.predict(X_test_imbalanced)\n",
    "print(\"Classification Report with Class Weights:\")\n",
    "print(classification_report(y_test_imbalanced, y_pred_weighted))"
   ]
  },
  {
   "cell_type": "markdown",
   "metadata": {},
   "source": [
    "\n",
    "Ques 13 - Write a Python program to train Logistic Regression on the Titanic dataset, handle missing values, and\n",
    "evaluate performance.\n"
   ]
  },
  {
   "cell_type": "code",
   "execution_count": 65,
   "metadata": {},
   "outputs": [
    {
     "name": "stdout",
     "output_type": "stream",
     "text": [
      "Model Accuracy: 0.81\n",
      "Classification Report:\n",
      "              precision    recall  f1-score   support\n",
      "\n",
      "           0       0.83      0.86      0.84       105\n",
      "           1       0.79      0.74      0.76        74\n",
      "\n",
      "    accuracy                           0.81       179\n",
      "   macro avg       0.81      0.80      0.80       179\n",
      "weighted avg       0.81      0.81      0.81       179\n",
      "\n"
     ]
    }
   ],
   "source": [
    "import pandas as pd\n",
    "from sklearn.model_selection import train_test_split\n",
    "from sklearn.linear_model import LogisticRegression\n",
    "from sklearn.metrics import accuracy_score, classification_report\n",
    "from sklearn.impute import SimpleImputer\n",
    "from sklearn.preprocessing import StandardScaler\n",
    "\n",
    "# Load the Titanic dataset\n",
    "url = \"https://raw.githubusercontent.com/datasciencedojo/datasets/master/titanic.csv\"\n",
    "titanic_data = pd.read_csv(url)\n",
    "\n",
    "# Select relevant features and target variable\n",
    "features = ['Pclass', 'Sex', 'Age', 'SibSp', 'Parch', 'Fare', 'Embarked']\n",
    "target = 'Survived'\n",
    "\n",
    "# Handle categorical variables\n",
    "titanic_data['Sex'] = titanic_data['Sex'].map({'male': 0, 'female': 1})\n",
    "titanic_data['Embarked'] = titanic_data['Embarked'].map({'C': 0, 'Q': 1, 'S': 2})\n",
    "\n",
    "# Handle missing values\n",
    "imputer = SimpleImputer(strategy='mean')\n",
    "titanic_data['Age'] = imputer.fit_transform(titanic_data[['Age']])\n",
    "titanic_data['Embarked'] = imputer.fit_transform(titanic_data[['Embarked']])\n",
    "\n",
    "# Prepare the data\n",
    "X = titanic_data[features]\n",
    "y = titanic_data[target]\n",
    "\n",
    "# Split the dataset into training and testing sets\n",
    "X_train, X_test, y_train, y_test = train_test_split(X, y, test_size=0.2, random_state=42)\n",
    "\n",
    "# Standardize the features\n",
    "scaler = StandardScaler()\n",
    "X_train = scaler.fit_transform(X_train)\n",
    "X_test = scaler.transform(X_test)\n",
    "\n",
    "# Train Logistic Regression model\n",
    "model = LogisticRegression(max_iter=200)\n",
    "model.fit(X_train, y_train)\n",
    "\n",
    "# Predict and evaluate performance\n",
    "y_pred = model.predict(X_test)\n",
    "accuracy = accuracy_score(y_test, y_pred)\n",
    "print(f\"Model Accuracy: {accuracy:.2f}\")\n",
    "print(\"Classification Report:\")\n",
    "print(classification_report(y_test, y_pred))"
   ]
  },
  {
   "cell_type": "markdown",
   "metadata": {},
   "source": [
    "\n",
    "Ques 14 - Write a Python program to apply feature scaling (Standardization) before training a Logistic Regression\n",
    "model. Evaluate its accuracy and compare results with and without scaling.\n"
   ]
  },
  {
   "cell_type": "code",
   "execution_count": 66,
   "metadata": {},
   "outputs": [
    {
     "name": "stdout",
     "output_type": "stream",
     "text": [
      "Accuracy without Scaling: 1.00\n",
      "Accuracy with Scaling: 1.00\n"
     ]
    }
   ],
   "source": [
    "from sklearn.preprocessing import StandardScaler\n",
    "from sklearn.linear_model import LogisticRegression\n",
    "from sklearn.metrics import accuracy_score\n",
    "from sklearn.model_selection import train_test_split\n",
    "\n",
    "# Split the dataset into training and testing sets\n",
    "X_train_raw, X_test_raw, y_train_raw, y_test_raw = train_test_split(data.data, data.target, test_size=0.2, random_state=42)\n",
    "\n",
    "# Train Logistic Regression without scaling\n",
    "model_no_scaling = LogisticRegression(max_iter=200)\n",
    "model_no_scaling.fit(X_train_raw, y_train_raw)\n",
    "y_pred_no_scaling = model_no_scaling.predict(X_test_raw)\n",
    "accuracy_no_scaling = accuracy_score(y_test_raw, y_pred_no_scaling)\n",
    "print(f\"Accuracy without Scaling: {accuracy_no_scaling:.2f}\")\n",
    "\n",
    "# Apply feature scaling (Standardization)\n",
    "scaler = StandardScaler()\n",
    "X_train_scaled = scaler.fit_transform(X_train_raw)\n",
    "X_test_scaled = scaler.transform(X_test_raw)\n",
    "\n",
    "# Train Logistic Regression with scaling\n",
    "model_with_scaling = LogisticRegression(max_iter=200)\n",
    "model_with_scaling.fit(X_train_scaled, y_train_raw)\n",
    "y_pred_with_scaling = model_with_scaling.predict(X_test_scaled)\n",
    "accuracy_with_scaling = accuracy_score(y_test_raw, y_pred_with_scaling)\n",
    "print(f\"Accuracy with Scaling: {accuracy_with_scaling:.2f}\")\n"
   ]
  },
  {
   "cell_type": "markdown",
   "metadata": {},
   "source": [
    "\n",
    "Ques 15 - Write a Python program to train Logistic Regression and evaluate its performance using ROC-AUC score.\n"
   ]
  },
  {
   "cell_type": "code",
   "execution_count": 67,
   "metadata": {},
   "outputs": [
    {
     "name": "stdout",
     "output_type": "stream",
     "text": [
      "ROC-AUC Score: 0.88\n"
     ]
    },
    {
     "data": {
      "image/png": "[encoded data removed]",
      "text/plain": [
       "<Figure size 640x480 with 1 Axes>"
      ]
     },
     "metadata": {},
     "output_type": "display_data"
    }
   ],
   "source": [
    "from sklearn.metrics import roc_auc_score, roc_curve\n",
    "\n",
    "import matplotlib.pyplot as plt\n",
    "\n",
    "# Train Logistic Regression model (already trained as 'model')\n",
    "# Predict probabilities for the positive class\n",
    "y_prob = model.predict_proba(X_test)[:, 1]\n",
    "\n",
    "# Calculate ROC-AUC score\n",
    "roc_auc = roc_auc_score(y_test, y_prob)\n",
    "print(f\"ROC-AUC Score: {roc_auc:.2f}\")\n",
    "\n",
    "# Plot ROC Curve\n",
    "fpr, tpr, thresholds = roc_curve(y_test, y_prob)\n",
    "plt.figure()\n",
    "plt.plot(fpr, tpr, color='blue', label=f'ROC Curve (AUC = {roc_auc:.2f})')\n",
    "plt.plot([0, 1], [0, 1], color='red', linestyle='--', label='Random Guess')\n",
    "plt.xlabel('False Positive Rate')\n",
    "plt.ylabel('True Positive Rate')\n",
    "plt.title('Receiver Operating Characteristic (ROC) Curve')\n",
    "plt.legend()\n",
    "plt.show()"
   ]
  },
  {
   "cell_type": "markdown",
   "metadata": {},
   "source": [
    "\n",
    "Ques 16 - Write a Python program to train Logistic Regression using a custom learning rate (C=0.5) and evaluate\n",
    "accuracy.\n"
   ]
  },
  {
   "cell_type": "code",
   "execution_count": 68,
   "metadata": {},
   "outputs": [
    {
     "name": "stdout",
     "output_type": "stream",
     "text": [
      "Model Accuracy with Custom Learning Rate (C=0.5): 0.80\n"
     ]
    }
   ],
   "source": [
    "# Train Logistic Regression using a custom learning rate (C=0.5)\n",
    "model_custom_lr = LogisticRegression(C=0.5, max_iter=200)\n",
    "model_custom_lr.fit(X_train, y_train)\n",
    "\n",
    "# Predict and evaluate accuracy\n",
    "y_pred_custom_lr = model_custom_lr.predict(X_test)\n",
    "accuracy_custom_lr = accuracy_score(y_test, y_pred_custom_lr)\n",
    "print(f\"Model Accuracy with Custom Learning Rate (C=0.5): {accuracy_custom_lr:.2f}\")"
   ]
  },
  {
   "cell_type": "markdown",
   "metadata": {},
   "source": [
    "\n",
    "Ques 17 - Write a Python program to train Logistic Regression and identify important features based on model\n",
    "coefficients.\n"
   ]
  },
  {
   "cell_type": "code",
   "execution_count": 69,
   "metadata": {},
   "outputs": [
    {
     "name": "stdout",
     "output_type": "stream",
     "text": [
      "Feature Importance (sorted by absolute coefficient values):\n",
      "sepal width (cm): 1.2786\n",
      "sepal length (cm): -0.7825\n",
      "petal length (cm): -0.4044\n",
      "petal width (cm): -0.3508\n"
     ]
    }
   ],
   "source": [
    "import numpy as np\n",
    "\n",
    "# Train Logistic Regression model (already trained as 'model')\n",
    "# Extract feature names and coefficients\n",
    "feature_names = data.feature_names\n",
    "coefficients = model.coef_[0]  # Assuming binary classification\n",
    "\n",
    "# Combine feature names and coefficients\n",
    "feature_importance = list(zip(feature_names, coefficients))\n",
    "\n",
    "# Sort features by absolute value of coefficients\n",
    "sorted_features = sorted(feature_importance, key=lambda x: abs(x[1]), reverse=True)\n",
    "\n",
    "# Print sorted features with their importance\n",
    "print(\"Feature Importance (sorted by absolute coefficient values):\")\n",
    "for feature, coef in sorted_features:\n",
    "    print(f\"{feature}: {coef:.4f}\")"
   ]
  },
  {
   "cell_type": "markdown",
   "metadata": {},
   "source": [
    "\n",
    "Ques 18 - Write a Python program to train Logistic Regression and evaluate its performance using Cohen’s Kappa\n",
    "Score.\n"
   ]
  },
  {
   "cell_type": "code",
   "execution_count": 70,
   "metadata": {},
   "outputs": [
    {
     "name": "stdout",
     "output_type": "stream",
     "text": [
      "Cohen's Kappa Score: 1.00\n"
     ]
    }
   ],
   "source": [
    "from sklearn.metrics import cohen_kappa_score\n",
    "\n",
    "# Train Logistic Regression model (already trained as 'binary_model')\n",
    "# Predict on the test set (already predicted as 'binary_y_pred')\n",
    "\n",
    "# Calculate Cohen's Kappa Score\n",
    "kappa_score = cohen_kappa_score(binary_y_test, binary_y_pred)\n",
    "\n",
    "# Print the Cohen's Kappa Score\n",
    "print(f\"Cohen's Kappa Score: {kappa_score:.2f}\")"
   ]
  },
  {
   "cell_type": "markdown",
   "metadata": {},
   "source": [
    "\n",
    "Ques 19 - Write a Python program to train Logistic Regression and visualize the Precision-Recall Curve for binary\n",
    "classification.\n"
   ]
  },
  {
   "cell_type": "code",
   "execution_count": 71,
   "metadata": {},
   "outputs": [
    {
     "data": {
      "image/png": "[encoded data removed]",
      "text/plain": [
       "<Figure size 640x480 with 1 Axes>"
      ]
     },
     "metadata": {},
     "output_type": "display_data"
    }
   ],
   "source": [
    "from sklearn.metrics import precision_recall_curve, average_precision_score\n",
    "\n",
    "import matplotlib.pyplot as plt\n",
    "\n",
    "# Predict probabilities for the positive class\n",
    "y_prob_binary = binary_model.predict_proba(binary_X_test)[:, 1]\n",
    "\n",
    "# Calculate Precision-Recall values\n",
    "precision, recall, thresholds = precision_recall_curve(binary_y_test, y_prob_binary)\n",
    "\n",
    "# Calculate Average Precision Score\n",
    "average_precision = average_precision_score(binary_y_test, y_prob_binary)\n",
    "\n",
    "# Plot the Precision-Recall Curve\n",
    "plt.figure()\n",
    "plt.plot(recall, precision, label=f'Precision-Recall Curve (AP = {average_precision:.2f})')\n",
    "plt.xlabel('Recall')\n",
    "plt.ylabel('Precision')\n",
    "plt.title('Precision-Recall Curve for Binary Classification')\n",
    "plt.legend()\n",
    "plt.show()"
   ]
  },
  {
   "cell_type": "markdown",
   "metadata": {},
   "source": [
    "\n",
    "Ques 20 - Write a Python program to train Logistic Regression with different solvers (liblinear, saga, lbfgs) and compare\n",
    "their accuracy.\n"
   ]
  },
  {
   "cell_type": "code",
   "execution_count": 72,
   "metadata": {},
   "outputs": [
    {
     "name": "stdout",
     "output_type": "stream",
     "text": [
      "Accuracy with solver 'liblinear': 0.81\n",
      "Accuracy with solver 'saga': 0.81\n",
      "Accuracy with solver 'lbfgs': 0.81\n",
      "Best solver: liblinear with accuracy 0.81\n"
     ]
    }
   ],
   "source": [
    "# Train Logistic Regression with different solvers and compare their accuracy\n",
    "solvers = ['liblinear', 'saga', 'lbfgs']\n",
    "accuracies = {}\n",
    "\n",
    "for solver in solvers:\n",
    "    model_solver = LogisticRegression(solver=solver, max_iter=200)\n",
    "    model_solver.fit(X_train, y_train)\n",
    "    y_pred_solver = model_solver.predict(X_test)\n",
    "    accuracy_solver = accuracy_score(y_test, y_pred_solver)\n",
    "    accuracies[solver] = accuracy_solver\n",
    "    print(f\"Accuracy with solver '{solver}': {accuracy_solver:.2f}\")\n",
    "\n",
    "# Print the solver with the highest accuracy\n",
    "best_solver = max(accuracies, key=accuracies.get)\n",
    "print(f\"Best solver: {best_solver} with accuracy {accuracies[best_solver]:.2f}\")"
   ]
  },
  {
   "cell_type": "markdown",
   "metadata": {},
   "source": [
    "\n",
    "Ques 21 - Write a Python program to train Logistic Regression and evaluate its performance using Matthews\n",
    "Correlation Coefficient (MCC).\n"
   ]
  },
  {
   "cell_type": "code",
   "execution_count": 73,
   "metadata": {},
   "outputs": [
    {
     "name": "stdout",
     "output_type": "stream",
     "text": [
      "Matthews Correlation Coefficient (MCC): 1.00\n"
     ]
    }
   ],
   "source": [
    "from sklearn.metrics import matthews_corrcoef\n",
    "\n",
    "# Train Logistic Regression model (already trained as 'binary_model')\n",
    "# Predict on the test set (already predicted as 'binary_y_pred')\n",
    "\n",
    "# Calculate Matthews Correlation Coefficient (MCC)\n",
    "mcc = matthews_corrcoef(binary_y_test, binary_y_pred)\n",
    "\n",
    "# Print the MCC score\n",
    "print(f\"Matthews Correlation Coefficient (MCC): {mcc:.2f}\")"
   ]
  },
  {
   "cell_type": "markdown",
   "metadata": {},
   "source": [
    "\n",
    "Ques 22 - Write a Python program to train Logistic Regression on both raw and standardized data. Compare their\n",
    "accuracy to see the impact of feature scaling.\n"
   ]
  },
  {
   "cell_type": "code",
   "execution_count": null,
   "metadata": {
    "vscode": {
     "languageId": "julia"
    }
   },
   "outputs": [
    {
     "name": "stdout",
     "output_type": "stream",
     "text": [
      "Accuracy on Raw Data: 1.00\n",
      "Accuracy on Standardized Data: 1.00\n"
     ]
    }
   ],
   "source": [
    "from sklearn.linear_model import LogisticRegression\n",
    "from sklearn.metrics import accuracy_score\n",
    "from sklearn.model_selection import train_test_split\n",
    "from sklearn.preprocessing import StandardScaler\n",
    "\n",
    "# Split the dataset into training and testing sets\n",
    "X_train_raw, X_test_raw, y_train_raw, y_test_raw = train_test_split(data.data, data.target, test_size=0.2, random_state=42)\n",
    "\n",
    "# Train Logistic Regression on raw data\n",
    "model_raw = LogisticRegression(max_iter=200)\n",
    "model_raw.fit(X_train_raw, y_train_raw)\n",
    "y_pred_raw = model_raw.predict(X_test_raw)\n",
    "accuracy_raw = accuracy_score(y_test_raw, y_pred_raw)\n",
    "print(f\"Accuracy on Raw Data: {accuracy_raw:.2f}\")\n",
    "\n",
    "# Standardize the data\n",
    "scaler = StandardScaler()\n",
    "X_train_scaled = scaler.fit_transform(X_train_raw)\n",
    "X_test_scaled = scaler.transform(X_test_raw)\n",
    "\n",
    "# Train Logistic Regression on standardized data\n",
    "model_scaled = LogisticRegression(max_iter=200)\n",
    "model_scaled.fit(X_train_scaled, y_train_raw)\n",
    "y_pred_scaled = model_scaled.predict(X_test_scaled)\n",
    "accuracy_scaled = accuracy_score(y_test_raw, y_pred_scaled)\n",
    "print(f\"Accuracy on Standardized Data: {accuracy_scaled:.2f}\")"
   ]
  },
  {
   "cell_type": "markdown",
   "metadata": {},
   "source": [
    "\n",
    "Ques 23 - Write a Python program to train Logistic Regression and find the optimal C (regularization strength) using\n",
    "cross-validation.\n"
   ]
  },
  {
   "cell_type": "code",
   "execution_count": 74,
   "metadata": {},
   "outputs": [
    {
     "name": "stdout",
     "output_type": "stream",
     "text": [
      "Optimal C (Regularization Strength): 0.01\n",
      "Best Cross-Validation Accuracy: 0.81\n"
     ]
    }
   ],
   "source": [
    "from sklearn.model_selection import GridSearchCV\n",
    "\n",
    "# Define the parameter grid for C (regularization strength)\n",
    "param_grid = {'C': [0.01, 0.1, 1, 10, 100]}\n",
    "\n",
    "# Initialize the Logistic Regression model\n",
    "log_reg = LogisticRegression(max_iter=200)\n",
    "\n",
    "# Apply GridSearchCV to find the optimal C\n",
    "grid_search = GridSearchCV(estimator=log_reg, param_grid=param_grid, cv=5, scoring='accuracy')\n",
    "grid_search.fit(X_train, y_train)\n",
    "\n",
    "# Print the best C value and corresponding accuracy\n",
    "print(\"Optimal C (Regularization Strength):\", grid_search.best_params_['C'])\n",
    "print(f\"Best Cross-Validation Accuracy: {grid_search.best_score_:.2f}\")"
   ]
  },
  {
   "cell_type": "markdown",
   "metadata": {},
   "source": [
    "\n",
    "Ques 24 - Write a Python program to train Logistic Regression, save the trained model using joblib, and load it again to\n",
    "make predictions."
   ]
  },
  {
   "cell_type": "code",
   "execution_count": 75,
   "metadata": {},
   "outputs": [
    {
     "name": "stdout",
     "output_type": "stream",
     "text": [
      "Accuracy of Loaded Model: 0.81\n"
     ]
    }
   ],
   "source": [
    "import joblib\n",
    "from sklearn.linear_model import LogisticRegression\n",
    "from sklearn.metrics import accuracy_score\n",
    "\n",
    "# Train Logistic Regression model (already trained as 'model')\n",
    "# Save the trained model to a file\n",
    "joblib.dump(model, 'logistic_regression_model.pkl')\n",
    "\n",
    "# Load the model from the file\n",
    "loaded_model = joblib.load('logistic_regression_model.pkl')\n",
    "\n",
    "# Make predictions using the loaded model\n",
    "y_pred_loaded = loaded_model.predict(X_test)\n",
    "\n",
    "# Evaluate accuracy\n",
    "accuracy_loaded = accuracy_score(y_test, y_pred_loaded)\n",
    "print(f\"Accuracy of Loaded Model: {accuracy_loaded:.2f}\")"
   ]
  }
 ],
 "metadata": {
  "kernelspec": {
   "display_name": "Python 3",
   "language": "python",
   "name": "python3"
  },
  "language_info": {
   "codemirror_mode": {
    "name": "ipython",
    "version": 3
   },
   "file_extension": ".py",
   "mimetype": "text/x-python",
   "name": "python",
   "nbconvert_exporter": "python",
   "pygments_lexer": "ipython3",
   "version": "3.12.0"
  }
 },
 "nbformat": 4,
 "nbformat_minor": 2
}
