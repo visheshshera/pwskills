{
 "cells": [
  {
   "cell_type": "markdown",
   "metadata": {},
   "source": [
    "**Ques 1. Explain the properties of the F-distribution.**"
   ]
  },
  {
   "cell_type": "markdown",
   "metadata": {},
   "source": [
    "Ans 1)\n",
    "Properties of F-Distribution:\n",
    "\n",
    "1. Non-Symmetry: The F-distribution is skewed to the right.\n",
    "\n",
    "2. Continuous: The F-distribution is a continuous distribution.\n",
    "\n",
    "3. Positive: The F-distribution takes only positive values.\n",
    "\n",
    "4. Two Parameters: The F-distribution has two parameters: degrees of freedom for the numerator (df1) and degrees of freedom for the denominator (df2).\n",
    "\n",
    "5. Shape: The shape of the F-distribution changes with df1 and df2.\n",
    "\n"
   ]
  },
  {
   "cell_type": "markdown",
   "metadata": {},
   "source": [
    "***\n",
    "**Ques 2.In which types of statistical tests is the F-distribution used, and why is it appropriate for these tests?**"
   ]
  },
  {
   "cell_type": "markdown",
   "metadata": {},
   "source": [
    "Ans 2)\n",
    "1. Testing for Equality of Variances:\n",
    "\n",
    "F-test for Equal Variances:\n",
    "\n",
    " This test compares the variances of two populations. The null hypothesis is that the two populations have equal variances. The F-statistic is calculated as the ratio of the sample variances. If the calculated F-statistic is significantly larger than the critical value, we reject the null hypothesis and conclude that the variances are not equal.\n",
    "\n",
    "\n",
    "2. Analysis of Variance (ANOVA):\n",
    "\n",
    "One-way ANOVA: This test compares the means of multiple groups. The null hypothesis is that all group means are equal. The F-statistic is calculated as the ratio of the mean square between groups (MSB) to the mean square within groups (MSW). If the calculated F-statistic is significantly larger than the critical value, we reject the null hypothesis and conclude that at least one group mean is different from the others."
   ]
  },
  {
   "cell_type": "markdown",
   "metadata": {},
   "source": [
    "***\n",
    "**Ques 3. What are the key assumptions required for conducting an F-test to compare the variances of two\n",
    "populations?**"
   ]
  },
  {
   "cell_type": "markdown",
   "metadata": {},
   "source": [
    "Ans 3)\n",
    "To conduct an F-test to compare the variances of two populations, the following key assumptions must be met:\n",
    "\n",
    "Independence: The two samples must be independent of each other. This means that the selection of one sample should not influence the selection of the other.\n",
    "\n",
    "Normality: Both populations from which the samples are drawn should be normally distributed. This assumption is crucial, as the F-test is sensitive to departures from normality.   \n",
    "\n",
    "Equal Variances (Homoscedasticity): This assumption, although counterintuitive for a test of variances, is necessary for the validity of the F-test.1 Essentially, we assume that the two populations have equal variances.   \n"
   ]
  },
  {
   "cell_type": "markdown",
   "metadata": {},
   "source": [
    "***\n",
    "**Ques 4. What is the purpose of ANOVA, and how does it differ from a t-test?**"
   ]
  },
  {
   "cell_type": "markdown",
   "metadata": {},
   "source": [
    "Ans 4)\n",
    "Analysis of Variance (ANOVA) is a statistical technique used to compare the means of two or more groups. It helps determine whether there are significant differences among the means of these groups. \n",
    "\n",
    "Difference between ANOVA and t-test are:\n",
    "\n",
    "t-test: Used to compare the means of two groups.   \n",
    "\n",
    "ANOVA: Used to compare the means of more than two groups."
   ]
  },
  {
   "cell_type": "markdown",
   "metadata": {},
   "source": [
    "***\n",
    "**Ques 5. Explain when and why you would use a one-way ANOVA instead of multiple t-tests when comparing more\n",
    "than two groups.**"
   ]
  },
  {
   "cell_type": "markdown",
   "metadata": {},
   "source": [
    "Ans 5)\n",
    "When comparing the means of more than two groups, it's generally more appropriate to use a one-way ANOVA rather than multiple t-tests. Here's why:   \n",
    "\n",
    "1. Controlling Type I Error Rate:\n",
    "\n",
    "Multiple Comparisons Problem: Conducting multiple t-tests increases the likelihood of making a Type I error (false positive). With each test, there's a chance of incorrectly rejecting the null hypothesis.   \n",
    "ANOVA's Advantage: ANOVA controls the overall Type I error rate, ensuring that the probability of making at least one Type I error across all comparisons is at the specified significance level (usually 0.05).   \n",
    "\n",
    "2. Increased Statistical Power:\n",
    "\n",
    "Pooling Variance: ANOVA pools the variance from all groups to estimate a common population variance, leading to a more precise estimate and increased statistical power.   \n",
    "Efficiency: This pooled variance allows for a more sensitive test, making it easier to detect significant differences between group means.\n",
    "\n",
    "3. Comprehensive Analysis:\n",
    "\n",
    "Overall Significance: ANOVA provides an overall test of whether there are any differences among the group means.   \n",
    "Pairwise Comparisons: If the ANOVA is significant, post-hoc tests like Tukey's HSD or Bonferroni correction can be used to identify specific pairwise differences between groups, controlling for the Type I error rate.\n",
    "\n",
    " "
   ]
  },
  {
   "cell_type": "markdown",
   "metadata": {},
   "source": [
    "***\n",
    "**Ques 6. Explain how variance is partitioned in ANOVA into between-group variance and within-group variance.\n",
    "How does this partitioning contribute to the calculation of the F-statistic?**"
   ]
  },
  {
   "cell_type": "markdown",
   "metadata": {},
   "source": [
    "Ans 6)\n",
    "\n",
    "Between-Group Variance: This measures the variability between the means of different groups. It represents the differences in the average values of the dependent variable across the different groups. \n",
    "  \n",
    "\n",
    "Within-Group Variance: This measures the variability within each group. It represents the natural variation or noise within each group, which is not attributable to the group differences.\n",
    "\n",
    "The F-statistic is calculated by comparing the between-group variance to the within-group variance. Specifically, it is the ratio of the mean square between groups (MSB) to the mean square within groups (MSW):   \n",
    "\n",
    "F = MSB / MSW\n",
    "\n",
    "where,\n",
    "MSB: This represents the average variability between the group means.\n",
    "\n",
    "   \n",
    "MSW: This represents the average variability within each group.   \n",
    "\n",
    "\n",
    "A larger F-statistic indicates that the between-group variance is significantly larger than the within-group variance. This suggests that the differences between the group means are not due to chance but are likely real effects of the independent variable."
   ]
  },
  {
   "cell_type": "markdown",
   "metadata": {},
   "source": [
    "***\n",
    "**Ques 7. Compare the classical (frequentist) approach to ANOVA with the Bayesian approach. What are the key\n",
    "differences in terms of how they handle uncertainty, parameter estimation, and hypothesis testing?**"
   ]
  },
  {
   "cell_type": "markdown",
   "metadata": {},
   "source": [
    "Ans 7)\n",
    "Classical (Frequentist) vs. Bayesian ANOVA:\n",
    "\n",
    "**Uncertainty:**\n",
    "\n",
    "Classical: Treats parameters as fixed, unknown quantities. Uncertainty is expressed in terms of confidence intervals, which represent the range of values within which the true parameter is likely to fall with a certain level of confidence.   \n",
    "\n",
    "Bayesian: Treats parameters as random variables. Uncertainty is quantified using probability distributions, specifically the posterior distribution, which represents the updated beliefs about the parameter given the observed data and prior beliefs.   \n",
    "\n",
    "**Parameter Estimation:**\n",
    "\n",
    "Classical: Estimates parameters using point estimates (e.g., sample mean, sample variance) and constructs confidence intervals around these point estimates.\n",
    "\n",
    "Bayesian: Estimates parameters by calculating the posterior distribution, which represents the full range of plausible values for the parameter, along with their associated probabilities.\n",
    "\n",
    "**Hypothesis Testing:**\n",
    "\n",
    "Classical: Formulates null and alternative hypotheses and calculates a p-value, which represents the probability of observing the data (or more extreme data) if the null hypothesis were true. A small p-value leads to rejection of the null hypothesis.   \n",
    "\n",
    "Bayesian: Directly calculates the probability of the null hypothesis being true, given the observed data and prior beliefs. This is often expressed as a Bayes factor, which compares the evidence for the null hypothesis to the evidence for the alternative hypothesis.   \n"
   ]
  },
  {
   "cell_type": "markdown",
   "metadata": {},
   "source": [
    "***\n",
    "Ques 8. Question: You have two sets of data representing the incomes of two different professions1\n",
    "\n",
    "Profession A: [48, 52, 55, 60, 62]\n",
    "\n",
    "Profession B: [45, 50, 55, 52, 47]\n",
    "\n",
    "**Perform an F-test to determine if the variances of the two professions'\n",
    "incomes are equal. What are your conclusions based on the F-test?**\n",
    "\n",
    "**Task: Use Python to calculate the F-statistic and p-value for the given data.**\n",
    "\n",
    "**Objective: Gain experience in performing F-tests and interpreting the results in terms of variance comparison.**"
   ]
  },
  {
   "cell_type": "markdown",
   "metadata": {},
   "source": [
    "Ans 8)\n",
    "\n",
    "Interpretation:\n",
    "\n",
    "The F-statistic (3.23) measures the ratio of the variances between the two professions.\n",
    "\n",
    "The p-value (0.109) is greater than the common significance level of 0.05.\n",
    "\n",
    "Conclusion: There is no statistically significant difference in the variances of incomes between the two professions. This suggests that the variability in incomes is similar for Profession A and Profession B. ​\n"
   ]
  },
  {
   "cell_type": "code",
   "execution_count": 1,
   "metadata": {},
   "outputs": [
    {
     "name": "stdout",
     "output_type": "stream",
     "text": [
      "F-statistic: 3.232989690721649\n",
      "p-value: 0.10987970118946545\n"
     ]
    }
   ],
   "source": [
    "from scipy.stats import f_oneway\n",
    "\n",
    "# Data for the two professions\n",
    "profession_A = [48, 52, 55, 60, 62]\n",
    "profession_B = [45, 50, 55, 52, 47]\n",
    "\n",
    "# Perform the F-test\n",
    "f_statistic, p_value = f_oneway(profession_A, profession_B)\n",
    "\n",
    "print(\"F-statistic:\", f_statistic)\n",
    "print(\"p-value:\", p_value)"
   ]
  },
  {
   "cell_type": "markdown",
   "metadata": {},
   "source": [
    "***\n",
    "Ques 9. Question: Conduct a one-way ANOVA to test whether there are any statistically significant differences in\n",
    "average heights between three different regions with the following data.\n",
    "\n",
    "Region A: [160, 162, 165, 158, 164]\n",
    "\n",
    "Region B: [172, 175, 170, 168, 174]\n",
    "\n",
    "Region C: [180, 182, 179, 185, 183]\n",
    "\n",
    "Task: Write Python code to perform the one-way ANOVA and interpret the results\n",
    "\n",
    "Objective: Learn how to perform one-way ANOVA using Python and interpret F-statistic and p-value"
   ]
  },
  {
   "cell_type": "code",
   "execution_count": null,
   "metadata": {},
   "outputs": [
    {
     "name": "stdout",
     "output_type": "stream",
     "text": [
      "F-statistic: 67.87330316742101\n",
      "p-value: 2.8706641879370266e-07\n"
     ]
    }
   ],
   "source": [
    "from scipy.stats import f_oneway\n",
    "\n",
    "# Data for the three regions\n",
    "region_A = [160, 162, 165, 158, 164]\n",
    "region_B = [172, 175, 170, 168, 174]\n",
    "region_C = [180, 182, 179, 185, 183]\n",
    "\n",
    "# Perform one-way ANOVA\n",
    "f_statistic, p_value = f_oneway(region_A, region_B, region_C)\n",
    "\n",
    "print(\"F-statistic:\", f_statistic)\n",
    "print(\"p-value:\", p_value)"
   ]
  },
  {
   "cell_type": "markdown",
   "metadata": {},
   "source": [
    "Ans 9)\n",
    "The F-statistic (67.87) indicates how much the group means differ relative to the variability within the groups.\n",
    "\n",
    "The p-value (2.87×10^-7) is significantly less than the common significance level of 0.05.\n",
    "\n",
    "Conclusion: There is a statistically significant difference in average heights between the three regions. This suggests that at least one region's average height is different from the others"
   ]
  }
 ],
 "metadata": {
  "kernelspec": {
   "display_name": "Python 3",
   "language": "python",
   "name": "python3"
  },
  "language_info": {
   "codemirror_mode": {
    "name": "ipython",
    "version": 3
   },
   "file_extension": ".py",
   "mimetype": "text/x-python",
   "name": "python",
   "nbconvert_exporter": "python",
   "pygments_lexer": "ipython3",
   "version": "3.12.0"
  }
 },
 "nbformat": 4,
 "nbformat_minor": 2
}
