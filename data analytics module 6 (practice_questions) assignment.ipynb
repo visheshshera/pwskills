{
  "cells": [
    {
      "cell_type": "code",
      "execution_count": 1,
      "metadata": {},
      "outputs": [],
      "source": [
        "import numpy as np\n",
        "import pandas as pd\n",
        "import matplotlib.pyplot as plt\n",
        "import seaborn as sns"
      ]
    },
    {
      "cell_type": "markdown",
      "metadata": {
        "id": "0qsBNvFuu5NG"
      },
      "source": [
        "People Dataset :-\n",
        "https://drive.google.com/file/d/13x8f8HNKieSRAzxTlzAojaYp8Up8cefk/view?usp=sharing\n",
        "\n",
        "Ques 1. Demonstrate three different methods for creating identical 2D arrays in NumPy. Provide the code for each\n",
        "method and the final output after each method."
      ]
    },
    {
      "cell_type": "code",
      "execution_count": 27,
      "metadata": {
        "id": "2BevL7k50eud"
      },
      "outputs": [
        {
          "data": {
            "text/plain": [
              "array([[1, 2, 3],\n",
              "       [4, 5, 6],\n",
              "       [7, 8, 9]])"
            ]
          },
          "execution_count": 27,
          "metadata": {},
          "output_type": "execute_result"
        }
      ],
      "source": [
        "import numpy as np\n",
        "\n",
        "# Method 1: Using np.array with a list of lists\n",
        "array_method_1 = np.array([[1, 2, 3], [4, 5, 6], [7, 8, 9]])\n",
        "array_method_1"
      ]
    },
    {
      "cell_type": "code",
      "execution_count": 28,
      "metadata": {},
      "outputs": [
        {
          "data": {
            "text/plain": [
              "array([[1, 2, 3],\n",
              "       [4, 5, 6],\n",
              "       [7, 8, 9]])"
            ]
          },
          "execution_count": 28,
          "metadata": {},
          "output_type": "execute_result"
        }
      ],
      "source": [
        "# Method 2: Using np.full with a predefined value and shape\n",
        "array_method_2 = np.full((3, 3), [[1, 2, 3], [4, 5, 6], [7, 8, 9]])\n",
        "array_method_2"
      ]
    },
    {
      "cell_type": "code",
      "execution_count": 29,
      "metadata": {},
      "outputs": [
        {
          "data": {
            "text/plain": [
              "array([[1, 2, 3],\n",
              "       [4, 5, 6],\n",
              "       [7, 8, 9]])"
            ]
          },
          "execution_count": 29,
          "metadata": {},
          "output_type": "execute_result"
        }
      ],
      "source": [
        "# Method 3: Using np.reshape to create a 2D array from a 1D array\n",
        "array_method_3 = np.reshape(np.array([1, 2, 3, 4, 5, 6, 7, 8, 9]), (3, 3))\n",
        "array_method_3"
      ]
    },
    {
      "cell_type": "markdown",
      "metadata": {
        "id": "1KxXWmoRygn2"
      },
      "source": [
        "Que 2. Using the Numpy function, generate an array of 100 evenly spaced numbers between 1 and 10 and\n",
        "Reshape that ID array into a 2D array,\n"
      ]
    },
    {
      "cell_type": "code",
      "execution_count": 2,
      "metadata": {
        "colab": {
          "base_uri": "https://localhost:8080/"
        },
        "id": "j-Ij4CUg4wZK",
        "outputId": "dbb9646d-feac-41c2-a341-4dd76dad3601"
      },
      "outputs": [
        {
          "name": "stdout",
          "output_type": "stream",
          "text": [
            "[ 1.          1.09090909  1.18181818  1.27272727  1.36363636  1.45454545\n",
            "  1.54545455  1.63636364  1.72727273  1.81818182  1.90909091  2.\n",
            "  2.09090909  2.18181818  2.27272727  2.36363636  2.45454545  2.54545455\n",
            "  2.63636364  2.72727273  2.81818182  2.90909091  3.          3.09090909\n",
            "  3.18181818  3.27272727  3.36363636  3.45454545  3.54545455  3.63636364\n",
            "  3.72727273  3.81818182  3.90909091  4.          4.09090909  4.18181818\n",
            "  4.27272727  4.36363636  4.45454545  4.54545455  4.63636364  4.72727273\n",
            "  4.81818182  4.90909091  5.          5.09090909  5.18181818  5.27272727\n",
            "  5.36363636  5.45454545  5.54545455  5.63636364  5.72727273  5.81818182\n",
            "  5.90909091  6.          6.09090909  6.18181818  6.27272727  6.36363636\n",
            "  6.45454545  6.54545455  6.63636364  6.72727273  6.81818182  6.90909091\n",
            "  7.          7.09090909  7.18181818  7.27272727  7.36363636  7.45454545\n",
            "  7.54545455  7.63636364  7.72727273  7.81818182  7.90909091  8.\n",
            "  8.09090909  8.18181818  8.27272727  8.36363636  8.45454545  8.54545455\n",
            "  8.63636364  8.72727273  8.81818182  8.90909091  9.          9.09090909\n",
            "  9.18181818  9.27272727  9.36363636  9.45454545  9.54545455  9.63636364\n",
            "  9.72727273  9.81818182  9.90909091 10.        ]\n",
            "[[ 1.          1.09090909  1.18181818  1.27272727  1.36363636  1.45454545\n",
            "   1.54545455  1.63636364  1.72727273  1.81818182]\n",
            " [ 1.90909091  2.          2.09090909  2.18181818  2.27272727  2.36363636\n",
            "   2.45454545  2.54545455  2.63636364  2.72727273]\n",
            " [ 2.81818182  2.90909091  3.          3.09090909  3.18181818  3.27272727\n",
            "   3.36363636  3.45454545  3.54545455  3.63636364]\n",
            " [ 3.72727273  3.81818182  3.90909091  4.          4.09090909  4.18181818\n",
            "   4.27272727  4.36363636  4.45454545  4.54545455]\n",
            " [ 4.63636364  4.72727273  4.81818182  4.90909091  5.          5.09090909\n",
            "   5.18181818  5.27272727  5.36363636  5.45454545]\n",
            " [ 5.54545455  5.63636364  5.72727273  5.81818182  5.90909091  6.\n",
            "   6.09090909  6.18181818  6.27272727  6.36363636]\n",
            " [ 6.45454545  6.54545455  6.63636364  6.72727273  6.81818182  6.90909091\n",
            "   7.          7.09090909  7.18181818  7.27272727]\n",
            " [ 7.36363636  7.45454545  7.54545455  7.63636364  7.72727273  7.81818182\n",
            "   7.90909091  8.          8.09090909  8.18181818]\n",
            " [ 8.27272727  8.36363636  8.45454545  8.54545455  8.63636364  8.72727273\n",
            "   8.81818182  8.90909091  9.          9.09090909]\n",
            " [ 9.18181818  9.27272727  9.36363636  9.45454545  9.54545455  9.63636364\n",
            "   9.72727273  9.81818182  9.90909091 10.        ]]\n"
          ]
        }
      ],
      "source": [
        "array = np.linspace(1, 10, 100)\n",
        "print(array)\n",
        "print(array.reshape(10,10))"
      ]
    },
    {
      "cell_type": "markdown",
      "metadata": {
        "id": "P5nJ8S6ZygeH"
      },
      "source": [
        "Ques 3. Explain the following terms:\n",
        "\n",
        "• The difference in np.array, np.asarray and np.asanyarray.\n",
        "\n",
        "• The difference between Deep copy and shallow copy.\n",
        "\n",
        "Ans)\n",
        " \n",
        "np.array: This creates a new array object. If the input is already an array, it will copy it by default.\n",
        "\n",
        "np.asarray: This function converts the input to an array. If the input is already an array, it might not create a copy, depending on the data type and memory layout.\n",
        "\n",
        "np.asanyarray: This is similar to np.asarray, but it also works with subclasses of ndarray. If the input is already an array or a subclass of an array, it may not create a copy.\n",
        "\n",
        "Deep copy: Creates a completely new copy of the original object and its data. Changes to the copy do not affect the original.\n",
        "\n",
        "Shallow copy: Creates a new object but references the original object's data. Changes to the copy's data will affect the original."
      ]
    },
    {
      "cell_type": "markdown",
      "metadata": {
        "id": "2fd3-CEd6Ter"
      },
      "source": [
        "Ques 4. Generate a 3*3 array with random floating-point numbers between 5 and 20 then, round each number in the array to 2 decimal places"
      ]
    },
    {
      "cell_type": "code",
      "execution_count": 3,
      "metadata": {
        "colab": {
          "base_uri": "https://localhost:8080/"
        },
        "id": "aubfV2Lr78Qm",
        "outputId": "0e9747ab-d73a-4a99-f556-a156c4d5e785"
      },
      "outputs": [
        {
          "name": "stdout",
          "output_type": "stream",
          "text": [
            "Original array:\n",
            "[[16.82024499 10.56637726 19.15023559]\n",
            " [12.60357356  9.62847598 11.49938099]\n",
            " [16.64359334  9.87428217  8.81062733]]\n",
            "\n",
            "Rounded array:\n",
            "[[16.82 10.57 19.15]\n",
            " [12.6   9.63 11.5 ]\n",
            " [16.64  9.87  8.81]]\n"
          ]
        }
      ],
      "source": [
        "arr1 = np.random.uniform(5, 20, size=(3, 3))\n",
        "\n",
        "rounded_array = np.round(arr1, 2)\n",
        "\n",
        "print(\"Original array:\")\n",
        "print(arr1)\n",
        "print(\"\\nRounded array:\")\n",
        "print(rounded_array)\n"
      ]
    },
    {
      "cell_type": "markdown",
      "metadata": {
        "id": "N3oSSdUwygEO"
      },
      "source": [
        "Ques 5. Create a NumPy array with random integers between 1 and 10 of shape (5, 6). After creating the array\n",
        "perform the following operations:\n",
        "\n",
        "a) Extract all even integers from array.\n",
        "\n",
        "b) Extract all odd integers from array.\n",
        "\n"
      ]
    },
    {
      "cell_type": "code",
      "execution_count": 4,
      "metadata": {
        "colab": {
          "base_uri": "https://localhost:8080/"
        },
        "id": "2te8YX50SDgX",
        "outputId": "c8088aad-0e81-467b-b0fc-295e56dbd6b4"
      },
      "outputs": [
        {
          "name": "stdout",
          "output_type": "stream",
          "text": [
            "Original array:\n",
            "[[6 4 1 8 9 2]\n",
            " [9 1 7 5 1 2]\n",
            " [3 3 3 2 5 5]\n",
            " [7 7 7 6 3 8]\n",
            " [9 1 7 3 8 9]]\n",
            "\n",
            "Even numbers in the array:\n",
            "[6 4 8 2 2 2 6 8 8]\n",
            "\n",
            "Odd numbers in the array:\n",
            "[1 9 9 1 7 5 1 3 3 3 5 5 7 7 7 3 9 1 7 3 9]\n"
          ]
        }
      ],
      "source": [
        "arr2 = np.random.randint(1, 10, size=(5, 6))\n",
        "even_numbers = arr2[arr2 % 2 == 0]\n",
        "print(\"Original array:\")\n",
        "print(arr2)\n",
        "print(\"\\nEven numbers in the array:\")\n",
        "print(even_numbers)\n",
        "odd_numbers = arr2[arr2%2!= 0]\n",
        "print(\"\\nOdd numbers in the array:\")\n",
        "print(odd_numbers)"
      ]
    },
    {
      "cell_type": "markdown",
      "metadata": {
        "id": "c045-jPGyf5C"
      },
      "source": [
        "Ques 6. Create a 3D NumPy array of shape (3, 3, 3) containing random integers between 1 and 10. Perform the\n",
        "following operations:\n",
        "\n",
        "a) Find the indices of the maximum values along each depth level (third axis).\n",
        "\n",
        "b) Perform element-wise multiplication of between both array.\n",
        "\n"
      ]
    },
    {
      "cell_type": "code",
      "execution_count": 5,
      "metadata": {
        "colab": {
          "base_uri": "https://localhost:8080/"
        },
        "id": "sfmtmTk10iAe",
        "outputId": "8c53e15f-0731-4767-837b-f2d9ae194bad"
      },
      "outputs": [
        {
          "name": "stdout",
          "output_type": "stream",
          "text": [
            "[[[ 4  6  2]\n",
            "  [ 6 10  8]\n",
            "  [ 7  2  4]]\n",
            "\n",
            " [[ 7  1  7]\n",
            "  [ 8  8  4]\n",
            "  [ 7  5 10]]\n",
            "\n",
            " [[ 3  2  4]\n",
            "  [ 8  6  2]\n",
            "  [ 9  3  3]]]\n",
            "\n",
            "Indices of maximum values along each depth level:\n",
            "[[1 1 0]\n",
            " [0 0 2]\n",
            " [2 0 0]]\n",
            "\n",
            "Element-wise multiplication of arr3 with itself:\n",
            "[[[ 16  36   4]\n",
            "  [ 36 100  64]\n",
            "  [ 49   4  16]]\n",
            "\n",
            " [[ 49   1  49]\n",
            "  [ 64  64  16]\n",
            "  [ 49  25 100]]\n",
            "\n",
            " [[  9   4  16]\n",
            "  [ 64  36   4]\n",
            "  [ 81   9   9]]]\n"
          ]
        }
      ],
      "source": [
        "import numpy as np\n",
        "\n",
        "arr3 = np.random.randint(1, 11, size=(3, 3, 3))\n",
        "\n",
        "print(arr3)\n",
        "\n",
        "indices_of_max_values = np.argmax(arr3, axis=2)\n",
        "print(\"\\nIndices of maximum values along each depth level:\")\n",
        "print(indices_of_max_values)\n",
        "\n",
        "# Assuming you want to perform element-wise multiplication of arr3 with itself\n",
        "multiplication = np.multiply(arr3, arr3)\n",
        "print(\"\\nElement-wise multiplication of arr3 with itself:\")\n",
        "print(multiplication)"
      ]
    },
    {
      "cell_type": "markdown",
      "metadata": {
        "id": "tZYdc4hDyfWu"
      },
      "source": [
        "Ques 7. Clean and transform the 'Phone' column in the sample dataset to remove non—numeric characters and\n",
        "convert it to a numeric data type. Also display the table attributes and data types of each column."
      ]
    },
    {
      "cell_type": "code",
      "execution_count": 34,
      "metadata": {},
      "outputs": [
        {
          "name": "stdout",
          "output_type": "stream",
          "text": [
            "     Index          User Id First Name Last Name  Gender  \\\n",
            "0        1  8717bbf45cCDbEe     Shelia   Mahoney    Male   \n",
            "1        2  3d5AD30A4cD38ed         Jo    Rivers  Female   \n",
            "2        3  810Ce0F276Badec     Sheryl    Lowery  Female   \n",
            "3        4  BF2a889C00f0cE1    Whitney    Hooper    Male   \n",
            "4        5  9afFEafAe1CBBB9    Lindsey      Rice  Female   \n",
            "..     ...              ...        ...       ...     ...   \n",
            "995    996  fedF4c7Fd9e7cFa       Kurt    Bryant  Female   \n",
            "996    997  ECddaFEDdEc4FAB      Donna     Barry  Female   \n",
            "997    998  2adde51d8B8979E      Cathy  Mckinney  Female   \n",
            "998    999  Fb2FE369D1E171A   Jermaine    Phelps    Male   \n",
            "999   1000  8b756f6231DDC6e        Lee      Tran  Female   \n",
            "\n",
            "                             Email             Phone Date of birth  \\\n",
            "0              pwarner@example.org        8571398239    27-01-2014   \n",
            "1    fergusonkatherine@example.net               NaN    26-07-1931   \n",
            "2              fhoward@example.org        5997820605    25-11-2013   \n",
            "3            zjohnston@example.com               NaN    17-11-2012   \n",
            "4                 elin@example.net    39041716353010    15-04-1923   \n",
            "..                             ...               ...           ...   \n",
            "995         lyonsdaisy@example.net        0217752933    05-01-1959   \n",
            "996        dariusbryan@example.com  0011497107799721    06-10-2001   \n",
            "997         georgechan@example.org  1750774412833265    13-05-1918   \n",
            "998            wanda04@example.net        9152922254    31-08-1971   \n",
            "999        deannablack@example.org   079752542467259    24-01-1947   \n",
            "\n",
            "                           Job Title  Salary  \n",
            "0                  Probation officer   90000  \n",
            "1                             Dancer   80000  \n",
            "2                               Copy   50000  \n",
            "3           Counselling psychologist   65000  \n",
            "4                Biomedical engineer  100000  \n",
            "..                               ...     ...  \n",
            "995                Personnel officer   90000  \n",
            "996          Education administrator   50000  \n",
            "997  Commercial/residential surveyor   60000  \n",
            "998                 Ambulance person  100000  \n",
            "999       Nurse, learning disability   90000  \n",
            "\n",
            "[1000 rows x 10 columns]\n",
            "First 5 rows of the cleaned dataset:\n",
            "    Index          User Id First Name Last Name  Gender  \\\n",
            "0      1  8717bbf45cCDbEe     Shelia   Mahoney    Male   \n",
            "1      2  3d5AD30A4cD38ed         Jo    Rivers  Female   \n",
            "2      3  810Ce0F276Badec     Sheryl    Lowery  Female   \n",
            "3      4  BF2a889C00f0cE1    Whitney    Hooper    Male   \n",
            "4      5  9afFEafAe1CBBB9    Lindsey      Rice  Female   \n",
            "\n",
            "                           Email           Phone Date of birth  \\\n",
            "0            pwarner@example.org      8571398239    27-01-2014   \n",
            "1  fergusonkatherine@example.net             NaN    26-07-1931   \n",
            "2            fhoward@example.org      5997820605    25-11-2013   \n",
            "3          zjohnston@example.com             NaN    17-11-2012   \n",
            "4               elin@example.net  39041716353010    15-04-1923   \n",
            "\n",
            "                  Job Title  Salary  \n",
            "0         Probation officer   90000  \n",
            "1                    Dancer   80000  \n",
            "2                      Copy   50000  \n",
            "3  Counselling psychologist   65000  \n",
            "4       Biomedical engineer  100000  \n",
            "\n",
            "Data Types of each column:\n",
            " Index             int64\n",
            "User Id          object\n",
            "First Name       object\n",
            "Last Name        object\n",
            "Gender           object\n",
            "Email            object\n",
            "Phone            object\n",
            "Date of birth    object\n",
            "Job Title        object\n",
            "Salary            int64\n",
            "dtype: object\n"
          ]
        }
      ],
      "source": [
        "df20 = pd.read_csv('People Data.csv')\n",
        "df20['Phone'] = df20['Phone'].str.replace(r'\\D', '', regex=True)\n",
        "print(df20)\n",
        "print(\"First 5 rows of the cleaned dataset:\\n\",df20.head())\n",
        "print(\"\\nData Types of each column:\\n\",df20.dtypes)"
      ]
    },
    {
      "cell_type": "markdown",
      "metadata": {
        "id": "eUT0DTsMyfLw"
      },
      "source": [
        "Ques 8. Perform the following tasks using people dataset:\n",
        "\n",
        "\n",
        "a) Read the 'data.csv' file using pandas, skipping the first 50 rows.\n",
        "\n",
        "b) Only read the columns: 'Last Name', and 'Salary' from the file.\n",
        "\n",
        "c) Display the first 10 rows of the filtered dataset.\n",
        "\n",
        "d) Extract the 'Salary' column as a Series and display its last 5 values.\n",
        "\n"
      ]
    },
    {
      "cell_type": "code",
      "execution_count": 6,
      "metadata": {
        "id": "IiLYs7x0c47k"
      },
      "outputs": [
        {
          "data": {
            "text/html": [
              "<div>\n",
              "<style scoped>\n",
              "    .dataframe tbody tr th:only-of-type {\n",
              "        vertical-align: middle;\n",
              "    }\n",
              "\n",
              "    .dataframe tbody tr th {\n",
              "        vertical-align: top;\n",
              "    }\n",
              "\n",
              "    .dataframe thead th {\n",
              "        text-align: right;\n",
              "    }\n",
              "</style>\n",
              "<table border=\"1\" class=\"dataframe\">\n",
              "  <thead>\n",
              "    <tr style=\"text-align: right;\">\n",
              "      <th></th>\n",
              "      <th>0</th>\n",
              "      <th>1</th>\n",
              "      <th>2</th>\n",
              "      <th>3</th>\n",
              "      <th>4</th>\n",
              "      <th>5</th>\n",
              "      <th>6</th>\n",
              "      <th>7</th>\n",
              "      <th>8</th>\n",
              "      <th>9</th>\n",
              "    </tr>\n",
              "  </thead>\n",
              "  <tbody>\n",
              "    <tr>\n",
              "      <th>0</th>\n",
              "      <td>50</td>\n",
              "      <td>afF3018e9cdd1dA</td>\n",
              "      <td>George</td>\n",
              "      <td>Mercer</td>\n",
              "      <td>Female</td>\n",
              "      <td>douglascontreras@example.net</td>\n",
              "      <td>+1-326-669-0118x4341</td>\n",
              "      <td>11-09-1941</td>\n",
              "      <td>Human resources officer</td>\n",
              "      <td>70000</td>\n",
              "    </tr>\n",
              "    <tr>\n",
              "      <th>1</th>\n",
              "      <td>51</td>\n",
              "      <td>CccE5DAb6E288e5</td>\n",
              "      <td>Jo</td>\n",
              "      <td>Zavala</td>\n",
              "      <td>Male</td>\n",
              "      <td>pamela64@example.net</td>\n",
              "      <td>001-859-448-9935x54536</td>\n",
              "      <td>23-11-1992</td>\n",
              "      <td>Nurse, adult</td>\n",
              "      <td>80000</td>\n",
              "    </tr>\n",
              "    <tr>\n",
              "      <th>2</th>\n",
              "      <td>52</td>\n",
              "      <td>DfBDc3621D4bcec</td>\n",
              "      <td>Joshua</td>\n",
              "      <td>Carey</td>\n",
              "      <td>Female</td>\n",
              "      <td>dianashepherd@example.net</td>\n",
              "      <td>001-274-739-8470x814</td>\n",
              "      <td>07-01-1915</td>\n",
              "      <td>Seismic interpreter</td>\n",
              "      <td>70000</td>\n",
              "    </tr>\n",
              "    <tr>\n",
              "      <th>3</th>\n",
              "      <td>53</td>\n",
              "      <td>f55b0A249f5E44D</td>\n",
              "      <td>Rickey</td>\n",
              "      <td>Hobbs</td>\n",
              "      <td>Female</td>\n",
              "      <td>ingramtiffany@example.org</td>\n",
              "      <td>241.179.9509x498</td>\n",
              "      <td>01-07-1910</td>\n",
              "      <td>Barrister</td>\n",
              "      <td>60000</td>\n",
              "    </tr>\n",
              "    <tr>\n",
              "      <th>4</th>\n",
              "      <td>54</td>\n",
              "      <td>Ed71DcfaBFd0beE</td>\n",
              "      <td>Robyn</td>\n",
              "      <td>Reilly</td>\n",
              "      <td>Male</td>\n",
              "      <td>carriecrawford@example.org</td>\n",
              "      <td>207.797.8345x6177</td>\n",
              "      <td>27-07-1982</td>\n",
              "      <td>Engineer, structural</td>\n",
              "      <td>100000</td>\n",
              "    </tr>\n",
              "  </tbody>\n",
              "</table>\n",
              "</div>"
            ],
            "text/plain": [
              "    0                1       2       3       4                             5  \\\n",
              "0  50  afF3018e9cdd1dA  George  Mercer  Female  douglascontreras@example.net   \n",
              "1  51  CccE5DAb6E288e5      Jo  Zavala    Male          pamela64@example.net   \n",
              "2  52  DfBDc3621D4bcec  Joshua   Carey  Female     dianashepherd@example.net   \n",
              "3  53  f55b0A249f5E44D  Rickey   Hobbs  Female     ingramtiffany@example.org   \n",
              "4  54  Ed71DcfaBFd0beE   Robyn  Reilly    Male    carriecrawford@example.org   \n",
              "\n",
              "                        6           7                        8       9  \n",
              "0    +1-326-669-0118x4341  11-09-1941  Human resources officer   70000  \n",
              "1  001-859-448-9935x54536  23-11-1992             Nurse, adult   80000  \n",
              "2    001-274-739-8470x814  07-01-1915      Seismic interpreter   70000  \n",
              "3        241.179.9509x498  01-07-1910                Barrister   60000  \n",
              "4       207.797.8345x6177  27-07-1982     Engineer, structural  100000  "
            ]
          },
          "execution_count": 6,
          "metadata": {},
          "output_type": "execute_result"
        }
      ],
      "source": [
        "# a) Read the 'data.csv' file using pandas, skipping the first 50 rows.\n",
        "import pandas as pd\n",
        "\n",
        "pdata1 = pd.read_csv('People data.csv', skiprows=50,header=None)\n",
        "pdata1.head()\n"
      ]
    },
    {
      "cell_type": "code",
      "execution_count": 7,
      "metadata": {},
      "outputs": [
        {
          "data": {
            "text/html": [
              "<div>\n",
              "<style scoped>\n",
              "    .dataframe tbody tr th:only-of-type {\n",
              "        vertical-align: middle;\n",
              "    }\n",
              "\n",
              "    .dataframe tbody tr th {\n",
              "        vertical-align: top;\n",
              "    }\n",
              "\n",
              "    .dataframe thead th {\n",
              "        text-align: right;\n",
              "    }\n",
              "</style>\n",
              "<table border=\"1\" class=\"dataframe\">\n",
              "  <thead>\n",
              "    <tr style=\"text-align: right;\">\n",
              "      <th></th>\n",
              "      <th>Last Name</th>\n",
              "      <th>Salary</th>\n",
              "    </tr>\n",
              "  </thead>\n",
              "  <tbody>\n",
              "    <tr>\n",
              "      <th>0</th>\n",
              "      <td>Mahoney</td>\n",
              "      <td>90000</td>\n",
              "    </tr>\n",
              "    <tr>\n",
              "      <th>1</th>\n",
              "      <td>Rivers</td>\n",
              "      <td>80000</td>\n",
              "    </tr>\n",
              "    <tr>\n",
              "      <th>2</th>\n",
              "      <td>Lowery</td>\n",
              "      <td>50000</td>\n",
              "    </tr>\n",
              "    <tr>\n",
              "      <th>3</th>\n",
              "      <td>Hooper</td>\n",
              "      <td>65000</td>\n",
              "    </tr>\n",
              "    <tr>\n",
              "      <th>4</th>\n",
              "      <td>Rice</td>\n",
              "      <td>100000</td>\n",
              "    </tr>\n",
              "    <tr>\n",
              "      <th>...</th>\n",
              "      <td>...</td>\n",
              "      <td>...</td>\n",
              "    </tr>\n",
              "    <tr>\n",
              "      <th>995</th>\n",
              "      <td>Bryant</td>\n",
              "      <td>90000</td>\n",
              "    </tr>\n",
              "    <tr>\n",
              "      <th>996</th>\n",
              "      <td>Barry</td>\n",
              "      <td>50000</td>\n",
              "    </tr>\n",
              "    <tr>\n",
              "      <th>997</th>\n",
              "      <td>Mckinney</td>\n",
              "      <td>60000</td>\n",
              "    </tr>\n",
              "    <tr>\n",
              "      <th>998</th>\n",
              "      <td>Phelps</td>\n",
              "      <td>100000</td>\n",
              "    </tr>\n",
              "    <tr>\n",
              "      <th>999</th>\n",
              "      <td>Tran</td>\n",
              "      <td>90000</td>\n",
              "    </tr>\n",
              "  </tbody>\n",
              "</table>\n",
              "<p>1000 rows × 2 columns</p>\n",
              "</div>"
            ],
            "text/plain": [
              "    Last Name  Salary\n",
              "0     Mahoney   90000\n",
              "1      Rivers   80000\n",
              "2      Lowery   50000\n",
              "3      Hooper   65000\n",
              "4        Rice  100000\n",
              "..        ...     ...\n",
              "995    Bryant   90000\n",
              "996     Barry   50000\n",
              "997  Mckinney   60000\n",
              "998    Phelps  100000\n",
              "999      Tran   90000\n",
              "\n",
              "[1000 rows x 2 columns]"
            ]
          },
          "execution_count": 7,
          "metadata": {},
          "output_type": "execute_result"
        }
      ],
      "source": [
        "# b) Only read the columns: 'Last Name', and 'Salary' from the file.\n",
        "pdata=pd.read_csv(\"People Data.csv\")\n",
        "\n",
        "pdata[['Last Name','Salary']]"
      ]
    },
    {
      "cell_type": "code",
      "execution_count": 8,
      "metadata": {},
      "outputs": [
        {
          "data": {
            "text/html": [
              "<div>\n",
              "<style scoped>\n",
              "    .dataframe tbody tr th:only-of-type {\n",
              "        vertical-align: middle;\n",
              "    }\n",
              "\n",
              "    .dataframe tbody tr th {\n",
              "        vertical-align: top;\n",
              "    }\n",
              "\n",
              "    .dataframe thead th {\n",
              "        text-align: right;\n",
              "    }\n",
              "</style>\n",
              "<table border=\"1\" class=\"dataframe\">\n",
              "  <thead>\n",
              "    <tr style=\"text-align: right;\">\n",
              "      <th></th>\n",
              "      <th>0</th>\n",
              "      <th>1</th>\n",
              "      <th>2</th>\n",
              "      <th>3</th>\n",
              "      <th>4</th>\n",
              "      <th>5</th>\n",
              "      <th>6</th>\n",
              "      <th>7</th>\n",
              "      <th>8</th>\n",
              "      <th>9</th>\n",
              "    </tr>\n",
              "  </thead>\n",
              "  <tbody>\n",
              "    <tr>\n",
              "      <th>0</th>\n",
              "      <td>50</td>\n",
              "      <td>afF3018e9cdd1dA</td>\n",
              "      <td>George</td>\n",
              "      <td>Mercer</td>\n",
              "      <td>Female</td>\n",
              "      <td>douglascontreras@example.net</td>\n",
              "      <td>+1-326-669-0118x4341</td>\n",
              "      <td>11-09-1941</td>\n",
              "      <td>Human resources officer</td>\n",
              "      <td>70000</td>\n",
              "    </tr>\n",
              "    <tr>\n",
              "      <th>1</th>\n",
              "      <td>51</td>\n",
              "      <td>CccE5DAb6E288e5</td>\n",
              "      <td>Jo</td>\n",
              "      <td>Zavala</td>\n",
              "      <td>Male</td>\n",
              "      <td>pamela64@example.net</td>\n",
              "      <td>001-859-448-9935x54536</td>\n",
              "      <td>23-11-1992</td>\n",
              "      <td>Nurse, adult</td>\n",
              "      <td>80000</td>\n",
              "    </tr>\n",
              "    <tr>\n",
              "      <th>2</th>\n",
              "      <td>52</td>\n",
              "      <td>DfBDc3621D4bcec</td>\n",
              "      <td>Joshua</td>\n",
              "      <td>Carey</td>\n",
              "      <td>Female</td>\n",
              "      <td>dianashepherd@example.net</td>\n",
              "      <td>001-274-739-8470x814</td>\n",
              "      <td>07-01-1915</td>\n",
              "      <td>Seismic interpreter</td>\n",
              "      <td>70000</td>\n",
              "    </tr>\n",
              "    <tr>\n",
              "      <th>3</th>\n",
              "      <td>53</td>\n",
              "      <td>f55b0A249f5E44D</td>\n",
              "      <td>Rickey</td>\n",
              "      <td>Hobbs</td>\n",
              "      <td>Female</td>\n",
              "      <td>ingramtiffany@example.org</td>\n",
              "      <td>241.179.9509x498</td>\n",
              "      <td>01-07-1910</td>\n",
              "      <td>Barrister</td>\n",
              "      <td>60000</td>\n",
              "    </tr>\n",
              "    <tr>\n",
              "      <th>4</th>\n",
              "      <td>54</td>\n",
              "      <td>Ed71DcfaBFd0beE</td>\n",
              "      <td>Robyn</td>\n",
              "      <td>Reilly</td>\n",
              "      <td>Male</td>\n",
              "      <td>carriecrawford@example.org</td>\n",
              "      <td>207.797.8345x6177</td>\n",
              "      <td>27-07-1982</td>\n",
              "      <td>Engineer, structural</td>\n",
              "      <td>100000</td>\n",
              "    </tr>\n",
              "  </tbody>\n",
              "</table>\n",
              "</div>"
            ],
            "text/plain": [
              "    0                1       2       3       4                             5  \\\n",
              "0  50  afF3018e9cdd1dA  George  Mercer  Female  douglascontreras@example.net   \n",
              "1  51  CccE5DAb6E288e5      Jo  Zavala    Male          pamela64@example.net   \n",
              "2  52  DfBDc3621D4bcec  Joshua   Carey  Female     dianashepherd@example.net   \n",
              "3  53  f55b0A249f5E44D  Rickey   Hobbs  Female     ingramtiffany@example.org   \n",
              "4  54  Ed71DcfaBFd0beE   Robyn  Reilly    Male    carriecrawford@example.org   \n",
              "\n",
              "                        6           7                        8       9  \n",
              "0    +1-326-669-0118x4341  11-09-1941  Human resources officer   70000  \n",
              "1  001-859-448-9935x54536  23-11-1992             Nurse, adult   80000  \n",
              "2    001-274-739-8470x814  07-01-1915      Seismic interpreter   70000  \n",
              "3        241.179.9509x498  01-07-1910                Barrister   60000  \n",
              "4       207.797.8345x6177  27-07-1982     Engineer, structural  100000  "
            ]
          },
          "execution_count": 8,
          "metadata": {},
          "output_type": "execute_result"
        }
      ],
      "source": [
        "# c) Display the first 10 rows of the filtered dataset.\n",
        "pdata1.head()"
      ]
    },
    {
      "cell_type": "code",
      "execution_count": 9,
      "metadata": {},
      "outputs": [
        {
          "data": {
            "text/plain": [
              "995     90000\n",
              "996     50000\n",
              "997     60000\n",
              "998    100000\n",
              "999     90000\n",
              "Name: Salary, dtype: int64"
            ]
          },
          "execution_count": 9,
          "metadata": {},
          "output_type": "execute_result"
        }
      ],
      "source": [
        "# d) Extract the 'Salary' column as a Series and display its last 5 values.\n",
        "pdata['Salary'].tail(5)"
      ]
    },
    {
      "cell_type": "markdown",
      "metadata": {
        "id": "ATK3O041ye_v"
      },
      "source": [
        "Ques 9. Filter and select rows from the People_Dataset, where the \"Last Name' column contains the name 'Duke',\n",
        "'Gender' column contains the word Female and 'Salary' should be less than 85000.\n",
        "\n"
      ]
    },
    {
      "cell_type": "code",
      "execution_count": 10,
      "metadata": {},
      "outputs": [
        {
          "data": {
            "text/html": [
              "<div>\n",
              "<style scoped>\n",
              "    .dataframe tbody tr th:only-of-type {\n",
              "        vertical-align: middle;\n",
              "    }\n",
              "\n",
              "    .dataframe tbody tr th {\n",
              "        vertical-align: top;\n",
              "    }\n",
              "\n",
              "    .dataframe thead th {\n",
              "        text-align: right;\n",
              "    }\n",
              "</style>\n",
              "<table border=\"1\" class=\"dataframe\">\n",
              "  <thead>\n",
              "    <tr style=\"text-align: right;\">\n",
              "      <th></th>\n",
              "      <th>Index</th>\n",
              "      <th>User Id</th>\n",
              "      <th>First Name</th>\n",
              "      <th>Last Name</th>\n",
              "      <th>Gender</th>\n",
              "      <th>Email</th>\n",
              "      <th>Phone</th>\n",
              "      <th>Date of birth</th>\n",
              "      <th>Job Title</th>\n",
              "      <th>Salary</th>\n",
              "    </tr>\n",
              "  </thead>\n",
              "  <tbody>\n",
              "    <tr>\n",
              "      <th>45</th>\n",
              "      <td>46</td>\n",
              "      <td>99A502C175C4EBd</td>\n",
              "      <td>Olivia</td>\n",
              "      <td>Duke</td>\n",
              "      <td>Female</td>\n",
              "      <td>diana26@example.net</td>\n",
              "      <td>001-366-475-8607x04350</td>\n",
              "      <td>13-10-1934</td>\n",
              "      <td>Dentist</td>\n",
              "      <td>60000</td>\n",
              "    </tr>\n",
              "    <tr>\n",
              "      <th>210</th>\n",
              "      <td>211</td>\n",
              "      <td>DF17975CC0a0373</td>\n",
              "      <td>Katrina</td>\n",
              "      <td>Duke</td>\n",
              "      <td>Female</td>\n",
              "      <td>robin78@example.com</td>\n",
              "      <td>740.434.0212</td>\n",
              "      <td>21-09-1935</td>\n",
              "      <td>Producer, radio</td>\n",
              "      <td>50000</td>\n",
              "    </tr>\n",
              "    <tr>\n",
              "      <th>457</th>\n",
              "      <td>458</td>\n",
              "      <td>dcE1B7DE83c1076</td>\n",
              "      <td>Traci</td>\n",
              "      <td>Duke</td>\n",
              "      <td>Female</td>\n",
              "      <td>perryhoffman@example.org</td>\n",
              "      <td>+1-903-596-0995x489</td>\n",
              "      <td>11-02-1997</td>\n",
              "      <td>Herbalist</td>\n",
              "      <td>50000</td>\n",
              "    </tr>\n",
              "    <tr>\n",
              "      <th>729</th>\n",
              "      <td>730</td>\n",
              "      <td>c9b482D7aa3e682</td>\n",
              "      <td>Lonnie</td>\n",
              "      <td>Duke</td>\n",
              "      <td>Female</td>\n",
              "      <td>kevinkramer@example.net</td>\n",
              "      <td>982.692.6257</td>\n",
              "      <td>12-05-2015</td>\n",
              "      <td>Nurse, adult</td>\n",
              "      <td>70000</td>\n",
              "    </tr>\n",
              "  </tbody>\n",
              "</table>\n",
              "</div>"
            ],
            "text/plain": [
              "     Index          User Id First Name Last Name  Gender  \\\n",
              "45      46  99A502C175C4EBd     Olivia      Duke  Female   \n",
              "210    211  DF17975CC0a0373    Katrina      Duke  Female   \n",
              "457    458  dcE1B7DE83c1076      Traci      Duke  Female   \n",
              "729    730  c9b482D7aa3e682     Lonnie      Duke  Female   \n",
              "\n",
              "                        Email                   Phone Date of birth  \\\n",
              "45        diana26@example.net  001-366-475-8607x04350    13-10-1934   \n",
              "210       robin78@example.com            740.434.0212    21-09-1935   \n",
              "457  perryhoffman@example.org     +1-903-596-0995x489    11-02-1997   \n",
              "729   kevinkramer@example.net            982.692.6257    12-05-2015   \n",
              "\n",
              "           Job Title  Salary  \n",
              "45           Dentist   60000  \n",
              "210  Producer, radio   50000  \n",
              "457        Herbalist   50000  \n",
              "729     Nurse, adult   70000  "
            ]
          },
          "execution_count": 10,
          "metadata": {},
          "output_type": "execute_result"
        }
      ],
      "source": [
        "pdata[(pdata['Last Name']==\"Duke\") & (pdata['Gender']=='Female') & (pdata['Salary']<=85000)]"
      ]
    },
    {
      "cell_type": "markdown",
      "metadata": {},
      "source": [
        "Ques 10. Create a 7*5 Dataframe in Pandas using a series generated from 35 random integers between 1 to 6?"
      ]
    },
    {
      "cell_type": "code",
      "execution_count": 11,
      "metadata": {},
      "outputs": [
        {
          "data": {
            "text/html": [
              "<div>\n",
              "<style scoped>\n",
              "    .dataframe tbody tr th:only-of-type {\n",
              "        vertical-align: middle;\n",
              "    }\n",
              "\n",
              "    .dataframe tbody tr th {\n",
              "        vertical-align: top;\n",
              "    }\n",
              "\n",
              "    .dataframe thead th {\n",
              "        text-align: right;\n",
              "    }\n",
              "</style>\n",
              "<table border=\"1\" class=\"dataframe\">\n",
              "  <thead>\n",
              "    <tr style=\"text-align: right;\">\n",
              "      <th></th>\n",
              "      <th>0</th>\n",
              "      <th>1</th>\n",
              "      <th>2</th>\n",
              "      <th>3</th>\n",
              "      <th>4</th>\n",
              "    </tr>\n",
              "  </thead>\n",
              "  <tbody>\n",
              "    <tr>\n",
              "      <th>0</th>\n",
              "      <td>4</td>\n",
              "      <td>4</td>\n",
              "      <td>6</td>\n",
              "      <td>4</td>\n",
              "      <td>1</td>\n",
              "    </tr>\n",
              "    <tr>\n",
              "      <th>1</th>\n",
              "      <td>2</td>\n",
              "      <td>1</td>\n",
              "      <td>4</td>\n",
              "      <td>2</td>\n",
              "      <td>3</td>\n",
              "    </tr>\n",
              "    <tr>\n",
              "      <th>2</th>\n",
              "      <td>4</td>\n",
              "      <td>2</td>\n",
              "      <td>2</td>\n",
              "      <td>2</td>\n",
              "      <td>4</td>\n",
              "    </tr>\n",
              "    <tr>\n",
              "      <th>3</th>\n",
              "      <td>3</td>\n",
              "      <td>2</td>\n",
              "      <td>6</td>\n",
              "      <td>6</td>\n",
              "      <td>2</td>\n",
              "    </tr>\n",
              "    <tr>\n",
              "      <th>4</th>\n",
              "      <td>2</td>\n",
              "      <td>4</td>\n",
              "      <td>1</td>\n",
              "      <td>6</td>\n",
              "      <td>1</td>\n",
              "    </tr>\n",
              "    <tr>\n",
              "      <th>5</th>\n",
              "      <td>3</td>\n",
              "      <td>2</td>\n",
              "      <td>3</td>\n",
              "      <td>3</td>\n",
              "      <td>2</td>\n",
              "    </tr>\n",
              "    <tr>\n",
              "      <th>6</th>\n",
              "      <td>4</td>\n",
              "      <td>3</td>\n",
              "      <td>1</td>\n",
              "      <td>5</td>\n",
              "      <td>2</td>\n",
              "    </tr>\n",
              "  </tbody>\n",
              "</table>\n",
              "</div>"
            ],
            "text/plain": [
              "   0  1  2  3  4\n",
              "0  4  4  6  4  1\n",
              "1  2  1  4  2  3\n",
              "2  4  2  2  2  4\n",
              "3  3  2  6  6  2\n",
              "4  2  4  1  6  1\n",
              "5  3  2  3  3  2\n",
              "6  4  3  1  5  2"
            ]
          },
          "execution_count": 11,
          "metadata": {},
          "output_type": "execute_result"
        }
      ],
      "source": [
        "import pandas as pd\n",
        "import numpy as np\n",
        "\n",
        "data = pd.Series(np.random.randint(1, 7, size=35))\n",
        "df4 = pd.DataFrame(data.values.reshape(7, 5))\n",
        "df4"
      ]
    },
    {
      "cell_type": "markdown",
      "metadata": {},
      "source": [
        "Ques 11. Create two different Series, each of length 50, with the following criteria:\n",
        "\n",
        "a) The first Series should contain random numbers ranging from 10 to 50.\n",
        "\n",
        "b) The second Series should contain random numbers ranging from 100 to 1000.\n",
        "\n",
        "c) Create a DataFrame by joining these Series by column, and, change the names of the columns to 'coil', 'c012',\n",
        "etc.\n",
        "\n"
      ]
    },
    {
      "cell_type": "code",
      "execution_count": 12,
      "metadata": {},
      "outputs": [
        {
          "data": {
            "text/plain": [
              "0     38\n",
              "1     40\n",
              "2     13\n",
              "3     37\n",
              "4     21\n",
              "5     25\n",
              "6     21\n",
              "7     19\n",
              "8     24\n",
              "9     34\n",
              "10    26\n",
              "11    24\n",
              "12    19\n",
              "13    14\n",
              "14    14\n",
              "15    22\n",
              "16    38\n",
              "17    21\n",
              "18    28\n",
              "19    44\n",
              "20    47\n",
              "21    42\n",
              "22    41\n",
              "23    24\n",
              "24    10\n",
              "25    28\n",
              "26    19\n",
              "27    15\n",
              "28    17\n",
              "29    40\n",
              "30    37\n",
              "31    30\n",
              "32    32\n",
              "33    19\n",
              "34    47\n",
              "35    19\n",
              "36    21\n",
              "37    21\n",
              "38    15\n",
              "39    31\n",
              "40    39\n",
              "41    36\n",
              "42    35\n",
              "43    46\n",
              "44    13\n",
              "45    14\n",
              "46    40\n",
              "47    33\n",
              "48    14\n",
              "49    44\n",
              "dtype: int32"
            ]
          },
          "execution_count": 12,
          "metadata": {},
          "output_type": "execute_result"
        }
      ],
      "source": [
        "# a) The first Series should contain random numbers ranging from 10 to 50.\n",
        "data1 = pd.Series(np.random.randint(10,51,size=50))\n",
        "data1"
      ]
    },
    {
      "cell_type": "code",
      "execution_count": 13,
      "metadata": {},
      "outputs": [
        {
          "data": {
            "text/plain": [
              "0     531\n",
              "1     442\n",
              "2     310\n",
              "3     166\n",
              "4     292\n",
              "5     621\n",
              "6     123\n",
              "7     227\n",
              "8     640\n",
              "9     175\n",
              "10    489\n",
              "11    551\n",
              "12    824\n",
              "13    937\n",
              "14    306\n",
              "15    801\n",
              "16    297\n",
              "17    271\n",
              "18    821\n",
              "19    850\n",
              "20    616\n",
              "21    725\n",
              "22    124\n",
              "23    597\n",
              "24    990\n",
              "25    151\n",
              "26    748\n",
              "27    298\n",
              "28    301\n",
              "29    597\n",
              "30    579\n",
              "31    544\n",
              "32    362\n",
              "33    548\n",
              "34    531\n",
              "35    259\n",
              "36    967\n",
              "37    623\n",
              "38    433\n",
              "39    927\n",
              "40    428\n",
              "41    668\n",
              "42    586\n",
              "43    211\n",
              "44    231\n",
              "45    796\n",
              "46    337\n",
              "47    621\n",
              "48    821\n",
              "49    192\n",
              "dtype: int32"
            ]
          },
          "execution_count": 13,
          "metadata": {},
          "output_type": "execute_result"
        }
      ],
      "source": [
        "# b) The second Series should contain random numbers ranging from 100 to 1000\n",
        "data2 = pd.Series(np.random.randint(100,1001,size=50))\n",
        "data2"
      ]
    },
    {
      "cell_type": "code",
      "execution_count": 14,
      "metadata": {},
      "outputs": [
        {
          "name": "stdout",
          "output_type": "stream",
          "text": [
            "    col1  col2\n",
            "0     38   531\n",
            "1     40   442\n",
            "2     13   310\n",
            "3     37   166\n",
            "4     21   292\n",
            "5     25   621\n",
            "6     21   123\n",
            "7     19   227\n",
            "8     24   640\n",
            "9     34   175\n",
            "10    26   489\n",
            "11    24   551\n",
            "12    19   824\n",
            "13    14   937\n",
            "14    14   306\n",
            "15    22   801\n",
            "16    38   297\n",
            "17    21   271\n",
            "18    28   821\n",
            "19    44   850\n",
            "20    47   616\n",
            "21    42   725\n",
            "22    41   124\n",
            "23    24   597\n",
            "24    10   990\n",
            "25    28   151\n",
            "26    19   748\n",
            "27    15   298\n",
            "28    17   301\n",
            "29    40   597\n",
            "30    37   579\n",
            "31    30   544\n",
            "32    32   362\n",
            "33    19   548\n",
            "34    47   531\n",
            "35    19   259\n",
            "36    21   967\n",
            "37    21   623\n",
            "38    15   433\n",
            "39    31   927\n",
            "40    39   428\n",
            "41    36   668\n",
            "42    35   586\n",
            "43    46   211\n",
            "44    13   231\n",
            "45    14   796\n",
            "46    40   337\n",
            "47    33   621\n",
            "48    14   821\n",
            "49    44   192\n"
          ]
        }
      ],
      "source": [
        "# c) Create a DataFrame by joining these Series by column, and, change the names of the columns to 'coll', 'col2',\n",
        "# etc.\n",
        "import pandas as pd\n",
        "import numpy as np\n",
        "\n",
        "new_arr = pd.concat([data1, data2], axis=1)\n",
        "\n",
        "column_names = ['col1', 'col2']\n",
        "new_arr.columns = column_names\n",
        "\n",
        "print(new_arr)"
      ]
    },
    {
      "cell_type": "markdown",
      "metadata": {
        "id": "MaCjwWcayee5"
      },
      "source": [
        "Ques 12. Perform the following operations using people data set:\n",
        "\n",
        "a) Delete the 'Email', 'Phone', and 'Date of birth' columns from the dataset.\n",
        "\n",
        "b) Delete the rows containing any missing values.\n",
        "\n",
        "c) Print the final output also."
      ]
    },
    {
      "cell_type": "code",
      "execution_count": 15,
      "metadata": {},
      "outputs": [
        {
          "data": {
            "text/html": [
              "<div>\n",
              "<style scoped>\n",
              "    .dataframe tbody tr th:only-of-type {\n",
              "        vertical-align: middle;\n",
              "    }\n",
              "\n",
              "    .dataframe tbody tr th {\n",
              "        vertical-align: top;\n",
              "    }\n",
              "\n",
              "    .dataframe thead th {\n",
              "        text-align: right;\n",
              "    }\n",
              "</style>\n",
              "<table border=\"1\" class=\"dataframe\">\n",
              "  <thead>\n",
              "    <tr style=\"text-align: right;\">\n",
              "      <th></th>\n",
              "      <th>Index</th>\n",
              "      <th>User Id</th>\n",
              "      <th>First Name</th>\n",
              "      <th>Last Name</th>\n",
              "      <th>Gender</th>\n",
              "      <th>Job Title</th>\n",
              "      <th>Salary</th>\n",
              "    </tr>\n",
              "  </thead>\n",
              "  <tbody>\n",
              "    <tr>\n",
              "      <th>0</th>\n",
              "      <td>1</td>\n",
              "      <td>8717bbf45cCDbEe</td>\n",
              "      <td>Shelia</td>\n",
              "      <td>Mahoney</td>\n",
              "      <td>Male</td>\n",
              "      <td>Probation officer</td>\n",
              "      <td>90000</td>\n",
              "    </tr>\n",
              "    <tr>\n",
              "      <th>1</th>\n",
              "      <td>2</td>\n",
              "      <td>3d5AD30A4cD38ed</td>\n",
              "      <td>Jo</td>\n",
              "      <td>Rivers</td>\n",
              "      <td>Female</td>\n",
              "      <td>Dancer</td>\n",
              "      <td>80000</td>\n",
              "    </tr>\n",
              "    <tr>\n",
              "      <th>2</th>\n",
              "      <td>3</td>\n",
              "      <td>810Ce0F276Badec</td>\n",
              "      <td>Sheryl</td>\n",
              "      <td>Lowery</td>\n",
              "      <td>Female</td>\n",
              "      <td>Copy</td>\n",
              "      <td>50000</td>\n",
              "    </tr>\n",
              "    <tr>\n",
              "      <th>3</th>\n",
              "      <td>4</td>\n",
              "      <td>BF2a889C00f0cE1</td>\n",
              "      <td>Whitney</td>\n",
              "      <td>Hooper</td>\n",
              "      <td>Male</td>\n",
              "      <td>Counselling psychologist</td>\n",
              "      <td>65000</td>\n",
              "    </tr>\n",
              "    <tr>\n",
              "      <th>4</th>\n",
              "      <td>5</td>\n",
              "      <td>9afFEafAe1CBBB9</td>\n",
              "      <td>Lindsey</td>\n",
              "      <td>Rice</td>\n",
              "      <td>Female</td>\n",
              "      <td>Biomedical engineer</td>\n",
              "      <td>100000</td>\n",
              "    </tr>\n",
              "    <tr>\n",
              "      <th>...</th>\n",
              "      <td>...</td>\n",
              "      <td>...</td>\n",
              "      <td>...</td>\n",
              "      <td>...</td>\n",
              "      <td>...</td>\n",
              "      <td>...</td>\n",
              "      <td>...</td>\n",
              "    </tr>\n",
              "    <tr>\n",
              "      <th>995</th>\n",
              "      <td>996</td>\n",
              "      <td>fedF4c7Fd9e7cFa</td>\n",
              "      <td>Kurt</td>\n",
              "      <td>Bryant</td>\n",
              "      <td>Female</td>\n",
              "      <td>Personnel officer</td>\n",
              "      <td>90000</td>\n",
              "    </tr>\n",
              "    <tr>\n",
              "      <th>996</th>\n",
              "      <td>997</td>\n",
              "      <td>ECddaFEDdEc4FAB</td>\n",
              "      <td>Donna</td>\n",
              "      <td>Barry</td>\n",
              "      <td>Female</td>\n",
              "      <td>Education administrator</td>\n",
              "      <td>50000</td>\n",
              "    </tr>\n",
              "    <tr>\n",
              "      <th>997</th>\n",
              "      <td>998</td>\n",
              "      <td>2adde51d8B8979E</td>\n",
              "      <td>Cathy</td>\n",
              "      <td>Mckinney</td>\n",
              "      <td>Female</td>\n",
              "      <td>Commercial/residential surveyor</td>\n",
              "      <td>60000</td>\n",
              "    </tr>\n",
              "    <tr>\n",
              "      <th>998</th>\n",
              "      <td>999</td>\n",
              "      <td>Fb2FE369D1E171A</td>\n",
              "      <td>Jermaine</td>\n",
              "      <td>Phelps</td>\n",
              "      <td>Male</td>\n",
              "      <td>Ambulance person</td>\n",
              "      <td>100000</td>\n",
              "    </tr>\n",
              "    <tr>\n",
              "      <th>999</th>\n",
              "      <td>1000</td>\n",
              "      <td>8b756f6231DDC6e</td>\n",
              "      <td>Lee</td>\n",
              "      <td>Tran</td>\n",
              "      <td>Female</td>\n",
              "      <td>Nurse, learning disability</td>\n",
              "      <td>90000</td>\n",
              "    </tr>\n",
              "  </tbody>\n",
              "</table>\n",
              "<p>1000 rows × 7 columns</p>\n",
              "</div>"
            ],
            "text/plain": [
              "     Index          User Id First Name Last Name  Gender  \\\n",
              "0        1  8717bbf45cCDbEe     Shelia   Mahoney    Male   \n",
              "1        2  3d5AD30A4cD38ed         Jo    Rivers  Female   \n",
              "2        3  810Ce0F276Badec     Sheryl    Lowery  Female   \n",
              "3        4  BF2a889C00f0cE1    Whitney    Hooper    Male   \n",
              "4        5  9afFEafAe1CBBB9    Lindsey      Rice  Female   \n",
              "..     ...              ...        ...       ...     ...   \n",
              "995    996  fedF4c7Fd9e7cFa       Kurt    Bryant  Female   \n",
              "996    997  ECddaFEDdEc4FAB      Donna     Barry  Female   \n",
              "997    998  2adde51d8B8979E      Cathy  Mckinney  Female   \n",
              "998    999  Fb2FE369D1E171A   Jermaine    Phelps    Male   \n",
              "999   1000  8b756f6231DDC6e        Lee      Tran  Female   \n",
              "\n",
              "                           Job Title  Salary  \n",
              "0                  Probation officer   90000  \n",
              "1                             Dancer   80000  \n",
              "2                               Copy   50000  \n",
              "3           Counselling psychologist   65000  \n",
              "4                Biomedical engineer  100000  \n",
              "..                               ...     ...  \n",
              "995                Personnel officer   90000  \n",
              "996          Education administrator   50000  \n",
              "997  Commercial/residential surveyor   60000  \n",
              "998                 Ambulance person  100000  \n",
              "999       Nurse, learning disability   90000  \n",
              "\n",
              "[1000 rows x 7 columns]"
            ]
          },
          "execution_count": 15,
          "metadata": {},
          "output_type": "execute_result"
        }
      ],
      "source": [
        "# a) Delete the 'Email', 'Phone', and 'Date of birth' columns from the dataset.\n",
        "# c) Print the final output also.\n",
        "pdata2 = pdata.drop(['Email', 'Phone', 'Date of birth'], axis=1)\n",
        "pdata2"
      ]
    },
    {
      "cell_type": "code",
      "execution_count": 16,
      "metadata": {},
      "outputs": [
        {
          "data": {
            "text/html": [
              "<div>\n",
              "<style scoped>\n",
              "    .dataframe tbody tr th:only-of-type {\n",
              "        vertical-align: middle;\n",
              "    }\n",
              "\n",
              "    .dataframe tbody tr th {\n",
              "        vertical-align: top;\n",
              "    }\n",
              "\n",
              "    .dataframe thead th {\n",
              "        text-align: right;\n",
              "    }\n",
              "</style>\n",
              "<table border=\"1\" class=\"dataframe\">\n",
              "  <thead>\n",
              "    <tr style=\"text-align: right;\">\n",
              "      <th></th>\n",
              "      <th>Index</th>\n",
              "      <th>User Id</th>\n",
              "      <th>First Name</th>\n",
              "      <th>Last Name</th>\n",
              "      <th>Gender</th>\n",
              "      <th>Job Title</th>\n",
              "      <th>Salary</th>\n",
              "    </tr>\n",
              "  </thead>\n",
              "  <tbody>\n",
              "    <tr>\n",
              "      <th>0</th>\n",
              "      <td>1</td>\n",
              "      <td>8717bbf45cCDbEe</td>\n",
              "      <td>Shelia</td>\n",
              "      <td>Mahoney</td>\n",
              "      <td>Male</td>\n",
              "      <td>Probation officer</td>\n",
              "      <td>90000</td>\n",
              "    </tr>\n",
              "    <tr>\n",
              "      <th>1</th>\n",
              "      <td>2</td>\n",
              "      <td>3d5AD30A4cD38ed</td>\n",
              "      <td>Jo</td>\n",
              "      <td>Rivers</td>\n",
              "      <td>Female</td>\n",
              "      <td>Dancer</td>\n",
              "      <td>80000</td>\n",
              "    </tr>\n",
              "    <tr>\n",
              "      <th>2</th>\n",
              "      <td>3</td>\n",
              "      <td>810Ce0F276Badec</td>\n",
              "      <td>Sheryl</td>\n",
              "      <td>Lowery</td>\n",
              "      <td>Female</td>\n",
              "      <td>Copy</td>\n",
              "      <td>50000</td>\n",
              "    </tr>\n",
              "    <tr>\n",
              "      <th>3</th>\n",
              "      <td>4</td>\n",
              "      <td>BF2a889C00f0cE1</td>\n",
              "      <td>Whitney</td>\n",
              "      <td>Hooper</td>\n",
              "      <td>Male</td>\n",
              "      <td>Counselling psychologist</td>\n",
              "      <td>65000</td>\n",
              "    </tr>\n",
              "    <tr>\n",
              "      <th>4</th>\n",
              "      <td>5</td>\n",
              "      <td>9afFEafAe1CBBB9</td>\n",
              "      <td>Lindsey</td>\n",
              "      <td>Rice</td>\n",
              "      <td>Female</td>\n",
              "      <td>Biomedical engineer</td>\n",
              "      <td>100000</td>\n",
              "    </tr>\n",
              "    <tr>\n",
              "      <th>...</th>\n",
              "      <td>...</td>\n",
              "      <td>...</td>\n",
              "      <td>...</td>\n",
              "      <td>...</td>\n",
              "      <td>...</td>\n",
              "      <td>...</td>\n",
              "      <td>...</td>\n",
              "    </tr>\n",
              "    <tr>\n",
              "      <th>995</th>\n",
              "      <td>996</td>\n",
              "      <td>fedF4c7Fd9e7cFa</td>\n",
              "      <td>Kurt</td>\n",
              "      <td>Bryant</td>\n",
              "      <td>Female</td>\n",
              "      <td>Personnel officer</td>\n",
              "      <td>90000</td>\n",
              "    </tr>\n",
              "    <tr>\n",
              "      <th>996</th>\n",
              "      <td>997</td>\n",
              "      <td>ECddaFEDdEc4FAB</td>\n",
              "      <td>Donna</td>\n",
              "      <td>Barry</td>\n",
              "      <td>Female</td>\n",
              "      <td>Education administrator</td>\n",
              "      <td>50000</td>\n",
              "    </tr>\n",
              "    <tr>\n",
              "      <th>997</th>\n",
              "      <td>998</td>\n",
              "      <td>2adde51d8B8979E</td>\n",
              "      <td>Cathy</td>\n",
              "      <td>Mckinney</td>\n",
              "      <td>Female</td>\n",
              "      <td>Commercial/residential surveyor</td>\n",
              "      <td>60000</td>\n",
              "    </tr>\n",
              "    <tr>\n",
              "      <th>998</th>\n",
              "      <td>999</td>\n",
              "      <td>Fb2FE369D1E171A</td>\n",
              "      <td>Jermaine</td>\n",
              "      <td>Phelps</td>\n",
              "      <td>Male</td>\n",
              "      <td>Ambulance person</td>\n",
              "      <td>100000</td>\n",
              "    </tr>\n",
              "    <tr>\n",
              "      <th>999</th>\n",
              "      <td>1000</td>\n",
              "      <td>8b756f6231DDC6e</td>\n",
              "      <td>Lee</td>\n",
              "      <td>Tran</td>\n",
              "      <td>Female</td>\n",
              "      <td>Nurse, learning disability</td>\n",
              "      <td>90000</td>\n",
              "    </tr>\n",
              "  </tbody>\n",
              "</table>\n",
              "<p>1000 rows × 7 columns</p>\n",
              "</div>"
            ],
            "text/plain": [
              "     Index          User Id First Name Last Name  Gender  \\\n",
              "0        1  8717bbf45cCDbEe     Shelia   Mahoney    Male   \n",
              "1        2  3d5AD30A4cD38ed         Jo    Rivers  Female   \n",
              "2        3  810Ce0F276Badec     Sheryl    Lowery  Female   \n",
              "3        4  BF2a889C00f0cE1    Whitney    Hooper    Male   \n",
              "4        5  9afFEafAe1CBBB9    Lindsey      Rice  Female   \n",
              "..     ...              ...        ...       ...     ...   \n",
              "995    996  fedF4c7Fd9e7cFa       Kurt    Bryant  Female   \n",
              "996    997  ECddaFEDdEc4FAB      Donna     Barry  Female   \n",
              "997    998  2adde51d8B8979E      Cathy  Mckinney  Female   \n",
              "998    999  Fb2FE369D1E171A   Jermaine    Phelps    Male   \n",
              "999   1000  8b756f6231DDC6e        Lee      Tran  Female   \n",
              "\n",
              "                           Job Title  Salary  \n",
              "0                  Probation officer   90000  \n",
              "1                             Dancer   80000  \n",
              "2                               Copy   50000  \n",
              "3           Counselling psychologist   65000  \n",
              "4                Biomedical engineer  100000  \n",
              "..                               ...     ...  \n",
              "995                Personnel officer   90000  \n",
              "996          Education administrator   50000  \n",
              "997  Commercial/residential surveyor   60000  \n",
              "998                 Ambulance person  100000  \n",
              "999       Nurse, learning disability   90000  \n",
              "\n",
              "[1000 rows x 7 columns]"
            ]
          },
          "execution_count": 16,
          "metadata": {},
          "output_type": "execute_result"
        }
      ],
      "source": [
        "# b) Delete the rows containing any missing values.\n",
        "# c) Print the final output also.\n",
        "pdata3 = pdata2.dropna()\n",
        "pdata3"
      ]
    },
    {
      "cell_type": "markdown",
      "metadata": {
        "id": "r1B3LRffyeR6"
      },
      "source": [
        "Ques 13. Create two NumPy arrays, x and y, each containing 100 random float values between 0 and 1. Perform the\n",
        "following tasks using Matplotlib and NumPy:\n",
        "\n",
        "a) Create a scatter plot using x and y, setting the color of the points to red and the marker style to 'o'.\n",
        "\n",
        "b) Add a horizontal line at y = 0.5 using a dashed line style and label it as 'y = 0.5'.\n",
        "\n",
        "c) Add a vertical line at x = 0.5 using a dotted line style and label it as 'x = 0.5'.\n",
        "\n",
        "d) Label the x-axis as 'X-axis' and the y-axis as 'Y-axis'.\n",
        "\n",
        "e) Set the title of the plot as 'Advanced Scatter Plot of Random Values'.\n",
        "\n",
        "f) Display a legend for the scatter plot, the horizontal line, and the vertical line.\n",
        "\n"
      ]
    },
    {
      "cell_type": "code",
      "execution_count": 17,
      "metadata": {},
      "outputs": [
        {
          "data": {
            "image/png": "[encoded data removed]",
            "text/plain": [
              "<Figure size 640x480 with 1 Axes>"
            ]
          },
          "metadata": {},
          "output_type": "display_data"
        }
      ],
      "source": [
        "import numpy as np\n",
        "import matplotlib.pyplot as plt\n",
        "\n",
        "x = np.random.rand(100)\n",
        "y = np.random.rand(100)\n",
        "\n",
        "plt.scatter(x, y, color='red', marker='o', label='Scatter Plot')\n",
        "plt.axhline(y=0.5, linestyle='--', color='blue', label='y = 0.5')\n",
        "plt.axvline(x=0.5, linestyle=':', label='x = 0.5')\n",
        "plt.xlabel('X-axis')\n",
        "plt.ylabel('Y-axis')\n",
        "plt.title('Advanced Scatter Plot of Random Values')\n",
        "plt.legend()\n",
        "plt.show()"
      ]
    },
    {
      "cell_type": "markdown",
      "metadata": {
        "id": "b4EKNeHRyeH5"
      },
      "source": [
        "Ques 14. Create a time-series dataset in a Pandas DataFrame with columns: 'Date', 'Temperature', 'Humidity' and\n",
        "Perform the following tasks using Matplotlib:\n",
        "\n",
        "a) Plot the 'Temperature' and 'Humidity' on the same plot with different y-axes (left y-axis for 'Temperature' and\n",
        "right y-axis for 'Humidity').\n",
        "\n",
        "b) Label the x-axis as Date'.\n",
        "\n",
        "c) Set the title of the plot as 'Temperature and Humidity Over Time'.\n",
        "\n"
      ]
    },
    {
      "cell_type": "code",
      "execution_count": 18,
      "metadata": {},
      "outputs": [
        {
          "data": {
            "image/png": "[encoded data removed]",
            "text/plain": [
              "<Figure size 1200x480 with 2 Axes>"
            ]
          },
          "metadata": {},
          "output_type": "display_data"
        }
      ],
      "source": [
        "import pandas as pd\n",
        "import matplotlib.pyplot as plt\n",
        "import numpy as np\n",
        "\n",
        "dates = pd.date_range(start='2023-10-26', periods=30, freq='D')\n",
        "\n",
        "temperature = np.random.randint(15, 30, size=30)\n",
        "humidity = np.random.randint(40, 80, size=30)\n",
        "\n",
        "data = {'Date': dates, 'Temperature': temperature, 'Humidity': humidity}\n",
        "df = pd.DataFrame(data)\n",
        "\n",
        "fig, ax1 = plt.subplots()\n",
        "\n",
        "color = 'tab:red'\n",
        "ax1.set_xlabel('Date')\n",
        "ax1.set_ylabel('Temperature (°C)', color=color)\n",
        "ax1.plot(df['Date'], df['Temperature'], color=color)\n",
        "ax1.tick_params(axis='y', labelcolor=color)\n",
        "\n",
        "ax2 = ax1.twinx()  \n",
        "\n",
        "color = 'tab:blue'\n",
        "ax2.set_ylabel('Humidity (%)', color=color)\n",
        "ax2.plot(df['Date'], df['Humidity'], color=color)\n",
        "ax2.tick_params(axis='y', labelcolor=color)\n",
        "fig.set_figwidth(12)\n",
        "plt.title('Temperature and Humidity Over Time')\n",
        "plt.show()\n"
      ]
    },
    {
      "cell_type": "markdown",
      "metadata": {
        "id": "cSuZDTTJyd8t"
      },
      "source": [
        "Ques 15. Create a NumPy array data containing 1000 samples from a normal distribution. Perform the following\n",
        "tasks using Matplotlib:\n",
        "\n",
        "a) Plot a histogram of the data with 30 bins.\n",
        "\n",
        "b) Overlay a line plot representing the normal distribution's probability density function (PDF).\n",
        "\n",
        "c) Label the x-axis as 'Value' and the y-axis as 'Frequency/probability'.\n",
        "\n",
        "d) Set the title Of the plot as 'Histogram with PDF Overlay'."
      ]
    },
    {
      "cell_type": "code",
      "execution_count": 19,
      "metadata": {},
      "outputs": [
        {
          "data": {
            "image/png": "[encoded data removed]",
            "text/plain": [
              "<Figure size 640x480 with 1 Axes>"
            ]
          },
          "metadata": {},
          "output_type": "display_data"
        }
      ],
      "source": [
        "import numpy as np\n",
        "import matplotlib.pyplot as plt\n",
        "data = np.random.normal(loc=0, scale=1, size=1000)\n",
        "plt.hist(data, bins=30)\n",
        "plt.xlabel(\"Value\")\n",
        "plt.ylabel(\"Frequency/Probability\")\n",
        "plt.title(\"Histogram with PDF Overlay\")\n",
        "plt.show()"
      ]
    },
    {
      "cell_type": "markdown",
      "metadata": {
        "id": "wT3gSZFAydxP"
      },
      "source": [
        "Ques 16. Set the title of the plot as 'Histogram with PDF Overlay'.\n",
        "the title as 'Interactive Pie Chart'."
      ]
    },
    {
      "cell_type": "code",
      "execution_count": 20,
      "metadata": {},
      "outputs": [
        {
          "data": {
            "image/png": "[encoded data removed]",
            "text/plain": [
              "<Figure size 640x480 with 1 Axes>"
            ]
          },
          "metadata": {},
          "output_type": "display_data"
        }
      ],
      "source": [
        "import numpy as np\n",
        "import matplotlib.pyplot as plt\n",
        "data = np.random.normal(loc=0, scale=1, size=1000)\n",
        "plt.hist(data, bins=30)\n",
        "plt.xlabel(\"Value\")\n",
        "plt.ylabel(\"Frequency/Probability\")\n",
        "plt.title(\"Interactive Pie Chart\")\n",
        "plt.show()"
      ]
    },
    {
      "cell_type": "markdown",
      "metadata": {
        "id": "DknirfdBydk9"
      },
      "source": [
        "Ques 17. Create a Seaborn scatter plot of two random arrays, color points based on their position relative to the\n",
        "origin (quadrants), add a legend, label the axes, and set the title as 'Quadrant-wise Scatter Plot'."
      ]
    },
    {
      "cell_type": "code",
      "execution_count": 21,
      "metadata": {},
      "outputs": [
        {
          "data": {
            "image/png": "[encoded data removed]",
            "text/plain": [
              "<Figure size 640x480 with 1 Axes>"
            ]
          },
          "metadata": {},
          "output_type": "display_data"
        }
      ],
      "source": [
        "import numpy as np\n",
        "import matplotlib.pyplot as plt\n",
        "import seaborn as sns\n",
        "\n",
        "# Generate random arrays\n",
        "x = np.random.randn(100)\n",
        "y = np.random.randn(100)\n",
        "\n",
        "# Determine quadrant for each point\n",
        "quadrants = []\n",
        "for i in range(len(x)):\n",
        "  if x[i] >= 0 and y[i] >= 0:\n",
        "    quadrants.append('Quadrant 1')\n",
        "  elif x[i] < 0 and y[i] >= 0:\n",
        "    quadrants.append('Quadrant 2')\n",
        "  elif x[i] < 0 and y[i] < 0:\n",
        "    quadrants.append('Quadrant 3')\n",
        "  else:\n",
        "    quadrants.append('Quadrant 4')\n",
        "\n",
        "# Create scatter plot with seaborn\n",
        "sns.scatterplot(x=x, y=y, hue=quadrants)\n",
        "\n",
        "# Add legend, labels, and title\n",
        "plt.legend(title='Quadrant')\n",
        "plt.xlabel('X-axis')\n",
        "plt.ylabel('Y-axis')\n",
        "plt.title('Quadrant-wise Scatter Plot')\n",
        "plt.axhline(y=0, linestyle='--', color='black', label='y = 0.5')\n",
        "plt.axvline(x=0, linestyle=':', label='x = 0.5',color='black')\n",
        "\n",
        "# Show plot\n",
        "plt.show()"
      ]
    },
    {
      "cell_type": "markdown",
      "metadata": {
        "id": "Su8ZWZrVydav"
      },
      "source": [
        "Ques 18. With Bokeh, plot a line chart of a sine wave function, add grid lines, label the axes, and set the title as 'Sine Wave Function'."
      ]
    },
    {
      "cell_type": "code",
      "execution_count": 22,
      "metadata": {},
      "outputs": [
        {
          "data": {
            "text/html": [
              "    <style>\n",
              "        .bk-notebook-logo {\n",
              "            display: block;\n",
              "            width: 20px;\n",
              "            height: 20px;\n",
              "            background-image: url(data:image/png;base64,iVBORw0KGgoAAAANSUhEUgAAABQAAAAUCAYAAACNiR0NAAAABHNCSVQICAgIfAhkiAAAAAlwSFlzAAALEgAACxIB0t1+/AAAABx0RVh0U29mdHdhcmUAQWRvYmUgRmlyZXdvcmtzIENTNui8sowAAAOkSURBVDiNjZRtaJVlGMd/1/08zzln5zjP1LWcU9N0NkN8m2CYjpgQYQXqSs0I84OLIC0hkEKoPtiH3gmKoiJDU7QpLgoLjLIQCpEsNJ1vqUOdO7ppbuec5+V+rj4ctwzd8IIbbi6u+8f1539dt3A78eXC7QizUF7gyV1fD1Yqg4JWz84yffhm0qkFqBogB9rM8tZdtwVsPUhWhGcFJngGeWrPzHm5oaMmkfEg1usvLFyc8jLRqDOMru7AyC8saQr7GG7f5fvDeH7Ej8CM66nIF+8yngt6HWaKh7k49Soy9nXurCi1o3qUbS3zWfrYeQDTB/Qj6kX6Ybhw4B+bOYoLKCC9H3Nu/leUTZ1JdRWkkn2ldcCamzrcf47KKXdAJllSlxAOkRgyHsGC/zRday5Qld9DyoM4/q/rUoy/CXh3jzOu3bHUVZeU+DEn8FInkPBFlu3+nW3Nw0mk6vCDiWg8CeJaxEwuHS3+z5RgY+YBR6V1Z1nxSOfoaPa4LASWxxdNp+VWTk7+4vzaou8v8PN+xo+KY2xsw6une2frhw05CTYOmQvsEhjhWjn0bmXPjpE1+kplmmkP3suftwTubK9Vq22qKmrBhpY4jvd5afdRA3wGjFAgcnTK2s4hY0/GPNIb0nErGMCRxWOOX64Z8RAC4oCXdklmEvcL8o0BfkNK4lUg9HTl+oPlQxdNo3Mg4Nv175e/1LDGzZen30MEjRUtmXSfiTVu1kK8W4txyV6BMKlbgk3lMwYCiusNy9fVfvvwMxv8Ynl6vxoByANLTWplvuj/nF9m2+PDtt1eiHPBr1oIfhCChQMBw6Aw0UulqTKZdfVvfG7VcfIqLG9bcldL/+pdWTLxLUy8Qq38heUIjh4XlzZxzQm19lLFlr8vdQ97rjZVOLf8nclzckbcD4wxXMidpX30sFd37Fv/GtwwhzhxGVAprjbg0gCAEeIgwCZyTV2Z1REEW8O4py0wsjeloKoMr6iCY6dP92H6Vw/oTyICIthibxjm/DfN9lVz8IqtqKYLUXfoKVMVQVVJOElGjrnnUt9T9wbgp8AyYKaGlqingHZU/uG2NTZSVqwHQTWkx9hxjkpWDaCg6Ckj5qebgBVbT3V3NNXMSiWSDdGV3hrtzla7J+duwPOToIg42ChPQOQjspnSlp1V+Gjdged7+8UN5CRAV7a5EdFNwCjEaBR27b3W890TE7g24NAP/mMDXRWrGoFPQI9ls/MWO2dWFAar/xcOIImbbpA3zgAAAABJRU5ErkJggg==);\n",
              "        }\n",
              "    </style>\n",
              "    <div>\n",
              "        <a href=\"https://bokeh.org\" target=\"_blank\" class=\"bk-notebook-logo\"></a>\n",
              "        <span id=\"ac5cd19b-16c0-43f5-b3d9-edd488acbee8\">Loading BokehJS ...</span>\n",
              "    </div>\n"
            ]
          },
          "metadata": {},
          "output_type": "display_data"
        },
        {
          "data": {
            "application/javascript": "'use strict';\n(function(root) {\n  function now() {\n    return new Date();\n  }\n\n  const force = true;\n\n  if (typeof root._bokeh_onload_callbacks === \"undefined\" || force === true) {\n    root._bokeh_onload_callbacks = [];\n    root._bokeh_is_loading = undefined;\n  }\n\nconst JS_MIME_TYPE = 'application/javascript';\n  const HTML_MIME_TYPE = 'text/html';\n  const EXEC_MIME_TYPE = 'application/vnd.bokehjs_exec.v0+json';\n  const CLASS_NAME = 'output_bokeh rendered_html';\n\n  /**\n   * Render data to the DOM node\n   */\n  function render(props, node) {\n    const script = document.createElement(\"script\");\n    node.appendChild(script);\n  }\n\n  /**\n   * Handle when an output is cleared or removed\n   */\n  function handleClearOutput(event, handle) {\n    function drop(id) {\n      const view = Bokeh.index.get_by_id(id)\n      if (view != null) {\n        view.model.document.clear()\n        Bokeh.index.delete(view)\n      }\n    }\n\n    const cell = handle.cell;\n\n    const id = cell.output_area._bokeh_element_id;\n    const server_id = cell.output_area._bokeh_server_id;\n\n    // Clean up Bokeh references\n    if (id != null) {\n      drop(id)\n    }\n\n    if (server_id !== undefined) {\n      // Clean up Bokeh references\n      const cmd_clean = \"from bokeh.io.state import curstate; print(curstate().uuid_to_server['\" + server_id + \"'].get_sessions()[0].document.roots[0]._id)\";\n      cell.notebook.kernel.execute(cmd_clean, {\n        iopub: {\n          output: function(msg) {\n            const id = msg.content.text.trim()\n            drop(id)\n          }\n        }\n      });\n      // Destroy server and session\n      const cmd_destroy = \"import bokeh.io.notebook as ion; ion.destroy_server('\" + server_id + \"')\";\n      cell.notebook.kernel.execute(cmd_destroy);\n    }\n  }\n\n  /**\n   * Handle when a new output is added\n   */\n  function handleAddOutput(event, handle) {\n    const output_area = handle.output_area;\n    const output = handle.output;\n\n    // limit handleAddOutput to display_data with EXEC_MIME_TYPE content only\n    if ((output.output_type != \"display_data\") || (!Object.prototype.hasOwnProperty.call(output.data, EXEC_MIME_TYPE))) {\n      return\n    }\n\n    const toinsert = output_area.element.find(\".\" + CLASS_NAME.split(' ')[0]);\n\n    if (output.metadata[EXEC_MIME_TYPE][\"id\"] !== undefined) {\n      toinsert[toinsert.length - 1].firstChild.textContent = output.data[JS_MIME_TYPE];\n      // store reference to embed id on output_area\n      output_area._bokeh_element_id = output.metadata[EXEC_MIME_TYPE][\"id\"];\n    }\n    if (output.metadata[EXEC_MIME_TYPE][\"server_id\"] !== undefined) {\n      const bk_div = document.createElement(\"div\");\n      bk_div.innerHTML = output.data[HTML_MIME_TYPE];\n      const script_attrs = bk_div.children[0].attributes;\n      for (let i = 0; i < script_attrs.length; i++) {\n        toinsert[toinsert.length - 1].firstChild.setAttribute(script_attrs[i].name, script_attrs[i].value);\n        toinsert[toinsert.length - 1].firstChild.textContent = bk_div.children[0].textContent\n      }\n      // store reference to server id on output_area\n      output_area._bokeh_server_id = output.metadata[EXEC_MIME_TYPE][\"server_id\"];\n    }\n  }\n\n  function register_renderer(events, OutputArea) {\n\n    function append_mime(data, metadata, element) {\n      // create a DOM node to render to\n      const toinsert = this.create_output_subarea(\n        metadata,\n        CLASS_NAME,\n        EXEC_MIME_TYPE\n      );\n      this.keyboard_manager.register_events(toinsert);\n      // Render to node\n      const props = {data: data, metadata: metadata[EXEC_MIME_TYPE]};\n      render(props, toinsert[toinsert.length - 1]);\n      element.append(toinsert);\n      return toinsert\n    }\n\n    /* Handle when an output is cleared or removed */\n    events.on('clear_output.CodeCell', handleClearOutput);\n    events.on('delete.Cell', handleClearOutput);\n\n    /* Handle when a new output is added */\n    events.on('output_added.OutputArea', handleAddOutput);\n\n    /**\n     * Register the mime type and append_mime function with output_area\n     */\n    OutputArea.prototype.register_mime_type(EXEC_MIME_TYPE, append_mime, {\n      /* Is output safe? */\n      safe: true,\n      /* Index of renderer in `output_area.display_order` */\n      index: 0\n    });\n  }\n\n  // register the mime type if in Jupyter Notebook environment and previously unregistered\n  if (root.Jupyter !== undefined) {\n    const events = require('base/js/events');\n    const OutputArea = require('notebook/js/outputarea').OutputArea;\n\n    if (OutputArea.prototype.mime_types().indexOf(EXEC_MIME_TYPE) == -1) {\n      register_renderer(events, OutputArea);\n    }\n  }\n  if (typeof (root._bokeh_timeout) === \"undefined\" || force === true) {\n    root._bokeh_timeout = Date.now() + 5000;\n    root._bokeh_failed_load = false;\n  }\n\n  const NB_LOAD_WARNING = {'data': {'text/html':\n     \"<div style='background-color: #fdd'>\\n\"+\n     \"<p>\\n\"+\n     \"BokehJS does not appear to have successfully loaded. If loading BokehJS from CDN, this \\n\"+\n     \"may be due to a slow or bad network connection. Possible fixes:\\n\"+\n     \"</p>\\n\"+\n     \"<ul>\\n\"+\n     \"<li>re-rerun `output_notebook()` to attempt to load from CDN again, or</li>\\n\"+\n     \"<li>use INLINE resources instead, as so:</li>\\n\"+\n     \"</ul>\\n\"+\n     \"<code>\\n\"+\n     \"from bokeh.resources import INLINE\\n\"+\n     \"output_notebook(resources=INLINE)\\n\"+\n     \"</code>\\n\"+\n     \"</div>\"}};\n\n  function display_loaded(error = null) {\n    const el = document.getElementById(\"ac5cd19b-16c0-43f5-b3d9-edd488acbee8\");\n    if (el != null) {\n      const html = (() => {\n        if (typeof root.Bokeh === \"undefined\") {\n          if (error == null) {\n            return \"BokehJS is loading ...\";\n          } else {\n            return \"BokehJS failed to load.\";\n          }\n        } else {\n          const prefix = `BokehJS ${root.Bokeh.version}`;\n          if (error == null) {\n            return `${prefix} successfully loaded.`;\n          } else {\n            return `${prefix} <b>encountered errors</b> while loading and may not function as expected.`;\n          }\n        }\n      })();\n      el.innerHTML = html;\n\n      if (error != null) {\n        const wrapper = document.createElement(\"div\");\n        wrapper.style.overflow = \"auto\";\n        wrapper.style.height = \"5em\";\n        wrapper.style.resize = \"vertical\";\n        const content = document.createElement(\"div\");\n        content.style.fontFamily = \"monospace\";\n        content.style.whiteSpace = \"pre-wrap\";\n        content.style.backgroundColor = \"rgb(255, 221, 221)\";\n        content.textContent = error.stack ?? error.toString();\n        wrapper.append(content);\n        el.append(wrapper);\n      }\n    } else if (Date.now() < root._bokeh_timeout) {\n      setTimeout(() => display_loaded(error), 100);\n    }\n  }\n\n  function run_callbacks() {\n    try {\n      root._bokeh_onload_callbacks.forEach(function(callback) {\n        if (callback != null)\n          callback();\n      });\n    } finally {\n      delete root._bokeh_onload_callbacks\n    }\n    console.debug(\"Bokeh: all callbacks have finished\");\n  }\n\n  function load_libs(css_urls, js_urls, callback) {\n    if (css_urls == null) css_urls = [];\n    if (js_urls == null) js_urls = [];\n\n    root._bokeh_onload_callbacks.push(callback);\n    if (root._bokeh_is_loading > 0) {\n      console.debug(\"Bokeh: BokehJS is being loaded, scheduling callback at\", now());\n      return null;\n    }\n    if (js_urls == null || js_urls.length === 0) {\n      run_callbacks();\n      return null;\n    }\n    console.debug(\"Bokeh: BokehJS not loaded, scheduling load and callback at\", now());\n    root._bokeh_is_loading = css_urls.length + js_urls.length;\n\n    function on_load() {\n      root._bokeh_is_loading--;\n      if (root._bokeh_is_loading === 0) {\n        console.debug(\"Bokeh: all BokehJS libraries/stylesheets loaded\");\n        run_callbacks()\n      }\n    }\n\n    function on_error(url) {\n      console.error(\"failed to load \" + url);\n    }\n\n    for (let i = 0; i < css_urls.length; i++) {\n      const url = css_urls[i];\n      const element = document.createElement(\"link\");\n      element.onload = on_load;\n      element.onerror = on_error.bind(null, url);\n      element.rel = \"stylesheet\";\n      element.type = \"text/css\";\n      element.href = url;\n      console.debug(\"Bokeh: injecting link tag for BokehJS stylesheet: \", url);\n      document.body.appendChild(element);\n    }\n\n    for (let i = 0; i < js_urls.length; i++) {\n      const url = js_urls[i];\n      const element = document.createElement('script');\n      element.onload = on_load;\n      element.onerror = on_error.bind(null, url);\n      element.async = false;\n      element.src = url;\n      console.debug(\"Bokeh: injecting script tag for BokehJS library: \", url);\n      document.head.appendChild(element);\n    }\n  };\n\n  function inject_raw_css(css) {\n    const element = document.createElement(\"style\");\n    element.appendChild(document.createTextNode(css));\n    document.body.appendChild(element);\n  }\n\n  const js_urls = [\"https://cdn.bokeh.org/bokeh/release/bokeh-3.6.0.min.js\", \"https://cdn.bokeh.org/bokeh/release/bokeh-gl-3.6.0.min.js\", \"https://cdn.bokeh.org/bokeh/release/bokeh-widgets-3.6.0.min.js\", \"https://cdn.bokeh.org/bokeh/release/bokeh-tables-3.6.0.min.js\", \"https://cdn.bokeh.org/bokeh/release/bokeh-mathjax-3.6.0.min.js\"];\n  const css_urls = [];\n\n  const inline_js = [    function(Bokeh) {\n      Bokeh.set_log_level(\"info\");\n    },\nfunction(Bokeh) {\n    }\n  ];\n\n  function run_inline_js() {\n    if (root.Bokeh !== undefined || force === true) {\n      try {\n            for (let i = 0; i < inline_js.length; i++) {\n      inline_js[i].call(root, root.Bokeh);\n    }\n\n      } catch (error) {display_loaded(error);throw error;\n      }if (force === true) {\n        display_loaded();\n      }} else if (Date.now() < root._bokeh_timeout) {\n      setTimeout(run_inline_js, 100);\n    } else if (!root._bokeh_failed_load) {\n      console.log(\"Bokeh: BokehJS failed to load within specified timeout.\");\n      root._bokeh_failed_load = true;\n    } else if (force !== true) {\n      const cell = $(document.getElementById(\"ac5cd19b-16c0-43f5-b3d9-edd488acbee8\")).parents('.cell').data().cell;\n      cell.output_area.append_execute_result(NB_LOAD_WARNING)\n    }\n  }\n\n  if (root._bokeh_is_loading === 0) {\n    console.debug(\"Bokeh: BokehJS loaded, going straight to plotting\");\n    run_inline_js();\n  } else {\n    load_libs(css_urls, js_urls, function() {\n      console.debug(\"Bokeh: BokehJS plotting callback run at\", now());\n      run_inline_js();\n    });\n  }\n}(window));",
            "application/vnd.bokehjs_load.v0+json": ""
          },
          "metadata": {},
          "output_type": "display_data"
        },
        {
          "data": {
            "text/html": [
              "\n",
              "  <div id=\"ae16a6cf-ed17-4408-8280-7c8e0bf7734b\" data-root-id=\"p1001\" style=\"display: contents;\"></div>\n"
            ]
          },
          "metadata": {},
          "output_type": "display_data"
        },
        {
          "data": {
            "application/javascript": "(function(root) {\n  function embed_document(root) {\n  const docs_json = {\"41c8af2f-fd56-4f0b-aa2f-84ff09671011\":{\"version\":\"3.6.0\",\"title\":\"Bokeh Application\",\"roots\":[{\"type\":\"object\",\"name\":\"Figure\",\"id\":\"p1001\",\"attributes\":{\"x_range\":{\"type\":\"object\",\"name\":\"DataRange1d\",\"id\":\"p1002\"},\"y_range\":{\"type\":\"object\",\"name\":\"DataRange1d\",\"id\":\"p1003\"},\"x_scale\":{\"type\":\"object\",\"name\":\"LinearScale\",\"id\":\"p1011\"},\"y_scale\":{\"type\":\"object\",\"name\":\"LinearScale\",\"id\":\"p1012\"},\"title\":{\"type\":\"object\",\"name\":\"Title\",\"id\":\"p1004\",\"attributes\":{\"text\":\"Sine Wave Function\"}},\"renderers\":[{\"type\":\"object\",\"name\":\"GlyphRenderer\",\"id\":\"p1042\",\"attributes\":{\"data_source\":{\"type\":\"object\",\"name\":\"ColumnDataSource\",\"id\":\"p1036\",\"attributes\":{\"selected\":{\"type\":\"object\",\"name\":\"Selection\",\"id\":\"p1037\",\"attributes\":{\"indices\":[],\"line_indices\":[]}},\"selection_policy\":{\"type\":\"object\",\"name\":\"UnionRenderers\",\"id\":\"p1038\"},\"data\":{\"type\":\"map\",\"entries\":[[\"x\",{\"type\":\"ndarray\",\"array\":{\"type\":\"bytes\",\"data\":\"AAAAAAAAAAAxb2dIzNu5PzFvZ0jM28k/ZZNNNtlk0z8xb2dIzNvZP3+lQK1fKeA/ZZNNNtlk4z9LgVq/UqDmPzFvZ0jM2+k/F1100UUX7T9/pUCtXynwP3Icx3Ecx/E/ZZNNNtlk8z9YCtT6lQL1P0uBWr9SoPY/Pvjggw8++D8xb2dIzNv5PyTm7QyJefs/F1100UUX/T8K1PqVArX+P3+lQK1fKQBA+OCDDz74AEByHMdxHMcBQOtXCtT6lQJAZZNNNtlkA0DezpCYtzMEQFgK1PqVAgVA0UUXXXTRBUBLgVq/UqAGQMS8nSExbwdAPvjggw8+CEC3MyTm7QwJQDFvZ0jM2wlAq6qqqqqqCkAk5u0MiXkLQJ4hMW9nSAxAF1100UUXDUCRmLczJOYNQArU+pUCtQ5AhA8++OCDD0B/pUCtXykQQDtDYt7OkBBA+OCDDz74EEC1fqVArV8RQHIcx3EcxxFALrrooosuEkDrVwrU+pUSQKj1KwVq/RJAZZNNNtlkE0AiMW9nSMwTQN7OkJi3MxRAm2yyySabFEBYCtT6lQIVQBWo9SsFahVA0UUXXXTRFUCO4ziO4zgWQEuBWr9SoBZACB988MEHF0DEvJ0hMW8XQIFav1Kg1hdAPvjggw8+GED7lQK1fqUYQLczJObtDBlAdNFFF110GUAxb2dIzNsZQO4MiXk7QxpAq6qqqqqqGkBnSMzbGRIbQCTm7QyJeRtA4YMPPvjgG0CeITFvZ0gcQFq/UqDWrxxAF1100UUXHUDU+pUCtX4dQJGYtzMk5h1ATTbZZJNNHkAK1PqVArUeQMdxHMdxHB9AhA8++OCDH0BArV8pUOsfQH+lQK1fKSBAXXTRRRddIEA7Q2LezpAgQBoS83aGxCBA+OCDDz74IEDXrxSo9SshQLV+pUCtXyFAk0022WSTIUByHMdxHMchQFDrVwrU+iFALrrooosuIkANiXk7Q2IiQOtXCtT6lSJAyiabbLLJIkCo9SsFav0iQIbEvJ0hMSNAZZNNNtlkI0BDYt7OkJgjQCIxb2dIzCNAAAAAAAAAJEA=\"},\"shape\":[100],\"dtype\":\"float64\",\"order\":\"little\"}],[\"y\",{\"type\":\"ndarray\",\"array\":{\"type\":\"bytes\",\"data\":\"AAAAAAAAAABWWTD1i9C5P1FTX5rcrsk/gsOxNjYZ0z9VYwJ3JinZPxcA895s994/joZ7TnE64j/qrfXjmcnkP2ssuWGCIuc/Iswnjgo/6T+RI+TArxnrP1BTS0Sbrew/3oUw9q727T8Xi+UGkPHuP/kGhbqvm+8/OPqkFVLz7z8TWwZkkvfvP5TacY1lqO8/kSusMpoG7z8wOzaS1hPuPz2qWDqU0uw/jV22kxlG6z8pMUFVcXLpP4gS3/dfXOc/1MdGRVcJ5T/m1IwiaH/iP8q16nZlit8/8e22b6rD2T9j8JxQsrnTPwFWfWl/+Mo/+7miP25uvD8ew57TVQ2FP7c2U+b2Mbe/NJcb8IdkyL+cMtDaNXjSv4gGHUH0jdi/BM5I1Z1j3r8dASM//PThv5J0Xo5MieS/fMX9lQTo5r9AD0Xy9Arpv5gfWUKK7Oq/hEBctduH7L9UjGrat9jtv9nTBZKv2+6/Gw5iBB+O778QwS6FNO7vv7NU4lL1+u+/vLAjJUC0778fSaaDzRrvv6PqleQtMO6/ehV7l8X27L+nYD+HxnHrv2I/nOMnpem/D922x5uV57/CVOv4gkjlv1aewt3ew+K/ZCe00UEO4L8DKjT9e13av93iNNGlWdS/wgS4cmdBzL8fFrKmiwu/v2He8+4MDZW/u4zZNsGStD+7ZD9aihnHP7P36Je11tE/W/DDABjy1z9jyIBZ/M7dP8e6gdUKr+E/qWzMAXFI5D//7Lop6KzmP7yvSOox1ug/Al+5UKq+6j+T7POSVmHsP14AZw7yue0/UWGMa/nE7j/0lfnIs3/vP+x2ENY56O8/b1zFynr97z+a4IMvP7/vP+dX8G0pLu8/1DgMKbRL7j8lnQ9hLhrtP1CyCm21nOs/N08I2izX6T+2POhENM7nPxy7bUkbh+U/z6j/pdMH4z+wXUa44VbgP6UpR/aW9to/VbjOZAz51D8WLl/Qi4nNP2bQXAjp08A//1m7LN2Snz/o7+kO/fKxv37G6czszcW/VIdizLk00b98w03tlVXXvzzw4HCMOd2/Uk/z9Z5o4b8=\"},\"shape\":[100],\"dtype\":\"float64\",\"order\":\"little\"}]]}}},\"view\":{\"type\":\"object\",\"name\":\"CDSView\",\"id\":\"p1043\",\"attributes\":{\"filter\":{\"type\":\"object\",\"name\":\"AllIndices\",\"id\":\"p1044\"}}},\"glyph\":{\"type\":\"object\",\"name\":\"Line\",\"id\":\"p1039\",\"attributes\":{\"x\":{\"type\":\"field\",\"field\":\"x\"},\"y\":{\"type\":\"field\",\"field\":\"y\"},\"line_color\":\"#1f77b4\",\"line_width\":2}},\"nonselection_glyph\":{\"type\":\"object\",\"name\":\"Line\",\"id\":\"p1040\",\"attributes\":{\"x\":{\"type\":\"field\",\"field\":\"x\"},\"y\":{\"type\":\"field\",\"field\":\"y\"},\"line_color\":\"#1f77b4\",\"line_alpha\":0.1,\"line_width\":2}},\"muted_glyph\":{\"type\":\"object\",\"name\":\"Line\",\"id\":\"p1041\",\"attributes\":{\"x\":{\"type\":\"field\",\"field\":\"x\"},\"y\":{\"type\":\"field\",\"field\":\"y\"},\"line_color\":\"#1f77b4\",\"line_alpha\":0.2,\"line_width\":2}}}}],\"toolbar\":{\"type\":\"object\",\"name\":\"Toolbar\",\"id\":\"p1010\",\"attributes\":{\"tools\":[{\"type\":\"object\",\"name\":\"PanTool\",\"id\":\"p1023\"},{\"type\":\"object\",\"name\":\"WheelZoomTool\",\"id\":\"p1024\",\"attributes\":{\"renderers\":\"auto\"}},{\"type\":\"object\",\"name\":\"BoxZoomTool\",\"id\":\"p1025\",\"attributes\":{\"overlay\":{\"type\":\"object\",\"name\":\"BoxAnnotation\",\"id\":\"p1026\",\"attributes\":{\"syncable\":false,\"line_color\":\"black\",\"line_alpha\":1.0,\"line_width\":2,\"line_dash\":[4,4],\"fill_color\":\"lightgrey\",\"fill_alpha\":0.5,\"level\":\"overlay\",\"visible\":false,\"left\":{\"type\":\"number\",\"value\":\"nan\"},\"right\":{\"type\":\"number\",\"value\":\"nan\"},\"top\":{\"type\":\"number\",\"value\":\"nan\"},\"bottom\":{\"type\":\"number\",\"value\":\"nan\"},\"left_units\":\"canvas\",\"right_units\":\"canvas\",\"top_units\":\"canvas\",\"bottom_units\":\"canvas\",\"handles\":{\"type\":\"object\",\"name\":\"BoxInteractionHandles\",\"id\":\"p1032\",\"attributes\":{\"all\":{\"type\":\"object\",\"name\":\"AreaVisuals\",\"id\":\"p1031\",\"attributes\":{\"fill_color\":\"white\",\"hover_fill_color\":\"lightgray\"}}}}}}}},{\"type\":\"object\",\"name\":\"SaveTool\",\"id\":\"p1033\"},{\"type\":\"object\",\"name\":\"ResetTool\",\"id\":\"p1034\"},{\"type\":\"object\",\"name\":\"HelpTool\",\"id\":\"p1035\"}]}},\"left\":[{\"type\":\"object\",\"name\":\"LinearAxis\",\"id\":\"p1018\",\"attributes\":{\"ticker\":{\"type\":\"object\",\"name\":\"BasicTicker\",\"id\":\"p1019\",\"attributes\":{\"mantissas\":[1,2,5]}},\"formatter\":{\"type\":\"object\",\"name\":\"BasicTickFormatter\",\"id\":\"p1020\"},\"axis_label\":\"sin(x)\",\"major_label_policy\":{\"type\":\"object\",\"name\":\"AllLabels\",\"id\":\"p1021\"}}}],\"below\":[{\"type\":\"object\",\"name\":\"LinearAxis\",\"id\":\"p1013\",\"attributes\":{\"ticker\":{\"type\":\"object\",\"name\":\"BasicTicker\",\"id\":\"p1014\",\"attributes\":{\"mantissas\":[1,2,5]}},\"formatter\":{\"type\":\"object\",\"name\":\"BasicTickFormatter\",\"id\":\"p1015\"},\"axis_label\":\"x\",\"major_label_policy\":{\"type\":\"object\",\"name\":\"AllLabels\",\"id\":\"p1016\"}}}],\"center\":[{\"type\":\"object\",\"name\":\"Grid\",\"id\":\"p1017\",\"attributes\":{\"axis\":{\"id\":\"p1013\"},\"grid_line_alpha\":0.5}},{\"type\":\"object\",\"name\":\"Grid\",\"id\":\"p1022\",\"attributes\":{\"dimension\":1,\"axis\":{\"id\":\"p1018\"},\"grid_line_alpha\":0.5}}]}}]}};\n  const render_items = [{\"docid\":\"41c8af2f-fd56-4f0b-aa2f-84ff09671011\",\"roots\":{\"p1001\":\"ae16a6cf-ed17-4408-8280-7c8e0bf7734b\"},\"root_ids\":[\"p1001\"]}];\n  void root.Bokeh.embed.embed_items_notebook(docs_json, render_items);\n  }\n  if (root.Bokeh !== undefined) {\n    embed_document(root);\n  } else {\n    let attempts = 0;\n    const timer = setInterval(function(root) {\n      if (root.Bokeh !== undefined) {\n        clearInterval(timer);\n        embed_document(root);\n      } else {\n        attempts++;\n        if (attempts > 100) {\n          clearInterval(timer);\n          console.log(\"Bokeh: ERROR: Unable to run BokehJS code because BokehJS library is missing\");\n        }\n      }\n    }, 10, root)\n  }\n})(window);",
            "application/vnd.bokehjs_exec.v0+json": ""
          },
          "metadata": {
            "application/vnd.bokehjs_exec.v0+json": {
              "id": "p1001"
            }
          },
          "output_type": "display_data"
        }
      ],
      "source": [
        "import numpy as np\n",
        "from bokeh.plotting import figure, show\n",
        "from bokeh.io import output_notebook\n",
        "\n",
        "output_notebook()\n",
        "\n",
        "x = np.linspace(0, 10, 100)\n",
        "y = np.sin(x)\n",
        "\n",
        "p = figure(title=\"Sine Wave Function\", x_axis_label=\"x\", y_axis_label=\"sin(x)\")\n",
        "\n",
        "p.line(x, y, line_width=2)\n",
        "\n",
        "p.grid.grid_line_alpha = 0.5\n",
        "\n",
        "show(p)"
      ]
    },
    {
      "cell_type": "markdown",
      "metadata": {
        "id": "RVwlOhYFydPV"
      },
      "source": [
        "Ques 19. Using Bokeh, generate a bar chart of randomly generated categorical data, color bars based on their\n",
        "values, add hover tooltips to display exact values, label the axes, and set the title as 'Random Categorical\n",
        "Bar Chart'."
      ]
    },
    {
      "cell_type": "code",
      "execution_count": 36,
      "metadata": {},
      "outputs": [
        {
          "data": {
            "text/html": [
              "    <style>\n",
              "        .bk-notebook-logo {\n",
              "            display: block;\n",
              "            width: 20px;\n",
              "            height: 20px;\n",
              "            background-image: url(data:image/png;base64,iVBORw0KGgoAAAANSUhEUgAAABQAAAAUCAYAAACNiR0NAAAABHNCSVQICAgIfAhkiAAAAAlwSFlzAAALEgAACxIB0t1+/AAAABx0RVh0U29mdHdhcmUAQWRvYmUgRmlyZXdvcmtzIENTNui8sowAAAOkSURBVDiNjZRtaJVlGMd/1/08zzln5zjP1LWcU9N0NkN8m2CYjpgQYQXqSs0I84OLIC0hkEKoPtiH3gmKoiJDU7QpLgoLjLIQCpEsNJ1vqUOdO7ppbuec5+V+rj4ctwzd8IIbbi6u+8f1539dt3A78eXC7QizUF7gyV1fD1Yqg4JWz84yffhm0qkFqBogB9rM8tZdtwVsPUhWhGcFJngGeWrPzHm5oaMmkfEg1usvLFyc8jLRqDOMru7AyC8saQr7GG7f5fvDeH7Ej8CM66nIF+8yngt6HWaKh7k49Soy9nXurCi1o3qUbS3zWfrYeQDTB/Qj6kX6Ybhw4B+bOYoLKCC9H3Nu/leUTZ1JdRWkkn2ldcCamzrcf47KKXdAJllSlxAOkRgyHsGC/zRday5Qld9DyoM4/q/rUoy/CXh3jzOu3bHUVZeU+DEn8FInkPBFlu3+nW3Nw0mk6vCDiWg8CeJaxEwuHS3+z5RgY+YBR6V1Z1nxSOfoaPa4LASWxxdNp+VWTk7+4vzaou8v8PN+xo+KY2xsw6une2frhw05CTYOmQvsEhjhWjn0bmXPjpE1+kplmmkP3suftwTubK9Vq22qKmrBhpY4jvd5afdRA3wGjFAgcnTK2s4hY0/GPNIb0nErGMCRxWOOX64Z8RAC4oCXdklmEvcL8o0BfkNK4lUg9HTl+oPlQxdNo3Mg4Nv175e/1LDGzZen30MEjRUtmXSfiTVu1kK8W4txyV6BMKlbgk3lMwYCiusNy9fVfvvwMxv8Ynl6vxoByANLTWplvuj/nF9m2+PDtt1eiHPBr1oIfhCChQMBw6Aw0UulqTKZdfVvfG7VcfIqLG9bcldL/+pdWTLxLUy8Qq38heUIjh4XlzZxzQm19lLFlr8vdQ97rjZVOLf8nclzckbcD4wxXMidpX30sFd37Fv/GtwwhzhxGVAprjbg0gCAEeIgwCZyTV2Z1REEW8O4py0wsjeloKoMr6iCY6dP92H6Vw/oTyICIthibxjm/DfN9lVz8IqtqKYLUXfoKVMVQVVJOElGjrnnUt9T9wbgp8AyYKaGlqingHZU/uG2NTZSVqwHQTWkx9hxjkpWDaCg6Ckj5qebgBVbT3V3NNXMSiWSDdGV3hrtzla7J+duwPOToIg42ChPQOQjspnSlp1V+Gjdged7+8UN5CRAV7a5EdFNwCjEaBR27b3W890TE7g24NAP/mMDXRWrGoFPQI9ls/MWO2dWFAar/xcOIImbbpA3zgAAAABJRU5ErkJggg==);\n",
              "        }\n",
              "    </style>\n",
              "    <div>\n",
              "        <a href=\"https://bokeh.org\" target=\"_blank\" class=\"bk-notebook-logo\"></a>\n",
              "        <span id=\"c59eba14-2f72-46e8-b14d-edba71dbfad7\">Loading BokehJS ...</span>\n",
              "    </div>\n"
            ]
          },
          "metadata": {},
          "output_type": "display_data"
        },
        {
          "data": {
            "application/javascript": "'use strict';\n(function(root) {\n  function now() {\n    return new Date();\n  }\n\n  const force = true;\n\n  if (typeof root._bokeh_onload_callbacks === \"undefined\" || force === true) {\n    root._bokeh_onload_callbacks = [];\n    root._bokeh_is_loading = undefined;\n  }\n\nconst JS_MIME_TYPE = 'application/javascript';\n  const HTML_MIME_TYPE = 'text/html';\n  const EXEC_MIME_TYPE = 'application/vnd.bokehjs_exec.v0+json';\n  const CLASS_NAME = 'output_bokeh rendered_html';\n\n  /**\n   * Render data to the DOM node\n   */\n  function render(props, node) {\n    const script = document.createElement(\"script\");\n    node.appendChild(script);\n  }\n\n  /**\n   * Handle when an output is cleared or removed\n   */\n  function handleClearOutput(event, handle) {\n    function drop(id) {\n      const view = Bokeh.index.get_by_id(id)\n      if (view != null) {\n        view.model.document.clear()\n        Bokeh.index.delete(view)\n      }\n    }\n\n    const cell = handle.cell;\n\n    const id = cell.output_area._bokeh_element_id;\n    const server_id = cell.output_area._bokeh_server_id;\n\n    // Clean up Bokeh references\n    if (id != null) {\n      drop(id)\n    }\n\n    if (server_id !== undefined) {\n      // Clean up Bokeh references\n      const cmd_clean = \"from bokeh.io.state import curstate; print(curstate().uuid_to_server['\" + server_id + \"'].get_sessions()[0].document.roots[0]._id)\";\n      cell.notebook.kernel.execute(cmd_clean, {\n        iopub: {\n          output: function(msg) {\n            const id = msg.content.text.trim()\n            drop(id)\n          }\n        }\n      });\n      // Destroy server and session\n      const cmd_destroy = \"import bokeh.io.notebook as ion; ion.destroy_server('\" + server_id + \"')\";\n      cell.notebook.kernel.execute(cmd_destroy);\n    }\n  }\n\n  /**\n   * Handle when a new output is added\n   */\n  function handleAddOutput(event, handle) {\n    const output_area = handle.output_area;\n    const output = handle.output;\n\n    // limit handleAddOutput to display_data with EXEC_MIME_TYPE content only\n    if ((output.output_type != \"display_data\") || (!Object.prototype.hasOwnProperty.call(output.data, EXEC_MIME_TYPE))) {\n      return\n    }\n\n    const toinsert = output_area.element.find(\".\" + CLASS_NAME.split(' ')[0]);\n\n    if (output.metadata[EXEC_MIME_TYPE][\"id\"] !== undefined) {\n      toinsert[toinsert.length - 1].firstChild.textContent = output.data[JS_MIME_TYPE];\n      // store reference to embed id on output_area\n      output_area._bokeh_element_id = output.metadata[EXEC_MIME_TYPE][\"id\"];\n    }\n    if (output.metadata[EXEC_MIME_TYPE][\"server_id\"] !== undefined) {\n      const bk_div = document.createElement(\"div\");\n      bk_div.innerHTML = output.data[HTML_MIME_TYPE];\n      const script_attrs = bk_div.children[0].attributes;\n      for (let i = 0; i < script_attrs.length; i++) {\n        toinsert[toinsert.length - 1].firstChild.setAttribute(script_attrs[i].name, script_attrs[i].value);\n        toinsert[toinsert.length - 1].firstChild.textContent = bk_div.children[0].textContent\n      }\n      // store reference to server id on output_area\n      output_area._bokeh_server_id = output.metadata[EXEC_MIME_TYPE][\"server_id\"];\n    }\n  }\n\n  function register_renderer(events, OutputArea) {\n\n    function append_mime(data, metadata, element) {\n      // create a DOM node to render to\n      const toinsert = this.create_output_subarea(\n        metadata,\n        CLASS_NAME,\n        EXEC_MIME_TYPE\n      );\n      this.keyboard_manager.register_events(toinsert);\n      // Render to node\n      const props = {data: data, metadata: metadata[EXEC_MIME_TYPE]};\n      render(props, toinsert[toinsert.length - 1]);\n      element.append(toinsert);\n      return toinsert\n    }\n\n    /* Handle when an output is cleared or removed */\n    events.on('clear_output.CodeCell', handleClearOutput);\n    events.on('delete.Cell', handleClearOutput);\n\n    /* Handle when a new output is added */\n    events.on('output_added.OutputArea', handleAddOutput);\n\n    /**\n     * Register the mime type and append_mime function with output_area\n     */\n    OutputArea.prototype.register_mime_type(EXEC_MIME_TYPE, append_mime, {\n      /* Is output safe? */\n      safe: true,\n      /* Index of renderer in `output_area.display_order` */\n      index: 0\n    });\n  }\n\n  // register the mime type if in Jupyter Notebook environment and previously unregistered\n  if (root.Jupyter !== undefined) {\n    const events = require('base/js/events');\n    const OutputArea = require('notebook/js/outputarea').OutputArea;\n\n    if (OutputArea.prototype.mime_types().indexOf(EXEC_MIME_TYPE) == -1) {\n      register_renderer(events, OutputArea);\n    }\n  }\n  if (typeof (root._bokeh_timeout) === \"undefined\" || force === true) {\n    root._bokeh_timeout = Date.now() + 5000;\n    root._bokeh_failed_load = false;\n  }\n\n  const NB_LOAD_WARNING = {'data': {'text/html':\n     \"<div style='background-color: #fdd'>\\n\"+\n     \"<p>\\n\"+\n     \"BokehJS does not appear to have successfully loaded. If loading BokehJS from CDN, this \\n\"+\n     \"may be due to a slow or bad network connection. Possible fixes:\\n\"+\n     \"</p>\\n\"+\n     \"<ul>\\n\"+\n     \"<li>re-rerun `output_notebook()` to attempt to load from CDN again, or</li>\\n\"+\n     \"<li>use INLINE resources instead, as so:</li>\\n\"+\n     \"</ul>\\n\"+\n     \"<code>\\n\"+\n     \"from bokeh.resources import INLINE\\n\"+\n     \"output_notebook(resources=INLINE)\\n\"+\n     \"</code>\\n\"+\n     \"</div>\"}};\n\n  function display_loaded(error = null) {\n    const el = document.getElementById(\"c59eba14-2f72-46e8-b14d-edba71dbfad7\");\n    if (el != null) {\n      const html = (() => {\n        if (typeof root.Bokeh === \"undefined\") {\n          if (error == null) {\n            return \"BokehJS is loading ...\";\n          } else {\n            return \"BokehJS failed to load.\";\n          }\n        } else {\n          const prefix = `BokehJS ${root.Bokeh.version}`;\n          if (error == null) {\n            return `${prefix} successfully loaded.`;\n          } else {\n            return `${prefix} <b>encountered errors</b> while loading and may not function as expected.`;\n          }\n        }\n      })();\n      el.innerHTML = html;\n\n      if (error != null) {\n        const wrapper = document.createElement(\"div\");\n        wrapper.style.overflow = \"auto\";\n        wrapper.style.height = \"5em\";\n        wrapper.style.resize = \"vertical\";\n        const content = document.createElement(\"div\");\n        content.style.fontFamily = \"monospace\";\n        content.style.whiteSpace = \"pre-wrap\";\n        content.style.backgroundColor = \"rgb(255, 221, 221)\";\n        content.textContent = error.stack ?? error.toString();\n        wrapper.append(content);\n        el.append(wrapper);\n      }\n    } else if (Date.now() < root._bokeh_timeout) {\n      setTimeout(() => display_loaded(error), 100);\n    }\n  }\n\n  function run_callbacks() {\n    try {\n      root._bokeh_onload_callbacks.forEach(function(callback) {\n        if (callback != null)\n          callback();\n      });\n    } finally {\n      delete root._bokeh_onload_callbacks\n    }\n    console.debug(\"Bokeh: all callbacks have finished\");\n  }\n\n  function load_libs(css_urls, js_urls, callback) {\n    if (css_urls == null) css_urls = [];\n    if (js_urls == null) js_urls = [];\n\n    root._bokeh_onload_callbacks.push(callback);\n    if (root._bokeh_is_loading > 0) {\n      console.debug(\"Bokeh: BokehJS is being loaded, scheduling callback at\", now());\n      return null;\n    }\n    if (js_urls == null || js_urls.length === 0) {\n      run_callbacks();\n      return null;\n    }\n    console.debug(\"Bokeh: BokehJS not loaded, scheduling load and callback at\", now());\n    root._bokeh_is_loading = css_urls.length + js_urls.length;\n\n    function on_load() {\n      root._bokeh_is_loading--;\n      if (root._bokeh_is_loading === 0) {\n        console.debug(\"Bokeh: all BokehJS libraries/stylesheets loaded\");\n        run_callbacks()\n      }\n    }\n\n    function on_error(url) {\n      console.error(\"failed to load \" + url);\n    }\n\n    for (let i = 0; i < css_urls.length; i++) {\n      const url = css_urls[i];\n      const element = document.createElement(\"link\");\n      element.onload = on_load;\n      element.onerror = on_error.bind(null, url);\n      element.rel = \"stylesheet\";\n      element.type = \"text/css\";\n      element.href = url;\n      console.debug(\"Bokeh: injecting link tag for BokehJS stylesheet: \", url);\n      document.body.appendChild(element);\n    }\n\n    for (let i = 0; i < js_urls.length; i++) {\n      const url = js_urls[i];\n      const element = document.createElement('script');\n      element.onload = on_load;\n      element.onerror = on_error.bind(null, url);\n      element.async = false;\n      element.src = url;\n      console.debug(\"Bokeh: injecting script tag for BokehJS library: \", url);\n      document.head.appendChild(element);\n    }\n  };\n\n  function inject_raw_css(css) {\n    const element = document.createElement(\"style\");\n    element.appendChild(document.createTextNode(css));\n    document.body.appendChild(element);\n  }\n\n  const js_urls = [\"https://cdn.bokeh.org/bokeh/release/bokeh-3.6.0.min.js\", \"https://cdn.bokeh.org/bokeh/release/bokeh-gl-3.6.0.min.js\", \"https://cdn.bokeh.org/bokeh/release/bokeh-widgets-3.6.0.min.js\", \"https://cdn.bokeh.org/bokeh/release/bokeh-tables-3.6.0.min.js\", \"https://cdn.bokeh.org/bokeh/release/bokeh-mathjax-3.6.0.min.js\"];\n  const css_urls = [];\n\n  const inline_js = [    function(Bokeh) {\n      Bokeh.set_log_level(\"info\");\n    },\nfunction(Bokeh) {\n    }\n  ];\n\n  function run_inline_js() {\n    if (root.Bokeh !== undefined || force === true) {\n      try {\n            for (let i = 0; i < inline_js.length; i++) {\n      inline_js[i].call(root, root.Bokeh);\n    }\n\n      } catch (error) {display_loaded(error);throw error;\n      }if (force === true) {\n        display_loaded();\n      }} else if (Date.now() < root._bokeh_timeout) {\n      setTimeout(run_inline_js, 100);\n    } else if (!root._bokeh_failed_load) {\n      console.log(\"Bokeh: BokehJS failed to load within specified timeout.\");\n      root._bokeh_failed_load = true;\n    } else if (force !== true) {\n      const cell = $(document.getElementById(\"c59eba14-2f72-46e8-b14d-edba71dbfad7\")).parents('.cell').data().cell;\n      cell.output_area.append_execute_result(NB_LOAD_WARNING)\n    }\n  }\n\n  if (root._bokeh_is_loading === 0) {\n    console.debug(\"Bokeh: BokehJS loaded, going straight to plotting\");\n    run_inline_js();\n  } else {\n    load_libs(css_urls, js_urls, function() {\n      console.debug(\"Bokeh: BokehJS plotting callback run at\", now());\n      run_inline_js();\n    });\n  }\n}(window));",
            "application/vnd.bokehjs_load.v0+json": ""
          },
          "metadata": {},
          "output_type": "display_data"
        },
        {
          "data": {
            "text/html": [
              "\n",
              "  <div id=\"c3721ab5-3b31-42eb-b681-86550d39e263\" data-root-id=\"p1109\" style=\"display: contents;\"></div>\n"
            ]
          },
          "metadata": {},
          "output_type": "display_data"
        },
        {
          "data": {
            "application/javascript": "(function(root) {\n  function embed_document(root) {\n  const docs_json = {\"3748c76a-2555-4f43-a9ef-b509f42e0bad\":{\"version\":\"3.6.0\",\"title\":\"Bokeh Application\",\"roots\":[{\"type\":\"object\",\"name\":\"Figure\",\"id\":\"p1109\",\"attributes\":{\"height\":400,\"x_range\":{\"type\":\"object\",\"name\":\"FactorRange\",\"id\":\"p1119\",\"attributes\":{\"factors\":[\"Category 1\",\"Category 2\",\"Category 3\",\"Category 4\",\"Category 5\",\"Category 6\",\"Category 7\",\"Category 8\",\"Category 9\",\"Category 10\"]}},\"y_range\":{\"type\":\"object\",\"name\":\"DataRange1d\",\"id\":\"p1111\",\"attributes\":{\"start\":0}},\"x_scale\":{\"type\":\"object\",\"name\":\"CategoricalScale\",\"id\":\"p1120\"},\"y_scale\":{\"type\":\"object\",\"name\":\"LinearScale\",\"id\":\"p1121\"},\"title\":{\"type\":\"object\",\"name\":\"Title\",\"id\":\"p1112\",\"attributes\":{\"text\":\"Random Categorical Bar Chart\"}},\"renderers\":[{\"type\":\"object\",\"name\":\"GlyphRenderer\",\"id\":\"p1151\",\"attributes\":{\"data_source\":{\"type\":\"object\",\"name\":\"ColumnDataSource\",\"id\":\"p1106\",\"attributes\":{\"selected\":{\"type\":\"object\",\"name\":\"Selection\",\"id\":\"p1107\",\"attributes\":{\"indices\":[],\"line_indices\":[]}},\"selection_policy\":{\"type\":\"object\",\"name\":\"UnionRenderers\",\"id\":\"p1108\"},\"data\":{\"type\":\"map\",\"entries\":[[\"index\",{\"type\":\"ndarray\",\"array\":{\"type\":\"bytes\",\"data\":\"AAAAAAEAAAACAAAAAwAAAAQAAAAFAAAABgAAAAcAAAAIAAAACQAAAA==\"},\"shape\":[10],\"dtype\":\"int32\",\"order\":\"little\"}],[\"Category\",{\"type\":\"ndarray\",\"array\":[\"Category 1\",\"Category 2\",\"Category 3\",\"Category 4\",\"Category 5\",\"Category 6\",\"Category 7\",\"Category 8\",\"Category 9\",\"Category 10\"],\"shape\":[10],\"dtype\":\"object\",\"order\":\"little\"}],[\"Value\",{\"type\":\"ndarray\",\"array\":{\"type\":\"bytes\",\"data\":\"IQAAABIAAAA/AAAACgAAABQAAAAGAAAAWgAAAFcAAAA3AAAAEAAAAA==\"},\"shape\":[10],\"dtype\":\"int32\",\"order\":\"little\"}]]}}},\"view\":{\"type\":\"object\",\"name\":\"CDSView\",\"id\":\"p1152\",\"attributes\":{\"filter\":{\"type\":\"object\",\"name\":\"AllIndices\",\"id\":\"p1153\"}}},\"glyph\":{\"type\":\"object\",\"name\":\"VBar\",\"id\":\"p1148\",\"attributes\":{\"x\":{\"type\":\"field\",\"field\":\"Category\"},\"width\":{\"type\":\"value\",\"value\":0.9},\"top\":{\"type\":\"field\",\"field\":\"Value\"},\"line_color\":{\"type\":\"value\",\"value\":\"orange\"},\"fill_color\":{\"type\":\"value\",\"value\":\"orange\"},\"hatch_color\":{\"type\":\"value\",\"value\":\"orange\"}}},\"nonselection_glyph\":{\"type\":\"object\",\"name\":\"VBar\",\"id\":\"p1149\",\"attributes\":{\"x\":{\"type\":\"field\",\"field\":\"Category\"},\"width\":{\"type\":\"value\",\"value\":0.9},\"top\":{\"type\":\"field\",\"field\":\"Value\"},\"line_color\":{\"type\":\"value\",\"value\":\"orange\"},\"line_alpha\":{\"type\":\"value\",\"value\":0.1},\"fill_color\":{\"type\":\"value\",\"value\":\"orange\"},\"fill_alpha\":{\"type\":\"value\",\"value\":0.1},\"hatch_color\":{\"type\":\"value\",\"value\":\"orange\"},\"hatch_alpha\":{\"type\":\"value\",\"value\":0.1}}},\"muted_glyph\":{\"type\":\"object\",\"name\":\"VBar\",\"id\":\"p1150\",\"attributes\":{\"x\":{\"type\":\"field\",\"field\":\"Category\"},\"width\":{\"type\":\"value\",\"value\":0.9},\"top\":{\"type\":\"field\",\"field\":\"Value\"},\"line_color\":{\"type\":\"value\",\"value\":\"orange\"},\"line_alpha\":{\"type\":\"value\",\"value\":0.2},\"fill_color\":{\"type\":\"value\",\"value\":\"orange\"},\"fill_alpha\":{\"type\":\"value\",\"value\":0.2},\"hatch_color\":{\"type\":\"value\",\"value\":\"orange\"},\"hatch_alpha\":{\"type\":\"value\",\"value\":0.2}}}}}],\"toolbar\":{\"type\":\"object\",\"name\":\"Toolbar\",\"id\":\"p1118\",\"attributes\":{\"tools\":[{\"type\":\"object\",\"name\":\"PanTool\",\"id\":\"p1132\"},{\"type\":\"object\",\"name\":\"WheelZoomTool\",\"id\":\"p1133\",\"attributes\":{\"renderers\":\"auto\"}},{\"type\":\"object\",\"name\":\"BoxZoomTool\",\"id\":\"p1134\",\"attributes\":{\"overlay\":{\"type\":\"object\",\"name\":\"BoxAnnotation\",\"id\":\"p1135\",\"attributes\":{\"syncable\":false,\"line_color\":\"black\",\"line_alpha\":1.0,\"line_width\":2,\"line_dash\":[4,4],\"fill_color\":\"lightgrey\",\"fill_alpha\":0.5,\"level\":\"overlay\",\"visible\":false,\"left\":{\"type\":\"number\",\"value\":\"nan\"},\"right\":{\"type\":\"number\",\"value\":\"nan\"},\"top\":{\"type\":\"number\",\"value\":\"nan\"},\"bottom\":{\"type\":\"number\",\"value\":\"nan\"},\"left_units\":\"canvas\",\"right_units\":\"canvas\",\"top_units\":\"canvas\",\"bottom_units\":\"canvas\",\"handles\":{\"type\":\"object\",\"name\":\"BoxInteractionHandles\",\"id\":\"p1141\",\"attributes\":{\"all\":{\"type\":\"object\",\"name\":\"AreaVisuals\",\"id\":\"p1140\",\"attributes\":{\"fill_color\":\"white\",\"hover_fill_color\":\"lightgray\"}}}}}}}},{\"type\":\"object\",\"name\":\"SaveTool\",\"id\":\"p1142\"},{\"type\":\"object\",\"name\":\"ResetTool\",\"id\":\"p1143\"},{\"type\":\"object\",\"name\":\"HelpTool\",\"id\":\"p1144\"},{\"type\":\"object\",\"name\":\"HoverTool\",\"id\":\"p1156\",\"attributes\":{\"renderers\":\"auto\",\"tooltips\":[[\"Category\",\"@Category\"],[\"Value\",\"@Value\"]]}}]}},\"left\":[{\"type\":\"object\",\"name\":\"LinearAxis\",\"id\":\"p1127\",\"attributes\":{\"ticker\":{\"type\":\"object\",\"name\":\"BasicTicker\",\"id\":\"p1128\",\"attributes\":{\"mantissas\":[1,2,5]}},\"formatter\":{\"type\":\"object\",\"name\":\"BasicTickFormatter\",\"id\":\"p1129\"},\"axis_label\":\"Values\",\"major_label_policy\":{\"type\":\"object\",\"name\":\"AllLabels\",\"id\":\"p1130\"}}}],\"below\":[{\"type\":\"object\",\"name\":\"CategoricalAxis\",\"id\":\"p1122\",\"attributes\":{\"ticker\":{\"type\":\"object\",\"name\":\"CategoricalTicker\",\"id\":\"p1123\"},\"formatter\":{\"type\":\"object\",\"name\":\"CategoricalTickFormatter\",\"id\":\"p1124\"},\"axis_label\":\"Categories\",\"major_label_policy\":{\"type\":\"object\",\"name\":\"AllLabels\",\"id\":\"p1125\"}}}],\"center\":[{\"type\":\"object\",\"name\":\"Grid\",\"id\":\"p1126\",\"attributes\":{\"axis\":{\"id\":\"p1122\"},\"grid_line_color\":null}},{\"type\":\"object\",\"name\":\"Grid\",\"id\":\"p1131\",\"attributes\":{\"dimension\":1,\"axis\":{\"id\":\"p1127\"}}},{\"type\":\"object\",\"name\":\"Legend\",\"id\":\"p1154\",\"attributes\":{\"location\":\"top_left\",\"items\":[{\"type\":\"object\",\"name\":\"LegendItem\",\"id\":\"p1155\",\"attributes\":{\"label\":{\"type\":\"value\",\"value\":\"Value\"},\"renderers\":[{\"id\":\"p1151\"}]}}]}}]}}]}};\n  const render_items = [{\"docid\":\"3748c76a-2555-4f43-a9ef-b509f42e0bad\",\"roots\":{\"p1109\":\"c3721ab5-3b31-42eb-b681-86550d39e263\"},\"root_ids\":[\"p1109\"]}];\n  void root.Bokeh.embed.embed_items_notebook(docs_json, render_items);\n  }\n  if (root.Bokeh !== undefined) {\n    embed_document(root);\n  } else {\n    let attempts = 0;\n    const timer = setInterval(function(root) {\n      if (root.Bokeh !== undefined) {\n        clearInterval(timer);\n        embed_document(root);\n      } else {\n        attempts++;\n        if (attempts > 100) {\n          clearInterval(timer);\n          console.log(\"Bokeh: ERROR: Unable to run BokehJS code because BokehJS library is missing\");\n        }\n      }\n    }, 10, root)\n  }\n})(window);",
            "application/vnd.bokehjs_exec.v0+json": ""
          },
          "metadata": {
            "application/vnd.bokehjs_exec.v0+json": {
              "id": "p1109"
            }
          },
          "output_type": "display_data"
        }
      ],
      "source": [
        "from bokeh.plotting import figure, show\n",
        "from bokeh.io import output_notebook\n",
        "from bokeh.models import ColumnDataSource, HoverTool\n",
        "import numpy as np\n",
        "import pandas as pd\n",
        "\n",
        "categories = [f'Category {i}' for i in range(1, 11)]\n",
        "values = np.random.randint(1, 101, size=10) \n",
        "\n",
        "data = pd.DataFrame({'Category': categories, 'Value': values})\n",
        "\n",
        "\n",
        "source = ColumnDataSource(data=data)\n",
        "\n",
        "p = figure(x_range=categories, title='Random Categorical Bar Chart', \n",
        "           x_axis_label='Categories', y_axis_label='Values', \n",
        "           height=400, width=600)  \n",
        "\n",
        "\n",
        "bars = p.vbar(x='Category', top='Value', source=source, \n",
        "              width=0.9, color='orange', legend_label='Value')\n",
        "\n",
        "\n",
        "hover = HoverTool()\n",
        "hover.tooltips = [(\"Category\", \"@Category\"), (\"Value\", \"@Value\")]\n",
        "p.add_tools(hover)\n",
        "\n",
        "p.y_range.start = 0  \n",
        "p.xgrid.grid_line_color = None   \n",
        "p.legend.location = \"top_left\"  \n",
        "p.legend.orientation = \"vertical\"  \n",
        "\n",
        "output_notebook()  \n",
        "show(p)"
      ]
    },
    {
      "cell_type": "markdown",
      "metadata": {
        "id": "NIjxARIuycpN"
      },
      "source": [
        "Ques 20. Using Plotly, create a basic line plot of a randomly generated dataset, label the axes, and set the title as\n",
        "'Simple Line Plot'."
      ]
    },
    {
      "cell_type": "code",
      "execution_count": 23,
      "metadata": {},
      "outputs": [
        {
          "data": {
            "application/vnd.plotly.v1+json": {
              "config": {
                "plotlyServerURL": "https://plot.ly"
              },
              "data": [
                {
                  "type": "scatter",
                  "x": [
                    0,
                    0.1,
                    0.2,
                    0.30000000000000004,
                    0.4,
                    0.5,
                    0.6000000000000001,
                    0.7000000000000001,
                    0.8,
                    0.9,
                    1,
                    1.1,
                    1.2000000000000002,
                    1.3,
                    1.4000000000000001,
                    1.5,
                    1.6,
                    1.7000000000000002,
                    1.8,
                    1.9000000000000001,
                    2,
                    2.1,
                    2.2,
                    2.3000000000000003,
                    2.4000000000000004,
                    2.5,
                    2.6,
                    2.7,
                    2.8000000000000003,
                    2.9000000000000004,
                    3,
                    3.1,
                    3.2,
                    3.3000000000000003,
                    3.4000000000000004,
                    3.5,
                    3.6,
                    3.7,
                    3.8000000000000003,
                    3.9000000000000004,
                    4,
                    4.1000000000000005,
                    4.2,
                    4.3,
                    4.4,
                    4.5,
                    4.6000000000000005,
                    4.7,
                    4.800000000000001,
                    4.9,
                    5,
                    5.1000000000000005,
                    5.2,
                    5.300000000000001,
                    5.4,
                    5.5,
                    5.6000000000000005,
                    5.7,
                    5.800000000000001,
                    5.9,
                    6,
                    6.1000000000000005,
                    6.2,
                    6.300000000000001,
                    6.4,
                    6.5,
                    6.6000000000000005,
                    6.7,
                    6.800000000000001,
                    6.9,
                    7,
                    7.1000000000000005,
                    7.2,
                    7.300000000000001,
                    7.4,
                    7.5,
                    7.6000000000000005,
                    7.7,
                    7.800000000000001,
                    7.9,
                    8,
                    8.1,
                    8.200000000000001,
                    8.3,
                    8.4,
                    8.5,
                    8.6,
                    8.700000000000001,
                    8.8,
                    8.9,
                    9,
                    9.1,
                    9.200000000000001,
                    9.3,
                    9.4,
                    9.5,
                    9.600000000000001,
                    9.700000000000001,
                    9.8,
                    9.9
                  ],
                  "y": [
                    0.6385861758369853,
                    0.44988301774902784,
                    0.9342013769392163,
                    0.7329895913937673,
                    0.5176455189779857,
                    0.42173571357730655,
                    0.9095759445762274,
                    0.043502412385183487,
                    0.9118821965644599,
                    0.9683065361315172,
                    0.6748288088748701,
                    0.6401909980745835,
                    0.0942020425980371,
                    0.730685211148473,
                    0.3115810144655382,
                    0.4100587985304006,
                    0.3459297549023649,
                    0.02636251075352869,
                    0.7141675084247749,
                    0.39271973395360726,
                    0.4759664945366492,
                    0.3004557916937175,
                    0.03539814432566091,
                    0.06407417896310208,
                    0.09822391489163529,
                    0.14512145078081562,
                    0.18265778161544854,
                    0.8406435975843127,
                    0.18652307527592238,
                    0.6062796446664722,
                    0.5934238826062082,
                    0.9906429874335223,
                    0.8626791417580738,
                    0.8960606898849022,
                    0.13817273741266878,
                    0.43122478479869786,
                    0.6218982258598889,
                    0.8083107258689469,
                    0.22632220039480677,
                    0.5528250622220301,
                    0.7601029901557512,
                    0.5206564490381405,
                    0.4803748830515443,
                    0.4481748155054023,
                    0.5364428839890162,
                    0.8616896031491389,
                    0.337416867936968,
                    0.08457507042932733,
                    0.7591931839776225,
                    0.07732763192271597,
                    0.6450139615079924,
                    0.12619022873554975,
                    0.32993485154067104,
                    0.5272147118105841,
                    0.44951282901071565,
                    0.024188775340321933,
                    0.8598332488394295,
                    0.5514583878977509,
                    0.9954735651719464,
                    0.44575176233929414,
                    0.9621296459768108,
                    0.445759984273154,
                    0.9707269099195363,
                    0.19615676538928406,
                    0.2445172289731088,
                    0.4467992060780961,
                    0.31750886647036425,
                    0.5457454954442468,
                    0.8931288940334986,
                    0.6096370339495327,
                    0.4738370736737264,
                    0.8717015844026798,
                    0.42483299922146356,
                    0.4601639981604544,
                    0.6680776032529888,
                    0.3895030268270955,
                    0.437982414658051,
                    0.22799507803669028,
                    0.5739766419402716,
                    0.09836247846817803,
                    0.32026232949944544,
                    0.9976067168072621,
                    0.451543811731998,
                    0.7254224213598487,
                    0.3362797945479058,
                    0.1324932870417691,
                    0.4177829477846149,
                    0.262530998462827,
                    0.864301791710764,
                    0.749036390423935,
                    0.13684949128848445,
                    0.5204829890588651,
                    0.04091991322107691,
                    0.899006739215088,
                    0.8025052662065962,
                    0.7565960370656059,
                    0.10660408840085744,
                    0.34074635757989236,
                    0.22055557020060024,
                    0.08094594518876141
                  ]
                }
              ],
              "layout": {
                "template": {
                  "data": {
                    "bar": [
                      {
                        "error_x": {
                          "color": "#2a3f5f"
                        },
                        "error_y": {
                          "color": "#2a3f5f"
                        },
                        "marker": {
                          "line": {
                            "color": "#E5ECF6",
                            "width": 0.5
                          },
                          "pattern": {
                            "fillmode": "overlay",
                            "size": 10,
                            "solidity": 0.2
                          }
                        },
                        "type": "bar"
                      }
                    ],
                    "barpolar": [
                      {
                        "marker": {
                          "line": {
                            "color": "#E5ECF6",
                            "width": 0.5
                          },
                          "pattern": {
                            "fillmode": "overlay",
                            "size": 10,
                            "solidity": 0.2
                          }
                        },
                        "type": "barpolar"
                      }
                    ],
                    "carpet": [
                      {
                        "aaxis": {
                          "endlinecolor": "#2a3f5f",
                          "gridcolor": "white",
                          "linecolor": "white",
                          "minorgridcolor": "white",
                          "startlinecolor": "#2a3f5f"
                        },
                        "baxis": {
                          "endlinecolor": "#2a3f5f",
                          "gridcolor": "white",
                          "linecolor": "white",
                          "minorgridcolor": "white",
                          "startlinecolor": "#2a3f5f"
                        },
                        "type": "carpet"
                      }
                    ],
                    "choropleth": [
                      {
                        "colorbar": {
                          "outlinewidth": 0,
                          "ticks": ""
                        },
                        "type": "choropleth"
                      }
                    ],
                    "contour": [
                      {
                        "colorbar": {
                          "outlinewidth": 0,
                          "ticks": ""
                        },
                        "colorscale": [
                          [
                            0,
                            "#0d0887"
                          ],
                          [
                            0.1111111111111111,
                            "#46039f"
                          ],
                          [
                            0.2222222222222222,
                            "#7201a8"
                          ],
                          [
                            0.3333333333333333,
                            "#9c179e"
                          ],
                          [
                            0.4444444444444444,
                            "#bd3786"
                          ],
                          [
                            0.5555555555555556,
                            "#d8576b"
                          ],
                          [
                            0.6666666666666666,
                            "#ed7953"
                          ],
                          [
                            0.7777777777777778,
                            "#fb9f3a"
                          ],
                          [
                            0.8888888888888888,
                            "#fdca26"
                          ],
                          [
                            1,
                            "#f0f921"
                          ]
                        ],
                        "type": "contour"
                      }
                    ],
                    "contourcarpet": [
                      {
                        "colorbar": {
                          "outlinewidth": 0,
                          "ticks": ""
                        },
                        "type": "contourcarpet"
                      }
                    ],
                    "heatmap": [
                      {
                        "colorbar": {
                          "outlinewidth": 0,
                          "ticks": ""
                        },
                        "colorscale": [
                          [
                            0,
                            "#0d0887"
                          ],
                          [
                            0.1111111111111111,
                            "#46039f"
                          ],
                          [
                            0.2222222222222222,
                            "#7201a8"
                          ],
                          [
                            0.3333333333333333,
                            "#9c179e"
                          ],
                          [
                            0.4444444444444444,
                            "#bd3786"
                          ],
                          [
                            0.5555555555555556,
                            "#d8576b"
                          ],
                          [
                            0.6666666666666666,
                            "#ed7953"
                          ],
                          [
                            0.7777777777777778,
                            "#fb9f3a"
                          ],
                          [
                            0.8888888888888888,
                            "#fdca26"
                          ],
                          [
                            1,
                            "#f0f921"
                          ]
                        ],
                        "type": "heatmap"
                      }
                    ],
                    "heatmapgl": [
                      {
                        "colorbar": {
                          "outlinewidth": 0,
                          "ticks": ""
                        },
                        "colorscale": [
                          [
                            0,
                            "#0d0887"
                          ],
                          [
                            0.1111111111111111,
                            "#46039f"
                          ],
                          [
                            0.2222222222222222,
                            "#7201a8"
                          ],
                          [
                            0.3333333333333333,
                            "#9c179e"
                          ],
                          [
                            0.4444444444444444,
                            "#bd3786"
                          ],
                          [
                            0.5555555555555556,
                            "#d8576b"
                          ],
                          [
                            0.6666666666666666,
                            "#ed7953"
                          ],
                          [
                            0.7777777777777778,
                            "#fb9f3a"
                          ],
                          [
                            0.8888888888888888,
                            "#fdca26"
                          ],
                          [
                            1,
                            "#f0f921"
                          ]
                        ],
                        "type": "heatmapgl"
                      }
                    ],
                    "histogram": [
                      {
                        "marker": {
                          "pattern": {
                            "fillmode": "overlay",
                            "size": 10,
                            "solidity": 0.2
                          }
                        },
                        "type": "histogram"
                      }
                    ],
                    "histogram2d": [
                      {
                        "colorbar": {
                          "outlinewidth": 0,
                          "ticks": ""
                        },
                        "colorscale": [
                          [
                            0,
                            "#0d0887"
                          ],
                          [
                            0.1111111111111111,
                            "#46039f"
                          ],
                          [
                            0.2222222222222222,
                            "#7201a8"
                          ],
                          [
                            0.3333333333333333,
                            "#9c179e"
                          ],
                          [
                            0.4444444444444444,
                            "#bd3786"
                          ],
                          [
                            0.5555555555555556,
                            "#d8576b"
                          ],
                          [
                            0.6666666666666666,
                            "#ed7953"
                          ],
                          [
                            0.7777777777777778,
                            "#fb9f3a"
                          ],
                          [
                            0.8888888888888888,
                            "#fdca26"
                          ],
                          [
                            1,
                            "#f0f921"
                          ]
                        ],
                        "type": "histogram2d"
                      }
                    ],
                    "histogram2dcontour": [
                      {
                        "colorbar": {
                          "outlinewidth": 0,
                          "ticks": ""
                        },
                        "colorscale": [
                          [
                            0,
                            "#0d0887"
                          ],
                          [
                            0.1111111111111111,
                            "#46039f"
                          ],
                          [
                            0.2222222222222222,
                            "#7201a8"
                          ],
                          [
                            0.3333333333333333,
                            "#9c179e"
                          ],
                          [
                            0.4444444444444444,
                            "#bd3786"
                          ],
                          [
                            0.5555555555555556,
                            "#d8576b"
                          ],
                          [
                            0.6666666666666666,
                            "#ed7953"
                          ],
                          [
                            0.7777777777777778,
                            "#fb9f3a"
                          ],
                          [
                            0.8888888888888888,
                            "#fdca26"
                          ],
                          [
                            1,
                            "#f0f921"
                          ]
                        ],
                        "type": "histogram2dcontour"
                      }
                    ],
                    "mesh3d": [
                      {
                        "colorbar": {
                          "outlinewidth": 0,
                          "ticks": ""
                        },
                        "type": "mesh3d"
                      }
                    ],
                    "parcoords": [
                      {
                        "line": {
                          "colorbar": {
                            "outlinewidth": 0,
                            "ticks": ""
                          }
                        },
                        "type": "parcoords"
                      }
                    ],
                    "pie": [
                      {
                        "automargin": true,
                        "type": "pie"
                      }
                    ],
                    "scatter": [
                      {
                        "fillpattern": {
                          "fillmode": "overlay",
                          "size": 10,
                          "solidity": 0.2
                        },
                        "type": "scatter"
                      }
                    ],
                    "scatter3d": [
                      {
                        "line": {
                          "colorbar": {
                            "outlinewidth": 0,
                            "ticks": ""
                          }
                        },
                        "marker": {
                          "colorbar": {
                            "outlinewidth": 0,
                            "ticks": ""
                          }
                        },
                        "type": "scatter3d"
                      }
                    ],
                    "scattercarpet": [
                      {
                        "marker": {
                          "colorbar": {
                            "outlinewidth": 0,
                            "ticks": ""
                          }
                        },
                        "type": "scattercarpet"
                      }
                    ],
                    "scattergeo": [
                      {
                        "marker": {
                          "colorbar": {
                            "outlinewidth": 0,
                            "ticks": ""
                          }
                        },
                        "type": "scattergeo"
                      }
                    ],
                    "scattergl": [
                      {
                        "marker": {
                          "colorbar": {
                            "outlinewidth": 0,
                            "ticks": ""
                          }
                        },
                        "type": "scattergl"
                      }
                    ],
                    "scattermapbox": [
                      {
                        "marker": {
                          "colorbar": {
                            "outlinewidth": 0,
                            "ticks": ""
                          }
                        },
                        "type": "scattermapbox"
                      }
                    ],
                    "scatterpolar": [
                      {
                        "marker": {
                          "colorbar": {
                            "outlinewidth": 0,
                            "ticks": ""
                          }
                        },
                        "type": "scatterpolar"
                      }
                    ],
                    "scatterpolargl": [
                      {
                        "marker": {
                          "colorbar": {
                            "outlinewidth": 0,
                            "ticks": ""
                          }
                        },
                        "type": "scatterpolargl"
                      }
                    ],
                    "scatterternary": [
                      {
                        "marker": {
                          "colorbar": {
                            "outlinewidth": 0,
                            "ticks": ""
                          }
                        },
                        "type": "scatterternary"
                      }
                    ],
                    "surface": [
                      {
                        "colorbar": {
                          "outlinewidth": 0,
                          "ticks": ""
                        },
                        "colorscale": [
                          [
                            0,
                            "#0d0887"
                          ],
                          [
                            0.1111111111111111,
                            "#46039f"
                          ],
                          [
                            0.2222222222222222,
                            "#7201a8"
                          ],
                          [
                            0.3333333333333333,
                            "#9c179e"
                          ],
                          [
                            0.4444444444444444,
                            "#bd3786"
                          ],
                          [
                            0.5555555555555556,
                            "#d8576b"
                          ],
                          [
                            0.6666666666666666,
                            "#ed7953"
                          ],
                          [
                            0.7777777777777778,
                            "#fb9f3a"
                          ],
                          [
                            0.8888888888888888,
                            "#fdca26"
                          ],
                          [
                            1,
                            "#f0f921"
                          ]
                        ],
                        "type": "surface"
                      }
                    ],
                    "table": [
                      {
                        "cells": {
                          "fill": {
                            "color": "#EBF0F8"
                          },
                          "line": {
                            "color": "white"
                          }
                        },
                        "header": {
                          "fill": {
                            "color": "#C8D4E3"
                          },
                          "line": {
                            "color": "white"
                          }
                        },
                        "type": "table"
                      }
                    ]
                  },
                  "layout": {
                    "annotationdefaults": {
                      "arrowcolor": "#2a3f5f",
                      "arrowhead": 0,
                      "arrowwidth": 1
                    },
                    "autotypenumbers": "strict",
                    "coloraxis": {
                      "colorbar": {
                        "outlinewidth": 0,
                        "ticks": ""
                      }
                    },
                    "colorscale": {
                      "diverging": [
                        [
                          0,
                          "#8e0152"
                        ],
                        [
                          0.1,
                          "#c51b7d"
                        ],
                        [
                          0.2,
                          "#de77ae"
                        ],
                        [
                          0.3,
                          "#f1b6da"
                        ],
                        [
                          0.4,
                          "#fde0ef"
                        ],
                        [
                          0.5,
                          "#f7f7f7"
                        ],
                        [
                          0.6,
                          "#e6f5d0"
                        ],
                        [
                          0.7,
                          "#b8e186"
                        ],
                        [
                          0.8,
                          "#7fbc41"
                        ],
                        [
                          0.9,
                          "#4d9221"
                        ],
                        [
                          1,
                          "#276419"
                        ]
                      ],
                      "sequential": [
                        [
                          0,
                          "#0d0887"
                        ],
                        [
                          0.1111111111111111,
                          "#46039f"
                        ],
                        [
                          0.2222222222222222,
                          "#7201a8"
                        ],
                        [
                          0.3333333333333333,
                          "#9c179e"
                        ],
                        [
                          0.4444444444444444,
                          "#bd3786"
                        ],
                        [
                          0.5555555555555556,
                          "#d8576b"
                        ],
                        [
                          0.6666666666666666,
                          "#ed7953"
                        ],
                        [
                          0.7777777777777778,
                          "#fb9f3a"
                        ],
                        [
                          0.8888888888888888,
                          "#fdca26"
                        ],
                        [
                          1,
                          "#f0f921"
                        ]
                      ],
                      "sequentialminus": [
                        [
                          0,
                          "#0d0887"
                        ],
                        [
                          0.1111111111111111,
                          "#46039f"
                        ],
                        [
                          0.2222222222222222,
                          "#7201a8"
                        ],
                        [
                          0.3333333333333333,
                          "#9c179e"
                        ],
                        [
                          0.4444444444444444,
                          "#bd3786"
                        ],
                        [
                          0.5555555555555556,
                          "#d8576b"
                        ],
                        [
                          0.6666666666666666,
                          "#ed7953"
                        ],
                        [
                          0.7777777777777778,
                          "#fb9f3a"
                        ],
                        [
                          0.8888888888888888,
                          "#fdca26"
                        ],
                        [
                          1,
                          "#f0f921"
                        ]
                      ]
                    },
                    "colorway": [
                      "#636efa",
                      "#EF553B",
                      "#00cc96",
                      "#ab63fa",
                      "#FFA15A",
                      "#19d3f3",
                      "#FF6692",
                      "#B6E880",
                      "#FF97FF",
                      "#FECB52"
                    ],
                    "font": {
                      "color": "#2a3f5f"
                    },
                    "geo": {
                      "bgcolor": "white",
                      "lakecolor": "white",
                      "landcolor": "#E5ECF6",
                      "showlakes": true,
                      "showland": true,
                      "subunitcolor": "white"
                    },
                    "hoverlabel": {
                      "align": "left"
                    },
                    "hovermode": "closest",
                    "mapbox": {
                      "style": "light"
                    },
                    "paper_bgcolor": "white",
                    "plot_bgcolor": "#E5ECF6",
                    "polar": {
                      "angularaxis": {
                        "gridcolor": "white",
                        "linecolor": "white",
                        "ticks": ""
                      },
                      "bgcolor": "#E5ECF6",
                      "radialaxis": {
                        "gridcolor": "white",
                        "linecolor": "white",
                        "ticks": ""
                      }
                    },
                    "scene": {
                      "xaxis": {
                        "backgroundcolor": "#E5ECF6",
                        "gridcolor": "white",
                        "gridwidth": 2,
                        "linecolor": "white",
                        "showbackground": true,
                        "ticks": "",
                        "zerolinecolor": "white"
                      },
                      "yaxis": {
                        "backgroundcolor": "#E5ECF6",
                        "gridcolor": "white",
                        "gridwidth": 2,
                        "linecolor": "white",
                        "showbackground": true,
                        "ticks": "",
                        "zerolinecolor": "white"
                      },
                      "zaxis": {
                        "backgroundcolor": "#E5ECF6",
                        "gridcolor": "white",
                        "gridwidth": 2,
                        "linecolor": "white",
                        "showbackground": true,
                        "ticks": "",
                        "zerolinecolor": "white"
                      }
                    },
                    "shapedefaults": {
                      "line": {
                        "color": "#2a3f5f"
                      }
                    },
                    "ternary": {
                      "aaxis": {
                        "gridcolor": "white",
                        "linecolor": "white",
                        "ticks": ""
                      },
                      "baxis": {
                        "gridcolor": "white",
                        "linecolor": "white",
                        "ticks": ""
                      },
                      "bgcolor": "#E5ECF6",
                      "caxis": {
                        "gridcolor": "white",
                        "linecolor": "white",
                        "ticks": ""
                      }
                    },
                    "title": {
                      "x": 0.05
                    },
                    "xaxis": {
                      "automargin": true,
                      "gridcolor": "white",
                      "linecolor": "white",
                      "ticks": "",
                      "title": {
                        "standoff": 15
                      },
                      "zerolinecolor": "white",
                      "zerolinewidth": 2
                    },
                    "yaxis": {
                      "automargin": true,
                      "gridcolor": "white",
                      "linecolor": "white",
                      "ticks": "",
                      "title": {
                        "standoff": 15
                      },
                      "zerolinecolor": "white",
                      "zerolinewidth": 2
                    }
                  }
                },
                "title": {
                  "text": "Simple Line Plot"
                },
                "xaxis": {
                  "title": {
                    "text": "X-axis"
                  }
                },
                "yaxis": {
                  "title": {
                    "text": "Y-axis"
                  }
                }
              }
            }
          },
          "metadata": {},
          "output_type": "display_data"
        }
      ],
      "source": [
        "import plotly.graph_objects as go\n",
        "import numpy as np\n",
        "\n",
        "x = np.arange(0, 10, 0.1)\n",
        "y = np.random.rand(len(x))\n",
        "\n",
        "fig = go.Figure(data=go.Scatter(x=x, y=y))\n",
        "\n",
        "fig.update_layout(\n",
        "    title=\"Simple Line Plot\",\n",
        "    xaxis_title=\"X-axis\",\n",
        "    yaxis_title=\"Y-axis\"\n",
        ")\n",
        "fig.show()\n"
      ]
    },
    {
      "cell_type": "markdown",
      "metadata": {
        "id": "SXqXtth40Xf5"
      },
      "source": [
        "Ques 21. Using Plotly, create an interactive pie chart Of randomly generated data, add labels and percentages, set\n",
        "the title as 'Interactive Pie Chart'."
      ]
    },
    {
      "cell_type": "code",
      "execution_count": 24,
      "metadata": {},
      "outputs": [
        {
          "data": {
            "application/vnd.plotly.v1+json": {
              "config": {
                "plotlyServerURL": "https://plot.ly"
              },
              "data": [
                {
                  "labels": [
                    "A",
                    "B",
                    "C",
                    "D"
                  ],
                  "textinfo": "label+percent",
                  "type": "pie",
                  "values": [
                    51,
                    8,
                    76,
                    50
                  ]
                }
              ],
              "layout": {
                "template": {
                  "data": {
                    "bar": [
                      {
                        "error_x": {
                          "color": "#2a3f5f"
                        },
                        "error_y": {
                          "color": "#2a3f5f"
                        },
                        "marker": {
                          "line": {
                            "color": "#E5ECF6",
                            "width": 0.5
                          },
                          "pattern": {
                            "fillmode": "overlay",
                            "size": 10,
                            "solidity": 0.2
                          }
                        },
                        "type": "bar"
                      }
                    ],
                    "barpolar": [
                      {
                        "marker": {
                          "line": {
                            "color": "#E5ECF6",
                            "width": 0.5
                          },
                          "pattern": {
                            "fillmode": "overlay",
                            "size": 10,
                            "solidity": 0.2
                          }
                        },
                        "type": "barpolar"
                      }
                    ],
                    "carpet": [
                      {
                        "aaxis": {
                          "endlinecolor": "#2a3f5f",
                          "gridcolor": "white",
                          "linecolor": "white",
                          "minorgridcolor": "white",
                          "startlinecolor": "#2a3f5f"
                        },
                        "baxis": {
                          "endlinecolor": "#2a3f5f",
                          "gridcolor": "white",
                          "linecolor": "white",
                          "minorgridcolor": "white",
                          "startlinecolor": "#2a3f5f"
                        },
                        "type": "carpet"
                      }
                    ],
                    "choropleth": [
                      {
                        "colorbar": {
                          "outlinewidth": 0,
                          "ticks": ""
                        },
                        "type": "choropleth"
                      }
                    ],
                    "contour": [
                      {
                        "colorbar": {
                          "outlinewidth": 0,
                          "ticks": ""
                        },
                        "colorscale": [
                          [
                            0,
                            "#0d0887"
                          ],
                          [
                            0.1111111111111111,
                            "#46039f"
                          ],
                          [
                            0.2222222222222222,
                            "#7201a8"
                          ],
                          [
                            0.3333333333333333,
                            "#9c179e"
                          ],
                          [
                            0.4444444444444444,
                            "#bd3786"
                          ],
                          [
                            0.5555555555555556,
                            "#d8576b"
                          ],
                          [
                            0.6666666666666666,
                            "#ed7953"
                          ],
                          [
                            0.7777777777777778,
                            "#fb9f3a"
                          ],
                          [
                            0.8888888888888888,
                            "#fdca26"
                          ],
                          [
                            1,
                            "#f0f921"
                          ]
                        ],
                        "type": "contour"
                      }
                    ],
                    "contourcarpet": [
                      {
                        "colorbar": {
                          "outlinewidth": 0,
                          "ticks": ""
                        },
                        "type": "contourcarpet"
                      }
                    ],
                    "heatmap": [
                      {
                        "colorbar": {
                          "outlinewidth": 0,
                          "ticks": ""
                        },
                        "colorscale": [
                          [
                            0,
                            "#0d0887"
                          ],
                          [
                            0.1111111111111111,
                            "#46039f"
                          ],
                          [
                            0.2222222222222222,
                            "#7201a8"
                          ],
                          [
                            0.3333333333333333,
                            "#9c179e"
                          ],
                          [
                            0.4444444444444444,
                            "#bd3786"
                          ],
                          [
                            0.5555555555555556,
                            "#d8576b"
                          ],
                          [
                            0.6666666666666666,
                            "#ed7953"
                          ],
                          [
                            0.7777777777777778,
                            "#fb9f3a"
                          ],
                          [
                            0.8888888888888888,
                            "#fdca26"
                          ],
                          [
                            1,
                            "#f0f921"
                          ]
                        ],
                        "type": "heatmap"
                      }
                    ],
                    "heatmapgl": [
                      {
                        "colorbar": {
                          "outlinewidth": 0,
                          "ticks": ""
                        },
                        "colorscale": [
                          [
                            0,
                            "#0d0887"
                          ],
                          [
                            0.1111111111111111,
                            "#46039f"
                          ],
                          [
                            0.2222222222222222,
                            "#7201a8"
                          ],
                          [
                            0.3333333333333333,
                            "#9c179e"
                          ],
                          [
                            0.4444444444444444,
                            "#bd3786"
                          ],
                          [
                            0.5555555555555556,
                            "#d8576b"
                          ],
                          [
                            0.6666666666666666,
                            "#ed7953"
                          ],
                          [
                            0.7777777777777778,
                            "#fb9f3a"
                          ],
                          [
                            0.8888888888888888,
                            "#fdca26"
                          ],
                          [
                            1,
                            "#f0f921"
                          ]
                        ],
                        "type": "heatmapgl"
                      }
                    ],
                    "histogram": [
                      {
                        "marker": {
                          "pattern": {
                            "fillmode": "overlay",
                            "size": 10,
                            "solidity": 0.2
                          }
                        },
                        "type": "histogram"
                      }
                    ],
                    "histogram2d": [
                      {
                        "colorbar": {
                          "outlinewidth": 0,
                          "ticks": ""
                        },
                        "colorscale": [
                          [
                            0,
                            "#0d0887"
                          ],
                          [
                            0.1111111111111111,
                            "#46039f"
                          ],
                          [
                            0.2222222222222222,
                            "#7201a8"
                          ],
                          [
                            0.3333333333333333,
                            "#9c179e"
                          ],
                          [
                            0.4444444444444444,
                            "#bd3786"
                          ],
                          [
                            0.5555555555555556,
                            "#d8576b"
                          ],
                          [
                            0.6666666666666666,
                            "#ed7953"
                          ],
                          [
                            0.7777777777777778,
                            "#fb9f3a"
                          ],
                          [
                            0.8888888888888888,
                            "#fdca26"
                          ],
                          [
                            1,
                            "#f0f921"
                          ]
                        ],
                        "type": "histogram2d"
                      }
                    ],
                    "histogram2dcontour": [
                      {
                        "colorbar": {
                          "outlinewidth": 0,
                          "ticks": ""
                        },
                        "colorscale": [
                          [
                            0,
                            "#0d0887"
                          ],
                          [
                            0.1111111111111111,
                            "#46039f"
                          ],
                          [
                            0.2222222222222222,
                            "#7201a8"
                          ],
                          [
                            0.3333333333333333,
                            "#9c179e"
                          ],
                          [
                            0.4444444444444444,
                            "#bd3786"
                          ],
                          [
                            0.5555555555555556,
                            "#d8576b"
                          ],
                          [
                            0.6666666666666666,
                            "#ed7953"
                          ],
                          [
                            0.7777777777777778,
                            "#fb9f3a"
                          ],
                          [
                            0.8888888888888888,
                            "#fdca26"
                          ],
                          [
                            1,
                            "#f0f921"
                          ]
                        ],
                        "type": "histogram2dcontour"
                      }
                    ],
                    "mesh3d": [
                      {
                        "colorbar": {
                          "outlinewidth": 0,
                          "ticks": ""
                        },
                        "type": "mesh3d"
                      }
                    ],
                    "parcoords": [
                      {
                        "line": {
                          "colorbar": {
                            "outlinewidth": 0,
                            "ticks": ""
                          }
                        },
                        "type": "parcoords"
                      }
                    ],
                    "pie": [
                      {
                        "automargin": true,
                        "type": "pie"
                      }
                    ],
                    "scatter": [
                      {
                        "fillpattern": {
                          "fillmode": "overlay",
                          "size": 10,
                          "solidity": 0.2
                        },
                        "type": "scatter"
                      }
                    ],
                    "scatter3d": [
                      {
                        "line": {
                          "colorbar": {
                            "outlinewidth": 0,
                            "ticks": ""
                          }
                        },
                        "marker": {
                          "colorbar": {
                            "outlinewidth": 0,
                            "ticks": ""
                          }
                        },
                        "type": "scatter3d"
                      }
                    ],
                    "scattercarpet": [
                      {
                        "marker": {
                          "colorbar": {
                            "outlinewidth": 0,
                            "ticks": ""
                          }
                        },
                        "type": "scattercarpet"
                      }
                    ],
                    "scattergeo": [
                      {
                        "marker": {
                          "colorbar": {
                            "outlinewidth": 0,
                            "ticks": ""
                          }
                        },
                        "type": "scattergeo"
                      }
                    ],
                    "scattergl": [
                      {
                        "marker": {
                          "colorbar": {
                            "outlinewidth": 0,
                            "ticks": ""
                          }
                        },
                        "type": "scattergl"
                      }
                    ],
                    "scattermapbox": [
                      {
                        "marker": {
                          "colorbar": {
                            "outlinewidth": 0,
                            "ticks": ""
                          }
                        },
                        "type": "scattermapbox"
                      }
                    ],
                    "scatterpolar": [
                      {
                        "marker": {
                          "colorbar": {
                            "outlinewidth": 0,
                            "ticks": ""
                          }
                        },
                        "type": "scatterpolar"
                      }
                    ],
                    "scatterpolargl": [
                      {
                        "marker": {
                          "colorbar": {
                            "outlinewidth": 0,
                            "ticks": ""
                          }
                        },
                        "type": "scatterpolargl"
                      }
                    ],
                    "scatterternary": [
                      {
                        "marker": {
                          "colorbar": {
                            "outlinewidth": 0,
                            "ticks": ""
                          }
                        },
                        "type": "scatterternary"
                      }
                    ],
                    "surface": [
                      {
                        "colorbar": {
                          "outlinewidth": 0,
                          "ticks": ""
                        },
                        "colorscale": [
                          [
                            0,
                            "#0d0887"
                          ],
                          [
                            0.1111111111111111,
                            "#46039f"
                          ],
                          [
                            0.2222222222222222,
                            "#7201a8"
                          ],
                          [
                            0.3333333333333333,
                            "#9c179e"
                          ],
                          [
                            0.4444444444444444,
                            "#bd3786"
                          ],
                          [
                            0.5555555555555556,
                            "#d8576b"
                          ],
                          [
                            0.6666666666666666,
                            "#ed7953"
                          ],
                          [
                            0.7777777777777778,
                            "#fb9f3a"
                          ],
                          [
                            0.8888888888888888,
                            "#fdca26"
                          ],
                          [
                            1,
                            "#f0f921"
                          ]
                        ],
                        "type": "surface"
                      }
                    ],
                    "table": [
                      {
                        "cells": {
                          "fill": {
                            "color": "#EBF0F8"
                          },
                          "line": {
                            "color": "white"
                          }
                        },
                        "header": {
                          "fill": {
                            "color": "#C8D4E3"
                          },
                          "line": {
                            "color": "white"
                          }
                        },
                        "type": "table"
                      }
                    ]
                  },
                  "layout": {
                    "annotationdefaults": {
                      "arrowcolor": "#2a3f5f",
                      "arrowhead": 0,
                      "arrowwidth": 1
                    },
                    "autotypenumbers": "strict",
                    "coloraxis": {
                      "colorbar": {
                        "outlinewidth": 0,
                        "ticks": ""
                      }
                    },
                    "colorscale": {
                      "diverging": [
                        [
                          0,
                          "#8e0152"
                        ],
                        [
                          0.1,
                          "#c51b7d"
                        ],
                        [
                          0.2,
                          "#de77ae"
                        ],
                        [
                          0.3,
                          "#f1b6da"
                        ],
                        [
                          0.4,
                          "#fde0ef"
                        ],
                        [
                          0.5,
                          "#f7f7f7"
                        ],
                        [
                          0.6,
                          "#e6f5d0"
                        ],
                        [
                          0.7,
                          "#b8e186"
                        ],
                        [
                          0.8,
                          "#7fbc41"
                        ],
                        [
                          0.9,
                          "#4d9221"
                        ],
                        [
                          1,
                          "#276419"
                        ]
                      ],
                      "sequential": [
                        [
                          0,
                          "#0d0887"
                        ],
                        [
                          0.1111111111111111,
                          "#46039f"
                        ],
                        [
                          0.2222222222222222,
                          "#7201a8"
                        ],
                        [
                          0.3333333333333333,
                          "#9c179e"
                        ],
                        [
                          0.4444444444444444,
                          "#bd3786"
                        ],
                        [
                          0.5555555555555556,
                          "#d8576b"
                        ],
                        [
                          0.6666666666666666,
                          "#ed7953"
                        ],
                        [
                          0.7777777777777778,
                          "#fb9f3a"
                        ],
                        [
                          0.8888888888888888,
                          "#fdca26"
                        ],
                        [
                          1,
                          "#f0f921"
                        ]
                      ],
                      "sequentialminus": [
                        [
                          0,
                          "#0d0887"
                        ],
                        [
                          0.1111111111111111,
                          "#46039f"
                        ],
                        [
                          0.2222222222222222,
                          "#7201a8"
                        ],
                        [
                          0.3333333333333333,
                          "#9c179e"
                        ],
                        [
                          0.4444444444444444,
                          "#bd3786"
                        ],
                        [
                          0.5555555555555556,
                          "#d8576b"
                        ],
                        [
                          0.6666666666666666,
                          "#ed7953"
                        ],
                        [
                          0.7777777777777778,
                          "#fb9f3a"
                        ],
                        [
                          0.8888888888888888,
                          "#fdca26"
                        ],
                        [
                          1,
                          "#f0f921"
                        ]
                      ]
                    },
                    "colorway": [
                      "#636efa",
                      "#EF553B",
                      "#00cc96",
                      "#ab63fa",
                      "#FFA15A",
                      "#19d3f3",
                      "#FF6692",
                      "#B6E880",
                      "#FF97FF",
                      "#FECB52"
                    ],
                    "font": {
                      "color": "#2a3f5f"
                    },
                    "geo": {
                      "bgcolor": "white",
                      "lakecolor": "white",
                      "landcolor": "#E5ECF6",
                      "showlakes": true,
                      "showland": true,
                      "subunitcolor": "white"
                    },
                    "hoverlabel": {
                      "align": "left"
                    },
                    "hovermode": "closest",
                    "mapbox": {
                      "style": "light"
                    },
                    "paper_bgcolor": "white",
                    "plot_bgcolor": "#E5ECF6",
                    "polar": {
                      "angularaxis": {
                        "gridcolor": "white",
                        "linecolor": "white",
                        "ticks": ""
                      },
                      "bgcolor": "#E5ECF6",
                      "radialaxis": {
                        "gridcolor": "white",
                        "linecolor": "white",
                        "ticks": ""
                      }
                    },
                    "scene": {
                      "xaxis": {
                        "backgroundcolor": "#E5ECF6",
                        "gridcolor": "white",
                        "gridwidth": 2,
                        "linecolor": "white",
                        "showbackground": true,
                        "ticks": "",
                        "zerolinecolor": "white"
                      },
                      "yaxis": {
                        "backgroundcolor": "#E5ECF6",
                        "gridcolor": "white",
                        "gridwidth": 2,
                        "linecolor": "white",
                        "showbackground": true,
                        "ticks": "",
                        "zerolinecolor": "white"
                      },
                      "zaxis": {
                        "backgroundcolor": "#E5ECF6",
                        "gridcolor": "white",
                        "gridwidth": 2,
                        "linecolor": "white",
                        "showbackground": true,
                        "ticks": "",
                        "zerolinecolor": "white"
                      }
                    },
                    "shapedefaults": {
                      "line": {
                        "color": "#2a3f5f"
                      }
                    },
                    "ternary": {
                      "aaxis": {
                        "gridcolor": "white",
                        "linecolor": "white",
                        "ticks": ""
                      },
                      "baxis": {
                        "gridcolor": "white",
                        "linecolor": "white",
                        "ticks": ""
                      },
                      "bgcolor": "#E5ECF6",
                      "caxis": {
                        "gridcolor": "white",
                        "linecolor": "white",
                        "ticks": ""
                      }
                    },
                    "title": {
                      "x": 0.05
                    },
                    "xaxis": {
                      "automargin": true,
                      "gridcolor": "white",
                      "linecolor": "white",
                      "ticks": "",
                      "title": {
                        "standoff": 15
                      },
                      "zerolinecolor": "white",
                      "zerolinewidth": 2
                    },
                    "yaxis": {
                      "automargin": true,
                      "gridcolor": "white",
                      "linecolor": "white",
                      "ticks": "",
                      "title": {
                        "standoff": 15
                      },
                      "zerolinecolor": "white",
                      "zerolinewidth": 2
                    }
                  }
                },
                "title": {
                  "text": "Interactive Pie Chart"
                }
              }
            }
          },
          "metadata": {},
          "output_type": "display_data"
        }
      ],
      "source": [
        "import plotly.graph_objects as go\n",
        "import numpy as np\n",
        "\n",
        "labels = ['A', 'B', 'C', 'D']\n",
        "values = np.random.randint(1, 100, size=4)\n",
        "fig = go.Figure(data=[go.Pie(labels=labels, values=values, textinfo='label+percent')])\n",
        "fig.update_layout(title='Interactive Pie Chart')\n",
        "fig.show()"
      ]
    }
  ],
  "metadata": {
    "colab": {
      "provenance": []
    },
    "kernelspec": {
      "display_name": "Python 3",
      "name": "python3"
    },
    "language_info": {
      "codemirror_mode": {
        "name": "ipython",
        "version": 3
      },
      "file_extension": ".py",
      "mimetype": "text/x-python",
      "name": "python",
      "nbconvert_exporter": "python",
      "pygments_lexer": "ipython3",
      "version": "3.12.0"
    }
  },
  "nbformat": 4,
  "nbformat_minor": 0
}
