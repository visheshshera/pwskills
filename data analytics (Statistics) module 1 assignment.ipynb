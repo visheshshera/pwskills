{
 "cells": [
  {
   "cell_type": "markdown",
   "metadata": {},
   "source": [
    "**Ques 1. Explain the different types of data (qualitative and quantitative) and provide examples of each. Discuss\n",
    "nominal, ordinal, interval, and ratio scales.**"
   ]
  },
  {
   "cell_type": "markdown",
   "metadata": {},
   "source": [
    "Ans 1)\n",
    "Qualitative-All the categorical data comes under qualitative data type it is further categorized into nominal and ordinal.Example: number of cars ,no. of children, height weight\n",
    "\n",
    "Quantitative-All the numerical data comes under quantitative data type it is further categorized into discrete and continuous.Example: rank,grade,blood group\n",
    "\n",
    "1. Nominal Scale: The nominal scale is the simplest level of measurement, used for categorical data. It classifies data into distinct categories without any order or ranking.\n",
    "2. Ordinal Scale: The ordinal scale organizes data into categories that can be ranked in a meaningful order, but the intervals between ranks are not uniform or known.\n",
    "3. Interval Scale: The interval scale not only provides ordered categories but also has equal intervals between values, allowing for meaningful addition and subtraction. However, it lacks an absolute zero, so ratios are not meaningful.\n",
    "4. Ratio Scale: The ratio scale possesses all the properties of the interval scale, plus an absolute zero point, which allows for meaningful ratios and comparisons between values."
   ]
  },
  {
   "cell_type": "markdown",
   "metadata": {},
   "source": [
    "***\n",
    "**Ques 2. What are the measures of central tendency, and when should you use each? Discuss the mean, median,\n",
    "and mode with examples and situations where each is appropriate.**"
   ]
  },
  {
   "cell_type": "markdown",
   "metadata": {},
   "source": [
    "Ans 2)\n",
    "Measures of central tendency describe the \"center\" or typical value in a dataset. The three main measures of central tendency are the mean, median, and mode.\n",
    "1. Mean (Average):The mean is calculated by adding up all the values in a dataset and dividing by the number of values.\n",
    "\n",
    "Example:(15,18,19,21,21,22,24,25,30) here mean is 21.67\n",
    "​\n",
    "\n",
    "When to Use the Mean:\n",
    "\n",
    "•Symmetric Distributions: The mean is best suited for symmetric, unimodal distributions without extreme outliers, as it considers every value in the dataset.\n",
    "\n",
    "•Interval and Ratio Scales: Appropriate for data measured on interval or ratio scales, where equal intervals between values are meaningful.\n",
    "\n",
    "2. Median\n",
    "Definition: The median is the middle value in an ordered dataset. If there is an even number of values, the median is the average of the two middle values.\n",
    "\n",
    "Example:(15,18,19,21,21,22,24,25,30) here median is 21\n",
    "\n",
    "When to Use the Median:\n",
    "\n",
    "•Skewed Distributions: The median is ideal for skewed distributions or datasets with outliers because it is not affected by extreme values.\n",
    "\n",
    "•Ordinal, Interval, and Ratio Scales: Suitable for ordinal, interval, or ratio scales, as it provides a measure of central tendency based on the dataset's order.\n",
    "\n",
    "3. Mode\n",
    "Definition: The mode is the value(s) that appears most frequently in a dataset. There can be more than one mode if multiple values have the same highest frequency, leading to a bimodal or multimodal distribution.\n",
    "\n",
    "Example:(15,18,19,21,21,22,24,25,30) here mode is 21.67\n",
    "\n",
    "When to Use the Mode:\n",
    "\n",
    "•Nominal Data: The mode is the only measure of central tendency that can be used for nominal data (categories without order), as it identifies the most common category.\n",
    "\n",
    "•Categorical and Discrete Data: Suitable for data where frequency is of interest, such as most common category, age group, or score in a survey.\n",
    "\n",
    "•Multimodal Distributions: In distributions with multiple peaks, the mode(s) can help identify each peak."
   ]
  },
  {
   "cell_type": "markdown",
   "metadata": {},
   "source": [
    "***\n",
    "**Ques 3. Explain the concept of dispersion. How do variance and standard deviation measure the spread of data?**"
   ]
  },
  {
   "cell_type": "markdown",
   "metadata": {},
   "source": [
    "Ans 3)\n",
    "Dispersion refers to the extent to which data points in a dataset are spread out or scattered around a central value\n",
    "Variance measures the average squared deviation of each data point from the mean.A larger variance indicates that data points are more spread out from the mean, while a smaller variance indicates that data points are closer to the mean.\n",
    "\n",
    "Standard deviation is the square root of the variance, bringing the dispersion measure back to the original units of the data.Standard deviation provides a more intuitive measure of spread than variance because it is in the same units as the data. A higher standard deviation indicates greater variability or spread, while a lower standard deviation indicates less spread.\n"
   ]
  },
  {
   "cell_type": "markdown",
   "metadata": {},
   "source": [
    "***\n",
    "**Ques 4. What is a box plot, and what can it tell you about the distribution of data?**"
   ]
  },
  {
   "cell_type": "markdown",
   "metadata": {},
   "source": [
    "Ans 4)\n",
    "A box plot (or box-and-whisker plot) is a graphical representation of data that displays its central tendency, variability, and distribution shape. Box plots are particularly useful for identifying the spread of data, detecting skewness, and spotting outliers.\n",
    "\n",
    "1)Central Tendency: The median line inside the box shows the center of the data, providing an idea of where the data is concentrated.\n",
    "\n",
    "2)Spread (Variability): The length of the box (IQR) and the whiskers reveal the spread of the data. A longer box or extended whiskers indicate greater variability.\n",
    "\n",
    "3)Skewness:\n",
    "If the median line is closer to the top (or Q3) of the box, the data is left-skewed (longer tail on the left).\n",
    "If the median line is closer to the bottom (or Q1), the data is right-skewed (longer tail on the right).\n",
    "A median line centered in the box suggests a symmetric distribution.\n",
    "\n",
    "4)Outliers: Individual points outside the whiskers are potential outliers, indicating values that deviate significantly from the rest of the data.\n",
    "\n",
    "5)Range and Extremes: The length of the whiskers shows the approximate range of the data, excluding outliers, and can give insights into the data’s extremes."
   ]
  },
  {
   "cell_type": "markdown",
   "metadata": {},
   "source": [
    "***\n",
    "**Ques 5. Discuss the role of random sampling in making inferences about populations.**"
   ]
  },
  {
   "cell_type": "markdown",
   "metadata": {},
   "source": [
    "Ans 5)\n",
    "Performing random sampling for making inference about population is very benificial as ever member of has equal or fair chance for getting selected in sample data"
   ]
  },
  {
   "cell_type": "markdown",
   "metadata": {},
   "source": [
    "***\n",
    "**Ques 6. Explain the concept of skewness and its types. How does skewness affect the interpretation of data?**"
   ]
  },
  {
   "cell_type": "markdown",
   "metadata": {},
   "source": [
    "Ans 6)\n",
    "Skewness is a measure of the asymmetry of a data distribution.\n",
    "\n",
    "Types of skewness:\n",
    "\n",
    "Positive Skewness (Right Skew):\n",
    "\n",
    "•In a positively skewed distribution, the right tail (larger values) is longer or fatter than the left tail.\n",
    "•Most data points cluster toward the lower end of the range, and the mean is typically greater than the median.\n",
    "•Example: Income distribution in many populations, where a small number of people earn much higher incomes than the rest.\n",
    "\n",
    "Negative Skewness (Left Skew):\n",
    "\n",
    "•In a negatively skewed distribution, the left tail (smaller values) is longer or fatter than the right tail.\n",
    "•Most data points cluster toward the higher end of the range, and the mean is typically less than the median.\n",
    "•Example: Age of retirement, where most people retire at similar ages, but a few retire earlier than the majority.\n",
    "\n",
    "No Skewness (Symmetric Distribution):\n",
    "\n",
    "•In a symmetric distribution, the left and right tails are equally balanced, with no skew.\n",
    "•The mean, median, and mode are often the same or close to each other.\n",
    "•Example: Heights of people in a large population typically follow a normal distribution, which is symmetric."
   ]
  },
  {
   "cell_type": "markdown",
   "metadata": {},
   "source": [
    "***\n",
    "**Ques 7. What is the interquartile range (IQR), and how is it used to detect outliers?**"
   ]
  },
  {
   "cell_type": "markdown",
   "metadata": {},
   "source": [
    "Ans 7)\n",
    "The interquartile range (IQR) is a statistical measure of the spread of data that represents the range between the first quartile (Q1) and the third quartile (Q3) of a dataset. It is used to understand the middle 50% of the data and is especially useful for identifying outliers.\n",
    "\n",
    "\n",
    "1)Calculate the IQR: Find the first and third quartiles (Q1 and Q3), then subtract Q1 from Q3 to find the IQR.\n",
    "\n",
    "IQR=Q3−Q1\n",
    "\n",
    "2)Define the lower and upper bounds (fences) to detect outliers:\n",
    "\n",
    "Lower bound: \n",
    "Q1−1.5×IQR\n",
    "\n",
    "Upper bound: \n",
    "Q3+1.5×IQR\n",
    "\n",
    "3)Any data point outside of these bounds is considered an outlier."
   ]
  },
  {
   "cell_type": "markdown",
   "metadata": {},
   "source": [
    "***\n",
    "**Ques 8. Discuss the conditions under which the binomial distribution is used.**"
   ]
  },
  {
   "cell_type": "markdown",
   "metadata": {},
   "source": [
    "Ans 8)\n",
    "Conditions for Using the Binomial Distribution\n",
    "Fixed Number of Trials:\n",
    "\n",
    "The experiment is conducted a specific number of times, denoted as \n",
    "𝑛\n",
    "n. Each trial is independent of others, and the number of trials is determined in advance.\n",
    "\n",
    "Example: Flipping a coin 10 times.\n",
    "Binary Outcomes (Two Possible Outcomes):\n",
    "\n",
    "Each trial results in one of two possible outcomes, often labeled as \"success\" and \"failure\".\n",
    "These outcomes must be mutually exclusive and exhaustive, meaning that every trial results in either success or failure, with no other possibilities.\n",
    "\n",
    "Example: Success = \"Heads\" in a coin flip, failure = \"Tails\".\n",
    "Constant Probability of Success:\n",
    "\n",
    "The probability of success (denoted \n",
    "𝑝\n",
    ") remains constant for each trial. Similarly, the probability of failure is \n",
    "1\n",
    "−\n",
    "𝑝\n",
    ".\n",
    "\n",
    "Example: If the probability of getting heads in a fair coin flip is 0.5, then this probability must remain 0.5 for each flip.\n",
    "Independence of Trials:\n",
    "\n",
    "The outcome of one trial does not influence the outcome of another. Each trial is independent.\n",
    "\n",
    "Example: The outcome of one coin flip (whether it’s heads or tails) does not affect the next flip."
   ]
  },
  {
   "cell_type": "markdown",
   "metadata": {},
   "source": [
    "***\n",
    "**Ques 9. Explain the properties of the normal distribution and the empirical rule (68-95-99.7 rule).**"
   ]
  },
  {
   "cell_type": "markdown",
   "metadata": {},
   "source": [
    "Key Properties of the Normal Distribution:\n",
    "\n",
    "Bell-Shaped Curve\n",
    "Symmetry\n",
    "Mean, Median, and Mode Are Equal\n",
    "Defined by Two Parameters: Mean (μ) and Standard Deviation (σ)\n",
    "Asymptotic\n",
    "\n",
    "68-95-99.7 Rule (Empirical Rule):\n",
    "\n",
    "This rule gives a quick way to understand how data is distributed in a normal distribution. It provides the percentages of data that fall within one, two, and three standard deviations from the mean.\n",
    "Specifically, for a normal distribution:\n",
    "68% of data falls within one standard deviation (μ ± 1σ).\n",
    "95% of data falls within two standard deviations (μ ± 2σ).\n",
    "99.7% of data falls within three standard deviations (μ ± 3σ)."
   ]
  },
  {
   "cell_type": "markdown",
   "metadata": {},
   "source": [
    "***\n",
    "**Ques 10. Provide a real-life example of a Poisson process and calculate the probability for a specific event.**"
   ]
  },
  {
   "cell_type": "markdown",
   "metadata": {},
   "source": [
    "A hospital emergency room receives an average of 5 patients per hour. We want to calculate the probability that exactly 7 patients arrive within the next hour.\n",
    "\n",
    "Poisson Process Assumptions:\n",
    "\n",
    "1. The number of patients arriving follows a Poisson distribution.\n",
    "2. The average arrival rate is constant (5 patients/hour).\n",
    "3. Arrivals are independent of each other.\n",
    "4. Arrivals occur randomly and uniformly within the hour.\n",
    "\n",
    "Poisson Distribution Formula:\n",
    "\n",
    "P(X = k) = (e^(-λ) * (λ^k)) / k!\n",
    "\n",
    "P(X = 7) = (e^(-5) * (5^7)) / 7!\n",
    "= (0.0067 * 78125) / 5040\n",
    "≈ 0.104\n",
    "\n",
    "Interpretation:\n",
    "\n",
    "There is approximately a 10.4% probability that exactly 7 patients will arrive at the hospital emergency room within the next hour.\n",
    "\n",
    "therefore:\n",
    "\n",
    "- Probability of 5 or fewer patients arriving: P(X ≤ 5) ≈ 0.415\n",
    "- Probability of 10 or more patients arriving: P(X ≥ 10) ≈ 0.029\n"
   ]
  },
  {
   "cell_type": "markdown",
   "metadata": {},
   "source": [
    "***\n",
    "**Ques 11. Explain what a random variable is and differentiate between discrete and continuous random variables.**"
   ]
  },
  {
   "cell_type": "markdown",
   "metadata": {},
   "source": [
    "A random variable is a variable whose value is determined by the outcome of a random process or experiment.\n",
    "\n",
    "Discrete Random Variable:\n",
    "A discrete random variable can take on a finite or countably infinite number of distinct values. The outcomes are specific and separate (distinct), often representing counts or categories.\n",
    "\n",
    "Continuous Random Variable:\n",
    "A continuous random variable can take on any value within a given range or interval. The outcomes are not distinct but can take any value, often representing measurements."
   ]
  },
  {
   "cell_type": "markdown",
   "metadata": {},
   "source": [
    "***\n",
    "**Ques 12. Provide an example dataset, calculate both covariance and correlation, and interpret the results.**"
   ]
  },
  {
   "cell_type": "code",
   "execution_count": 1,
   "metadata": {},
   "outputs": [
    {
     "data": {
      "text/html": [
       "<div>\n",
       "<style scoped>\n",
       "    .dataframe tbody tr th:only-of-type {\n",
       "        vertical-align: middle;\n",
       "    }\n",
       "\n",
       "    .dataframe tbody tr th {\n",
       "        vertical-align: top;\n",
       "    }\n",
       "\n",
       "    .dataframe thead th {\n",
       "        text-align: right;\n",
       "    }\n",
       "</style>\n",
       "<table border=\"1\" class=\"dataframe\">\n",
       "  <thead>\n",
       "    <tr style=\"text-align: right;\">\n",
       "      <th></th>\n",
       "      <th>Student</th>\n",
       "      <th>Hours Studied (X)</th>\n",
       "      <th>Exam Score (Y)</th>\n",
       "    </tr>\n",
       "  </thead>\n",
       "  <tbody>\n",
       "    <tr>\n",
       "      <th>0</th>\n",
       "      <td>A</td>\n",
       "      <td>2</td>\n",
       "      <td>55</td>\n",
       "    </tr>\n",
       "    <tr>\n",
       "      <th>1</th>\n",
       "      <td>B</td>\n",
       "      <td>3</td>\n",
       "      <td>60</td>\n",
       "    </tr>\n",
       "    <tr>\n",
       "      <th>2</th>\n",
       "      <td>C</td>\n",
       "      <td>4</td>\n",
       "      <td>65</td>\n",
       "    </tr>\n",
       "    <tr>\n",
       "      <th>3</th>\n",
       "      <td>D</td>\n",
       "      <td>5</td>\n",
       "      <td>70</td>\n",
       "    </tr>\n",
       "    <tr>\n",
       "      <th>4</th>\n",
       "      <td>E</td>\n",
       "      <td>6</td>\n",
       "      <td>75</td>\n",
       "    </tr>\n",
       "  </tbody>\n",
       "</table>\n",
       "</div>"
      ],
      "text/plain": [
       "  Student  Hours Studied (X)  Exam Score (Y)\n",
       "0       A                  2              55\n",
       "1       B                  3              60\n",
       "2       C                  4              65\n",
       "3       D                  5              70\n",
       "4       E                  6              75"
      ]
     },
     "execution_count": 1,
     "metadata": {},
     "output_type": "execute_result"
    }
   ],
   "source": [
    "# just to create a dataframe\n",
    "import pandas as pd\n",
    "data = {\n",
    "    'Student': ['A', 'B', 'C', 'D', 'E'],\n",
    "    'Hours Studied (X)': [2, 3, 4, 5, 6],\n",
    "    'Exam Score (Y)': [55, 60, 65, 70, 75]\n",
    "}\n",
    "df = pd.DataFrame(data)\n",
    "df"
   ]
  },
  {
   "cell_type": "markdown",
   "metadata": {},
   "source": [
    "Ans1)\n",
    "covariance of given dataset=10\n",
    "\n",
    "correlation of x(hours studied)=1.414\n",
    "\n",
    "correlation of y(exam scores)=7.071\n",
    "\n",
    "Interpretation of Results\n",
    "\n",
    "Covariance: The covariance between hours studied and exam scores is 10. This positive value indicates that there is a positive relationship between hours studied and exam scores, meaning as one increases, the other tends to increase as well. However, covariance by itself doesn’t provide a clear sense of the strength or scale of the relationship without considering the standard deviations.\n",
    "\n",
    "Correlation: The correlation coefficient is 1, which indicates a perfect positive linear relationship between the two variables. This means that for every increase in hours studied, the exam score increases in a perfectly linear fashion.\n",
    "\n"
   ]
  }
 ],
 "metadata": {
  "kernelspec": {
   "display_name": "Python 3",
   "language": "python",
   "name": "python3"
  },
  "language_info": {
   "codemirror_mode": {
    "name": "ipython",
    "version": 3
   },
   "file_extension": ".py",
   "mimetype": "text/x-python",
   "name": "python",
   "nbconvert_exporter": "python",
   "pygments_lexer": "ipython3",
   "version": "3.12.0"
  }
 },
 "nbformat": 4,
 "nbformat_minor": 2
}
