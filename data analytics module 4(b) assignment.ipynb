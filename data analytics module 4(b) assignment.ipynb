{
 "cells": [
  {
   "cell_type": "markdown",
   "id": "b00b40e3",
   "metadata": {},
   "source": [
    "Ques 1 ) Write a code to reverse a string.\n"
   ]
  },
  {
   "cell_type": "code",
   "execution_count": 1,
   "id": "22a50ce8",
   "metadata": {},
   "outputs": [
    {
     "name": "stdout",
     "output_type": "stream",
     "text": [
      "olleh\n"
     ]
    }
   ],
   "source": [
    "def reverse_string(s):\n",
    "    return s[::-1]\n",
    "\n",
    "# Example usage\n",
    "input_str = \"hello\"\n",
    "reversed_str = reverse_string(input_str)\n",
    "print(reversed_str)"
   ]
  },
  {
   "cell_type": "markdown",
   "id": "86fe320b",
   "metadata": {},
   "source": [
    "Ques 2 ) Write a code to count the number of vowels in a string.\n"
   ]
  },
  {
   "cell_type": "code",
   "execution_count": 2,
   "id": "93240f37",
   "metadata": {},
   "outputs": [
    {
     "name": "stdout",
     "output_type": "stream",
     "text": [
      "2\n"
     ]
    }
   ],
   "source": [
    "def count_vowels(s):\n",
    "    vowels = 'aeiouAEIOU'\n",
    "    return sum(1 for char in s if char in vowels)\n",
    "\n",
    "# Example usage\n",
    "num_vowels = count_vowels(input_str)\n",
    "print(num_vowels)"
   ]
  },
  {
   "cell_type": "markdown",
   "id": "f4525e58",
   "metadata": {},
   "source": [
    "Ques 3 ) Write a code to check if a given string is a palindrome or not.\n"
   ]
  },
  {
   "cell_type": "code",
   "execution_count": 3,
   "id": "db701cb3",
   "metadata": {},
   "outputs": [
    {
     "name": "stdout",
     "output_type": "stream",
     "text": [
      "Is 'hello' a palindrome? False\n"
     ]
    }
   ],
   "source": [
    "def is_palindrome(s):\n",
    "    return s == s[::-1]\n",
    "\n",
    "# Example usage\n",
    "palindrome_check = is_palindrome(input_str)\n",
    "print(f\"Is '{input_str}' a palindrome? {palindrome_check}\")"
   ]
  },
  {
   "cell_type": "markdown",
   "id": "aa49f252",
   "metadata": {},
   "source": [
    "Ques 4 ) Write a code to check if two given strings are anagrams of each other.\n"
   ]
  },
  {
   "cell_type": "code",
   "execution_count": 4,
   "id": "86cb6b7d",
   "metadata": {},
   "outputs": [
    {
     "name": "stdout",
     "output_type": "stream",
     "text": [
      "Are 'listen' and 'silent' anagrams? True\n"
     ]
    }
   ],
   "source": [
    "def are_anagrams(str1, str2):\n",
    "    return sorted(str1) == sorted(str2)\n",
    "\n",
    "# Example usage\n",
    "str_a = \"listen\"\n",
    "str_b = \"silent\"\n",
    "anagram_check = are_anagrams(str_a, str_b)\n",
    "print(f\"Are '{str_a}' and '{str_b}' anagrams? {anagram_check}\")"
   ]
  },
  {
   "cell_type": "markdown",
   "id": "1c6fddd2",
   "metadata": {},
   "source": [
    "Ques 5 ) Write a code to find all occurrences of a given substring within another string.\n"
   ]
  },
  {
   "cell_type": "code",
   "execution_count": 5,
   "id": "2166bc35",
   "metadata": {},
   "outputs": [
    {
     "name": "stdout",
     "output_type": "stream",
     "text": [
      "All occurrences of 'l' in 'hello': [2, 3]\n"
     ]
    }
   ],
   "source": [
    "def find_all_occurrences(main_str, sub_str):\n",
    "    indices = []\n",
    "    start = 0\n",
    "    while True:\n",
    "        idx = main_str.find(sub_str, start)\n",
    "        if idx == -1:\n",
    "            break\n",
    "        indices.append(idx)\n",
    "        start = idx + 1\n",
    "    return indices\n",
    "\n",
    "# Example usage\n",
    "substring = \"l\"\n",
    "occurrences = find_all_occurrences(input_str, substring)\n",
    "print(f\"All occurrences of '{substring}' in '{input_str}': {occurrences}\")"
   ]
  },
  {
   "cell_type": "markdown",
   "id": "7fdce0c9",
   "metadata": {},
   "source": [
    "Ques 6 ) Write a code to perform basic string compression using the counts of repeated characters.\n"
   ]
  },
  {
   "cell_type": "code",
   "execution_count": 6,
   "id": "77cbf1fc",
   "metadata": {},
   "outputs": [
    {
     "name": "stdout",
     "output_type": "stream",
     "text": [
      "Compressed version of 'hello': h1e1l2o1\n"
     ]
    }
   ],
   "source": [
    "def compress_string(s):\n",
    "    if not s:\n",
    "        return \"\"\n",
    "    compressed = []\n",
    "    count = 1\n",
    "    for i in range(1, len(s)):\n",
    "        if s[i] == s[i-1]:\n",
    "            count += 1\n",
    "        else:\n",
    "            compressed.append(s[i-1] + str(count))\n",
    "            count = 1\n",
    "    compressed.append(s[-1] + str(count))\n",
    "    return ''.join(compressed)\n",
    "\n",
    "# Example usage\n",
    "compressed_str = compress_string(input_str)\n",
    "print(f\"Compressed version of '{input_str}': {compressed_str}\")"
   ]
  },
  {
   "cell_type": "markdown",
   "id": "a393946f",
   "metadata": {},
   "source": [
    "Ques 7 ) Write a code to determine if a string has all unique characters.\n"
   ]
  },
  {
   "cell_type": "code",
   "execution_count": 7,
   "id": "8100dbc7",
   "metadata": {},
   "outputs": [
    {
     "name": "stdout",
     "output_type": "stream",
     "text": [
      "Does 'hello' have all unique characters? False\n"
     ]
    }
   ],
   "source": [
    "def has_all_unique_characters(s):\n",
    "    return len(set(s)) == len(s)\n",
    "\n",
    "# Example usage\n",
    "unique_check = has_all_unique_characters(input_str)\n",
    "print(f\"Does '{input_str}' have all unique characters? {unique_check}\")"
   ]
  },
  {
   "cell_type": "markdown",
   "id": "55109a05",
   "metadata": {},
   "source": [
    "Ques 8 ) Write a code to convert a given string to uppercase or lowercase.\n"
   ]
  },
  {
   "cell_type": "code",
   "execution_count": 8,
   "id": "7d16e2b2",
   "metadata": {},
   "outputs": [
    {
     "name": "stdout",
     "output_type": "stream",
     "text": [
      "Uppercase: HELLO\n",
      "Lowercase: hello\n"
     ]
    }
   ],
   "source": [
    "def convert_case(s, to_upper=True):\n",
    "    if to_upper:\n",
    "        return s.upper()\n",
    "    else:\n",
    "        return s.lower()\n",
    "\n",
    "# Example usage\n",
    "upper_str = convert_case(input_str, to_upper=True)\n",
    "lower_str = convert_case(input_str, to_upper=False)\n",
    "print(f\"Uppercase: {upper_str}\")\n",
    "print(f\"Lowercase: {lower_str}\")"
   ]
  },
  {
   "cell_type": "markdown",
   "id": "2e654902",
   "metadata": {},
   "source": [
    "Ques 9 ) Write a code to count the number of words in a string.\n"
   ]
  },
  {
   "cell_type": "code",
   "execution_count": 9,
   "id": "c6ea91ea",
   "metadata": {},
   "outputs": [
    {
     "name": "stdout",
     "output_type": "stream",
     "text": [
      "Number of words in 'hello': 1\n"
     ]
    }
   ],
   "source": [
    "def count_words(s):\n",
    "    return len(s.split())\n",
    "\n",
    "# Example usage\n",
    "word_count = count_words(input_str)\n",
    "print(f\"Number of words in '{input_str}': {word_count}\")"
   ]
  },
  {
   "cell_type": "markdown",
   "id": "b447a387",
   "metadata": {},
   "source": [
    "Ques 10 ) Write a code to concatenate two strings without using the + operator.\n"
   ]
  },
  {
   "cell_type": "code",
   "execution_count": 10,
   "id": "b765099d",
   "metadata": {},
   "outputs": [
    {
     "name": "stdout",
     "output_type": "stream",
     "text": [
      "Concatenation of 'listen' and 'silent': listensilent\n"
     ]
    }
   ],
   "source": [
    "def concatenate_strings(str1, str2):\n",
    "    return \"{}{}\".format(str1, str2)\n",
    "\n",
    "# Example usage\n",
    "concatenated = concatenate_strings(str_a, str_b)\n",
    "print(f\"Concatenation of '{str_a}' and '{str_b}': {concatenated}\")"
   ]
  },
  {
   "cell_type": "markdown",
   "id": "90bfdab9",
   "metadata": {},
   "source": [
    "Ques 11 ) Write a code to remove all occurrences of a specific element from a list.\n"
   ]
  },
  {
   "cell_type": "code",
   "execution_count": 11,
   "id": "a89e8694",
   "metadata": {},
   "outputs": [
    {
     "name": "stdout",
     "output_type": "stream",
     "text": [
      "List after removing all occurrences of 2: [1, 3, 4, 5]\n"
     ]
    }
   ],
   "source": [
    "def remove_all_occurrences(lst, element):\n",
    "    return [x for x in lst if x != element]\n",
    "\n",
    "# Example usage\n",
    "sample_list = [1, 2, 3, 2, 4, 2, 5]\n",
    "element_to_remove = 2\n",
    "result_list = remove_all_occurrences(sample_list, element_to_remove)\n",
    "print(f\"List after removing all occurrences of {element_to_remove}: {result_list}\")"
   ]
  },
  {
   "cell_type": "markdown",
   "id": "a6401073",
   "metadata": {},
   "source": [
    "Ques 12 ) Implement a code to find the second largest number in a given list of integers.\n"
   ]
  },
  {
   "cell_type": "code",
   "execution_count": 12,
   "id": "191360dd",
   "metadata": {},
   "outputs": [
    {
     "name": "stdout",
     "output_type": "stream",
     "text": [
      "Second largest number in [1, 2, 3, 2, 4, 2, 5]: 4\n"
     ]
    }
   ],
   "source": [
    "def second_largest(lst):\n",
    "    unique_lst = list(set(lst))\n",
    "    if len(unique_lst) < 2:\n",
    "        return None  # No second largest exists\n",
    "    unique_lst.sort(reverse=True)\n",
    "    return unique_lst[1]\n",
    "\n",
    "# Example usage\n",
    "second_largest_num = second_largest(sample_list)\n",
    "print(f\"Second largest number in {sample_list}: {second_largest_num}\")"
   ]
  },
  {
   "cell_type": "markdown",
   "id": "7b12b921",
   "metadata": {},
   "source": [
    "Ques 13 ) Create a code to count the occurrences of each element in a list and return a dictionary with elements as keys and their counts as values.\n"
   ]
  },
  {
   "cell_type": "code",
   "execution_count": 13,
   "id": "5840c88e",
   "metadata": {},
   "outputs": [
    {
     "name": "stdout",
     "output_type": "stream",
     "text": [
      "Occurrences of each element in [1, 2, 3, 2, 4, 2, 5]: {1: 1, 2: 3, 3: 1, 4: 1, 5: 1}\n"
     ]
    }
   ],
   "source": [
    "def count_occurrences(lst):\n",
    "    counts = {}\n",
    "    for item in lst:\n",
    "        counts[item] = counts.get(item, 0) + 1\n",
    "    return counts\n",
    "\n",
    "# Example usage\n",
    "occurrences_dict = count_occurrences(sample_list)\n",
    "print(f\"Occurrences of each element in {sample_list}: {occurrences_dict}\")"
   ]
  },
  {
   "cell_type": "markdown",
   "id": "78097002",
   "metadata": {},
   "source": [
    "Ques 14 ) Write a code to reverse a list in-place without using any built-in reverse functions.\n"
   ]
  },
  {
   "cell_type": "code",
   "execution_count": 14,
   "id": "df0397a2",
   "metadata": {},
   "outputs": [
    {
     "name": "stdout",
     "output_type": "stream",
     "text": [
      "Reversed list: [5, 2, 4, 2, 3, 2, 1]\n"
     ]
    }
   ],
   "source": [
    "def reverse_list_in_place(lst):\n",
    "    left, right = 0, len(lst) - 1\n",
    "    while left < right:\n",
    "        lst[left], lst[right] = lst[right], lst[left]\n",
    "        left += 1\n",
    "        right -= 1\n",
    "\n",
    "# Example usage\n",
    "reverse_list_in_place(sample_list)\n",
    "print(f\"Reversed list: {sample_list}\")"
   ]
  },
  {
   "cell_type": "markdown",
   "id": "823979a2",
   "metadata": {},
   "source": [
    "Ques 15 ) Implement a code to find and remove duplicates from a list while preserving the original order of elements.\n"
   ]
  },
  {
   "cell_type": "code",
   "execution_count": 15,
   "id": "b03a4e31",
   "metadata": {},
   "outputs": [
    {
     "name": "stdout",
     "output_type": "stream",
     "text": [
      "List after removing duplicates (order preserved): [5, 2, 4, 3, 1]\n"
     ]
    }
   ],
   "source": [
    "def remove_duplicates_preserve_order(lst):\n",
    "    seen = set()\n",
    "    result = []\n",
    "    for item in lst:\n",
    "        if item not in seen:\n",
    "            seen.add(item)\n",
    "            result.append(item)\n",
    "    return result\n",
    "\n",
    "# Example usage\n",
    "unique_list = remove_duplicates_preserve_order(sample_list)\n",
    "print(f\"List after removing duplicates (order preserved): {unique_list}\")"
   ]
  },
  {
   "cell_type": "markdown",
   "id": "1e4a54ed",
   "metadata": {},
   "source": [
    "Ques 16 ) Create a code to check if a given list is sorted (either in ascending or descending order) or not.\n"
   ]
  },
  {
   "cell_type": "code",
   "execution_count": 16,
   "id": "f12aa828",
   "metadata": {},
   "outputs": [
    {
     "name": "stdout",
     "output_type": "stream",
     "text": [
      "Is [5, 2, 4, 2, 3, 2, 1] sorted (ascending or descending)? False\n"
     ]
    }
   ],
   "source": [
    "def is_sorted(lst):\n",
    "    if len(lst) < 2:\n",
    "        return True  # A list with 0 or 1 element is considered sorted\n",
    "    ascending = all(lst[i] <= lst[i+1] for i in range(len(lst)-1))\n",
    "    descending = all(lst[i] >= lst[i+1] for i in range(len(lst)-1))\n",
    "    return ascending or descending\n",
    "\n",
    "# Example usage\n",
    "sorted_check = is_sorted(sample_list)\n",
    "print(f\"Is {sample_list} sorted (ascending or descending)? {sorted_check}\")"
   ]
  },
  {
   "cell_type": "markdown",
   "id": "a8500469",
   "metadata": {},
   "source": [
    "Ques 17 ) Write a code to merge two sorted lists into a single sorted list.\n"
   ]
  },
  {
   "cell_type": "code",
   "execution_count": 17,
   "id": "09c66f04",
   "metadata": {},
   "outputs": [
    {
     "name": "stdout",
     "output_type": "stream",
     "text": [
      "Merged sorted list: [1, 2, 3, 4, 5, 6]\n"
     ]
    }
   ],
   "source": [
    "def merge_sorted_lists(lst1, lst2):\n",
    "    merged = []\n",
    "    i, j = 0, 0\n",
    "    while i < len(lst1) and j < len(lst2):\n",
    "        if lst1[i] <= lst2[j]:\n",
    "            merged.append(lst1[i])\n",
    "            i += 1\n",
    "        else:\n",
    "            merged.append(lst2[j])\n",
    "            j += 1\n",
    "    # Append any remaining elements\n",
    "    merged.extend(lst1[i:])\n",
    "    merged.extend(lst2[j:])\n",
    "    return merged\n",
    "\n",
    "# Example usage\n",
    "sorted_list1 = [1, 3, 5]\n",
    "sorted_list2 = [2, 4, 6]\n",
    "merged_list = merge_sorted_lists(sorted_list1, sorted_list2)\n",
    "print(f\"Merged sorted list: {merged_list}\")"
   ]
  },
  {
   "cell_type": "markdown",
   "id": "8e982ee1",
   "metadata": {},
   "source": [
    "Ques 18 ) Implement a code to find the intersection of two given lists.\n"
   ]
  },
  {
   "cell_type": "code",
   "execution_count": 18,
   "id": "aafcc33d",
   "metadata": {},
   "outputs": [
    {
     "name": "stdout",
     "output_type": "stream",
     "text": [
      "Intersection of [1, 3, 5] and [2, 4, 6]: []\n"
     ]
    }
   ],
   "source": [
    "def list_intersection(lst1, lst2):\n",
    "    return [item for item in lst1 if item in lst2]\n",
    "\n",
    "# Example usage\n",
    "intersection = list_intersection(sorted_list1, sorted_list2)\n",
    "print(f\"Intersection of {sorted_list1} and {sorted_list2}: {intersection}\")"
   ]
  },
  {
   "cell_type": "markdown",
   "id": "2b98d232",
   "metadata": {},
   "source": [
    "Ques 19 ) Create a code to find the union of two lists without duplicates.\n"
   ]
  },
  {
   "cell_type": "code",
   "execution_count": 19,
   "id": "7c1a58bb",
   "metadata": {},
   "outputs": [
    {
     "name": "stdout",
     "output_type": "stream",
     "text": [
      "Union of [1, 3, 5] and [2, 4, 6] without duplicates: [1, 3, 5, 2, 4, 6]\n"
     ]
    }
   ],
   "source": [
    "def list_union_no_duplicates(lst1, lst2):\n",
    "    return list(dict.fromkeys(lst1 + lst2))\n",
    "\n",
    "# Example usage\n",
    "union_list = list_union_no_duplicates(sorted_list1, sorted_list2)\n",
    "print(f\"Union of {sorted_list1} and {sorted_list2} without duplicates: {union_list}\")"
   ]
  },
  {
   "cell_type": "markdown",
   "id": "65c5aece",
   "metadata": {},
   "source": [
    "Ques 20 ) Write a code to shuffle a given list randomly without using any built-in shuffle functions.\n"
   ]
  },
  {
   "cell_type": "code",
   "execution_count": 21,
   "id": "3225b1f7",
   "metadata": {},
   "outputs": [
    {
     "name": "stdout",
     "output_type": "stream",
     "text": [
      "Original list: [5, 2, 4, 2, 3, 2, 1]\n",
      "Shuffled list: [2, 2, 4, 3, 1, 5, 2]\n"
     ]
    }
   ],
   "source": [
    "import random\n",
    "\n",
    "def custom_shuffle(lst):\n",
    "    shuffled = lst[:]\n",
    "    n = len(shuffled)\n",
    "    for i in range(n-1, 0, -1):\n",
    "        j = random.randint(0, i)\n",
    "        shuffled[i], shuffled[j] = shuffled[j], shuffled[i]\n",
    "    return shuffled\n",
    "\n",
    "# Example usage\n",
    "shuffled_list = custom_shuffle(sample_list)\n",
    "print(f\"Original list: {sample_list}\")\n",
    "print(f\"Shuffled list: {shuffled_list}\")"
   ]
  },
  {
   "cell_type": "markdown",
   "id": "018bb16b",
   "metadata": {},
   "source": [
    "Ques 21 ) Write a code that takes two tuples as input and returns a new tuple containing elements that are common to both input tuples.\n"
   ]
  },
  {
   "cell_type": "code",
   "execution_count": 22,
   "id": "0b7571a5",
   "metadata": {},
   "outputs": [
    {
     "name": "stdout",
     "output_type": "stream",
     "text": [
      "Common elements in (1, 2, 3, 4) and (3, 4, 5, 6): (3, 4)\n"
     ]
    }
   ],
   "source": [
    "def common_elements_in_tuples(tup1, tup2):\n",
    "    return tuple(set(tup1) & set(tup2))\n",
    "\n",
    "# Example usage\n",
    "tuple1 = (1, 2, 3, 4)\n",
    "tuple2 = (3, 4, 5, 6)\n",
    "common_tuple = common_elements_in_tuples(tuple1, tuple2)\n",
    "print(f\"Common elements in {tuple1} and {tuple2}: {common_tuple}\")"
   ]
  },
  {
   "cell_type": "markdown",
   "id": "957b433e",
   "metadata": {},
   "source": [
    "Ques 22 ) Create a code that prompts the user to enter two sets of integers separated by commas. Then, print the intersection of these two sets.\n"
   ]
  },
  {
   "cell_type": "code",
   "execution_count": 5,
   "id": "6782ad66",
   "metadata": {},
   "outputs": [
    {
     "name": "stdout",
     "output_type": "stream",
     "text": [
      "Intersection of the two sets: set()\n"
     ]
    }
   ],
   "source": [
    "# Prompt the user to input two sets of integers separated by commas\n",
    "set1_input = input(\"Enter the first set of integers (comma-separated): \")\n",
    "set2_input = input(\"Enter the second set of integers (comma-separated): \")\n",
    "\n",
    "# Convert the input strings to sets of integers\n",
    "set1 = set(int(x.strip()) for x in set1_input.split(',') if x.strip())\n",
    "set2 = set(int(x.strip()) for x in set2_input.split(',') if x.strip())\n",
    "\n",
    "# Find the intersection of the two sets\n",
    "intersection = set1 & set2\n",
    "\n",
    "print(\"Intersection of the two sets:\", intersection)"
   ]
  },
  {
   "cell_type": "markdown",
   "id": "5062e918",
   "metadata": {},
   "source": [
    "Ques 23 ) Write a code to concatenate two tuples. The function should take two tuples as input and return a new tuple containing elements from both input tuples.\n"
   ]
  },
  {
   "cell_type": "code",
   "execution_count": 2,
   "id": "689481ae",
   "metadata": {},
   "outputs": [
    {
     "name": "stdout",
     "output_type": "stream",
     "text": [
      "Concatenation of (1, 2, 3, 4) and (3, 4, 5, 6): (1, 2, 3, 4, 3, 4, 5, 6)\n"
     ]
    }
   ],
   "source": [
    "def concatenate_tuples(tup1, tup2):\n",
    "    return tup1 + tup2\n",
    "\n",
    "# Example usage\n",
    "tuple1 = (1, 2, 3, 4)\n",
    "tuple2 = (3, 4, 5, 6)\n",
    "concatenated_tuple = concatenate_tuples(tuple1, tuple2)\n",
    "print(f\"Concatenation of {tuple1} and {tuple2}: {concatenated_tuple}\")"
   ]
  },
  {
   "cell_type": "markdown",
   "id": "9e760b4c",
   "metadata": {},
   "source": [
    "Ques 24 ) Develop a code that prompts the user to input two sets of strings. Then, print the elements that are present in the first set but not in the second set.\n"
   ]
  },
  {
   "cell_type": "code",
   "execution_count": 4,
   "id": "22595a36",
   "metadata": {},
   "outputs": [
    {
     "name": "stdout",
     "output_type": "stream",
     "text": [
      "Elements present in the first set but not in the second set: {'hello world'}\n"
     ]
    }
   ],
   "source": [
    "# Prompt the user to input two sets of strings separated by commas\n",
    "set1_input = input(\"Enter the first set of strings (comma-separated): \")\n",
    "set2_input = input(\"Enter the second set of strings (comma-separated): \")\n",
    "\n",
    "# Convert the input strings to sets\n",
    "set1 = set(s.strip() for s in set1_input.split(',') if s.strip())\n",
    "set2 = set(s.strip() for s in set2_input.split(',') if s.strip())\n",
    "\n",
    "# Find elements present in the first set but not in the second set\n",
    "difference = set1 - set2\n",
    "\n",
    "print(\"Elements present in the first set but not in the second set:\", difference)"
   ]
  },
  {
   "cell_type": "markdown",
   "id": "13da1749",
   "metadata": {},
   "source": [
    "Ques 25 ) Create a code that takes a tuple and two integers as input. The function should return a new tuple containing elements from the original tuple within the specified range of indices.\n"
   ]
  },
  {
   "cell_type": "code",
   "execution_count": 6,
   "id": "6b8065d9",
   "metadata": {},
   "outputs": [
    {
     "name": "stdout",
     "output_type": "stream",
     "text": [
      "Elements from index 2 to 5 in (1, 2, 3, 4, 3, 4, 5, 6): (3, 4, 3, 4)\n"
     ]
    }
   ],
   "source": [
    "def tuple_slice(tup, start_idx, end_idx):\n",
    "    return tup[start_idx:end_idx]\n",
    "\n",
    "# Example usage\n",
    "sliced_tuple = tuple_slice(concatenated_tuple, 2, 6)\n",
    "print(f\"Elements from index 2 to 5 in {concatenated_tuple}: {sliced_tuple}\")"
   ]
  },
  {
   "cell_type": "markdown",
   "id": "9ca3c828",
   "metadata": {},
   "source": [
    "Ques 26 ) Write a code that prompts the user to input two sets of characters. Then, print the union of these two sets.\n"
   ]
  },
  {
   "cell_type": "code",
   "execution_count": null,
   "id": "2fff7a7f",
   "metadata": {},
   "outputs": [],
   "source": [
    "# Prompt the user to input two sets of characters separated by commas\n",
    "char_set1_input = input(\"Enter the first set of characters (comma-separated): \")\n",
    "char_set2_input = input(\"Enter the second set of characters (comma-separated): \")\n",
    "\n",
    "# Convert the input strings to sets of characters\n",
    "char_set1 = set(c.strip() for c in char_set1_input.split(',') if c.strip())\n",
    "char_set2 = set(c.strip() for c in char_set2_input.split(',') if c.strip())\n",
    "\n",
    "# Find the union of the two sets\n",
    "union_set = char_set1 | char_set2\n",
    "\n",
    "print(\"Union of the two sets:\", union_set)"
   ]
  },
  {
   "cell_type": "markdown",
   "id": "293c17b2",
   "metadata": {},
   "source": [
    "Ques 27 ) Develop a code that takes a tuple of integers as input. The function should return the maximum and minimum values from the tuple using tuple unpacking.\n"
   ]
  },
  {
   "cell_type": "code",
   "execution_count": 7,
   "id": "e733cd63",
   "metadata": {},
   "outputs": [
    {
     "name": "stdout",
     "output_type": "stream",
     "text": [
      "Maximum value: 6, Minimum value: 1\n"
     ]
    }
   ],
   "source": [
    "def max_min_tuple(tup):\n",
    "    if not tup:\n",
    "        return None, None\n",
    "    max_val, min_val = tup[0], tup[0]\n",
    "    for num in tup[1:]:\n",
    "        if num > max_val:\n",
    "            max_val = num\n",
    "        if num < min_val:\n",
    "            min_val = num\n",
    "    return max_val, min_val\n",
    "\n",
    "# Example usage\n",
    "max_value, min_value = max_min_tuple(concatenated_tuple)\n",
    "print(f\"Maximum value: {max_value}, Minimum value: {min_value}\")"
   ]
  },
  {
   "cell_type": "markdown",
   "id": "69c7f814",
   "metadata": {},
   "source": [
    "Ques 28 ) Create a code that defines two sets of integers. Then, print the union, intersection, and difference of these two sets.\n"
   ]
  },
  {
   "cell_type": "code",
   "execution_count": 8,
   "id": "ff744e19",
   "metadata": {},
   "outputs": [
    {
     "name": "stdout",
     "output_type": "stream",
     "text": [
      "Union of set1 and set2: {12, 45, 44, 55}\n",
      "Intersection of set1 and set2: set()\n",
      "Difference of set1 and set2 (set1 - set2): {12, 44}\n"
     ]
    }
   ],
   "source": [
    "# Using the existing sets set1 and set2\n",
    "\n",
    "# Union\n",
    "union_result = set1 | set2\n",
    "print(\"Union of set1 and set2:\", union_result)\n",
    "\n",
    "# Intersection\n",
    "intersection_result = set1 & set2\n",
    "print(\"Intersection of set1 and set2:\", intersection_result)\n",
    "\n",
    "# Difference (elements in set1 but not in set2)\n",
    "difference_result = set1 - set2\n",
    "print(\"Difference of set1 and set2 (set1 - set2):\", difference_result)"
   ]
  },
  {
   "cell_type": "markdown",
   "id": "b77cdafd",
   "metadata": {},
   "source": [
    "Ques 29 ) Write a code that takes a tuple and an element as input. The function should return the count of occurrences of the given element in the tuple.\n"
   ]
  },
  {
   "cell_type": "code",
   "execution_count": 9,
   "id": "e688a464",
   "metadata": {},
   "outputs": [
    {
     "name": "stdout",
     "output_type": "stream",
     "text": [
      "Element 4 occurs 2 times in (1, 2, 3, 4, 3, 4, 5, 6)\n"
     ]
    }
   ],
   "source": [
    "def count_element_in_tuple(tup, element):\n",
    "    return tup.count(element)\n",
    "\n",
    "# Example usage\n",
    "element_to_count = 4\n",
    "count = count_element_in_tuple(concatenated_tuple, element_to_count)\n",
    "print(f\"Element {element_to_count} occurs {count} times in {concatenated_tuple}\")"
   ]
  },
  {
   "cell_type": "markdown",
   "id": "2a289bc7",
   "metadata": {},
   "source": [
    "Ques 30 ) Develop a code that prompts the user to input two sets of strings. Then, print the symmetric difference of these two sets.\n"
   ]
  },
  {
   "cell_type": "code",
   "execution_count": null,
   "id": "4be98e0e",
   "metadata": {},
   "outputs": [],
   "source": [
    "# Prompt the user to input two sets of strings separated by commas\n",
    "set1_input = input(\"Enter the first set of strings (comma-separated): \")\n",
    "set2_input = input(\"Enter the second set of strings (comma-separated): \")\n",
    "\n",
    "# Convert the input strings to sets\n",
    "set1 = set(s.strip() for s in set1_input.split(',') if s.strip())\n",
    "set2 = set(s.strip() for s in set2_input.split(',') if s.strip())\n",
    "\n",
    "# Find the symmetric difference of the two sets\n",
    "symmetric_difference = set1 ^ set2\n",
    "\n",
    "print(\"Symmetric difference of the two sets:\", symmetric_difference)"
   ]
  },
  {
   "cell_type": "markdown",
   "id": "56a83866",
   "metadata": {},
   "source": [
    "Ques 31 ) Write a code that takes a list of words as input and returns a dictionary where the keys are unique words and the values are the frequencies of those words in the input list.\n"
   ]
  },
  {
   "cell_type": "code",
   "execution_count": 10,
   "id": "0a57ab4d",
   "metadata": {},
   "outputs": [
    {
     "name": "stdout",
     "output_type": "stream",
     "text": [
      "Word frequencies: {'apple': 3, 'banana': 2, 'orange': 1}\n"
     ]
    }
   ],
   "source": [
    "def word_frequencies(word_list):\n",
    "    freq_dict = {}\n",
    "    for word in word_list:\n",
    "        freq_dict[word] = freq_dict.get(word, 0) + 1\n",
    "    return freq_dict\n",
    "\n",
    "# Example usage\n",
    "words = [\"apple\", \"banana\", \"apple\", \"orange\", \"banana\", \"apple\"]\n",
    "frequencies = word_frequencies(words)\n",
    "print(f\"Word frequencies: {frequencies}\")"
   ]
  },
  {
   "cell_type": "markdown",
   "id": "ac9efe22",
   "metadata": {},
   "source": [
    "Ques 32 ) Write a code that takes two dictionaries as input and merges them into a single dictionary. If there are common keys, the values should be added together.\n"
   ]
  },
  {
   "cell_type": "code",
   "execution_count": 11,
   "id": "c075ae55",
   "metadata": {},
   "outputs": [
    {
     "name": "stdout",
     "output_type": "stream",
     "text": [
      "Merged dictionary: {'a': 1, 'b': 5, 'c': 7, 'd': 5}\n"
     ]
    }
   ],
   "source": [
    "def merge_dicts_add_values(dict1, dict2):\n",
    "    merged = dict1.copy()\n",
    "    for key, value in dict2.items():\n",
    "        if key in merged:\n",
    "            merged[key] += value\n",
    "        else:\n",
    "            merged[key] = value\n",
    "    return merged\n",
    "\n",
    "# Example usage\n",
    "dict_a = {'a': 1, 'b': 2, 'c': 3}\n",
    "dict_b = {'b': 3, 'c': 4, 'd': 5}\n",
    "merged_dict = merge_dicts_add_values(dict_a, dict_b)\n",
    "print(f\"Merged dictionary: {merged_dict}\")"
   ]
  },
  {
   "cell_type": "markdown",
   "id": "c6a16aca",
   "metadata": {},
   "source": [
    "Ques 33 ) Write a code to access a value in a nested dictionary. The function should take the dictionary and a list of keys as input, and return the corresponding value. If any of the keys do not exist in the dictionary, the function should return None.\n"
   ]
  },
  {
   "cell_type": "code",
   "execution_count": 12,
   "id": "413db416",
   "metadata": {},
   "outputs": [
    {
     "name": "stdout",
     "output_type": "stream",
     "text": [
      "Value at ['a', 'b', 'c'] in nested_dict: 42\n",
      "Value at ['a', 'x', 'c'] in nested_dict: None\n"
     ]
    }
   ],
   "source": [
    "def get_nested_value(d, keys):\n",
    "    current = d\n",
    "    for key in keys:\n",
    "        if isinstance(current, dict) and key in current:\n",
    "            current = current[key]\n",
    "        else:\n",
    "            return None\n",
    "    return current\n",
    "\n",
    "# Example usage\n",
    "nested_dict = {'a': {'b': {'c': 42}}}\n",
    "key_list = ['a', 'b', 'c']\n",
    "value = get_nested_value(nested_dict, key_list)\n",
    "print(f\"Value at {key_list} in nested_dict: {value}\")\n",
    "\n",
    "# Example with missing key\n",
    "missing_key_list = ['a', 'x', 'c']\n",
    "missing_value = get_nested_value(nested_dict, missing_key_list)\n",
    "print(f\"Value at {missing_key_list} in nested_dict: {missing_value}\")"
   ]
  },
  {
   "cell_type": "markdown",
   "id": "8ade1e5e",
   "metadata": {},
   "source": [
    "Ques 34 ) Write a code that takes a dictionary as input and returns a sorted version of it based on the values. You can choose whether to sort in ascending or descending order.\n"
   ]
  },
  {
   "cell_type": "code",
   "execution_count": 13,
   "id": "cd23d8d5",
   "metadata": {},
   "outputs": [
    {
     "name": "stdout",
     "output_type": "stream",
     "text": [
      "Dictionary sorted by values (ascending): {'a': 1, 'b': 5, 'd': 5, 'c': 7}\n",
      "Dictionary sorted by values (descending): {'c': 7, 'b': 5, 'd': 5, 'a': 1}\n"
     ]
    }
   ],
   "source": [
    "def sort_dict_by_value(d, ascending=True):\n",
    "    return dict(sorted(d.items(), key=lambda item: item[1], reverse=not ascending))\n",
    "\n",
    "# Example usage\n",
    "sorted_dict_asc = sort_dict_by_value(merged_dict, ascending=True)\n",
    "sorted_dict_desc = sort_dict_by_value(merged_dict, ascending=False)\n",
    "print(f\"Dictionary sorted by values (ascending): {sorted_dict_asc}\")\n",
    "print(f\"Dictionary sorted by values (descending): {sorted_dict_desc}\")"
   ]
  },
  {
   "cell_type": "markdown",
   "id": "7686a67a",
   "metadata": {},
   "source": [
    "Ques 35 ) Write a code that inverts a dictionary, swapping keys and values. Ensure that the inverted dictionary correctly handles cases where multiple keys have the same value by storing the keys as a list in the inverted dictionary."
   ]
  },
  {
   "cell_type": "code",
   "execution_count": 14,
   "id": "7b3b9269",
   "metadata": {},
   "outputs": [
    {
     "name": "stdout",
     "output_type": "stream",
     "text": [
      "Inverted dictionary: {1: ['a'], 5: ['b', 'd'], 7: ['c']}\n"
     ]
    }
   ],
   "source": [
    "def invert_dictionary(d):\n",
    "    inverted = {}\n",
    "    for key, value in d.items():\n",
    "        if value in inverted:\n",
    "            inverted[value].append(key)\n",
    "        else:\n",
    "            inverted[value] = [key]\n",
    "    return inverted\n",
    "\n",
    "# Example usage\n",
    "inverted_dict = invert_dictionary(merged_dict)\n",
    "print(f\"Inverted dictionary: {inverted_dict}\")"
   ]
  }
 ],
 "metadata": {
  "kernelspec": {
   "display_name": "Python 3",
   "language": "python",
   "name": "python3"
  },
  "language_info": {
   "codemirror_mode": {
    "name": "ipython",
    "version": 3
   },
   "file_extension": ".py",
   "mimetype": "text/x-python",
   "name": "python",
   "nbconvert_exporter": "python",
   "pygments_lexer": "ipython3",
   "version": "3.12.0"
  }
 },
 "nbformat": 4,
 "nbformat_minor": 5
}
