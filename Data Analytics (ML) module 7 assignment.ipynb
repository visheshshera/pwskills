{
 "cells": [
  {
   "cell_type": "markdown",
   "metadata": {},
   "source": [
    "# **THEORITICAL**"
   ]
  },
  {
   "cell_type": "markdown",
   "metadata": {},
   "source": [
    "Ques 1 - What is a Decision Tree, and how does it work\t\n"
   ]
  },
  {
   "cell_type": "markdown",
   "metadata": {
    "vscode": {
     "languageId": "markdown"
    }
   },
   "source": [
    "A Decision Tree is a supervised machine learning algorithm used for classification and regression tasks. It works by splitting the data into subsets based on the feature values, creating a tree-like structure of decisions.\n",
    "\n",
    "### How it works:\n",
    "1. **Root Node**: The tree starts with a root node representing the entire dataset.\n",
    "2. **Splitting**: At each node, the algorithm selects the best feature and threshold to split the data based on a criterion (e.g., Gini Impurity, Entropy).\n",
    "3. **Decision Nodes**: The splits create decision nodes, which further divide the data.\n",
    "4. **Leaf Nodes**: The process continues until a stopping condition is met (e.g., maximum depth, minimum samples per node). The leaf nodes represent the final predictions or outcomes.\n",
    "5. **Prediction**: For a new input, the tree traverses from the root to a leaf node based on the feature values, providing the prediction.\n",
    "\n",
    "Decision Trees are easy to interpret and can handle both numerical and categorical data. However, they are prone to overfitting if not properly pruned or regularized."
   ]
  },
  {
   "cell_type": "markdown",
   "metadata": {},
   "source": [
    "Ques 2 - What are impurity measures in Decision Trees\t\n"
   ]
  },
  {
   "cell_type": "markdown",
   "metadata": {
    "vscode": {
     "languageId": "markdown"
    }
   },
   "source": [
    "Impurity measures in Decision Trees are metrics used to evaluate the quality of a split at each node. They quantify how mixed the classes are in the resulting subsets after a split. The goal is to minimize impurity to create more homogeneous subsets.\n",
    "\n",
    "### Common Impurity Measures:\n",
    "1. **Gini Impurity**:\n",
    "    - Measures the probability of incorrectly classifying a randomly chosen element if it were randomly labeled according to the distribution of labels in the subset.\n",
    "    - Formula: \\( Gini = 1 - \\sum_{i=1}^{n} p_i^2 \\), where \\( p_i \\) is the proportion of class \\( i \\).\n",
    "\n",
    "2. **Entropy**:\n",
    "    - Measures the amount of information or uncertainty in the subset.\n",
    "    - Formula: \\( Entropy = - \\sum_{i=1}^{n} p_i \\log_2(p_i) \\), where \\( p_i \\) is the proportion of class \\( i \\).\n",
    "\n",
    "These measures are used to determine the best feature and threshold for splitting the data at each node in the tree."
   ]
  },
  {
   "cell_type": "markdown",
   "metadata": {},
   "source": [
    "Ques 3 - What is the mathematical formula for Gini Impurity\t\n"
   ]
  },
  {
   "cell_type": "markdown",
   "metadata": {},
   "source": [
    "The mathematical formula for Gini Impurity is:\n",
    "\n",
    "\\[\n",
    "Gini = 1 - \\sum_{i=1}^{n} p_i^2\n",
    "\\]\n",
    "\n",
    "Where:\n",
    "- \\( p_i \\) is the proportion of samples belonging to class \\( i \\) in the subset.\n",
    "- \\( n \\) is the total number of classes.\n",
    "\n",
    "Gini Impurity measures the probability of incorrectly classifying a randomly chosen element if it were randomly labeled according to the distribution of labels in the subset."
   ]
  },
  {
   "cell_type": "markdown",
   "metadata": {},
   "source": [
    "Ques 4 - What is the mathematical formula for Entropy\t\n"
   ]
  },
  {
   "cell_type": "markdown",
   "metadata": {
    "vscode": {
     "languageId": "markdown"
    }
   },
   "source": [
    "The mathematical formula for Entropy is:\n",
    "\n",
    "\\[\n",
    "Entropy = - \\sum_{i=1}^{n} p_i \\log_2(p_i)\n",
    "\\]\n",
    "\n",
    "Where:\n",
    "- \\( p_i \\) is the proportion of samples belonging to class \\( i \\) in the subset.\n",
    "- \\( n \\) is the total number of classes.\n",
    "\n",
    "Entropy measures the amount of uncertainty or information in the subset. It is used in Decision Trees to evaluate the quality of a split, with the goal of reducing entropy to create more homogeneous subsets."
   ]
  },
  {
   "cell_type": "markdown",
   "metadata": {},
   "source": [
    "Ques 5 - What is Information Gain, and how is it used in Decision Trees\t\n"
   ]
  },
  {
   "cell_type": "markdown",
   "metadata": {
    "vscode": {
     "languageId": "markdown"
    }
   },
   "source": [
    "Information Gain is a metric used in Decision Trees to measure the reduction in entropy or impurity after a dataset is split based on a feature. It quantifies how much information a feature provides about the target variable.\n",
    "\n",
    "### Formula:\n",
    "\\[\n",
    "Information\\ Gain = Entropy(parent) - \\sum_{i=1}^{k} \\frac{|subset_i|}{|parent|} \\times Entropy(subset_i)\n",
    "\\]\n",
    "\n",
    "Where:\n",
    "- \\( Entropy(parent) \\) is the entropy of the original dataset.\n",
    "- \\( subset_i \\) represents the \\( i \\)-th subset created after splitting.\n",
    "- \\( |subset_i| \\) and \\( |parent| \\) are the sizes of the subset and the original dataset, respectively.\n",
    "\n",
    "### How it is used:\n",
    "1. At each node, the Decision Tree evaluates all possible splits for all features.\n",
    "2. It calculates the Information Gain for each split.\n",
    "3. The split with the highest Information Gain is chosen, as it results in the most significant reduction in impurity or uncertainty.\n",
    "4. This process is repeated recursively to build the tree.\n",
    "\n",
    "Information Gain helps the Decision Tree identify the most informative features and thresholds for splitting, leading to better predictions. It is commonly used with the Entropy impurity measure."
   ]
  },
  {
   "cell_type": "markdown",
   "metadata": {},
   "source": [
    "Ques 6 - What is the difference between Gini Impurity and Entropy\t\n"
   ]
  },
  {
   "cell_type": "markdown",
   "metadata": {
    "vscode": {
     "languageId": "markdown"
    }
   },
   "source": [
    "Gini Impurity and Entropy are both impurity measures used in Decision Trees to evaluate the quality of a split. While they serve a similar purpose, they differ in their calculation and interpretation.\n",
    "\n",
    "### Key Differences:\n",
    "1. **Formula**:\n",
    "    - **Gini Impurity**: \\( Gini = 1 - \\sum_{i=1}^{n} p_i^2 \\)\n",
    "    - **Entropy**: \\( Entropy = - \\sum_{i=1}^{n} p_i \\log_2(p_i) \\)\n",
    "\n",
    "2. **Range**:\n",
    "    - Gini Impurity ranges from 0 (pure subset) to 0.5 (maximum impurity for a binary classification).\n",
    "    - Entropy ranges from 0 (pure subset) to \\( \\log_2(n) \\) (maximum impurity for \\( n \\) classes).\n",
    "\n",
    "3. **Interpretation**:\n",
    "    - Gini Impurity measures the probability of misclassifying a randomly chosen element.\n",
    "    - Entropy measures the amount of uncertainty or information in the subset.\n",
    "\n",
    "4. **Computation**:\n",
    "    - Gini Impurity is computationally simpler and faster to calculate.\n",
    "    - Entropy involves logarithmic calculations, making it slightly more computationally expensive.\n",
    "\n",
    "5. **Preference**:\n",
    "    - Gini Impurity is often preferred for its simplicity and speed.\n",
    "    - Entropy is used when a more information-theoretic approach is desired.\n",
    "\n",
    "Both measures are effective, and the choice between them often depends on the specific use case and computational considerations."
   ]
  },
  {
   "cell_type": "markdown",
   "metadata": {},
   "source": [
    "Ques 7 - What is the mathematical explanation behind Decision Trees\t\n"
   ]
  },
  {
   "cell_type": "markdown",
   "metadata": {
    "vscode": {
     "languageId": "markdown"
    }
   },
   "source": [
    "Decision Trees are based on a recursive partitioning algorithm that splits the dataset into subsets based on feature values to minimize impurity or maximize information gain. The mathematical explanation involves the following steps:\n",
    "\n",
    "### 1. Splitting Criterion:\n",
    "At each node, the algorithm evaluates all possible splits for all features and selects the one that optimizes a criterion, such as:\n",
    "- **Gini Impurity**: \\( Gini = 1 - \\sum_{i=1}^{n} p_i^2 \\)\n",
    "- **Entropy**: \\( Entropy = - \\sum_{i=1}^{n} p_i \\log_2(p_i) \\)\n",
    "\n",
    "### 2. Information Gain:\n",
    "The reduction in impurity or entropy after a split is quantified as Information Gain:\n",
    "\\[\n",
    "Information\\ Gain = Entropy(parent) - \\sum_{i=1}^{k} \\frac{|subset_i|}{|parent|} \\times Entropy(subset_i)\n",
    "\\]\n",
    "\n",
    "### 3. Recursive Partitioning:\n",
    "The dataset is recursively partitioned based on the best splits until a stopping condition is met, such as:\n",
    "- Maximum tree depth.\n",
    "- Minimum number of samples per node.\n",
    "- No further reduction in impurity.\n",
    "\n",
    "### 4. Prediction:\n",
    "For a new input, the tree traverses from the root to a leaf node based on the feature values. The prediction is the majority class (classification) or the average value (regression) of the samples in the leaf node.\n",
    "\n",
    "Decision Trees use these mathematical principles to create a tree structure that models the relationships between features and the target variable."
   ]
  },
  {
   "cell_type": "markdown",
   "metadata": {},
   "source": [
    "Ques 8 - What is Pre-Pruning in Decision Trees\t\n"
   ]
  },
  {
   "cell_type": "markdown",
   "metadata": {
    "vscode": {
     "languageId": "markdown"
    }
   },
   "source": [
    "Pre-Pruning, also known as early stopping, is a technique used in Decision Trees to prevent overfitting by halting the tree's growth during the training process. Instead of allowing the tree to grow fully and then pruning it, pre-pruning imposes constraints to stop the tree from growing beyond a certain point.\n",
    "\n",
    "### Common Pre-Pruning Techniques:\n",
    "1. **Maximum Depth**:\n",
    "    - Limits the depth of the tree to a predefined value.\n",
    "    - Prevents the tree from becoming too complex.\n",
    "\n",
    "2. **Minimum Samples per Leaf**:\n",
    "    - Specifies the minimum number of samples required to form a leaf node.\n",
    "    - Ensures that leaf nodes are not created for very small subsets of data.\n",
    "\n",
    "3. **Minimum Samples per Split**:\n",
    "    - Specifies the minimum number of samples required to perform a split at a node.\n",
    "    - Prevents splits that result in overly small subsets.\n",
    "\n",
    "4. **Maximum Number of Leaf Nodes**:\n",
    "    - Limits the total number of leaf nodes in the tree.\n",
    "    - Controls the overall size of the tree.\n",
    "\n",
    "5. **Minimum Impurity Decrease**:\n",
    "    - Specifies the minimum reduction in impurity required to perform a split.\n",
    "    - Ensures that only meaningful splits are made.\n",
    "\n",
    "### Advantages:\n",
    "- Reduces the risk of overfitting.\n",
    "- Improves generalization to unseen data.\n",
    "- Reduces training time by limiting the tree's growth.\n",
    "\n",
    "### Disadvantages:\n",
    "- May lead to underfitting if the constraints are too strict.\n",
    "- Requires careful tuning of hyperparameters.\n",
    "\n",
    "Pre-Pruning is a proactive approach to controlling the complexity of Decision Trees, ensuring they remain interpretable and generalize well to new data."
   ]
  },
  {
   "cell_type": "markdown",
   "metadata": {},
   "source": [
    "Ques 9 - What is Post-Pruning in Decision Trees\t\n"
   ]
  },
  {
   "cell_type": "markdown",
   "metadata": {
    "vscode": {
     "languageId": "markdown"
    }
   },
   "source": [
    "Post-Pruning, also known as cost complexity pruning, is a technique used in Decision Trees to reduce overfitting by removing unnecessary branches from a fully grown tree. Unlike pre-pruning, which stops the tree's growth early, post-pruning involves growing the tree to its maximum depth and then trimming it back.\n",
    "\n",
    "### Steps in Post-Pruning:\n",
    "1. **Grow the Full Tree**:\n",
    "    - The Decision Tree is grown to its maximum depth, allowing it to fit the training data completely.\n",
    "\n",
    "2. **Evaluate Subtrees**:\n",
    "    - Starting from the leaf nodes, the algorithm evaluates the impact of removing branches on a validation dataset or using a pruning criterion.\n",
    "\n",
    "3. **Prune Branches**:\n",
    "    - Branches that do not significantly improve the model's performance are removed.\n",
    "    - The pruning process continues iteratively until the optimal tree size is achieved.\n",
    "\n",
    "4. **Select the Optimal Tree**:\n",
    "    - The tree with the best balance between complexity and performance is selected.\n",
    "\n",
    "### Advantages:\n",
    "- Reduces overfitting by simplifying the tree.\n",
    "- Improves generalization to unseen data.\n",
    "- Allows the tree to fully explore the data before pruning.\n",
    "\n",
    "### Disadvantages:\n",
    "- Requires additional computation to evaluate and prune branches.\n",
    "- May lead to underfitting if too many branches are pruned.\n",
    "\n",
    "Post-Pruning is a reactive approach to controlling the complexity of Decision Trees, ensuring they remain interpretable and perform well on new data."
   ]
  },
  {
   "cell_type": "markdown",
   "metadata": {},
   "source": [
    "Ques 10 - What is the difference between Pre-Pruning and Post-Pruning\t\n"
   ]
  },
  {
   "cell_type": "markdown",
   "metadata": {
    "vscode": {
     "languageId": "markdown"
    }
   },
   "source": [
    "Pre-Pruning and Post-Pruning are techniques used in Decision Trees to control their complexity and prevent overfitting. While both aim to improve the model's generalization, they differ in their approach and timing.\n",
    "\n",
    "### Key Differences:\n",
    "\n",
    "1. **Timing**:\n",
    "    - **Pre-Pruning**: Stops the tree's growth early by imposing constraints during the training process.\n",
    "    - **Post-Pruning**: Grows the tree to its full depth and then removes unnecessary branches.\n",
    "\n",
    "2. **Approach**:\n",
    "    - **Pre-Pruning**: Proactive approach that prevents the tree from becoming too complex.\n",
    "    - **Post-Pruning**: Reactive approach that simplifies a fully grown tree.\n",
    "\n",
    "3. **Techniques**:\n",
    "    - **Pre-Pruning**: Includes constraints like maximum depth, minimum samples per leaf, and minimum impurity decrease.\n",
    "    - **Post-Pruning**: Involves evaluating and trimming branches based on validation performance or a pruning criterion.\n",
    "\n",
    "4. **Computation**:\n",
    "    - **Pre-Pruning**: Faster as it limits the tree's growth during training.\n",
    "    - **Post-Pruning**: Requires additional computation to evaluate and prune branches.\n",
    "\n",
    "5. **Risk**:\n",
    "    - **Pre-Pruning**: May lead to underfitting if constraints are too strict.\n",
    "    - **Post-Pruning**: May lead to underfitting if too many branches are pruned.\n",
    "\n",
    "### Summary:\n",
    "- Pre-Pruning is a preventive measure to control tree complexity during training.\n",
    "- Post-Pruning is a corrective measure to simplify a fully grown tree.\n",
    "- The choice between the two depends on the dataset, computational resources, and the desired balance between model complexity and performance."
   ]
  },
  {
   "cell_type": "markdown",
   "metadata": {},
   "source": [
    "Ques 11 - What is a Decision Tree Regressor\t\n"
   ]
  },
  {
   "cell_type": "markdown",
   "metadata": {
    "vscode": {
     "languageId": "markdown"
    }
   },
   "source": [
    "A Decision Tree Regressor is a supervised machine learning algorithm used for regression tasks. It predicts a continuous target variable by learning decision rules inferred from the features of the training data.\n",
    "\n",
    "### How it works:\n",
    "1. **Splitting**:\n",
    "    - The algorithm splits the dataset into subsets based on feature values to minimize a loss function, such as Mean Squared Error (MSE).\n",
    "    - At each node, it selects the feature and threshold that result in the best split.\n",
    "\n",
    "2. **Leaf Nodes**:\n",
    "    - The tree grows until a stopping condition is met (e.g., maximum depth, minimum samples per leaf).\n",
    "    - Each leaf node represents a predicted value, which is the average of the target values in that subset.\n",
    "\n",
    "3. **Prediction**:\n",
    "    - For a new input, the tree traverses from the root to a leaf node based on the feature values.\n",
    "    - The predicted value is the output of the leaf node.\n",
    "\n",
    "### Advantages:\n",
    "- Handles both numerical and categorical features.\n",
    "- Captures non-linear relationships between features and the target variable.\n",
    "- Easy to interpret and visualize.\n",
    "\n",
    "### Disadvantages:\n",
    "- Prone to overfitting if not properly regularized (e.g., using max_depth, min_samples_split).\n",
    "- Sensitive to small changes in the data, which can lead to different splits.\n",
    "\n",
    "Decision Tree Regressors are widely used in applications like predicting house prices, stock prices, and other continuous variables."
   ]
  },
  {
   "cell_type": "markdown",
   "metadata": {},
   "source": [
    "Ques 12 - What are the advantages and disadvantages of Decision Trees\t\n"
   ]
  },
  {
   "cell_type": "markdown",
   "metadata": {
    "vscode": {
     "languageId": "markdown"
    }
   },
   "source": [
    "### Advantages of Decision Trees:\n",
    "1. **Interpretability**:\n",
    "    - Easy to understand and interpret, even for non-technical stakeholders.\n",
    "    - Can be visualized as a tree diagram.\n",
    "\n",
    "2. **Non-Parametric**:\n",
    "    - Does not assume any specific distribution for the data.\n",
    "    - Works well with both numerical and categorical features.\n",
    "\n",
    "3. **Handles Non-Linearity**:\n",
    "    - Captures non-linear relationships between features and the target variable.\n",
    "\n",
    "4. **Feature Importance**:\n",
    "    - Provides insights into the importance of features in the dataset.\n",
    "\n",
    "5. **Robust to Outliers**:\n",
    "    - Less sensitive to outliers compared to linear models.\n",
    "\n",
    "6. **Handles Missing Values**:\n",
    "    - Can handle missing values by assigning them to the most frequent or average value in the split.\n",
    "\n",
    "### Disadvantages of Decision Trees:\n",
    "1. **Overfitting**:\n",
    "    - Prone to overfitting, especially with deep trees or small datasets.\n",
    "    - Requires pruning or regularization to control complexity.\n",
    "\n",
    "2. **Instability**:\n",
    "    - Sensitive to small changes in the data, which can lead to different splits and tree structures.\n",
    "\n",
    "3. **Bias Towards Features with More Levels**:\n",
    "    - May favor features with more unique values, leading to biased splits.\n",
    "\n",
    "4. **Computational Complexity**:\n",
    "    - Training can be computationally expensive for large datasets with many features.\n",
    "\n",
    "5. **Limited Generalization**:\n",
    "    - May not perform well on unseen data if not properly regularized.\n",
    "\n",
    "6. **Greedy Algorithm**:\n",
    "    - Uses a greedy approach for splitting, which may not always result in the globally optimal tree.\n",
    "\n",
    "Despite these disadvantages, Decision Trees are widely used due to their simplicity, interpretability, and effectiveness in various applications."
   ]
  },
  {
   "cell_type": "markdown",
   "metadata": {},
   "source": [
    "Ques 13 - How does a Decision Tree handle missing values\t\n"
   ]
  },
  {
   "cell_type": "markdown",
   "metadata": {
    "vscode": {
     "languageId": "markdown"
    }
   },
   "source": [
    "Ans 13 - Decision Trees can handle missing values in various ways, depending on the implementation and the strategy chosen. Here are some common approaches:\n",
    "\n",
    "### 1. **Ignoring Missing Values**:\n",
    "\n",
    "    - Some implementations ignore missing values during the splitting process, which may lead to suboptimal splits.\n",
    "\n",
    "### 2. **Imputation**:\n",
    "\n",
    "    - Missing values are replaced with a placeholder value (e.g., mean, median, or mode) before training the tree.\n",
    "    - This approach ensures that all data points are considered during splitting.\n",
    "\n",
    "### 3. **Surrogate Splits**:\n",
    "\n",
    "    - When a feature with missing values is chosen for splitting, the tree uses an alternative feature (surrogate) that closely mimics the original split.\n",
    "    - This approach allows the tree to handle missing values without imputation.\n",
    "\n",
    "### 4. **Weighted Splits**:\n",
    "\n",
    "    - Missing values are distributed across child nodes based on the proportion of non-missing values in each node.\n",
    "    - This approach ensures that missing values do not bias the split.\n",
    "\n",
    "### 5. **Separate Category**:\n",
    "\n",
    "    - Missing values are treated as a separate category, allowing the tree to learn specific patterns for missing data."
   ]
  },
  {
   "cell_type": "markdown",
   "metadata": {},
   "source": [
    "Ques 14 - How does a Decision Tree handle categorical features\t\n"
   ]
  },
  {
   "cell_type": "markdown",
   "metadata": {
    "vscode": {
     "languageId": "markdown"
    }
   },
   "source": [
    "Decision Trees can handle categorical features effectively by splitting the data based on the unique categories of the feature. Here are some common approaches:\n",
    "\n",
    "### 1. **One-Hot Encoding**:\n",
    "    - Categorical features are converted into binary columns (one for each category).\n",
    "    - The tree then treats these binary columns as numerical features.\n",
    "\n",
    "### 2. **Label Encoding**:\n",
    "    - Categorical features are assigned numerical labels (e.g., \"A\" = 1, \"B\" = 2).\n",
    "    - The tree uses these numerical labels to split the data.\n",
    "\n",
    "### 3. **Direct Splitting**:\n",
    "    - Some implementations (e.g., CART) can handle categorical features directly by splitting the data based on the unique categories.\n",
    "    - For example, if a feature has categories \"A\", \"B\", and \"C\", the tree can create splits like:\n",
    "      - \"A\" vs. \"B and C\"\n",
    "      - \"A and B\" vs. \"C\"\n",
    "\n",
    "### 4. **Frequency Encoding**:\n",
    "    - Categories are replaced with their frequency or proportion in the dataset.\n",
    "    - The tree uses these frequencies as numerical values for splitting.\n",
    "\n",
    "### 5. **Binary Splits**:\n",
    "    - For features with many categories, the tree may create binary splits by grouping categories based on their impact on the target variable.\n"
   ]
  },
  {
   "cell_type": "markdown",
   "metadata": {},
   "source": [
    "Ques 15 - What are some real-world applications of Decision Trees?"
   ]
  },
  {
   "cell_type": "markdown",
   "metadata": {
    "vscode": {
     "languageId": "markdown"
    }
   },
   "source": [
    "Ans 15 - ### Real-World Applications of Decision Trees:\n",
    "\n",
    "1. **Healthcare**:\n",
    "    - Diagnosing diseases based on patient symptoms and medical history.\n",
    "    - Predicting patient outcomes and treatment effectiveness.\n",
    "\n",
    "2. **Finance**:\n",
    "    - Credit risk assessment and loan approval.\n",
    "    - Fraud detection in transactions.\n",
    "\n",
    "3. **Marketing**:\n",
    "    - Customer segmentation and targeting.\n",
    "    - Predicting customer churn and lifetime value.\n",
    "\n",
    "4. **Retail**:\n",
    "    - Recommending products based on purchase history.\n",
    "    - Inventory management and demand forecasting.\n",
    "\n",
    "5. **Education**:\n",
    "    - Predicting student performance and dropout rates.\n",
    "    - Personalized learning recommendations.\n",
    "\n",
    "6. **Manufacturing**:\n",
    "    - Quality control and defect detection.\n",
    "    - Predictive maintenance of machinery.\n",
    "\n",
    "7. **Energy**:\n",
    "    - Predicting energy consumption and optimizing usage.\n",
    "    - Fault detection in power grids.\n",
    "\n",
    "8. **Environment**:\n",
    "    - Weather prediction and climate modeling.\n",
    "    - Identifying areas at risk of natural disasters.\n",
    "\n",
    "Decision Trees are versatile and widely used across industries due to their interpretability and ability to handle both classification and regression tasks."
   ]
  },
  {
   "cell_type": "markdown",
   "metadata": {},
   "source": [
    "# **PRACTICAL**"
   ]
  },
  {
   "cell_type": "markdown",
   "metadata": {},
   "source": [
    "Ques 16 - Write a Python program to train a Decision Tree Classifier on the Iris dataset and print the model accuracy*\n"
   ]
  },
  {
   "cell_type": "code",
   "execution_count": 1,
   "metadata": {},
   "outputs": [
    {
     "name": "stdout",
     "output_type": "stream",
     "text": [
      "Model Accuracy: 0.93\n"
     ]
    }
   ],
   "source": [
    "from sklearn.datasets import load_iris\n",
    "from sklearn.tree import DecisionTreeClassifier\n",
    "from sklearn.model_selection import train_test_split\n",
    "from sklearn.metrics import accuracy_score\n",
    "\n",
    "# Load the Iris dataset\n",
    "iris = load_iris()\n",
    "X, y = iris.data, iris.target\n",
    "\n",
    "# Split the dataset into training and testing sets\n",
    "X_train, X_test, y_train, y_test = train_test_split(X, y, test_size=0.2, random_state=5)\n",
    "\n",
    "# Train a Decision Tree Classifier\n",
    "clf = DecisionTreeClassifier(random_state=5)\n",
    "clf.fit(X_train, y_train)\n",
    "\n",
    "# Make predictions\n",
    "y_pred = clf.predict(X_test)\n",
    "\n",
    "# Calculate and print the accuracy\n",
    "accuracy = accuracy_score(y_test, y_pred)\n",
    "print(f\"Model Accuracy: {accuracy:.2f}\")"
   ]
  },
  {
   "cell_type": "markdown",
   "metadata": {},
   "source": [
    "Ques 17 - Write a Python program to train a Decision Tree Classifier using Gini Impurity as the criterion and print the feature importances*\n"
   ]
  },
  {
   "cell_type": "code",
   "execution_count": 2,
   "metadata": {},
   "outputs": [
    {
     "name": "stdout",
     "output_type": "stream",
     "text": [
      "Feature Importances: [0.04529617 0.         0.51990828 0.43479556]\n"
     ]
    }
   ],
   "source": [
    "# Train a Decision Tree Classifier using Gini Impurity\n",
    "clf_gini = DecisionTreeClassifier(criterion='gini', random_state=42)\n",
    "clf_gini.fit(X_train, y_train)\n",
    "\n",
    "# Print the feature importances\n",
    "feature_importances = clf_gini.feature_importances_\n",
    "print(\"Feature Importances:\", feature_importances)"
   ]
  },
  {
   "cell_type": "markdown",
   "metadata": {},
   "source": [
    "Ques 18 - Write a Python program to train a Decision Tree Classifier using Entropy as the splitting criterion and print the model accuracy*\n"
   ]
  },
  {
   "cell_type": "code",
   "execution_count": 3,
   "metadata": {},
   "outputs": [
    {
     "name": "stdout",
     "output_type": "stream",
     "text": [
      "Model Accuracy using Entropy: 0.90\n"
     ]
    }
   ],
   "source": [
    "# Train a Decision Tree Classifier using Entropy as the splitting criterion\n",
    "clf_entropy = DecisionTreeClassifier(criterion='entropy', random_state=42)\n",
    "clf_entropy.fit(X_train, y_train)\n",
    "\n",
    "# Make predictions\n",
    "y_pred_entropy = clf_entropy.predict(X_test)\n",
    "\n",
    "# Calculate and print the accuracy\n",
    "accuracy_entropy = accuracy_score(y_test, y_pred_entropy)\n",
    "print(f\"Model Accuracy using Entropy: {accuracy_entropy:.2f}\")"
   ]
  },
  {
   "cell_type": "markdown",
   "metadata": {},
   "source": [
    "Ques 19 - Write a Python program to train a Decision Tree Regressor on a housing dataset and evaluate using Mean Squared Error (MSE)*\n"
   ]
  },
  {
   "cell_type": "code",
   "execution_count": 4,
   "metadata": {},
   "outputs": [
    {
     "name": "stdout",
     "output_type": "stream",
     "text": [
      "Mean Squared Error: 0.50\n"
     ]
    }
   ],
   "source": [
    "from sklearn.datasets import fetch_california_housing\n",
    "from sklearn.tree import DecisionTreeRegressor\n",
    "from sklearn.model_selection import train_test_split\n",
    "from sklearn.metrics import mean_squared_error\n",
    "\n",
    "# Load the California housing dataset\n",
    "housing = fetch_california_housing()\n",
    "X_housing, y_housing = housing.data, housing.target\n",
    "\n",
    "# Split the dataset into training and testing sets\n",
    "X_train_housing, X_test_housing, y_train_housing, y_test_housing = train_test_split(X_housing, y_housing, test_size=0.2, random_state=42)\n",
    "\n",
    "# Train a Decision Tree Regressor\n",
    "regressor = DecisionTreeRegressor(random_state=42)\n",
    "regressor.fit(X_train_housing, y_train_housing)\n",
    "\n",
    "# Make predictions\n",
    "y_pred_housing = regressor.predict(X_test_housing)\n",
    "\n",
    "# Calculate and print the Mean Squared Error\n",
    "mse = mean_squared_error(y_test_housing, y_pred_housing)\n",
    "print(f\"Mean Squared Error: {mse:.2f}\")"
   ]
  },
  {
   "cell_type": "markdown",
   "metadata": {},
   "source": [
    "Ques 20 - Write a Python program to train a Decision Tree Classifier and visualize the tree using graphviz.\n"
   ]
  },
  {
   "cell_type": "markdown",
   "metadata": {},
   "source": [
    "Ques 21 - Write a Python program to train a Decision Tree Classifier with a maximum depth of 3 and compare its accuracy with a fully grown tree.\n"
   ]
  },
  {
   "cell_type": "code",
   "execution_count": null,
   "metadata": {},
   "outputs": [
    {
     "name": "stdout",
     "output_type": "stream",
     "text": [
      "Accuracy with max depth 3: 0.87\n",
      "Accuracy with fully grown tree: 0.93\n"
     ]
    }
   ],
   "source": [
    "# Train a Decision Tree Classifier with a maximum depth of 3\n",
    "clf_max_depth_3 = DecisionTreeClassifier(max_depth=3, random_state=42)\n",
    "clf_max_depth_3.fit(X_train, y_train)\n",
    "\n",
    "# Make predictions with the limited depth tree\n",
    "y_pred_max_depth_3 = clf_max_depth_3.predict(X_test)\n",
    "\n",
    "# Calculate accuracy for the limited depth tree\n",
    "accuracy_max_depth_3 = accuracy_score(y_test, y_pred_max_depth_3)\n",
    "print(f\"Accuracy with max depth 3: {accuracy_max_depth_3:.2f}\")\n",
    "\n",
    "# Compare with the accuracy of the fully grown tree\n",
    "print(f\"Accuracy with fully grown tree: {accuracy:.2f}\")\n"
   ]
  },
  {
   "cell_type": "markdown",
   "metadata": {},
   "source": [
    "Ques 22 - Write a Python program to train a Decision Tree Classifier using min_samples_split=5 and compare its accuracy with a default tree.\n"
   ]
  },
  {
   "cell_type": "code",
   "execution_count": null,
   "metadata": {},
   "outputs": [
    {
     "name": "stdout",
     "output_type": "stream",
     "text": [
      "Accuracy with min_samples_split=5: 0.87\n",
      "Accuracy with default tree: 0.93\n"
     ]
    }
   ],
   "source": [
    "# Train a Decision Tree Classifier using min_samples_split=5\n",
    "clf_min_samples_split = DecisionTreeClassifier(min_samples_split=5, random_state=42)\n",
    "clf_min_samples_split.fit(X_train, y_train)\n",
    "\n",
    "# Make predictions with the min_samples_split=5 tree\n",
    "y_pred_min_samples_split = clf_min_samples_split.predict(X_test)\n",
    "\n",
    "# Calculate accuracy for the min_samples_split=5 tree\n",
    "accuracy_min_samples_split = accuracy_score(y_test, y_pred_min_samples_split)\n",
    "print(f\"Accuracy with min_samples_split=5: {accuracy_min_samples_split:.2f}\")\n",
    "\n",
    "# Compare with the accuracy of the default tree\n",
    "print(f\"Accuracy with default tree: {accuracy:.2f}\")"
   ]
  },
  {
   "cell_type": "markdown",
   "metadata": {},
   "source": [
    "Ques 23 - Write a Python program to apply feature scaling before training a Decision Tree Classifier and compare its accuracy with unscaled data.\n"
   ]
  },
  {
   "cell_type": "code",
   "execution_count": null,
   "metadata": {},
   "outputs": [
    {
     "name": "stdout",
     "output_type": "stream",
     "text": [
      "Accuracy with scaled data: 0.93\n",
      "Accuracy with unscaled data: 0.93\n"
     ]
    }
   ],
   "source": [
    "from sklearn.preprocessing import StandardScaler\n",
    "from sklearn.pipeline import Pipeline\n",
    "\n",
    "# Create a pipeline with feature scaling and Decision Tree Classifier\n",
    "pipeline = Pipeline([\n",
    "    ('scaler', StandardScaler()),\n",
    "    ('classifier', DecisionTreeClassifier(random_state=42))\n",
    "])\n",
    "\n",
    "# Train the pipeline on the training data\n",
    "pipeline.fit(X_train, y_train)\n",
    "\n",
    "# Make predictions with the scaled data\n",
    "y_pred_scaled = pipeline.predict(X_test)\n",
    "\n",
    "# Calculate accuracy for the scaled data\n",
    "accuracy_scaled = accuracy_score(y_test, y_pred_scaled)\n",
    "print(f\"Accuracy with scaled data: {accuracy_scaled:.2f}\")\n",
    "\n",
    "# Compare with the accuracy of the unscaled data\n",
    "print(f\"Accuracy with unscaled data: {accuracy:.2f}\")"
   ]
  },
  {
   "cell_type": "markdown",
   "metadata": {},
   "source": [
    "Ques 24 - Write a Python program to train a Decision Tree Classifier using One-vs-Rest (OvR) strategy for multiclass classification.\n"
   ]
  },
  {
   "cell_type": "code",
   "execution_count": null,
   "metadata": {},
   "outputs": [
    {
     "name": "stdout",
     "output_type": "stream",
     "text": [
      "Accuracy with One-vs-Rest strategy: 0.93\n"
     ]
    }
   ],
   "source": [
    "from sklearn.multiclass import OneVsRestClassifier\n",
    "\n",
    "# Train a Decision Tree Classifier using One-vs-Rest (OvR) strategy\n",
    "ovr_classifier = OneVsRestClassifier(DecisionTreeClassifier(random_state=42))\n",
    "ovr_classifier.fit(X_train, y_train)\n",
    "\n",
    "# Make predictions\n",
    "y_pred_ovr = ovr_classifier.predict(X_test)\n",
    "\n",
    "# Calculate and print the accuracy\n",
    "accuracy_ovr = accuracy_score(y_test, y_pred_ovr)\n",
    "print(f\"Accuracy with One-vs-Rest strategy: {accuracy_ovr:.2f}\")"
   ]
  },
  {
   "cell_type": "markdown",
   "metadata": {},
   "source": [
    "Ques 25 - Write a Python program to train a Decision Tree Classifier and display the feature importance scores.\n"
   ]
  },
  {
   "cell_type": "code",
   "execution_count": null,
   "metadata": {},
   "outputs": [
    {
     "name": "stdout",
     "output_type": "stream",
     "text": [
      "Feature Importance Scores: [0.04529617 0.         0.51990828 0.43479556]\n"
     ]
    }
   ],
   "source": [
    "# Train a Decision Tree Classifier\n",
    "clf_feature_importance = DecisionTreeClassifier(random_state=42)\n",
    "clf_feature_importance.fit(X_train, y_train)\n",
    "\n",
    "# Display the feature importance scores\n",
    "feature_importances = clf_feature_importance.feature_importances_\n",
    "print(\"Feature Importance Scores:\", feature_importances)"
   ]
  },
  {
   "cell_type": "markdown",
   "metadata": {},
   "source": [
    "Ques 26 - Write a Python program to train a Decision Tree Regressor with max_depth=5 and compare its performance with an unrestricted tree.\n"
   ]
  },
  {
   "cell_type": "code",
   "execution_count": null,
   "metadata": {},
   "outputs": [
    {
     "name": "stdout",
     "output_type": "stream",
     "text": [
      "Mean Squared Error with max_depth=5: 0.52\n",
      "Mean Squared Error with unrestricted tree: 0.50\n"
     ]
    }
   ],
   "source": [
    "# Train a Decision Tree Regressor with max_depth=5\n",
    "regressor_max_depth_5 = DecisionTreeRegressor(max_depth=5, random_state=42)\n",
    "regressor_max_depth_5.fit(X_train_housing, y_train_housing)\n",
    "\n",
    "# Make predictions with the restricted depth tree\n",
    "y_pred_max_depth_5 = regressor_max_depth_5.predict(X_test_housing)\n",
    "\n",
    "# Calculate Mean Squared Error for the restricted depth tree\n",
    "mse_max_depth_5 = mean_squared_error(y_test_housing, y_pred_max_depth_5)\n",
    "print(f\"Mean Squared Error with max_depth=5: {mse_max_depth_5:.2f}\")\n",
    "\n",
    "# Compare with the Mean Squared Error of the unrestricted tree\n",
    "print(f\"Mean Squared Error with unrestricted tree: {mse:.2f}\")"
   ]
  },
  {
   "cell_type": "markdown",
   "metadata": {},
   "source": [
    "Ques 27 - Write a Python program to train a Decision Tree Classifier, apply Cost Complexity Pruning (CCP), and visualize its effect on accuracy.\n"
   ]
  },
  {
   "cell_type": "code",
   "execution_count": null,
   "metadata": {},
   "outputs": [
    {
     "data": {
      "image/png": "[encoded data removed]",
      "text/plain": [
       "<Figure size 1000x600 with 1 Axes>"
      ]
     },
     "metadata": {},
     "output_type": "display_data"
    }
   ],
   "source": [
    "from sklearn.tree import DecisionTreeClassifier\n",
    "from sklearn.metrics import accuracy_score\n",
    "\n",
    "import matplotlib.pyplot as plt\n",
    "\n",
    "# Train a Decision Tree Classifier without pruning to get the CCP alphas\n",
    "clf = DecisionTreeClassifier(random_state=42)\n",
    "path = clf.cost_complexity_pruning_path(X_train, y_train)\n",
    "ccp_alphas = path.ccp_alphas\n",
    "\n",
    "# Train and evaluate a Decision Tree Classifier for each alpha\n",
    "train_accuracies = []\n",
    "test_accuracies = []\n",
    "\n",
    "for ccp_alpha in ccp_alphas:\n",
    "    clf = DecisionTreeClassifier(random_state=42, ccp_alpha=ccp_alpha)\n",
    "    clf.fit(X_train, y_train)\n",
    "    train_accuracies.append(accuracy_score(y_train, clf.predict(X_train)))\n",
    "    test_accuracies.append(accuracy_score(y_test, clf.predict(X_test)))\n",
    "\n",
    "# Plot the effect of CCP alpha on accuracy\n",
    "plt.figure(figsize=(10, 6))\n",
    "plt.plot(ccp_alphas, train_accuracies, label=\"Train Accuracy\", marker='o')\n",
    "plt.plot(ccp_alphas, test_accuracies, label=\"Test Accuracy\", marker='o')\n",
    "plt.xlabel(\"CCP Alpha\")\n",
    "plt.ylabel(\"Accuracy\")\n",
    "plt.title(\"Effect of CCP Alpha on Accuracy\")\n",
    "plt.legend()\n",
    "plt.grid()\n",
    "plt.show()"
   ]
  },
  {
   "cell_type": "markdown",
   "metadata": {},
   "source": [
    "Ques 28 - Write a Python program to train a Decision Tree Classifier and evaluate its performance using Precision, Recall, and F1-Score.\n"
   ]
  },
  {
   "cell_type": "code",
   "execution_count": null,
   "metadata": {},
   "outputs": [
    {
     "name": "stdout",
     "output_type": "stream",
     "text": [
      "Precision: 0.94\n",
      "Recall: 0.93\n",
      "F1-Score: 0.93\n"
     ]
    }
   ],
   "source": [
    "from sklearn.metrics import precision_score, recall_score, f1_score\n",
    "\n",
    "# Train a Decision Tree Classifier\n",
    "clf_precision_recall = DecisionTreeClassifier(random_state=42)\n",
    "clf_precision_recall.fit(X_train, y_train)\n",
    "\n",
    "# Make predictions\n",
    "y_pred_precision_recall = clf_precision_recall.predict(X_test)\n",
    "\n",
    "# Calculate Precision, Recall, and F1-Score\n",
    "precision = precision_score(y_test, y_pred_precision_recall, average='weighted')\n",
    "recall = recall_score(y_test, y_pred_precision_recall, average='weighted')\n",
    "f1 = f1_score(y_test, y_pred_precision_recall, average='weighted')\n",
    "\n",
    "# Print the results\n",
    "print(f\"Precision: {precision:.2f}\")\n",
    "print(f\"Recall: {recall:.2f}\")\n",
    "print(f\"F1-Score: {f1:.2f}\")"
   ]
  },
  {
   "cell_type": "markdown",
   "metadata": {},
   "source": [
    "Ques 29 - Write a Python program to train a Decision Tree Classifier and visualize the confusion matrix using seaborn.\n"
   ]
  },
  {
   "cell_type": "code",
   "execution_count": null,
   "metadata": {},
   "outputs": [
    {
     "data": {
      "image/png": "[encoded data removed]",
      "text/plain": [
       "<Figure size 800x600 with 2 Axes>"
      ]
     },
     "metadata": {},
     "output_type": "display_data"
    }
   ],
   "source": [
    "import seaborn as sns\n",
    "from sklearn.metrics import confusion_matrix\n",
    "\n",
    "import matplotlib.pyplot as plt\n",
    "\n",
    "# Train a Decision Tree Classifier\n",
    "clf_confusion_matrix = DecisionTreeClassifier(random_state=42)\n",
    "clf_confusion_matrix.fit(X_train, y_train)\n",
    "\n",
    "# Make predictions\n",
    "y_pred_confusion_matrix = clf_confusion_matrix.predict(X_test)\n",
    "\n",
    "# Compute the confusion matrix\n",
    "conf_matrix = confusion_matrix(y_test, y_pred_confusion_matrix)\n",
    "\n",
    "# Visualize the confusion matrix using seaborn\n",
    "plt.figure(figsize=(8, 6))\n",
    "sns.heatmap(conf_matrix, annot=True, fmt='d', cmap='Blues', xticklabels=iris.target_names, yticklabels=iris.target_names)\n",
    "plt.xlabel('Predicted Labels')\n",
    "plt.ylabel('True Labels')\n",
    "plt.title('Confusion Matrix')\n",
    "plt.show()"
   ]
  },
  {
   "cell_type": "markdown",
   "metadata": {},
   "source": [
    "Ques 30 - Write a Python program to train a Decision Tree Classifier and use GridSearchCV to find the optimal values for max_depth and min_samples_split."
   ]
  },
  {
   "cell_type": "code",
   "execution_count": null,
   "metadata": {},
   "outputs": [
    {
     "name": "stdout",
     "output_type": "stream",
     "text": [
      "Best Parameters: {'max_depth': 3, 'min_samples_split': 2}\n",
      "Best Cross-Validated Accuracy: 0.96\n"
     ]
    }
   ],
   "source": [
    "from sklearn.model_selection import GridSearchCV\n",
    "\n",
    "# Define the parameter grid\n",
    "param_grid = {\n",
    "    'max_depth': [3, 5, 10, None],\n",
    "    'min_samples_split': [2, 5, 10]\n",
    "}\n",
    "\n",
    "# Initialize the Decision Tree Classifier\n",
    "clf = DecisionTreeClassifier(random_state=42)\n",
    "\n",
    "# Perform GridSearchCV\n",
    "grid_search = GridSearchCV(estimator=clf, param_grid=param_grid, cv=5, scoring='accuracy')\n",
    "grid_search.fit(X_train, y_train)\n",
    "\n",
    "# Print the best parameters and the corresponding accuracy\n",
    "print(\"Best Parameters:\", grid_search.best_params_)\n",
    "print(f\"Best Cross-Validated Accuracy: {grid_search.best_score_:.2f}\")"
   ]
  }
 ],
 "metadata": {
  "kernelspec": {
   "display_name": "Python 3",
   "language": "python",
   "name": "python3"
  },
  "language_info": {
   "codemirror_mode": {
    "name": "ipython",
    "version": 3
   },
   "file_extension": ".py",
   "mimetype": "text/x-python",
   "name": "python",
   "nbconvert_exporter": "python",
   "pygments_lexer": "ipython3",
   "version": "3.12.0"
  }
 },
 "nbformat": 4,
 "nbformat_minor": 2
}
