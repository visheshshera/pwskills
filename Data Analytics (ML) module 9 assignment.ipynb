{
 "cells": [
  {
   "cell_type": "markdown",
   "id": "20c16012",
   "metadata": {},
   "source": [
    "# **Theoritical** "
   ]
  },
  {
   "cell_type": "markdown",
   "id": "cda79c25",
   "metadata": {},
   "source": [
    "Ques 1) Can we use Bagging for regression problems?\n"
   ]
  },
  {
   "cell_type": "markdown",
   "id": "95868130",
   "metadata": {},
   "source": [
    "Yes, Bagging can be used for regression problems. In regression, Bagging typically involves training multiple regression models (such as decision tree regressors) on different bootstrap samples of the data and averaging their predictions to produce the final output. This helps to reduce variance and improve the stability and accuracy of the model."
   ]
  },
  {
   "cell_type": "markdown",
   "id": "eff43197",
   "metadata": {},
   "source": [
    "Ques 2) What is the difference between multiple model training and single model training?\n"
   ]
  },
  {
   "cell_type": "markdown",
   "id": "d792859d",
   "metadata": {},
   "source": [
    "Ans 2) Single model training involves training one model on the entire dataset, whereas multiple model training (such as in ensemble methods) involves training several models independently or sequentially and then combining their predictions. Multiple model training can improve accuracy, robustness, and generalization by reducing overfitting and variance compared to a single model."
   ]
  },
  {
   "cell_type": "markdown",
   "id": "76aa929e",
   "metadata": {},
   "source": [
    "Ques 3) Explain the concept of feature randomness in Random Forest2\n"
   ]
  },
  {
   "cell_type": "markdown",
   "id": "928bca02",
   "metadata": {},
   "source": [
    "Ans 3) Feature randomness in Random Forest refers to the process where, at each split in a decision tree, a random subset of features is selected and only those features are considered for splitting. This randomness helps to make the individual trees in the forest less correlated with each other, increasing the diversity among the trees and improving the overall performance and generalization of the Random Forest model."
   ]
  },
  {
   "cell_type": "markdown",
   "id": "e7259582",
   "metadata": {},
   "source": [
    "Ques 4) What is OOB (Out-of-Bag) Score?\n"
   ]
  },
  {
   "cell_type": "markdown",
   "id": "b3e2a58d",
   "metadata": {
    "vscode": {
     "languageId": "bat"
    }
   },
   "source": [
    "Ans 4) The Out-of-Bag (OOB) Score is a performance metric used in ensemble methods like Bagging and Random Forests. When training each tree, a bootstrap sample (random sample with replacement) is drawn from the dataset, leaving out about one-third of the data (the \"out-of-bag\" samples). The OOB samples are not used in training that particular tree and can be used to test its performance. The OOB score is the average prediction accuracy on these out-of-bag samples, providing an unbiased estimate of the model's generalization performance without needing a separate validation set."
   ]
  },
  {
   "cell_type": "markdown",
   "id": "e5b16b26",
   "metadata": {},
   "source": [
    "Ques 5) How can you measure the importance of features in a Random Forest model?\n"
   ]
  },
  {
   "cell_type": "markdown",
   "id": "b3ac3590",
   "metadata": {
    "vscode": {
     "languageId": "markdown"
    }
   },
   "source": [
    "Ans 5) Feature importance in a Random Forest model can be measured by evaluating how much each feature contributes to reducing impurity (such as Gini impurity or entropy) across all the trees in the forest. The most common method is to sum up the decrease in impurity for each feature every time it is used to split a node, averaged over all trees. Another approach is permutation importance, where the values of each feature are randomly shuffled and the decrease in model performance is measured. Features that cause a larger drop in performance are considered more important."
   ]
  },
  {
   "cell_type": "markdown",
   "id": "ef626adf",
   "metadata": {},
   "source": [
    "Ques 6) Explain the working principle of a Bagging Classifier2\n"
   ]
  },
  {
   "cell_type": "markdown",
   "id": "29c1a6c3",
   "metadata": {
    "vscode": {
     "languageId": "markdown"
    }
   },
   "source": [
    "Ans 6) A Bagging Classifier works by creating multiple versions of a base classifier (such as decision trees) using different bootstrap samples (random samples with replacement) from the training data. Each classifier is trained independently on its own sample. When making predictions, the Bagging Classifier aggregates the predictions from all individual classifiers, typically using majority voting for classification tasks. This approach reduces variance, improves stability, and helps prevent overfitting compared to using a single model."
   ]
  },
  {
   "cell_type": "markdown",
   "id": "6435e135",
   "metadata": {},
   "source": [
    "Ques 7) How do you evaluate a Bagging Classifier’s performance?\n"
   ]
  },
  {
   "cell_type": "markdown",
   "id": "f236a2aa",
   "metadata": {},
   "source": [
    "Ans 7) The performance of a Bagging Classifier can be evaluated using standard classification metrics such as accuracy, precision, recall, F1-score, and ROC-AUC, depending on the problem. Typically, the dataset is split into training and testing sets, or cross-validation is used to assess generalization. Additionally, the Out-of-Bag (OOB) score can be used as an unbiased estimate of performance, as it evaluates the classifier on data not seen during the training of each base estimator."
   ]
  },
  {
   "cell_type": "markdown",
   "id": "997e17a7",
   "metadata": {},
   "source": [
    "Ques 8) How does a Bagging Regressor work?\n"
   ]
  },
  {
   "cell_type": "markdown",
   "id": "09e45743",
   "metadata": {},
   "source": [
    "Ans 8) A Bagging Regressor works by training multiple regression models (such as decision tree regressors) on different bootstrap samples of the training data. Each model is trained independently on its own sample. When making predictions, the Bagging Regressor averages the predictions from all individual models to produce the final output. This approach helps to reduce variance, improve stability, and enhance the overall predictive performance compared to a single regressor."
   ]
  },
  {
   "cell_type": "markdown",
   "id": "4811696e",
   "metadata": {},
   "source": [
    "Ques 9) What is the main advantage of ensemble techniques?\n"
   ]
  },
  {
   "cell_type": "markdown",
   "id": "50862353",
   "metadata": {},
   "source": [
    "Ans 9) The main advantage of ensemble techniques is that they combine the predictions of multiple models to improve overall performance, such as accuracy, robustness, and generalization. By aggregating the outputs of diverse models, ensemble methods reduce the risk of overfitting and variance, leading to more reliable and stable predictions compared to using a single model."
   ]
  },
  {
   "cell_type": "markdown",
   "id": "c8203c0f",
   "metadata": {},
   "source": [
    "Ques 10) What is the main challenge of ensemble methods?\n"
   ]
  },
  {
   "cell_type": "markdown",
   "id": "476efc66",
   "metadata": {},
   "source": [
    "Ans 10) The main challenge of ensemble methods is their increased complexity and computational cost compared to single models. Training and maintaining multiple models require more resources, and interpreting the results can be more difficult. Additionally, if not properly managed, ensemble methods can lead to overfitting, especially when the base models are too complex or not sufficiently diverse."
   ]
  },
  {
   "cell_type": "markdown",
   "id": "26265ab6",
   "metadata": {},
   "source": [
    "Ques 11) Explain the key idea behind ensemble techniques2\n"
   ]
  },
  {
   "cell_type": "markdown",
   "id": "1011dcbe",
   "metadata": {
    "vscode": {
     "languageId": "markdown"
    }
   },
   "source": [
    "Ans 11) The key idea behind ensemble techniques is to combine the predictions of multiple models to achieve better performance than any single model could provide. By aggregating the outputs of diverse models, ensemble methods can reduce variance, bias, and the risk of overfitting, leading to more accurate, robust, and generalizable predictions. Common ensemble approaches include bagging, boosting, and stacking."
   ]
  },
  {
   "cell_type": "markdown",
   "id": "81f58fc5",
   "metadata": {},
   "source": [
    "Ques 12) What is a Random Forest Classifier?\n"
   ]
  },
  {
   "cell_type": "markdown",
   "id": "369428a8",
   "metadata": {},
   "source": [
    "Ans 12) A Random Forest Classifier is an ensemble learning method used for classification tasks. It builds multiple decision trees during training, each on a different random subset of the data and features. The final prediction is made by aggregating the predictions of all individual trees, typically using majority voting. This approach increases accuracy, reduces overfitting, and improves generalization compared to a single decision tree."
   ]
  },
  {
   "cell_type": "markdown",
   "id": "69a5d799",
   "metadata": {},
   "source": [
    "Ques 13) What are the main types of ensemble techniques?\n"
   ]
  },
  {
   "cell_type": "markdown",
   "id": "b76babbc",
   "metadata": {
    "vscode": {
     "languageId": "markdown"
    }
   },
   "source": [
    "Ans 13) The main types of ensemble techniques are:\n",
    "\n",
    "1. Bagging (Bootstrap Aggregating): Trains multiple models independently on different bootstrap samples and combines their predictions, typically by averaging (regression) or voting (classification).\n",
    "2. Boosting: Trains models sequentially, where each new model focuses on correcting the errors of the previous ones. The final prediction is a weighted combination of all models.\n",
    "3. Stacking: Combines multiple different models (base learners) and uses another model (meta-learner) to learn how to best combine their predictions."
   ]
  },
  {
   "cell_type": "markdown",
   "id": "00ecdd22",
   "metadata": {},
   "source": [
    "Ques 14) What is ensemble learning in machine learning?\n"
   ]
  },
  {
   "cell_type": "markdown",
   "id": "230b8b22",
   "metadata": {
    "vscode": {
     "languageId": "markdown"
    }
   },
   "source": [
    "Ans 14) Ensemble learning in machine learning is a technique that combines the predictions of multiple models to improve overall performance, such as accuracy and robustness. By aggregating the outputs of diverse models, ensemble methods can reduce errors due to variance, bias, or noise, leading to more reliable and generalizable results compared to using a single model. Common ensemble methods include bagging, boosting, and stacking."
   ]
  },
  {
   "cell_type": "markdown",
   "id": "1a7cf624",
   "metadata": {},
   "source": [
    "Ques 15) When should we avoid using ensemble methods?\n"
   ]
  },
  {
   "cell_type": "markdown",
   "id": "fe16717e",
   "metadata": {},
   "source": [
    "Ans 15) Ensemble methods should be avoided when the base models are already performing very well and there is little room for improvement, as ensembles add complexity and computational cost. They may also be unnecessary for small datasets, where simpler models are less likely to overfit. Additionally, if interpretability is a priority, ensemble methods can make it harder to understand and explain the model's decisions."
   ]
  },
  {
   "cell_type": "markdown",
   "id": "91831cfb",
   "metadata": {},
   "source": [
    "Ques 16) How does Bagging help in reducing overfitting?\n"
   ]
  },
  {
   "cell_type": "markdown",
   "id": "8bb28e86",
   "metadata": {},
   "source": [
    "Ans 16) Bagging helps in reducing overfitting by training multiple models on different random subsets (bootstrap samples) of the training data and then aggregating their predictions. This process reduces the variance of the model, as the errors made by individual models tend to cancel each other out when combined. As a result, the ensemble is less likely to overfit to noise or specific patterns in the training data, leading to better generalization on unseen data."
   ]
  },
  {
   "cell_type": "markdown",
   "id": "55a443d6",
   "metadata": {},
   "source": [
    "Ques 17) Why is Random Forest better than a single Decision Tree?\n"
   ]
  },
  {
   "cell_type": "markdown",
   "id": "a4a8b565",
   "metadata": {},
   "source": [
    "Ans 17) Random Forest is better than a single Decision Tree because it combines the predictions of multiple decision trees, each trained on different random subsets of the data and features. This ensemble approach reduces overfitting, increases accuracy, and improves generalization by averaging out the errors and biases of individual trees. As a result, Random Forest models are more robust and reliable compared to a single decision tree, which can be sensitive to noise and prone to overfitting."
   ]
  },
  {
   "cell_type": "markdown",
   "id": "7d5fe0e2",
   "metadata": {},
   "source": [
    "Ques 18) What is the role of bootstrap sampling in Bagging?\n"
   ]
  },
  {
   "cell_type": "markdown",
   "id": "2a6147fa",
   "metadata": {},
   "source": [
    "Ans 18) Bootstrap sampling in Bagging involves creating multiple random samples from the original dataset, with replacement. Each sample is used to train a separate base model. This process introduces diversity among the models, as each one sees a slightly different subset of the data. The aggregation of predictions from these diverse models helps to reduce variance, improve stability, and enhance the overall performance of the ensemble compared to a single model trained on the entire dataset."
   ]
  },
  {
   "cell_type": "markdown",
   "id": "637f7780",
   "metadata": {},
   "source": [
    "Ques 19) What are some real-world applications of ensemble techniques?\n"
   ]
  },
  {
   "cell_type": "markdown",
   "id": "89c7c9c1",
   "metadata": {
    "vscode": {
     "languageId": "markdown"
    }
   },
   "source": [
    "Ans 19) Ensemble techniques are widely used in real-world applications due to their ability to improve prediction accuracy and robustness. Some common applications include:\n",
    "\n",
    "1. Fraud detection in banking and finance, where ensemble models help identify suspicious transactions.\n",
    "2. Medical diagnosis, where combining multiple models improves the reliability of disease prediction.\n",
    "3. Image and speech recognition, where ensembles enhance the performance of classification systems.\n",
    "4. Recommendation systems, such as those used by e-commerce and streaming platforms, to provide better personalized suggestions.\n",
    "5. Credit scoring, where ensemble methods help assess the creditworthiness of individuals more accurately.\n",
    "6. Weather forecasting and climate modeling, where combining predictions from multiple models leads to more reliable forecasts."
   ]
  },
  {
   "cell_type": "markdown",
   "id": "475d2561",
   "metadata": {},
   "source": [
    "Ques 20) What is the difference between Bagging and Boosting?"
   ]
  },
  {
   "cell_type": "markdown",
   "id": "c330642e",
   "metadata": {
    "vscode": {
     "languageId": "markdown"
    }
   },
   "source": [
    "Ans 20) Bagging (Bootstrap Aggregating) and Boosting are both ensemble techniques, but they differ in how they build and combine models:\n",
    "\n",
    "- Bagging trains multiple base models independently on different random subsets (with replacement) of the training data and combines their predictions (by averaging for regression or voting for classification). It mainly helps to reduce variance and prevent overfitting.\n",
    "\n",
    "- Boosting trains base models sequentially, where each new model focuses on correcting the errors of the previous ones. The predictions are combined in a weighted manner. Boosting aims to reduce both bias and variance, often resulting in higher accuracy but with a higher risk of overfitting if not properly regularized."
   ]
  },
  {
   "cell_type": "markdown",
   "id": "59593f99",
   "metadata": {},
   "source": [
    "# **Practical** "
   ]
  },
  {
   "cell_type": "markdown",
   "id": "9b7c9730",
   "metadata": {},
   "source": [
    "Ques 21) Train a Bagging Classifier using Decision Trees on a sample dataset and print model accuracy?\n"
   ]
  },
  {
   "cell_type": "code",
   "execution_count": 2,
   "id": "4a5a34ea",
   "metadata": {},
   "outputs": [
    {
     "name": "stdout",
     "output_type": "stream",
     "text": [
      "Bagging Classifier Accuracy: 0.9259\n"
     ]
    }
   ],
   "source": [
    "from sklearn.datasets import load_wine\n",
    "from sklearn.model_selection import train_test_split\n",
    "from sklearn.tree import DecisionTreeClassifier\n",
    "from sklearn.ensemble import BaggingClassifier\n",
    "from sklearn.metrics import accuracy_score\n",
    "\n",
    "# Load the Wine dataset\n",
    "data = load_wine()\n",
    "X, y = data.data, data.target\n",
    "\n",
    "# Split into train and test sets\n",
    "X_train, X_test, y_train, y_test = train_test_split(X, y, test_size=0.3, random_state=42)\n",
    "\n",
    "# Train a Bagging Classifier using Decision Trees\n",
    "bagging_clf = BaggingClassifier(estimator=DecisionTreeClassifier(), random_state=42)\n",
    "bagging_clf.fit(X_train, y_train)\n",
    "\n",
    "# Predict and print accuracy\n",
    "y_pred = bagging_clf.predict(X_test)\n",
    "accuracy = accuracy_score(y_test, y_pred)\n",
    "print(f\"Bagging Classifier Accuracy: {accuracy:.4f}\")"
   ]
  },
  {
   "cell_type": "markdown",
   "id": "afdc352c",
   "metadata": {},
   "source": [
    "Ques 22) Train a Bagging Regressor using Decision Trees and evaluate using Mean Squared Error (MSE)?\n"
   ]
  },
  {
   "cell_type": "code",
   "execution_count": 4,
   "id": "4ebbcb67",
   "metadata": {},
   "outputs": [
    {
     "name": "stdout",
     "output_type": "stream",
     "text": [
      "Bagging Regressor Mean Squared Error: 0.0659\n"
     ]
    }
   ],
   "source": [
    "from sklearn.ensemble import BaggingRegressor\n",
    "from sklearn.tree import DecisionTreeRegressor\n",
    "from sklearn.metrics import mean_squared_error\n",
    "\n",
    "# Train a Bagging Regressor using Decision Trees\n",
    "bagging_reg = BaggingRegressor(estimator=DecisionTreeRegressor(), random_state=42)\n",
    "bagging_reg.fit(X_train, y_train)\n",
    "\n",
    "# Predict and evaluate using Mean Squared Error (MSE)\n",
    "y_pred_reg = bagging_reg.predict(X_test)\n",
    "mse = mean_squared_error(y_test, y_pred_reg)\n",
    "print(f\"Bagging Regressor Mean Squared Error: {mse:.4f}\")"
   ]
  },
  {
   "cell_type": "markdown",
   "id": "9d528021",
   "metadata": {},
   "source": [
    "Ques 23) Train a Random Forest Classifier on the Breast Cancer dataset and print feature importance scores?\n"
   ]
  },
  {
   "cell_type": "code",
   "execution_count": 5,
   "id": "2ef4c664",
   "metadata": {},
   "outputs": [
    {
     "name": "stdout",
     "output_type": "stream",
     "text": [
      "mean radius: 0.0323\n",
      "mean texture: 0.0111\n",
      "mean perimeter: 0.0601\n",
      "mean area: 0.0538\n",
      "mean smoothness: 0.0062\n",
      "mean compactness: 0.0092\n",
      "mean concavity: 0.0806\n",
      "mean concave points: 0.1419\n",
      "mean symmetry: 0.0033\n",
      "mean fractal dimension: 0.0031\n",
      "radius error: 0.0164\n",
      "texture error: 0.0032\n",
      "perimeter error: 0.0118\n",
      "area error: 0.0295\n",
      "smoothness error: 0.0059\n",
      "compactness error: 0.0046\n",
      "concavity error: 0.0058\n",
      "concave points error: 0.0034\n",
      "symmetry error: 0.0040\n",
      "fractal dimension error: 0.0071\n",
      "worst radius: 0.0780\n",
      "worst texture: 0.0188\n",
      "worst perimeter: 0.0743\n",
      "worst area: 0.1182\n",
      "worst smoothness: 0.0118\n",
      "worst compactness: 0.0175\n",
      "worst concavity: 0.0411\n",
      "worst concave points: 0.1271\n",
      "worst symmetry: 0.0129\n",
      "worst fractal dimension: 0.0069\n"
     ]
    }
   ],
   "source": [
    "from sklearn.datasets import load_breast_cancer\n",
    "from sklearn.ensemble import RandomForestClassifier\n",
    "from sklearn.model_selection import train_test_split\n",
    "\n",
    "# Load the Breast Cancer dataset\n",
    "bc_data = load_breast_cancer()\n",
    "X_bc, y_bc = bc_data.data, bc_data.target\n",
    "\n",
    "# Split into train and test sets\n",
    "X_bc_train, X_bc_test, y_bc_train, y_bc_test = train_test_split(X_bc, y_bc, test_size=0.3, random_state=42)\n",
    "\n",
    "# Train a Random Forest Classifier\n",
    "rf_clf = RandomForestClassifier(random_state=42)\n",
    "rf_clf.fit(X_bc_train, y_bc_train)\n",
    "\n",
    "# Print feature importance scores\n",
    "importances = rf_clf.feature_importances_\n",
    "for name, score in zip(bc_data.feature_names, importances):\n",
    "    print(f\"{name}: {score:.4f}\")"
   ]
  },
  {
   "cell_type": "markdown",
   "id": "0a73166a",
   "metadata": {},
   "source": [
    "Ques 24) Train a Random Forest Regressor and compare its performance with a single?Decision Tree2\n"
   ]
  },
  {
   "cell_type": "code",
   "execution_count": 6,
   "id": "d7ae4608",
   "metadata": {},
   "outputs": [
    {
     "name": "stdout",
     "output_type": "stream",
     "text": [
      "Decision Tree Regressor MSE: 0.1481\n",
      "Random Forest Regressor MSE: 0.0572\n"
     ]
    }
   ],
   "source": [
    "from sklearn.ensemble import RandomForestRegressor\n",
    "from sklearn.metrics import mean_squared_error\n",
    "\n",
    "# Train a single Decision Tree Regressor\n",
    "dt_reg = DecisionTreeRegressor(random_state=42)\n",
    "dt_reg.fit(X_train, y_train)\n",
    "y_pred_dt = dt_reg.predict(X_test)\n",
    "mse_dt = mean_squared_error(y_test, y_pred_dt)\n",
    "\n",
    "# Train a Random Forest Regressor\n",
    "rf_reg = RandomForestRegressor(random_state=42)\n",
    "rf_reg.fit(X_train, y_train)\n",
    "y_pred_rf = rf_reg.predict(X_test)\n",
    "mse_rf = mean_squared_error(y_test, y_pred_rf)\n",
    "\n",
    "print(f\"Decision Tree Regressor MSE: {mse_dt:.4f}\")\n",
    "print(f\"Random Forest Regressor MSE: {mse_rf:.4f}\")"
   ]
  },
  {
   "cell_type": "markdown",
   "id": "d58479c4",
   "metadata": {},
   "source": [
    "Ques 25) Compute the Out-of-Bag (OOB) Score for a Random Forest Classifier\n"
   ]
  },
  {
   "cell_type": "code",
   "execution_count": 7,
   "id": "6d9ad8bc",
   "metadata": {},
   "outputs": [
    {
     "name": "stdout",
     "output_type": "stream",
     "text": [
      "Random Forest Classifier OOB Score: 0.9839\n"
     ]
    }
   ],
   "source": [
    "# Train a Random Forest Classifier with OOB score enabled\n",
    "rf_clf_oob = RandomForestClassifier(oob_score=True, random_state=42)\n",
    "rf_clf_oob.fit(X_train, y_train)\n",
    "\n",
    "# Print the OOB score\n",
    "print(f\"Random Forest Classifier OOB Score: {rf_clf_oob.oob_score_:.4f}\")"
   ]
  },
  {
   "cell_type": "markdown",
   "id": "9937763e",
   "metadata": {},
   "source": [
    "Ques 26) Train a Bagging Classifier using SVM as a base estimator and print accuracy?\n"
   ]
  },
  {
   "cell_type": "code",
   "execution_count": 8,
   "id": "266e618a",
   "metadata": {},
   "outputs": [
    {
     "name": "stdout",
     "output_type": "stream",
     "text": [
      "Bagging Classifier (SVM) Accuracy: 0.7037\n"
     ]
    }
   ],
   "source": [
    "from sklearn.svm import SVC\n",
    "\n",
    "# Train a Bagging Classifier using SVM as the base estimator\n",
    "bagging_svm = BaggingClassifier(estimator=SVC(), random_state=42)\n",
    "bagging_svm.fit(X_train, y_train)\n",
    "\n",
    "# Predict and print accuracy\n",
    "y_pred_svm = bagging_svm.predict(X_test)\n",
    "accuracy_svm = accuracy_score(y_test, y_pred_svm)\n",
    "print(f\"Bagging Classifier (SVM) Accuracy: {accuracy_svm:.4f}\")"
   ]
  },
  {
   "cell_type": "markdown",
   "id": "e37bf52d",
   "metadata": {},
   "source": [
    "Ques 27) Train a Random Forest Classifier with different numbers of trees and compare accuracy?\n"
   ]
  },
  {
   "cell_type": "code",
   "execution_count": 9,
   "id": "84840dba",
   "metadata": {},
   "outputs": [
    {
     "name": "stdout",
     "output_type": "stream",
     "text": [
      "n_estimators=1: Accuracy=0.7963\n",
      "n_estimators=10: Accuracy=0.9259\n",
      "n_estimators=50: Accuracy=1.0000\n",
      "n_estimators=100: Accuracy=1.0000\n",
      "n_estimators=200: Accuracy=1.0000\n"
     ]
    },
    {
     "data": {
      "image/png": "[encoded data removed]",
      "text/plain": [
       "<Figure size 640x480 with 1 Axes>"
      ]
     },
     "metadata": {},
     "output_type": "display_data"
    }
   ],
   "source": [
    "from sklearn.metrics import accuracy_score\n",
    "\n",
    "# Try different numbers of trees\n",
    "n_estimators_list = [1, 10, 50, 100, 200]\n",
    "accuracies = []\n",
    "\n",
    "for n in n_estimators_list:\n",
    "    rf = RandomForestClassifier(n_estimators=n, random_state=42)\n",
    "    rf.fit(X_train, y_train)\n",
    "    y_pred_rf = rf.predict(X_test)\n",
    "    acc = accuracy_score(y_test, y_pred_rf)\n",
    "    accuracies.append(acc)\n",
    "    print(f\"n_estimators={n}: Accuracy={acc:.4f}\")\n",
    "\n",
    "# Optionally, plot the results\n",
    "import matplotlib.pyplot as plt\n",
    "\n",
    "plt.plot(n_estimators_list, accuracies, marker='o')\n",
    "plt.xlabel('Number of Trees (n_estimators)')\n",
    "plt.ylabel('Accuracy')\n",
    "plt.title('Random Forest Accuracy vs Number of Trees')\n",
    "plt.show()"
   ]
  },
  {
   "cell_type": "markdown",
   "id": "44b46b42",
   "metadata": {},
   "source": [
    "Ques 28) Train a Bagging Classifier using Logistic Regression as a base estimator and print AUC score?\n"
   ]
  },
  {
   "cell_type": "code",
   "execution_count": 25,
   "id": "0d37adaf",
   "metadata": {},
   "outputs": [
    {
     "name": "stdout",
     "output_type": "stream",
     "text": [
      "Bagging Classifier (Logistic Regression) AUC Score: 0.9225\n"
     ]
    }
   ],
   "source": [
    "from sklearn.linear_model import LogisticRegression\n",
    "from sklearn.ensemble import BaggingClassifier\n",
    "from sklearn.metrics import roc_auc_score\n",
    "\n",
    "# Train a Bagging Classifier using Logistic Regression as the base estimator\n",
    "bagging_lr = BaggingClassifier(estimator=LogisticRegression(max_iter=1000, random_state=42), random_state=42)\n",
    "bagging_lr.fit(X_train, y_train)\n",
    "\n",
    "# Predict probabilities for the positive class\n",
    "y_proba_lr = bagging_lr.predict_proba(X_test)[:, 1]\n",
    "\n",
    "# Compute and print the AUC score\n",
    "auc_score = roc_auc_score(y_test, y_proba_lr)\n",
    "print(f\"Bagging Classifier (Logistic Regression) AUC Score: {auc_score:.4f}\")"
   ]
  },
  {
   "cell_type": "markdown",
   "id": "a52f23e8",
   "metadata": {},
   "source": [
    "Ques 29) Train a Random Forest Regressor and analyze feature importance scores?\n"
   ]
  },
  {
   "cell_type": "code",
   "execution_count": 27,
   "id": "bcea75a5",
   "metadata": {},
   "outputs": [
    {
     "name": "stdout",
     "output_type": "stream",
     "text": [
      "feature_0: 0.0087\n",
      "feature_1: 0.0153\n",
      "feature_2: 0.0173\n",
      "feature_3: 0.0117\n",
      "feature_4: 0.0106\n",
      "feature_5: 0.6226\n",
      "feature_6: 0.0157\n",
      "feature_7: 0.0141\n",
      "feature_8: 0.0122\n",
      "feature_9: 0.0131\n",
      "feature_10: 0.0089\n",
      "feature_11: 0.0239\n",
      "feature_12: 0.0167\n",
      "feature_13: 0.0104\n",
      "feature_14: 0.1208\n",
      "feature_15: 0.0143\n",
      "feature_16: 0.0147\n",
      "feature_17: 0.0135\n",
      "feature_18: 0.0227\n",
      "feature_19: 0.0126\n"
     ]
    }
   ],
   "source": [
    "from sklearn.ensemble import RandomForestRegressor\n",
    "\n",
    "# Train a Random Forest Regressor\n",
    "rf_reg = RandomForestRegressor(random_state=42)\n",
    "rf_reg.fit(X_train, y_train)\n",
    "\n",
    "# Get feature importances\n",
    "importances = rf_reg.feature_importances_\n",
    "\n",
    "# If X_train is a DataFrame, get feature names; otherwise, use generic names\n",
    "if hasattr(X_train, 'columns'):\n",
    "    feature_names = X_train.columns\n",
    "else:\n",
    "    feature_names = [f'feature_{i}' for i in range(X_train.shape[1])]\n",
    "\n",
    "# Print feature importance scores\n",
    "for name, score in zip(feature_names, importances):\n",
    "    print(f\"{name}: {score:.4f}\")"
   ]
  },
  {
   "cell_type": "markdown",
   "id": "c8938fd5",
   "metadata": {},
   "source": [
    "Ques 30) Train an ensemble model using both Bagging and Random Forest and compare accuracy.\n"
   ]
  },
  {
   "cell_type": "code",
   "execution_count": 28,
   "id": "9ef76ac5",
   "metadata": {},
   "outputs": [
    {
     "name": "stdout",
     "output_type": "stream",
     "text": [
      "Bagging Classifier Accuracy:      0.8850\n",
      "Random Forest Classifier Accuracy: 0.9000\n"
     ]
    }
   ],
   "source": [
    "from sklearn.ensemble import BaggingClassifier, RandomForestClassifier\n",
    "from sklearn.metrics import accuracy_score\n",
    "\n",
    "# Train a Bagging Classifier\n",
    "bagging_clf = BaggingClassifier(random_state=42)\n",
    "bagging_clf.fit(X_train, y_train)\n",
    "y_pred_bag = bagging_clf.predict(X_test)\n",
    "acc_bag = accuracy_score(y_test, y_pred_bag)\n",
    "\n",
    "# Train a Random Forest Classifier\n",
    "rf_clf = RandomForestClassifier(random_state=42)\n",
    "rf_clf.fit(X_train, y_train)\n",
    "y_pred_rf = rf_clf.predict(X_test)\n",
    "acc_rf = accuracy_score(y_test, y_pred_rf)\n",
    "\n",
    "print(f\"Bagging Classifier Accuracy:      {acc_bag:.4f}\")\n",
    "print(f\"Random Forest Classifier Accuracy: {acc_rf:.4f}\")"
   ]
  },
  {
   "cell_type": "markdown",
   "id": "12f35537",
   "metadata": {},
   "source": [
    "Ques 31) Train a Random Forest Classifier and tune hyperparameters using GridSearchCV?\n"
   ]
  },
  {
   "cell_type": "code",
   "execution_count": null,
   "id": "f70bf204",
   "metadata": {},
   "outputs": [
    {
     "name": "stdout",
     "output_type": "stream",
     "text": [
      "Best Parameters: {'max_depth': 10, 'min_samples_leaf': 2, 'min_samples_split': 5, 'n_estimators': 50}\n",
      "Best Cross-Validation Accuracy: 0.8975\n",
      "Test Set Accuracy: 0.8850\n"
     ]
    }
   ],
   "source": [
    "from sklearn.model_selection import GridSearchCV\n",
    "\n",
    "\n",
    "param_grid = {\n",
    "    'n_estimators': [50, 100, 200],\n",
    "    'max_depth': [None, 5, 10],\n",
    "    'min_samples_split': [2, 5],\n",
    "    'min_samples_leaf': [1, 2]\n",
    "}\n",
    "\n",
    "\n",
    "rf = RandomForestClassifier(random_state=42)\n",
    "\n",
    "\n",
    "grid_search = GridSearchCV(\n",
    "    estimator=rf,\n",
    "    param_grid=param_grid,\n",
    "    cv=5,\n",
    "    scoring='accuracy',\n",
    "    n_jobs=-1\n",
    ")\n",
    "\n",
    "grid_search.fit(X_train, y_train)\n",
    "\n",
    "\n",
    "print(\"Best Parameters:\", grid_search.best_params_)\n",
    "print(f\"Best Cross-Validation Accuracy: {grid_search.best_score_:.4f}\")\n",
    "\n",
    "\n",
    "best_rf = grid_search.best_estimator_\n",
    "test_accuracy = best_rf.score(X_test, y_test)\n",
    "print(f\"Test Set Accuracy: {test_accuracy:.4f}\")"
   ]
  },
  {
   "cell_type": "markdown",
   "id": "301530a7",
   "metadata": {},
   "source": [
    "Ques 32) Train a Bagging Regressor with different numbers of base estimators and compare performance?\n"
   ]
  },
  {
   "cell_type": "code",
   "execution_count": 31,
   "id": "fcc75ec9",
   "metadata": {},
   "outputs": [
    {
     "name": "stdout",
     "output_type": "stream",
     "text": [
      "n_estimators=1: MSE=0.1750\n",
      "n_estimators=5: MSE=0.1006\n",
      "n_estimators=10: MSE=0.0974\n",
      "n_estimators=20: MSE=0.0884\n",
      "n_estimators=50: MSE=0.0893\n",
      "n_estimators=100: MSE=0.0862\n"
     ]
    },
    {
     "data": {
      "image/png": "[encoded data removed]",
      "text/plain": [
       "<Figure size 640x480 with 1 Axes>"
      ]
     },
     "metadata": {},
     "output_type": "display_data"
    }
   ],
   "source": [
    "from sklearn.ensemble import BaggingRegressor\n",
    "from sklearn.tree import DecisionTreeRegressor\n",
    "from sklearn.metrics import mean_squared_error\n",
    "\n",
    "import matplotlib.pyplot as plt\n",
    "\n",
    "# Try different numbers of base estimators\n",
    "n_estimators_list = [1, 5, 10, 20, 50, 100]\n",
    "mse_list = []\n",
    "\n",
    "for n in n_estimators_list:\n",
    "    bagging_reg = BaggingRegressor(\n",
    "        estimator=DecisionTreeRegressor(),\n",
    "        n_estimators=n,\n",
    "        random_state=42\n",
    "    )\n",
    "    bagging_reg.fit(X_train, y_train)\n",
    "    y_pred = bagging_reg.predict(X_test)\n",
    "    mse = mean_squared_error(y_test, y_pred)\n",
    "    mse_list.append(mse)\n",
    "    print(f\"n_estimators={n}: MSE={mse:.4f}\")\n",
    "\n",
    "# Plot the results\n",
    "plt.plot(n_estimators_list, mse_list, marker='o')\n",
    "plt.xlabel('Number of Base Estimators')\n",
    "plt.ylabel('Mean Squared Error')\n",
    "plt.title('Bagging Regressor Performance vs Number of Estimators')\n",
    "plt.show()"
   ]
  },
  {
   "cell_type": "markdown",
   "id": "161da732",
   "metadata": {},
   "source": [
    "Ques 33) Train a Random Forest Classifier and analyze misclassified samples?\n"
   ]
  },
  {
   "cell_type": "code",
   "execution_count": 24,
   "id": "c281ab0e",
   "metadata": {},
   "outputs": [
    {
     "name": "stdout",
     "output_type": "stream",
     "text": [
      "     feature_0  feature_1  feature_2  feature_3  feature_4  feature_5  \\\n",
      "740   2.890643   0.838689  -0.817095   0.252231   0.939029  -0.812271   \n",
      "859  -0.091845   0.010092  -0.942558  -0.736770  -0.322028   0.612722   \n",
      "319   0.460825   0.308706  -1.399682  -0.290454  -1.163043  -0.184855   \n",
      "986   2.212531  -0.216794   0.212740  -0.825654  -0.431126   0.925421   \n",
      "346   0.415837  -0.158459   0.504288   0.013450  -0.507009   0.850248   \n",
      "\n",
      "     feature_6  feature_7  feature_8  feature_9  ...  feature_12  feature_13  \\\n",
      "740   0.188670  -0.715338  -0.367863  -0.003358  ...    1.486159    1.548918   \n",
      "859   1.614779   0.585904   0.548320  -0.844941  ...    0.218534   -1.415267   \n",
      "319  -0.249370   1.462255  -0.081067   0.284755  ...    1.428760    1.072542   \n",
      "986   0.782874   0.444774  -0.728077  -2.086478  ...    0.364140    0.149363   \n",
      "346   0.290965   1.784775   0.957932  -1.073328  ...   -0.928792   -0.224853   \n",
      "\n",
      "     feature_14  feature_15  feature_16  feature_17  feature_18  feature_19  \\\n",
      "740   -1.179530   -1.950078    0.703796    1.484521    0.663881    0.051359   \n",
      "859   -0.680131    1.009472   -0.087435   -1.499016   -0.195830    1.669070   \n",
      "319   -0.556254    1.434310    1.048400   -1.963289    0.206994   -2.219778   \n",
      "986   -0.460487    0.007178   -0.360039    0.160490   -0.405863    0.258661   \n",
      "346   -0.522550    2.935658    0.600213   -0.428848   -0.353572    0.360393   \n",
      "\n",
      "     true_label  predicted_label  \n",
      "740           1                0  \n",
      "859           0                1  \n",
      "319           1                0  \n",
      "986           0                1  \n",
      "346           0                1  \n",
      "\n",
      "[5 rows x 22 columns]\n",
      "Total misclassified samples: 20\n"
     ]
    }
   ],
   "source": [
    "# Train a Random Forest Classifier\n",
    "rf_misclf = RandomForestClassifier(random_state=42)\n",
    "rf_misclf.fit(X_train, y_train)\n",
    "\n",
    "# Predict on the test set\n",
    "y_pred_misclf = rf_misclf.predict(X_test)\n",
    "\n",
    "# Find misclassified samples\n",
    "misclassified = X_test[y_pred_misclf != y_test]\n",
    "misclassified_true = y_test[y_pred_misclf != y_test]\n",
    "misclassified_pred = y_pred_misclf[y_pred_misclf != y_test]\n",
    "\n",
    "# Display misclassified samples with their true and predicted labels\n",
    "result = misclassified.copy()\n",
    "result['true_label'] = misclassified_true\n",
    "result['predicted_label'] = misclassified_pred\n",
    "print(result.head())\n",
    "print(f\"Total misclassified samples: {len(result)}\")"
   ]
  },
  {
   "cell_type": "markdown",
   "id": "a67da478",
   "metadata": {},
   "source": [
    "Ques 34) Train a Bagging Classifier and compare its performance with a single Decision Tree Classifier?\n"
   ]
  },
  {
   "cell_type": "code",
   "execution_count": 23,
   "id": "5b0cc655",
   "metadata": {},
   "outputs": [
    {
     "name": "stdout",
     "output_type": "stream",
     "text": [
      "Decision Tree Classifier Accuracy: 0.8750\n",
      "Bagging Classifier Accuracy:      0.8850\n"
     ]
    }
   ],
   "source": [
    "from sklearn.metrics import accuracy_score\n",
    "\n",
    "# Train a single Decision Tree Classifier\n",
    "dt_clf = DecisionTreeClassifier(random_state=42)\n",
    "dt_clf.fit(X_train, y_train)\n",
    "y_pred_dt = dt_clf.predict(X_test)\n",
    "acc_dt = accuracy_score(y_test, y_pred_dt)\n",
    "\n",
    "# Train a Bagging Classifier\n",
    "bagging_clf = BaggingClassifier(random_state=42)\n",
    "bagging_clf.fit(X_train, y_train)\n",
    "y_pred_bag = bagging_clf.predict(X_test)\n",
    "acc_bag = accuracy_score(y_test, y_pred_bag)\n",
    "\n",
    "print(f\"Decision Tree Classifier Accuracy: {acc_dt:.4f}\")\n",
    "print(f\"Bagging Classifier Accuracy:      {acc_bag:.4f}\")"
   ]
  },
  {
   "cell_type": "markdown",
   "id": "d22d9df5",
   "metadata": {},
   "source": [
    "Ques 35) Train a Random Forest Classifier and visualize the confusion matrix?\n"
   ]
  },
  {
   "cell_type": "code",
   "execution_count": 22,
   "id": "0643fcb6",
   "metadata": {},
   "outputs": [
    {
     "data": {
      "image/png": "[encoded data removed]",
      "text/plain": [
       "<Figure size 640x480 with 2 Axes>"
      ]
     },
     "metadata": {},
     "output_type": "display_data"
    }
   ],
   "source": [
    "from sklearn.metrics import confusion_matrix, ConfusionMatrixDisplay\n",
    "\n",
    "# Train a Random Forest Classifier\n",
    "rf_cm = RandomForestClassifier(random_state=42)\n",
    "rf_cm.fit(X_train, y_train)\n",
    "\n",
    "# Predict on the test set\n",
    "y_pred_cm = rf_cm.predict(X_test)\n",
    "\n",
    "# Compute and visualize the confusion matrix\n",
    "cm = confusion_matrix(y_test, y_pred_cm)\n",
    "disp = ConfusionMatrixDisplay(confusion_matrix=cm, display_labels=rf_cm.classes_)\n",
    "disp.plot(cmap='Blues')\n",
    "import matplotlib.pyplot as plt\n",
    "plt.title(\"Random Forest Classifier Confusion Matrix\")\n",
    "plt.show()"
   ]
  },
  {
   "cell_type": "markdown",
   "id": "76e76ecb",
   "metadata": {},
   "source": [
    "Ques 36) Train a Stacking Classifier using Decision Trees, SVM, and Logistic Regression, and compare accuracy?\n"
   ]
  },
  {
   "cell_type": "code",
   "execution_count": 21,
   "id": "179e5ab6",
   "metadata": {},
   "outputs": [
    {
     "name": "stdout",
     "output_type": "stream",
     "text": [
      "Stacking Classifier Accuracy: 0.8650\n",
      "Decision Tree Accuracy: 0.8750\n",
      "SVM Accuracy: 0.8450\n",
      "Logistic Regression Accuracy: 0.8550\n"
     ]
    }
   ],
   "source": [
    "from sklearn.ensemble import StackingClassifier\n",
    "from sklearn.tree import DecisionTreeClassifier\n",
    "from sklearn.svm import SVC\n",
    "from sklearn.linear_model import LogisticRegression\n",
    "from sklearn.metrics import accuracy_score\n",
    "\n",
    "# Define base estimators\n",
    "estimators = [\n",
    "    ('dt', DecisionTreeClassifier(random_state=42)),\n",
    "    ('svm', SVC(probability=True, random_state=42)),\n",
    "    ('lr', LogisticRegression(max_iter=1000, random_state=42))\n",
    "]\n",
    "\n",
    "# Create the stacking classifier\n",
    "stacking_clf = StackingClassifier(\n",
    "    estimators=estimators,\n",
    "    final_estimator=LogisticRegression(max_iter=1000, random_state=42),\n",
    "    passthrough=False,\n",
    "    cv=5\n",
    ")\n",
    "\n",
    "# Train the stacking classifier\n",
    "stacking_clf.fit(X_train, y_train)\n",
    "\n",
    "# Predict and evaluate accuracy\n",
    "y_pred_stack = stacking_clf.predict(X_test)\n",
    "acc_stack = accuracy_score(y_test, y_pred_stack)\n",
    "print(f\"Stacking Classifier Accuracy: {acc_stack:.4f}\")\n",
    "\n",
    "# Compare with individual base estimators\n",
    "dt = DecisionTreeClassifier(random_state=42)\n",
    "dt.fit(X_train, y_train)\n",
    "acc_dt = accuracy_score(y_test, dt.predict(X_test))\n",
    "print(f\"Decision Tree Accuracy: {acc_dt:.4f}\")\n",
    "\n",
    "svm = SVC(random_state=42)\n",
    "svm.fit(X_train, y_train)\n",
    "acc_svm = accuracy_score(y_test, svm.predict(X_test))\n",
    "print(f\"SVM Accuracy: {acc_svm:.4f}\")\n",
    "\n",
    "lr = LogisticRegression(max_iter=1000, random_state=42)\n",
    "lr.fit(X_train, y_train)\n",
    "acc_lr = accuracy_score(y_test, lr.predict(X_test))\n",
    "print(f\"Logistic Regression Accuracy: {acc_lr:.4f}\")"
   ]
  },
  {
   "cell_type": "markdown",
   "id": "8b457f68",
   "metadata": {},
   "source": [
    "Ques 37) Train a Random Forest Classifier and print the top 5 most important features?\n"
   ]
  },
  {
   "cell_type": "code",
   "execution_count": 18,
   "id": "8688ad0c",
   "metadata": {},
   "outputs": [
    {
     "name": "stdout",
     "output_type": "stream",
     "text": [
      "Top 5 most important features:\n",
      "feature_5: 0.3631\n",
      "feature_18: 0.1773\n",
      "feature_1: 0.1018\n",
      "feature_14: 0.0756\n",
      "feature_11: 0.0257\n"
     ]
    }
   ],
   "source": [
    "# Train a Random Forest Classifier\n",
    "rf = RandomForestClassifier(random_state=42)\n",
    "rf.fit(X_train, y_train)\n",
    "\n",
    "# Get feature importances and feature names\n",
    "importances = rf.feature_importances_\n",
    "feature_names = X_train.columns\n",
    "\n",
    "# Get indices of top 5 features\n",
    "top_indices = importances.argsort()[::-1][:5]\n",
    "\n",
    "print(\"Top 5 most important features:\")\n",
    "for idx in top_indices:\n",
    "    print(f\"{feature_names[idx]}: {importances[idx]:.4f}\")"
   ]
  },
  {
   "cell_type": "markdown",
   "id": "fe1871ac",
   "metadata": {},
   "source": [
    "Ques 38) Train a Bagging Classifier and evaluate performance using Precision, Recall, and F1-score?\n"
   ]
  },
  {
   "cell_type": "code",
   "execution_count": 17,
   "id": "905b14ab",
   "metadata": {},
   "outputs": [
    {
     "name": "stdout",
     "output_type": "stream",
     "text": [
      "Precision: 0.9565\n",
      "Recall:    0.8224\n",
      "F1-score:  0.8844\n"
     ]
    }
   ],
   "source": [
    "from sklearn.metrics import precision_score, recall_score, f1_score\n",
    "\n",
    "# Train a Bagging Classifier\n",
    "bagging_clf = BaggingClassifier(random_state=42)\n",
    "bagging_clf.fit(X_train, y_train)\n",
    "\n",
    "# Predict on the test set\n",
    "y_pred = bagging_clf.predict(X_test)\n",
    "\n",
    "# Evaluate performance\n",
    "precision = precision_score(y_test, y_pred)\n",
    "recall = recall_score(y_test, y_pred)\n",
    "f1 = f1_score(y_test, y_pred)\n",
    "\n",
    "print(f\"Precision: {precision:.4f}\")\n",
    "print(f\"Recall:    {recall:.4f}\")\n",
    "print(f\"F1-score:  {f1:.4f}\")"
   ]
  },
  {
   "cell_type": "markdown",
   "id": "7a57d670",
   "metadata": {},
   "source": [
    "Ques 39) Train a Random Forest Classifier and analyze the effect of max_depth on accuracy?\n"
   ]
  },
  {
   "cell_type": "code",
   "execution_count": 16,
   "id": "d2e30b1c",
   "metadata": {},
   "outputs": [
    {
     "name": "stdout",
     "output_type": "stream",
     "text": [
      "max_depth=1: Accuracy=0.8600\n",
      "max_depth=3: Accuracy=0.8600\n",
      "max_depth=5: Accuracy=0.8800\n",
      "max_depth=7: Accuracy=0.8950\n",
      "max_depth=10: Accuracy=0.8850\n",
      "max_depth=None: Accuracy=0.9000\n"
     ]
    },
    {
     "data": {
      "image/png": "[encoded data removed]",
      "text/plain": [
       "<Figure size 640x480 with 1 Axes>"
      ]
     },
     "metadata": {},
     "output_type": "display_data"
    }
   ],
   "source": [
    "from sklearn.ensemble import RandomForestClassifier\n",
    "from sklearn.metrics import accuracy_score\n",
    "\n",
    "import matplotlib.pyplot as plt\n",
    "\n",
    "# Try different values for max_depth\n",
    "max_depth_values = [1, 3, 5, 7, 10, None]\n",
    "accuracies = []\n",
    "\n",
    "for depth in max_depth_values:\n",
    "    rf = RandomForestClassifier(max_depth=depth, random_state=42)\n",
    "    rf.fit(X_train, y_train)\n",
    "    y_pred = rf.predict(X_test)\n",
    "    acc = accuracy_score(y_test, y_pred)\n",
    "    accuracies.append(acc)\n",
    "    print(f\"max_depth={depth}: Accuracy={acc:.4f}\")\n",
    "\n",
    "# Plot the results\n",
    "plt.plot([str(d) for d in max_depth_values], accuracies, marker='o')\n",
    "plt.xlabel('max_depth')\n",
    "plt.ylabel('Accuracy')\n",
    "plt.title('Random Forest Accuracy vs max_depth')\n",
    "plt.show()"
   ]
  },
  {
   "cell_type": "markdown",
   "id": "453d9e0d",
   "metadata": {},
   "source": [
    "Ques 40) Train a Bagging Regressor using different base estimators (DecisionTree and KNeighbors) and compare performance?\n"
   ]
  },
  {
   "cell_type": "code",
   "execution_count": 15,
   "id": "9851631c",
   "metadata": {},
   "outputs": [
    {
     "name": "stdout",
     "output_type": "stream",
     "text": [
      "Bagging Regressor (DecisionTree) MSE: 0.0974\n",
      "Bagging Regressor (KNeighbors) MSE: 0.1432\n"
     ]
    }
   ],
   "source": [
    "from sklearn.neighbors import KNeighborsRegressor\n",
    "\n",
    "# Train Bagging Regressor with DecisionTreeRegressor as base estimator\n",
    "bagging_dt = BaggingRegressor(estimator=DecisionTreeRegressor(), random_state=42)\n",
    "bagging_dt.fit(X_train, y_train)\n",
    "y_pred_dt = bagging_dt.predict(X_test)\n",
    "mse_dt = mean_squared_error(y_test, y_pred_dt)\n",
    "\n",
    "# Train Bagging Regressor with KNeighborsRegressor as base estimator\n",
    "bagging_knn = BaggingRegressor(estimator=KNeighborsRegressor(), random_state=42)\n",
    "bagging_knn.fit(X_train, y_train)\n",
    "y_pred_knn = bagging_knn.predict(X_test)\n",
    "mse_knn = mean_squared_error(y_test, y_pred_knn)\n",
    "\n",
    "print(f\"Bagging Regressor (DecisionTree) MSE: {mse_dt:.4f}\")\n",
    "print(f\"Bagging Regressor (KNeighbors) MSE: {mse_knn:.4f}\")"
   ]
  },
  {
   "cell_type": "markdown",
   "id": "6186f219",
   "metadata": {},
   "source": [
    "Ques 41) Train a Random Forest Classifier and evaluate its performance using ROC-AUC Score?\n"
   ]
  },
  {
   "cell_type": "code",
   "execution_count": 12,
   "id": "8f5b91a0",
   "metadata": {},
   "outputs": [
    {
     "name": "stdout",
     "output_type": "stream",
     "text": [
      "max_samples=0.5: MSE=0.1055\n",
      "max_samples=0.7: MSE=0.1039\n",
      "max_samples=1.0: MSE=0.0974\n"
     ]
    },
    {
     "data": {
      "image/png": "[encoded data removed]",
      "text/plain": [
       "<Figure size 640x480 with 1 Axes>"
      ]
     },
     "metadata": {},
     "output_type": "display_data"
    }
   ],
   "source": [
    "from sklearn.ensemble import BaggingRegressor\n",
    "from sklearn.tree import DecisionTreeRegressor\n",
    "from sklearn.metrics import mean_squared_error\n",
    "\n",
    "# Try different max_samples values for bootstrap sampling\n",
    "max_samples_list = [0.5, 0.7, 1.0]\n",
    "mse_scores = []\n",
    "\n",
    "for max_samples in max_samples_list:\n",
    "    bagging_reg = BaggingRegressor(\n",
    "        estimator=DecisionTreeRegressor(),\n",
    "        max_samples=max_samples,\n",
    "        random_state=42\n",
    "    )\n",
    "    bagging_reg.fit(X_train, y_train)\n",
    "    y_pred = bagging_reg.predict(X_test)\n",
    "    mse = mean_squared_error(y_test, y_pred)\n",
    "    mse_scores.append(mse)\n",
    "    print(f\"max_samples={max_samples}: MSE={mse:.4f}\")\n",
    "\n",
    "# Optionally, plot the results\n",
    "import matplotlib.pyplot as plt\n",
    "\n",
    "plt.plot(max_samples_list, mse_scores, marker='o')\n",
    "plt.xlabel('max_samples (fraction of training set)')\n",
    "plt.ylabel('Mean Squared Error')\n",
    "plt.title('Bagging Regressor Performance vs Bootstrap Sample Size')\n",
    "plt.show()"
   ]
  },
  {
   "cell_type": "markdown",
   "id": "33d33a19",
   "metadata": {},
   "source": [
    "Ques 42) Train a Bagging Classifier and evaluate its performance using cross-validation?\n"
   ]
  },
  {
   "cell_type": "code",
   "execution_count": 14,
   "id": "35a84c92",
   "metadata": {},
   "outputs": [
    {
     "name": "stdout",
     "output_type": "stream",
     "text": [
      "Cross-Validation Accuracy Scores: [0.89375 0.95625 0.8625  0.8875  0.925  ]\n",
      "Mean CV Accuracy: 0.9050\n"
     ]
    }
   ],
   "source": [
    "from sklearn.model_selection import cross_val_score\n",
    "\n",
    "# Train a Bagging Classifier and evaluate using cross-validation\n",
    "bagging_clf_cv = BaggingClassifier(random_state=42)\n",
    "cv_scores = cross_val_score(bagging_clf_cv, X_train, y_train, cv=5, scoring='accuracy')\n",
    "\n",
    "print(f\"Cross-Validation Accuracy Scores: {cv_scores}\")\n",
    "print(f\"Mean CV Accuracy: {cv_scores.mean():.4f}\")"
   ]
  }
 ],
 "metadata": {
  "kernelspec": {
   "display_name": "Python 3",
   "language": "python",
   "name": "python3"
  },
  "language_info": {
   "codemirror_mode": {
    "name": "ipython",
    "version": 3
   },
   "file_extension": ".py",
   "mimetype": "text/x-python",
   "name": "python",
   "nbconvert_exporter": "python",
   "pygments_lexer": "ipython3",
   "version": "3.12.0"
  }
 },
 "nbformat": 4,
 "nbformat_minor": 5
}
