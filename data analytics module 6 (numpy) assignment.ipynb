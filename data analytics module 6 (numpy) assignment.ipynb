{
  "cells": [
    {
      "cell_type": "markdown",
      "metadata": {
        "id": "CBUvZVxPf3y_"
      },
      "source": [
        "# **THEORITICAL QUESTIONS**"
      ]
    },
    {
      "cell_type": "markdown",
      "metadata": {
        "id": "vGaa9drufi58"
      },
      "source": [
        "Ques 1. Explain the purpose and advantages of NumPy in scientific computing and data analysis. How does it\n",
        "enhance Python's capabilities for numerical operations?"
      ]
    },
    {
      "cell_type": "markdown",
      "metadata": {},
      "source": [
        "\n",
        "Ans. \n",
        "    NumPy (Numerical Python) is a library for working with arrays and mathematical operations in Python. Its primary purpose is to provide support for large, multi-dimensional arrays and matrices, along with a wide range of high-performance mathematical functions to manipulate them.\n",
        "\n",
        "    Application in scientific computing and data analysis:\n",
        "    \n",
        "    1. Scientific simulations (e.g., climate modeling, fluid dynamics)\n",
        "    2. Data analysis (e.g., genomics, finance)\n",
        "    3. Machine learning (e.g., neural networks, natural language processing)\n",
        "    4. Image and signal processing\n",
        "\n",
        "    Enhancing Python's Capabilities:\n",
        "\n",
        "    1. Numerical Operations: NumPy provides optimized functions for numerical computations.\n",
        "    2. Array Operations: Supports multi-dimensional array operations.\n",
        "    3. Matrix Operations: Provides efficient matrix multiplication and other operations.\n",
        "    4. Statistical Analysis: Offers functions for statistical analysis and data visualization.\n",
        "    5. Data Analysis: Enables efficient data manipulation and analysis."
      ]
    },
    {
      "cell_type": "markdown",
      "metadata": {},
      "source": [
        "Ques 2. Compare and contrast np.mean() and np.average() functions in NumPy. When would you use one over the\n",
        "other?"
      ]
    },
    {
      "cell_type": "markdown",
      "metadata": {},
      "source": [
        "Ans \n",
        "    difference:\n",
        "            np.average() allows specifying weights for each element, whereas np.mean() does not.\n",
        "            np.average() can calculate the average along a specified axis, whereas np.mean() can also do this, but with slightly different syntax.\n",
        "            np.mean() always returns a scalar or an array of scalars, whereas np.average() returns a scalar or an array of scalars, or a weighted average.\n",
        "\n",
        "    Usage:\n",
        "\n",
        "        1. np.mean():\n",
        "            - When you need a simple, unweighted mean.\n",
        "            - When working with arrays without missing values.\n",
        "            - For most general-purpose mean calculations.\n",
        "        2. np.average()*:\n",
        "            - When you need to specify weights for each element.\n",
        "            - When working with arrays containing missing values (use weights argument).\n",
        "            - For more complex averaging calculations.\n"
      ]
    },
    {
      "cell_type": "markdown",
      "metadata": {},
      "source": [
        "Ques 3. Describe the methods for reversing a NumPy array along different axes. Provide examples for 1D and 2D\n",
        "arrays."
      ]
    },
    {
      "cell_type": "markdown",
      "metadata": {},
      "source": [
        "Ans 3\n",
        "    1. np.flip(): Reverses the entire array.\n",
        "    2. np.flipud(): Reverses the array along the 0th axis (up-down).\n",
        "    3. np.fliplr(): Reverses the array along the 1st axis (left-right).\n",
        "    4. arr[::-1]: Reverses the array using slicing."
      ]
    },
    {
      "cell_type": "code",
      "execution_count": 1,
      "metadata": {},
      "outputs": [
        {
          "name": "stdout",
          "output_type": "stream",
          "text": [
            "[5 4 3 2 1]\n"
          ]
        }
      ],
      "source": [
        "import numpy as np\n",
        "# 1D example:\n",
        "arr = np.array([1, 2, 3, 4, 5])\n",
        "\n",
        "reversed_arr = np.flip(arr)\n",
        "print(reversed_arr)"
      ]
    },
    {
      "cell_type": "code",
      "execution_count": 2,
      "metadata": {},
      "outputs": [
        {
          "name": "stdout",
          "output_type": "stream",
          "text": [
            "[[4 5 6]\n",
            " [1 2 3]]\n"
          ]
        }
      ],
      "source": [
        "#2D example:\n",
        "import numpy as np\n",
        "arr = np.array([[1, 2, 3], [4, 5, 6]])\n",
        "\n",
        "reversed_arr = np.flipud(arr)\n",
        "print(reversed_arr)  "
      ]
    },
    {
      "cell_type": "markdown",
      "metadata": {},
      "source": [
        "Ques 4. How can you determine the data type of elements in a NumPy array? Discuss the importance of data types\n",
        "in memory management and performance."
      ]
    },
    {
      "cell_type": "markdown",
      "metadata": {},
      "source": [
        "\n",
        "Ans 4\n",
        "    1. np.dtype() function\n",
        "    2. arr.dtype attribute\n",
        "    3. np.type()\n",
        "    \n",
        "    Data types play a crucial role in:\n",
        "     \n",
        "    - Efficient memory allocation: NumPy arrays store elements of the same data type, reducing memory overhead.\n",
        "    - Optimized operations: NumPy's vectorized operations are optimized for specific data types.\n",
        "    - Predictable behavior: Data types ensure consistent behavior across different platforms.\n",
        "    - Error prevention: Helps catch type-related errors at runtime.\n",
        "\n"
      ]
    },
    {
      "cell_type": "markdown",
      "metadata": {},
      "source": [
        "Ques 5. Define ndarrays in NumPy and explain their key features. How do they differ from standard Python lists?"
      ]
    },
    {
      "cell_type": "markdown",
      "metadata": {},
      "source": [
        "Ans 5\n",
        "     In NumPy, an ndarray (N-dimensional array) is a multi-dimensional collection of values of the same data type stored in a contiguous block of memory.\n",
        "    \n",
        "    Key Features:\n",
        "\n",
        "    1. Homogeneous: All elements have the same data type.\n",
        "    2. Multi-dimensional: Supports 1D, 2D, 3D, and higher-dimensional arrays.\n",
        "    3. Contiguous memory: Efficient memory allocation and access.\n",
        "    4. Vectorized operations: Perform operations on entire arrays at once.\n",
        "    5. Broadcasting: Automatically aligns arrays for operations.\n",
        "\n",
        "    The NumPy ndarray uses less memory and provides faster computation than the Python list. However, the Python list offers more flexibility in terms of data type and dynamic resizing."
      ]
    },
    {
      "cell_type": "markdown",
      "metadata": {},
      "source": [
        "Ques 6. Analyze the performance benefits of NumPy arrays over Python lists for large-scale numerical operations."
      ]
    },
    {
      "cell_type": "markdown",
      "metadata": {},
      "source": [
        "\n",
        "Ans 6\n",
        "    NumPy arrays offer significant performance benefits over Python lists for large-scale numerical operations due to vectorized operations, contiguous memory allocation, compiled C code, and parallelization capabilities."
      ]
    },
    {
      "cell_type": "markdown",
      "metadata": {},
      "source": [
        "Ques 7. Compare vstack() and hstack() functions in NumPy. Provide examples demonstrating their usage and\n",
        "output."
      ]
    },
    {
      "cell_type": "markdown",
      "metadata": {},
      "source": [
        "Ans 7 \n",
        "    Key Differences\n",
        "\n",
        "\n",
        "    1. Orientation: np.vstack() stacks arrays vertically, while np.hstack() stacks arrays horizontally.\n",
        "    2. Input Arrays: Both functions accept tuples of arrays as input.\n",
        "    3. Output Array: The output array's shape depends on the stacking orientation."
      ]
    },
    {
      "cell_type": "code",
      "execution_count": 3,
      "metadata": {},
      "outputs": [
        {
          "name": "stdout",
          "output_type": "stream",
          "text": [
            "[[1 2 3]\n",
            " [4 5 6]]\n"
          ]
        }
      ],
      "source": [
        "#vstack example\n",
        "\n",
        "import numpy as np\n",
        "\n",
        "array1 = np.array([1, 2, 3])\n",
        "array2 = np.array([4, 5, 6])\n",
        "\n",
        "vstacked_array = np.vstack((array1, array2))\n",
        "\n",
        "print(vstacked_array)"
      ]
    },
    {
      "cell_type": "code",
      "execution_count": 4,
      "metadata": {},
      "outputs": [
        {
          "name": "stdout",
          "output_type": "stream",
          "text": [
            "[1 2 3 4 5 6]\n"
          ]
        }
      ],
      "source": [
        "#hstack example\n",
        "array1 = np.array([1, 2, 3])\n",
        "array2 = np.array([4, 5, 6])\n",
        "\n",
        "# Horizontally stack the arrays\n",
        "hstacked_array = np.hstack((array1, array2))\n",
        "\n",
        "print(hstacked_array)\n"
      ]
    },
    {
      "cell_type": "markdown",
      "metadata": {},
      "source": [
        "Ques 8. Explain the differences between fliplr() and flipud() methods in NumPy, including their effects on various\n",
        "array dimensions."
      ]
    },
    {
      "cell_type": "markdown",
      "metadata": {},
      "source": [
        "Ans 8\n",
        "    np.fliplr()\n",
        "\n",
        "    - Flips the array horizontally (left-right).\n",
        "    - Reverses the order of columns.\n",
        "    - Axis=1 (default).\n",
        "\n",
        "\n",
        "    np.flipud()\n",
        "\n",
        "    - Flips the array vertically (up-down).\n",
        "    - Reverses the order of rows.\n",
        "    - Axis=0 (default).\n",
        "\n",
        "    np.fliplr()- No effect in 1D array ,Flips columns in 2D array ,Flips 2nd dimension (columns) in 3D array\n",
        "    np.flipud()- Reverses elements in 1D, Flips rows in 2D , Flips 1st dimension (rows) in 3D "
      ]
    },
    {
      "cell_type": "markdown",
      "metadata": {},
      "source": [
        "Ques 9. Discuss the functionality of the array_split() method in NumPy. How does it handle uneven splits?"
      ]
    },
    {
      "cell_type": "markdown",
      "metadata": {},
      "source": [
        "Ans 9\n",
        "    np.array_split() is a NumPy method that splits an array into multiple sub-arrays along a specified axis.\n",
        "\n",
        "    If the array length is (Uneven) not exactly divisible by num, np.array_split() will:\n",
        "    \n",
        "    1. Divide the array into num-1 equal-sized sub-arrays.\n",
        "    2. Assign the remaining elements to the last sub-array.\n",
        "\n"
      ]
    },
    {
      "cell_type": "markdown",
      "metadata": {},
      "source": [
        "Ques 10. Explain the concepts of vectorization and broadcasting in NumPy. How do they contribute to efficient array\n",
        "operations?"
      ]
    },
    {
      "cell_type": "markdown",
      "metadata": {},
      "source": [
        "Ans 10\n",
        "    Vectorization-Vectorization refers to performing operations on entire arrays at once, without the need for loops. NumPy's vectorized operations:\n",
        "\n",
        "    1. Operate element-wise on arrays.\n",
        "    2. Eliminate the need for explicit loops.\n",
        "    3. Provide significant performance improvements.\n",
        "\n",
        "    Broadcasting-Broadcasting allows NumPy to perform operations on arrays with different shapes and sizes. Broadcasting:\n",
        "\n",
        "    1. Aligns arrays by adding dimensions (if necessary).\n",
        "    2. Enables operations between arrays with different shapes.\n",
        "\n",
        "    Contributution in efficient array operations\n",
        "    \n",
        "    1. Speed: Vectorization and broadcasting eliminate loops, making operations faster.\n",
        "    2. Memory Efficiency: Broadcasting reduces memory allocation and copying.\n",
        "    3. Expressiveness: Vectorization and broadcasting enable concise, readable code.\n",
        "    4. Flexibility: Broadcasting allows operations between arrays with different shapes.\n"
      ]
    },
    {
      "cell_type": "markdown",
      "metadata": {
        "id": "-kSo9xS8fnRv"
      },
      "source": [
        "# **PRACTICAL QUESTIONS**"
      ]
    },
    {
      "cell_type": "markdown",
      "metadata": {
        "id": "-CERPvaoPF1c"
      },
      "source": [
        "Ques 1. Create a 3x3 NumPy array with random integers between 1 and 100. Then, interchange its rows and columns.\n"
      ]
    },
    {
      "cell_type": "code",
      "execution_count": 5,
      "metadata": {
        "colab": {
          "base_uri": "https://localhost:8080/"
        },
        "id": "VRqLZc12eSxR",
        "outputId": "539baccd-ea1f-4c5b-cd2f-6cc2e8c9b622"
      },
      "outputs": [
        {
          "name": "stdout",
          "output_type": "stream",
          "text": [
            "[[81 28 55]\n",
            " [48 49 75]\n",
            " [19  3 37]]\n",
            "[[81 48 19]\n",
            " [28 49  3]\n",
            " [55 75 37]]\n"
          ]
        }
      ],
      "source": [
        "import numpy as np\n",
        "a=np.random.randint(1,100,(3,3))\n",
        "print(a)\n",
        "print(a.T)"
      ]
    },
    {
      "cell_type": "markdown",
      "metadata": {
        "id": "W5ds9o2uOr6_"
      },
      "source": [
        "Ques 2. Generate a 1D NumPy array with 10 elements. Reshape it into a 2x5 array, then into a 5x2 array.\n"
      ]
    },
    {
      "cell_type": "code",
      "execution_count": 6,
      "metadata": {
        "colab": {
          "base_uri": "https://localhost:8080/"
        },
        "id": "6F57CciOJ69S",
        "outputId": "3e4fc1f5-fbad-48f2-8b0a-2723ae1fc442"
      },
      "outputs": [
        {
          "name": "stdout",
          "output_type": "stream",
          "text": [
            "[0 1 2 3 4 5 6 7 8 9] \n",
            "\n",
            "[[0 1 2 3 4]\n",
            " [5 6 7 8 9]] \n",
            "\n",
            "[[0 1]\n",
            " [2 3]\n",
            " [4 5]\n",
            " [6 7]\n",
            " [8 9]]\n"
          ]
        }
      ],
      "source": [
        "import numpy as np\n",
        "\n",
        "arr = np.arange(10)\n",
        "print(arr,\"\\n\")\n",
        "\n",
        "arr_2x5 = arr.reshape(2, 5)\n",
        "print(arr_2x5,\"\\n\")\n",
        "\n",
        "\n",
        "arr_5x2 = arr.reshape(5, 2)\n",
        "print(arr_5x2)"
      ]
    },
    {
      "cell_type": "markdown",
      "metadata": {
        "id": "qhnEkn6ZPHkN"
      },
      "source": [
        "Ques 3. Create a 4x4 NumPy array with random float values. Add a border of zeros around it, resulting in a 6x6 array.\n",
        "\n",
        "\n",
        "\n"
      ]
    },
    {
      "cell_type": "code",
      "execution_count": 7,
      "metadata": {
        "colab": {
          "base_uri": "https://localhost:8080/"
        },
        "id": "x3ArVrcYQeDF",
        "outputId": "95a6e69f-8159-4961-c75c-cb14587d6e16"
      },
      "outputs": [
        {
          "name": "stdout",
          "output_type": "stream",
          "text": [
            "[[0.         0.         0.         0.         0.         0.        ]\n",
            " [0.         0.77257858 0.21045507 0.26182501 0.20943936 0.        ]\n",
            " [0.         0.05256273 0.49173543 0.47435049 0.91896149 0.        ]\n",
            " [0.         0.11709966 0.05266462 0.5750765  0.78761136 0.        ]\n",
            " [0.         0.00596113 0.12209184 0.91431918 0.26343804 0.        ]\n",
            " [0.         0.         0.         0.         0.         0.        ]]\n"
          ]
        }
      ],
      "source": [
        "import numpy as np\n",
        "\n",
        "arr = np.random.rand(4, 4)\n",
        "zero_arr = np.zeros((6, 6))\n",
        "zero_arr[1:5, 1:5] = arr\n",
        "print(zero_arr)\n"
      ]
    },
    {
      "cell_type": "markdown",
      "metadata": {
        "id": "AjTnT6umPHe9"
      },
      "source": [
        "Ques 4. Using NumPy, create an array of integers from 10 to 60 with a step of 5.\n",
        "\n",
        "\n"
      ]
    },
    {
      "cell_type": "code",
      "execution_count": 8,
      "metadata": {
        "colab": {
          "base_uri": "https://localhost:8080/"
        },
        "id": "KlQRYQSORZdV",
        "outputId": "c94c3cdd-d4c4-4bdf-e840-d754486a7c67"
      },
      "outputs": [
        {
          "data": {
            "text/plain": [
              "array([10, 15, 20, 25, 30, 35, 40, 45, 50, 55, 60])"
            ]
          },
          "execution_count": 8,
          "metadata": {},
          "output_type": "execute_result"
        }
      ],
      "source": [
        "np.arange(10, 61, 5)"
      ]
    },
    {
      "cell_type": "markdown",
      "metadata": {
        "id": "qdym7CwXPHYc"
      },
      "source": [
        "Ques 5. Create a NumPy array of strings ['python', 'numpy', 'pandas']. Apply different case transformations\n",
        "(uppercase, lowercase, title case, etc.) to each element.\n",
        "\n",
        "\n"
      ]
    },
    {
      "cell_type": "code",
      "execution_count": 9,
      "metadata": {
        "colab": {
          "base_uri": "https://localhost:8080/"
        },
        "id": "osc-YK2VRqjj",
        "outputId": "902662e9-1663-426d-c622-2ee43e21d847"
      },
      "outputs": [
        {
          "name": "stdout",
          "output_type": "stream",
          "text": [
            "['PYTHON' 'NUMPY' 'PANDAS'] \n",
            " ['python' 'numpy' 'pandas'] \n",
            " ['Python' 'Numpy' 'Pandas']\n"
          ]
        }
      ],
      "source": [
        "np.array(['python', 'numpy', 'pandas'])\n",
        "arr1=np.char.upper(['python', 'numpy', 'pandas'])\n",
        "arr2=np.char.lower(['python', 'numpy', 'pandas'])\n",
        "arr3=np.char.title(['python', 'numpy', 'pandas'])\n",
        "print(arr1,\"\\n\",arr2,\"\\n\",arr3)"
      ]
    },
    {
      "cell_type": "markdown",
      "metadata": {
        "id": "DJ5G0aggPHSd"
      },
      "source": [
        "Ques 6. Generate a NumPy array of words. Insert a space between each character of every word in the array.\n",
        "\n"
      ]
    },
    {
      "cell_type": "code",
      "execution_count": 10,
      "metadata": {
        "colab": {
          "base_uri": "https://localhost:8080/"
        },
        "id": "u8DK9YrBSuv7",
        "outputId": "b18e654b-9c51-4d1f-b085-a8be2624cf1d"
      },
      "outputs": [
        {
          "data": {
            "text/plain": [
              "array(['m y', 'n a m e', 'i s', 'V i s h e s h'], dtype='<U13')"
            ]
          },
          "execution_count": 10,
          "metadata": {},
          "output_type": "execute_result"
        }
      ],
      "source": [
        "np.char.join(' ', ['my', 'name', 'is','Vishesh'])"
      ]
    },
    {
      "cell_type": "markdown",
      "metadata": {
        "id": "B8LMmxatPHLu"
      },
      "source": [
        "\n",
        "Ques 7. Create two 2D NumPy arrays and perform element-wise addition, subtraction, multiplication, and division.\n",
        "\n",
        "\n"
      ]
    },
    {
      "cell_type": "code",
      "execution_count": 11,
      "metadata": {
        "colab": {
          "base_uri": "https://localhost:8080/"
        },
        "id": "E3QHJ_SFTdPL",
        "outputId": "ee8962a8-92bc-41a3-df85-aa0aafa2717d"
      },
      "outputs": [
        {
          "name": "stdout",
          "output_type": "stream",
          "text": [
            "[[1 2 3]\n",
            " [4 5 6]] \n",
            "\n",
            " [[ 7  8  9]\n",
            " [10 11 12]] \n",
            "\n",
            "Sum of array [[ 8 10 12]\n",
            " [14 16 18]]\n",
            "subtraction of array [[-6 -6 -6]\n",
            " [-6 -6 -6]]\n",
            "multiplication of array [[ 7 16 27]\n",
            " [40 55 72]]\n",
            "division of array [[0.14285714 0.25       0.33333333]\n",
            " [0.4        0.45454545 0.5       ]]\n"
          ]
        }
      ],
      "source": [
        "arr4=np.array([[1,2,3],[4,5,6]])\n",
        "arr5=np.array([[7,8,9],[10,11,12]])\n",
        "print(arr4,\"\\n\\n\",arr5,\"\\n\")\n",
        "print(\"Sum of array\",np.add(arr4,arr5))\n",
        "print(\"subtraction of array\",np.subtract(arr4,arr5))\n",
        "print(\"multiplication of array\",np.multiply(arr4,arr5))\n",
        "print(\"division of array\",np.divide(arr4,arr5))"
      ]
    },
    {
      "cell_type": "markdown",
      "metadata": {
        "id": "bEWki1tiPHFE"
      },
      "source": [
        "Ques 8. Use NumPy to create a 5x5 identity matrix, then extract its diagonal elements.\n",
        "\n",
        "\n"
      ]
    },
    {
      "cell_type": "code",
      "execution_count": 12,
      "metadata": {
        "colab": {
          "base_uri": "https://localhost:8080/"
        },
        "id": "_CTUZnXEV0vq",
        "outputId": "d2048c06-f5f8-4868-8054-87471990769a"
      },
      "outputs": [
        {
          "name": "stdout",
          "output_type": "stream",
          "text": [
            "[[1 0 0 0 0]\n",
            " [0 1 0 0 0]\n",
            " [0 0 1 0 0]\n",
            " [0 0 0 1 0]\n",
            " [0 0 0 0 1]] \n",
            "\n",
            "diagonal elements : [1 1 1 1 1]\n"
          ]
        }
      ],
      "source": [
        "print(np.eye(5, dtype=int),\"\\n\")\n",
        "print(\"diagonal elements :\",np.diag(np.eye(5,dtype=int)))"
      ]
    },
    {
      "cell_type": "markdown",
      "metadata": {
        "id": "BcFbPmS9PG9l"
      },
      "source": [
        "Ques 9. Generate a NumPy array of 100 random integers between 0 and 1000. Find and display all prime numbers in\n",
        "this array.\n",
        "\n",
        "\n"
      ]
    },
    {
      "cell_type": "code",
      "execution_count": 13,
      "metadata": {
        "colab": {
          "base_uri": "https://localhost:8080/"
        },
        "id": "kxdlaoGGXOPO",
        "outputId": "93b4e0e8-e5c4-49b9-e4b5-86ddbfced221"
      },
      "outputs": [
        {
          "name": "stdout",
          "output_type": "stream",
          "text": [
            "[ 11  22  22  35  43  44  57  96 149 153 159 170 172 178 179 187 188 191\n",
            " 205 214 214 221 221 225 237 238 259 261 262 276 286 292 294 306 307 312\n",
            " 318 331 347 358 367 383 403 407 416 417 431 433 435 455 476 513 516 533\n",
            " 540 542 560 560 577 577 582 590 595 611 611 614 660 663 663 663 675 715\n",
            " 720 726 739 745 751 755 764 771 775 789 799 820 822 825 835 848 852 865\n",
            " 881 883 926 934 942 949 965 975 987 993]\n",
            "\n",
            "prime no present in array:\n",
            "11 43 149 179 191 307 331 347 367 383 431 433 577 577 739 751 881 883 "
          ]
        }
      ],
      "source": [
        "arr6=np.random.randint(0,1000,100)\n",
        "arr6.sort()\n",
        "print(arr6)\n",
        "print(\"\\nprime no present in array:\")\n",
        "\n",
        "for i in arr6:\n",
        "    if i < 2:\n",
        "        continue\n",
        "    for j in range(2,i):\n",
        "        if i%j==0:\n",
        "            break\n",
        "    else:\n",
        "       print(i ,end=\" \")"
      ]
    },
    {
      "cell_type": "markdown",
      "metadata": {
        "id": "RmneSuHvPOuV"
      },
      "source": [
        "Ques 10. Create a NumPy array representing daily temperatures for a month. Calculate and display the weekly\n",
        "averages.\n"
      ]
    },
    {
      "cell_type": "code",
      "execution_count": 14,
      "metadata": {
        "colab": {
          "base_uri": "https://localhost:8080/"
        },
        "id": "UH4p6kePbB0j",
        "outputId": "ec93613f-4ceb-43a3-a45d-0572397aaa49"
      },
      "outputs": [
        {
          "name": "stdout",
          "output_type": "stream",
          "text": [
            "[ 0  7  9  9 10 12  4 14 18 26 35 20  3 13 39  5 29 11  8  0 38 10  4 33\n",
            " 38  9 22 36 20 37] \n",
            "\n",
            "[ 0  7  9  9 10 12  4]\n",
            "first week avg. : 7.285714285714286\n",
            "[14 18 26 35 20  3 13]\n",
            "second week avg. 18.428571428571427\n",
            "[39  5 29 11  8  0 38]\n",
            "third week avg. 18.571428571428573\n",
            "[10  4 33 38  9 22 36]\n",
            "fourth week avg. 21 °C\n"
          ]
        }
      ],
      "source": [
        "arr9=np.random.randint(0,40,30)\n",
        "print(arr9,\"\\n\")\n",
        "print(arr9[0:7])\n",
        "print(\"first week avg. :\",np.mean(arr9[0:7]))\n",
        "print(arr9[7:14])\n",
        "print(\"second week avg.\",np.mean(arr9[7:14]))\n",
        "print(arr9[14:21])\n",
        "print(\"third week avg.\",np.mean(arr9[14:21]))\n",
        "print(arr9[21:28])\n",
        "print(\"fourth week avg.\",np.mean(arr9[21:28],dtype=int),\"°C\")"
      ]
    }
  ],
  "metadata": {
    "colab": {
      "provenance": []
    },
    "kernelspec": {
      "display_name": "Python 3",
      "name": "python3"
    },
    "language_info": {
      "codemirror_mode": {
        "name": "ipython",
        "version": 3
      },
      "file_extension": ".py",
      "mimetype": "text/x-python",
      "name": "python",
      "nbconvert_exporter": "python",
      "pygments_lexer": "ipython3",
      "version": "3.12.0"
    }
  },
  "nbformat": 4,
  "nbformat_minor": 0
}
