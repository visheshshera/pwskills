{
 "cells": [
  {
   "cell_type": "markdown",
   "metadata": {},
   "source": [
    "# ****REGRESSION MODULE 3 ASSIGNMENT****"
   ]
  },
  {
   "cell_type": "markdown",
   "metadata": {},
   "source": [
    "Ques 1)  - What is Simple Linear Regression?"
   ]
  },
  {
   "cell_type": "markdown",
   "metadata": {},
   "source": [
    "Ans 1) - Simple Linear Regression is a ml model to determine the relationship between one independent and one deependent variable."
   ]
  },
  {
   "cell_type": "markdown",
   "metadata": {},
   "source": [
    "Ques 2)  - What are the key assumptions of Simple Linear Regression?"
   ]
  },
  {
   "cell_type": "markdown",
   "metadata": {},
   "source": [
    "Ans 2)\n",
    "\n",
    "1. **Linearity**: The relationship between the independent variable and the dependent variable is linear.\n",
    "\n",
    "2. **Independence**: The observations are independent of each other. This means that the residuals (errors) are not correlated with each other.\n",
    "\n",
    "3. **Homoscedasticity**: The variance of the residuals is constant across all levels of the independent variable. This means that the spread of the residuals is the same for all predicted values.\n",
    "\n",
    "4. **Normality**: The residuals of the model are normally distributed. This assumption is important for hypothesis testing and constructing confidence intervals.\n",
    "\n",
    "5. **No Multicollinearity**: The independent variable is not highly correlated with other variables. This is less of a concern in Simple Linear Regression as there is only one independent variable."
   ]
  },
  {
   "cell_type": "markdown",
   "metadata": {},
   "source": [
    "Ques 3)  - What does the coefficient m represent in the equation Y=mX+c?"
   ]
  },
  {
   "cell_type": "markdown",
   "metadata": {},
   "source": [
    "Ans 3) - The slope of the line, which indicates the rate of change of ( Y ) with respect to ( X ). It tells you how much ( Y ) changes for a unit change in ( X )."
   ]
  },
  {
   "cell_type": "markdown",
   "metadata": {},
   "source": [
    "Ques 4)  - What does the intercept c represent in the equation Y=mX+c?\n",
    "\n"
   ]
  },
  {
   "cell_type": "markdown",
   "metadata": {},
   "source": [
    "Ans 4) - In a practical context, if you were predicting a value based on some input, the intercept ( c ) would be the baseline value of your prediction when the input is zero."
   ]
  },
  {
   "cell_type": "markdown",
   "metadata": {},
   "source": [
    "Ques 5)  - How do we calculate the slope m in Simple Linear Regression?\n"
   ]
  },
  {
   "cell_type": "markdown",
   "metadata": {},
   "source": [
    "Ans 5) - \n",
    "\n",
    "from sklearn.linear_model import LinearRegression\n",
    "regressor=LinearRegression()\n",
    "regressor.fit(x_train,y_train)\n",
    "print(f\"slope of equation={regressor.coef_}\")"
   ]
  },
  {
   "cell_type": "markdown",
   "metadata": {},
   "source": [
    "Ques 6)  - What is the purpose of the least squares method in Simple Linear Regression?\n"
   ]
  },
  {
   "cell_type": "markdown",
   "metadata": {},
   "source": [
    "Ans 6) - The least squares method in Simple Linear Regression is used to find the best-fitting line through a set of data points. The purpose of this method is to minimize the sum of the squared differences (errors) between the observed values and the values predicted by the linear model."
   ]
  },
  {
   "cell_type": "markdown",
   "metadata": {},
   "source": [
    "Ques 7)  - How is the coefficient of determination (R²) interpreted in Simple Linear Regression?"
   ]
  },
  {
   "cell_type": "markdown",
   "metadata": {},
   "source": [
    "Ans 7) - The coefficient of determination, denoted as R², is a key metric in Simple Linear Regression. It provides a measure of how well the independent variable(s) explain the variability of the dependent variable. Here's a detailed interpretation:\n",
    "\n",
    "Definition: R² is the proportion of the variance in the dependent variable that is predictable from the independent variable(s).\n",
    "\n",
    "Range: R² values range from 0 to 1.\n",
    "\n",
    "R² = 0: Indicates that the independent variable(s) do not explain any of the variability of the dependent variable.\n",
    "R² = 1: Indicates that the independent variable(s) explain all the variability of the dependent variable."
   ]
  },
  {
   "cell_type": "markdown",
   "metadata": {},
   "source": [
    "Ques 8)  - What is Multiple Linear Regression?\n"
   ]
  },
  {
   "cell_type": "markdown",
   "metadata": {},
   "source": [
    "Ans 8) - Multiple Linear Regression is a statistical technique that models the relationship between two or more independent variables and a dependent variable by fitting a linear equation to the observed data. It extends Simple Linear Regression by allowing for multiple predictors, which can provide a more accurate and comprehensive understanding of the factors influencing the dependent variable."
   ]
  },
  {
   "cell_type": "markdown",
   "metadata": {},
   "source": [
    "Ques 9)  - What is the main difference between Simple and Multiple Linear Regression?\n"
   ]
  },
  {
   "cell_type": "markdown",
   "metadata": {},
   "source": [
    "Ans 9) - The main difference between Simple and Multiple Linear Regression is the number of independent variables used in the model. Simple Linear Regression involves one independent variable and one dependent variable, while Multiple Linear Regression involves two or more independent variables and one dependent variable. This allows Multiple Linear Regression to account for the influence of multiple factors on the dependent variable, potentially providing a more accurate and comprehensive model."
   ]
  },
  {
   "cell_type": "markdown",
   "metadata": {},
   "source": [
    "Ques 10) - What are the key assumptions of Multiple Linear Regression?\n"
   ]
  },
  {
   "cell_type": "markdown",
   "metadata": {
    "vscode": {
     "languageId": "markdown"
    }
   },
   "source": [
    "Ans 10) - The key assumptions of Multiple Linear Regression are:\n",
    "\n",
    "1. **Linearity**: The relationship between the dependent variable and each independent variable is linear.\n",
    "\n",
    "2. **Independence**: The observations are independent of each other. This means that the residuals (errors) are not correlated with each other.\n",
    "\n",
    "3. **Homoscedasticity**: The variance of the residuals is constant across all levels of the independent variables. This means that the spread of the residuals is the same for all predicted values.\n",
    "\n",
    "4. **Normality**: The residuals of the model are normally distributed. This assumption is important for hypothesis testing and constructing confidence intervals.\n",
    "\n",
    "5. **No Multicollinearity**: The independent variables are not highly correlated with each other. High multicollinearity can make it difficult to estimate the coefficients of the model accurately.\n",
    "\n",
    "6. **No Autocorrelation**: The residuals are not correlated with each other. This is particularly important in time series data.\n",
    "\n",
    "By ensuring that these assumptions are met, the Multiple Linear Regression model can provide reliable and valid results."
   ]
  },
  {
   "cell_type": "markdown",
   "metadata": {},
   "source": [
    "Ques 11) - What is heteroscedasticity, and how does it affect the results of a Multiple Linear Regression model?\n"
   ]
  },
  {
   "cell_type": "markdown",
   "metadata": {},
   "source": [
    "Ans 11) - Heteroscedasticity refers to the circumstance in which the variability of the errors in a regression model is not constant across all levels of the independent variables. In other words, the spread or \"scatter\" of the residuals varies at different levels of the independent variable(s).\n",
    "\n",
    "Heteroscedasticity can affect the results of a Multiple Linear Regression model in several ways:\n",
    "1. It can lead to inefficient estimates of the regression coefficients, as the ordinary least squares (OLS) method assumes constant variance of the errors.\n",
    "2. It can result in biased standard errors, which in turn affects the confidence intervals and hypothesis tests, potentially leading to incorrect conclusions about the significance of the predictors.\n",
    "3. It can reduce the overall reliability and validity of the model's predictions.\n",
    "\n",
    "To address heteroscedasticity, various techniques such as transforming the dependent variable, using weighted least squares, or applying robust standard errors can be employed."
   ]
  },
  {
   "cell_type": "markdown",
   "metadata": {},
   "source": [
    "Ques 12) - How can you improve a Multiple Linear Regression model with high multicollinearity?\n"
   ]
  },
  {
   "cell_type": "markdown",
   "metadata": {
    "vscode": {
     "languageId": "markdown"
    }
   },
   "source": [
    "Ans 12) - To improve a Multiple Linear Regression model with high multicollinearity, you can use the following techniques:\n",
    "\n",
    "1. **Remove Highly Correlated Predictors**: Identify and remove predictors that are highly correlated with each other. This can be done using correlation matrices or variance inflation factor (VIF) analysis.\n",
    "\n",
    "2. **Principal Component Analysis (PCA)**: Use PCA to transform the correlated predictors into a smaller set of uncorrelated components. These components can then be used as predictors in the regression model.\n",
    "\n",
    "3. **Ridge Regression**: Apply ridge regression, which adds a penalty term to the regression equation to shrink the coefficients of correlated predictors. This helps to reduce the impact of multicollinearity.\n",
    "\n",
    "4. **Lasso Regression**: Apply lasso regression, which adds a penalty term that can shrink some coefficients to zero, effectively performing variable selection and reducing multicollinearity.\n",
    "\n",
    "5. **Partial Least Squares (PLS) Regression**: Use PLS regression, which combines features of PCA and multiple linear regression to handle multicollinearity by extracting a set of orthogonal factors.\n",
    "\n",
    "6. **Domain Knowledge**: Use domain knowledge to combine or transform correlated predictors into a single predictor that captures the underlying relationship.\n",
    "\n",
    "7. **Increase Sample Size**: Increasing the sample size can help to mitigate the effects of multicollinearity, as it provides more information for estimating the regression coefficients.\n",
    "\n",
    "By applying these techniques, you can improve the stability and interpretability of your Multiple Linear Regression model in the presence of high multicollinearity."
   ]
  },
  {
   "cell_type": "markdown",
   "metadata": {},
   "source": [
    "Ques 13) - What are some common techniques for transforming categorical variables for use in regression models?\n"
   ]
  },
  {
   "cell_type": "markdown",
   "metadata": {
    "vscode": {
     "languageId": "markdown"
    }
   },
   "source": [
    "Ans 13) - Some common techniques for transforming categorical variables for use in regression models include:\n",
    "\n",
    "1. **One-Hot Encoding**: This technique converts categorical variables into a series of binary variables (0 or 1). Each category is represented by a separate binary variable. This is useful when the categorical variable is nominal (i.e., no inherent order).\n",
    "\n",
    "2. **Label Encoding**: This technique assigns a unique integer to each category. This is useful when the categorical variable is ordinal (i.e., has an inherent order). However, it can introduce unintended ordinal relationships if used with nominal variables.\n",
    "\n",
    "3. **Binary Encoding**: This technique combines the properties of one-hot encoding and label encoding. Each category is first label encoded, and then the integer is converted into binary code. Each binary digit is represented by a separate column.\n",
    "\n",
    "4. **Target Encoding**: This technique replaces each category with the mean of the target variable for that category. This can be useful when there is a strong relationship between the categorical variable and the target variable, but it can also lead to overfitting.\n",
    "\n",
    "5. **Frequency Encoding**: This technique replaces each category with the frequency of that category in the dataset. This can be useful when the frequency of occurrence of a category is important for the prediction.\n",
    "\n",
    "6. **Ordinal Encoding**: This technique assigns a unique integer to each category based on the order of the categories. This is useful when the categorical variable is ordinal.\n",
    "\n",
    "Each of these techniques has its own advantages and disadvantages, and the choice of technique depends on the nature of the categorical variable and the specific requirements of the regression model."
   ]
  },
  {
   "cell_type": "markdown",
   "metadata": {},
   "source": [
    "Ques 14) - What is the role of interaction terms in Multiple Linear Regression?\n"
   ]
  },
  {
   "cell_type": "markdown",
   "metadata": {},
   "source": [
    "Ans 14) - Interaction terms in Multiple Linear Regression are used to capture the effect of two or more variables interacting with each other on the dependent variable. These terms allow the model to account for situations where the effect of one independent variable on the dependent variable depends on the level of another independent variable. By including interaction terms, the model can provide a more accurate representation of the relationships between variables and improve the predictive power of the regression model."
   ]
  },
  {
   "cell_type": "markdown",
   "metadata": {},
   "source": [
    "Ques 15) - How can the interpretation of intercept differ between Simple and Multiple Linear Regression?\n"
   ]
  },
  {
   "cell_type": "markdown",
   "metadata": {
    "vscode": {
     "languageId": "markdown"
    }
   },
   "source": [
    "Ans 15) - In Simple Linear Regression, the intercept represents the expected value of the dependent variable when the independent variable is zero. It is the point where the regression line crosses the Y-axis.\n",
    "\n",
    "In Multiple Linear Regression, the interpretation of the intercept is similar, but it represents the expected value of the dependent variable when all the independent variables are zero. However, this interpretation can be less meaningful if the independent variables do not have a meaningful zero point or if the combination of all independent variables being zero is not realistic in the context of the data.\n"
   ]
  },
  {
   "cell_type": "markdown",
   "metadata": {},
   "source": [
    "Ques 16) - What is the significance of the slope in regression analysis, and how does it affect predictions?\n"
   ]
  },
  {
   "cell_type": "markdown",
   "metadata": {
    "vscode": {
     "languageId": "markdown"
    }
   },
   "source": [
    "Ans 16) - The slope in regression analysis represents the rate of change of the dependent variable with respect to the independent variable. It indicates how much the dependent variable is expected to increase (or decrease) when the independent variable increases by one unit. The slope is a crucial component of the regression equation, as it directly affects the predictions made by the model. A positive slope indicates a positive relationship between the variables, while a negative slope indicates a negative relationship. The magnitude of the slope determines the strength of this relationship."
   ]
  },
  {
   "cell_type": "markdown",
   "metadata": {},
   "source": [
    "Ques 17) - How does the intercept in a regression model provide context for the relationship between variables?\n"
   ]
  },
  {
   "cell_type": "markdown",
   "metadata": {},
   "source": [
    "Ans 17) - The intercept in a regression model provides context for the relationship between variables by indicating the expected value of the dependent variable when all the independent variables are zero. It serves as a baseline or starting point for the predictions made by the model. The intercept helps to understand the level of the dependent variable in the absence of the influence of the independent variables, providing a reference point for interpreting the effect of the independent variables on the dependent variable."
   ]
  },
  {
   "cell_type": "markdown",
   "metadata": {},
   "source": [
    "Ques 18) - What are the limitations of using R² as a sole measure of model performance?\n"
   ]
  },
  {
   "cell_type": "markdown",
   "metadata": {
    "vscode": {
     "languageId": "markdown"
    }
   },
   "source": [
    "Ans 18) - The limitations of using R² as a sole measure of model performance include:\n",
    "\n",
    "1. **Overfitting**: A high R² value can sometimes indicate overfitting, especially in models with many predictors. Overfitting occurs when the model captures noise in the data rather than the underlying relationship, leading to poor generalization to new data.\n",
    "\n",
    "2. **Ignoring Model Complexity**: R² does not account for the complexity of the model. A more complex model with more predictors can have a higher R², but this does not necessarily mean it is a better model. Adjusted R² and other criteria like AIC or BIC are better suited for comparing models with different numbers of predictors.\n",
    "\n",
    "3. **No Information on Bias**: R² does not provide information about the bias of the model. A model with a high R² can still be biased if it systematically overestimates or underestimates the dependent variable.\n",
    "\n",
    "4. **Not Suitable for Non-Linear Relationships**: R² assumes a linear relationship between the independent and dependent variables. It may not be an appropriate measure for models that capture non-linear relationships.\n",
    "\n",
    "5. **Does Not Reflect Predictive Power**: A high R² does not necessarily mean that the model has good predictive power. It only indicates how well the model fits the training data, not how well it will perform on unseen data.\n",
    "\n",
    "6. **Insensitive to the Scale of the Dependent Variable**: R² is a relative measure and does not provide information about the absolute size of the errors. Two models with the same R² can have very different error magnitudes.\n",
    "\n",
    "7. **Does Not Account for the Quality of Predictors**: R² does not consider the quality or relevance of the predictors. A model with irrelevant predictors can still have a high R².\n",
    "\n"
   ]
  },
  {
   "cell_type": "markdown",
   "metadata": {},
   "source": [
    "Ques 19) - How would you interpret a large standard error for a regression coefficient?\n"
   ]
  },
  {
   "cell_type": "markdown",
   "metadata": {},
   "source": [
    "Ans 19) - A large standard error for a regression coefficient indicates that there is a high level of variability in the estimate of that coefficient. This can be interpreted in several ways:\n",
    "\n",
    "**Uncertainty in the Estimate**: A large standard error suggests that the estimate of the regression coefficient is not precise. This means that if you were to take multiple samples and fit the regression model to each, the estimated coefficient would vary widely from sample to sample.\n",
    "\n",
    "**Potential Multicollinearity**: If the predictors in the regression model are highly correlated with each other (multicollinearity), it can inflate the standard errors of the coefficients. This makes it difficult to determine the individual effect of each predictor.\n",
    "\n",
    "**Small Sample Size**: A small sample size can lead to large standard errors because there is less information available to accurately estimate the coefficient.\n",
    "\n",
    "**High Variability in the Data**: If the data itself is highly variable, this can also lead to larger standard errors.\n",
    "\n",
    "In summary, a large standard error indicates that there is considerable uncertainty about the true value of the regression coefficient, which can affect the reliability and interpretability of the regression model."
   ]
  },
  {
   "cell_type": "markdown",
   "metadata": {},
   "source": [
    "Ques 20) - How can heteroscedasticity be identified in residual plots, and why is it important to address it?\n"
   ]
  },
  {
   "cell_type": "markdown",
   "metadata": {
    "vscode": {
     "languageId": "markdown"
    }
   },
   "source": [
    "Ans 20) - Heteroscedasticity can be identified in residual plots by examining the spread of the residuals (errors) across different levels of the independent variable(s). In a residual plot, the residuals are plotted on the y-axis, and the predicted values or the independent variable are plotted on the x-axis. If the residuals display a pattern, such as a funnel shape (widening or narrowing spread), this indicates heteroscedasticity.\n",
    "\n",
    "It is important to address heteroscedasticity because it violates one of the key assumptions of regression analysis, which is that the variance of the residuals should be constant across all levels of the independent variable(s). Heteroscedasticity can lead to several issues:\n",
    "\n",
    "1. **Inefficient Estimates**: The ordinary least squares (OLS) method assumes constant variance of the residuals. Heteroscedasticity can result in inefficient estimates of the regression coefficients.\n",
    "\n",
    "2. **Biased Standard Errors**: Heteroscedasticity can lead to biased standard errors, which affects the confidence intervals and hypothesis tests. This can result in incorrect conclusions about the significance of the predictors.\n",
    "\n",
    "3. **Reduced Reliability**: The overall reliability and validity of the model's predictions can be compromised due to heteroscedasticity.\n",
    "\n",
    "To address heteroscedasticity, various techniques can be employed, such as transforming the dependent variable, using weighted least squares, or applying robust standard errors."
   ]
  },
  {
   "cell_type": "markdown",
   "metadata": {},
   "source": [
    "Ques 21) - What does it mean if a Multiple Linear Regression model has a high R² but low adjusted R²?\n"
   ]
  },
  {
   "cell_type": "markdown",
   "metadata": {
    "vscode": {
     "languageId": "markdown"
    }
   },
   "source": [
    "Ans 21) - If a Multiple Linear Regression model has a high R² but a low adjusted R², it suggests that the model may be overfitting the data. \n",
    "\n",
    "R² measures the proportion of the variance in the dependent variable that is predictable from the independent variables. A high R² indicates that the model explains a large portion of the variance in the dependent variable.\n",
    "\n",
    "However, adjusted R² adjusts for the number of predictors in the model and only increases if the new predictor improves the model more than would be expected by chance. A low adjusted R² compared to R² indicates that some of the predictors may not be contributing meaningful information to the model and that the model may be fitting the noise in the data rather than the underlying relationship. This can lead to poor generalization to new data."
   ]
  },
  {
   "cell_type": "markdown",
   "metadata": {},
   "source": [
    "Ques 22) - Why is it important to scale variables in Multiple Linear Regression?\n"
   ]
  },
  {
   "cell_type": "markdown",
   "metadata": {
    "vscode": {
     "languageId": "markdown"
    }
   },
   "source": [
    "Ans 22) - In Multiple Linear Regression, scaling variables is important for several reasons:\n",
    "\n",
    "Improves Convergence: Many optimization algorithms, such as gradient descent, perform better and converge faster when the features are on a similar scale. If the features have vastly different scales, the algorithm might take longer to find the optimal solution.\n",
    "\n",
    "Prevents Dominance: Features with larger scales can dominate the regression coefficients, making it difficult to understand the true impact of each feature. Scaling ensures that each feature contributes equally to the model.\n",
    "\n",
    "Reduces Numerical Instability: Large differences in feature scales can lead to numerical instability and inaccuracies in the calculations, especially when dealing with matrix operations.\n",
    "\n",
    "Enhances Interpretability: When features are scaled, the regression coefficients can be more easily compared to understand the relative importance of each feature."
   ]
  },
  {
   "cell_type": "markdown",
   "metadata": {},
   "source": [
    "Ques 23) - What is polynomial regression?\n"
   ]
  },
  {
   "cell_type": "markdown",
   "metadata": {},
   "source": [
    "Ans 23) - Polynomial regression is a type of regression analysis in which the relationship between the independent variable X and the dependent variable Y is modeled as an nth degree polynomial. It extends linear regression by allowing for the possibility that the relationship between the variables is non-linear. The general form of a polynomial regression model is:\n",
    "\n",
    "Y = b0 + b1*X + b2*X^2 + ... + bi*X^i\n",
    "\n",
    "where `i` is the degree of the polynomial, and b0, b1, ..., bi are the coefficients of the polynomial terms. Polynomial regression can capture more complex patterns in the data compared to linear regression, but it also increases the risk of overfitting, especially with higher-degree polynomials."
   ]
  },
  {
   "cell_type": "markdown",
   "metadata": {
    "vscode": {
     "languageId": "java"
    }
   },
   "source": [
    "Ans 23) - Polynomial regression is a type of regression analysis in which the relationship between the independent variable X and the dependent variable Y is modeled as an nth degree polynomial. It extends linear regression by allowing for the possibility that the relationship between the variables is non-linear. The general form of a polynomial regression model is:\n"
   ]
  },
  {
   "cell_type": "markdown",
   "metadata": {},
   "source": [
    "Ques 24) - How does polynomial regression differ from linear regression?\n"
   ]
  },
  {
   "cell_type": "markdown",
   "metadata": {},
   "source": [
    "Ans 24) - Polynomial regression differs from linear regression in that it models the relationship between the independent variable(s) and the dependent variable as an nth degree polynomial, rather than a straight line. While linear regression assumes a linear relationship between the variables, polynomial regression can capture non-linear relationships by including higher-order terms of the independent variable(s). This allows polynomial regression to fit more complex patterns in the data, but it also increases the risk of overfitting, especially with higher-degree polynomials."
   ]
  },
  {
   "cell_type": "markdown",
   "metadata": {},
   "source": [
    "Ques 25) - When is polynomial regression used?\n"
   ]
  },
  {
   "cell_type": "markdown",
   "metadata": {
    "vscode": {
     "languageId": "markdown"
    }
   },
   "source": [
    "Ans 25) - Polynomial regression is used when the relationship between the independent variable and the dependent variable is non-linear. It is particularly useful when a linear model is insufficient to capture the underlying pattern in the data. By including higher-order terms of the independent variable, polynomial regression can model more complex relationships and provide a better fit to the data. However, it is important to choose the degree of the polynomial carefully to avoid overfitting. For example, if the variable `i` represents the degree of the polynomial, a higher value of `i` can capture more complex patterns but also increases the risk of overfitting."
   ]
  },
  {
   "cell_type": "markdown",
   "metadata": {
    "vscode": {
     "languageId": "markdown"
    }
   },
   "source": [
    "Ans 25) - Polynomial regression is used when the relationship between the independent variable and the dependent variable is non-linear. It is particularly useful when a linear model is insufficient to capture the underlying pattern in the data. By including higher-order terms of the independent variable, polynomial regression can model more complex relationships and provide a better fit to the data. However, it is important to choose the degree of the polynomial carefully to avoid overfitting. For example, if the variable `i` represents the degree of the polynomial, a higher value of `i` can capture more complex patterns but also increases the risk of overfitting."
   ]
  },
  {
   "cell_type": "markdown",
   "metadata": {},
   "source": [
    "Ques 26) - What is the general equation for polynomial regression?\n"
   ]
  },
  {
   "cell_type": "markdown",
   "metadata": {},
   "source": [
    "Ans 26) - In general, polynomial models are of the form\n",
    "y = f ( x ) = β 0 + β 1 x + β 2 x^2 + β 3 x^3 + … + β d x^d + ϵ ,\n",
    " \n",
    "where  \n",
    "d is called the degree of the polynomial."
   ]
  },
  {
   "cell_type": "markdown",
   "metadata": {},
   "source": [
    "Ques 27) - Can polynomial regression be applied to multiple variables?\n"
   ]
  },
  {
   "cell_type": "markdown",
   "metadata": {
    "vscode": {
     "languageId": "tex"
    }
   },
   "source": [
    "Ans 27) - Yes, polynomial regression can be applied to multiple variables. This is known as multivariate polynomial regression. In this case, the model includes polynomial terms for each independent variable as well as interaction terms between the variables."
   ]
  },
  {
   "cell_type": "markdown",
   "metadata": {},
   "source": [
    "Ques 28) - What are the limitations of polynomial regression?\n"
   ]
  },
  {
   "cell_type": "markdown",
   "metadata": {
    "vscode": {
     "languageId": "markdown"
    }
   },
   "source": [
    "Ans 28) - The limitations of polynomial regression include:\n",
    "\n",
    "1. **Overfitting**: Polynomial regression can easily overfit the data, especially with higher-degree polynomials. Overfitting occurs when the model captures noise in the data rather than the underlying relationship, leading to poor generalization to new data.\n",
    "\n",
    "2. **Extrapolation**: Polynomial regression models can produce unreliable predictions when extrapolating beyond the range of the training data. The polynomial curve can behave unpredictably outside the observed data range.\n",
    "\n",
    "3. **Multicollinearity**: Higher-degree polynomial terms can introduce multicollinearity, where the predictor variables become highly correlated. This can make the model coefficients unstable and difficult to interpret.\n",
    "\n",
    "4. **Complexity**: As the degree of the polynomial increases, the model becomes more complex and harder to interpret. Higher-degree polynomials can result in a model that is difficult to understand and explain.\n",
    "\n",
    "5. **Computational Cost**: Fitting a high-degree polynomial regression model can be computationally expensive, especially with large datasets. The increased number of polynomial terms can lead to longer training times and higher computational requirements.\n",
    "\n",
    "6. **Sensitivity to Outliers**: Polynomial regression models can be highly sensitive to outliers. Outliers can disproportionately influence the shape of the polynomial curve, leading to a poor fit for the majority of the data points.\n",
    "\n",
    "7. **Choice of Degree**: Selecting the appropriate degree of the polynomial is crucial. A degree that is too low may underfit the data, while a degree that is too high may overfit. Choosing the right degree often requires experimentation and validation techniques."
   ]
  },
  {
   "cell_type": "markdown",
   "metadata": {},
   "source": [
    "Ques 29) - What methods can be used to evaluate model fit when selecting the degree of a polynomial?\n"
   ]
  },
  {
   "cell_type": "markdown",
   "metadata": {
    "vscode": {
     "languageId": "markdown"
    }
   },
   "source": [
    "Ans 29) - The methods that can be used to evaluate model fit when selecting the degree of a polynomial include:\n",
    "\n",
    "1. **Cross-Validation**: Cross-validation techniques, such as k-fold cross-validation, can be used to assess the model's performance on different subsets of the data. This helps to ensure that the model generalizes well to unseen data and avoids overfitting.\n",
    "\n",
    "2. **Adjusted R²**: Adjusted R² adjusts the R² value based on the number of predictors in the model. It provides a more accurate measure of model fit by penalizing the addition of unnecessary polynomial terms.\n",
    "\n",
    "3. **AIC and BIC**: The Akaike Information Criterion (AIC) and the Bayesian Information Criterion (BIC) are metrics that balance model fit and complexity. Lower values of AIC and BIC indicate a better model fit with fewer parameters.\n",
    "\n",
    "4. **Residual Analysis**: Analyzing the residuals (the differences between observed and predicted values) can help identify patterns that indicate poor model fit. Residual plots can reveal issues such as heteroscedasticity or non-linearity.\n",
    "\n",
    "5. **Validation Set**: Splitting the data into training and validation sets allows for the evaluation of model performance on a separate validation set. This helps to assess how well the model generalizes to new data.\n",
    "\n",
    "6. **Mean Squared Error (MSE)**: MSE measures the average squared difference between observed and predicted values. Lower MSE values indicate better model fit.\n",
    "\n",
    "7. **Visual Inspection**: Plotting the polynomial regression curve against the data points can provide a visual assessment of how well the model fits the data. This can help identify underfitting or overfitting.\n",
    "\n"
   ]
  },
  {
   "cell_type": "markdown",
   "metadata": {},
   "source": [
    "Ques 30) - Why is visualization important in polynomial regression?\n"
   ]
  },
  {
   "cell_type": "markdown",
   "metadata": {
    "vscode": {
     "languageId": "markdown"
    }
   },
   "source": [
    "Ans 30) - Visualization is important in polynomial regression for several reasons:\n",
    "\n",
    "1. **Understanding Relationships**: Visualization helps to understand the relationship between the independent and dependent variables. By plotting the polynomial regression curve along with the data points, you can see how well the model fits the data and whether it captures the underlying pattern.\n",
    "\n",
    "2. **Identifying Overfitting or Underfitting**: Visualization allows you to identify if the model is overfitting or underfitting the data. An overfitted model will have a curve that is too complex and follows the noise in the data, while an underfitted model will have a curve that is too simple and fails to capture the underlying trend.\n",
    "\n",
    "3. **Detecting Outliers**: Visualization helps to detect outliers that may disproportionately influence the polynomial regression model. Outliers can be identified as data points that deviate significantly from the fitted curve.\n",
    "\n",
    "4. **Communicating Results**: Visualization is a powerful tool for communicating the results of the polynomial regression analysis to others. It provides a clear and intuitive way to present the model's performance and the relationship between variables.\n",
    "\n",
    "5. **Model Comparison**: Visualization allows for the comparison of different polynomial regression models with varying degrees. By plotting multiple curves, you can visually assess which model provides the best fit to the data.\n",
    "\n",
    "Overall, visualization is a crucial step in the polynomial regression analysis process, as it provides valuable insights into the model's performance and helps to ensure that the model accurately represents the data."
   ]
  },
  {
   "cell_type": "markdown",
   "metadata": {},
   "source": [
    "Ques 31) - How is polynomial regression implemented in Python?"
   ]
  },
  {
   "cell_type": "code",
   "execution_count": 3,
   "metadata": {},
   "outputs": [
    {
     "data": {
      "image/png": "[encoded data removed]",
      "text/plain": [
       "<Figure size 640x480 with 1 Axes>"
      ]
     },
     "metadata": {},
     "output_type": "display_data"
    }
   ],
   "source": [
    "# %pip install scikit-learn pandas matplotlib\n",
    "\n",
    "import numpy as np\n",
    "import pandas as pd\n",
    "from sklearn.preprocessing import PolynomialFeatures\n",
    "from sklearn.linear_model import LinearRegression\n",
    "import matplotlib.pyplot as plt\n",
    "\n",
    "# Sample data\n",
    "X = np.array([1, 2, 3, 4, 5]).reshape(-1, 1)\n",
    "y = np.array([1, 4, 9, 16, 25])\n",
    "\n",
    "# Generate polynomial features\n",
    "degree = 2\n",
    "poly = PolynomialFeatures(degree)\n",
    "X_poly = poly.fit_transform(X)\n",
    "\n",
    "# Fit linear regression model\n",
    "model = LinearRegression()\n",
    "model.fit(X_poly, y)\n",
    "\n",
    "# Predict using the model\n",
    "y_pred = model.predict(X_poly)\n",
    "\n",
    "# Plot the results\n",
    "plt.scatter(X, y, color='blue', label='Original data')\n",
    "plt.plot(X, y_pred, color='red', label='Polynomial fit')\n",
    "plt.xlabel('X')\n",
    "plt.ylabel('y')\n",
    "plt.legend()\n",
    "plt.show()"
   ]
  }
 ],
 "metadata": {
  "kernelspec": {
   "display_name": "Python 3",
   "language": "python",
   "name": "python3"
  },
  "language_info": {
   "codemirror_mode": {
    "name": "ipython",
    "version": 3
   },
   "file_extension": ".py",
   "mimetype": "text/x-python",
   "name": "python",
   "nbconvert_exporter": "python",
   "pygments_lexer": "ipython3",
   "version": "3.12.0"
  }
 },
 "nbformat": 4,
 "nbformat_minor": 2
}
