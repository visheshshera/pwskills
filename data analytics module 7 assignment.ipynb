{
 "cells": [
  {
   "cell_type": "markdown",
   "metadata": {},
   "source": [
    "Que 1. Discuss the scenarios where multithreading is preferable to multiprocessing and scenarios where\n",
    "multiprocessing is a better choice."
   ]
  },
  {
   "cell_type": "markdown",
   "metadata": {},
   "source": [
    "ANS 1)\n",
    "\n",
    "Preferable Scenarios:\n",
    "\n",
    "Multithreading:\n",
    "\n",
    "1. I/O-bound tasks (e.g., networking, disk access).\n",
    "2. GUI applications (responsive UI, concurrent updates).\n",
    "3. Real-time systems (soft real-time constraints).\n",
    "4. Cooperative scheduling (threads yield control voluntarily).\n",
    "5. Memory-intensive applications (shared memory).\n",
    "\n",
    "Multiprocessing:\n",
    "\n",
    "1. CPU-bound tasks (e.g., scientific computing, data compression).\n",
    "2. Compute-intensive tasks (e.g., image processing, video encoding).\n",
    "3. Independent tasks (no shared state, minimal communication).\n",
    "4. High-performance computing (clusters, distributed systems).\n",
    "5. Large-scale data processing.\n"
   ]
  },
  {
   "cell_type": "markdown",
   "metadata": {},
   "source": [
    "Que 2. Describe what a process pool is and how it helps in managing multiple processes efficiently."
   ]
  },
  {
   "cell_type": "markdown",
   "metadata": {},
   "source": [
    "\n",
    "ANS 2)\n",
    "\n",
    "A process pool is a group of worker processes that can be used to execute multiple tasks concurrently, improving the efficiency and scalability of parallel processing.\n",
    "\n",
    "A process pool helps manage multiple processes efficiently in several ways:\n",
    "\n",
    "     1. Reusing Existing Processes: Instead of creating new processes for each task, a process pool reuses existing processes, reducing process creation overhead.\n",
    "     2. Dynamic Process Creation: The pool dynamically adjusts the number of processes based on workload demands.\n",
    "     3. Load Balancing: Tasks are distributed evenly among worker processes, optimizing resource utilization.\n",
    "     4. Task Queue: Tasks are submitted to a queue, allowing worker processes to retrieve and execute them efficiently.\n",
    "     5. Minimized Process Termination: Processes are terminated only when necessary, reducing overhead."
   ]
  },
  {
   "cell_type": "markdown",
   "metadata": {},
   "source": [
    "Que 3. Explain what multiprocessing is and why it is used in Python programs."
   ]
  },
  {
   "cell_type": "markdown",
   "metadata": {},
   "source": [
    "ANS 3)\n",
    "\n",
    "Multiprocessing is a technique where multiple processes are executed concurrently, leveraging multiple CPU cores or processors to improve overall program performance. Each process runs independently, with its own memory space, and communicates with other processes using inter-process communication (IPC) mechanisms.\n",
    "\n",
    "Why Use Multiprocessing in Python? ;-\n",
    "\n",
    "1. CPU-Bound Tasks: Multiprocessing excels at CPU-bound tasks, such as scientific computing, data compression, and encryption.\n",
    "2. Parallelization: Divide tasks into smaller, independent units, executed concurrently, reducing overall processing time.\n",
    "3. Scalability: Efficiently utilize multi-core processors, scaling performance with the number of cores.\n",
    "4. Memory Efficiency: Each process has its own memory space, reducing memory constraints."
   ]
  },
  {
   "cell_type": "markdown",
   "metadata": {},
   "source": [
    "Que 4. Write a Python program using multithreading where one thread adds numbers to a list, and another\n",
    "thread removes numbers from the list. Implement a mechanism to avoid race conditions using\n",
    "threading.Lock."
   ]
  },
  {
   "cell_type": "code",
   "execution_count": 1,
   "metadata": {},
   "outputs": [
    {
     "name": "stdout",
     "output_type": "stream",
     "text": [
      "Added: 47\n",
      "Removed: 47\n",
      "Added: 1\n",
      "Removed: 1\n",
      "Added: 95\n",
      "Removed: 95\n",
      "Added: 41\n",
      "Added: 76\n",
      "Removed: 41\n",
      "Added: 75\n",
      "Removed: 76\n",
      "Added: 29\n",
      "Added: 23\n",
      "Removed: 75\n",
      "Added: 69\n",
      "Removed: 29\n",
      "Added: 9\n",
      "Removed: 23\n",
      "Removed: 69\n",
      "Removed: 9\n",
      "Final list: []\n"
     ]
    }
   ],
   "source": [
    "import threading\n",
    "import random\n",
    "import time\n",
    "\n",
    "\n",
    "numbers = []\n",
    "\n",
    "lock = threading.Lock()\n",
    "\n",
    "\n",
    "def add_numbers():\n",
    "    for _ in range(10):\n",
    "        with lock:  \n",
    "            num = random.randint(1, 100)\n",
    "            numbers.append(num)\n",
    "            print(f\"Added: {num}\")\n",
    "        time.sleep(0.5) \n",
    "\n",
    "def remove_numbers():\n",
    "    for _ in range(10):\n",
    "        with lock:  \n",
    "            if numbers:\n",
    "                num = numbers.pop(0)\n",
    "                print(f\"Removed: {num}\")\n",
    "            else:\n",
    "                print(\"List is empty\")\n",
    "        time.sleep(0.7)  \n",
    "\n",
    "add_thread = threading.Thread(target=add_numbers)\n",
    "remove_thread = threading.Thread(target=remove_numbers)\n",
    "\n",
    "\n",
    "add_thread.start()\n",
    "remove_thread.start()\n",
    "\n",
    "\n",
    "add_thread.join()\n",
    "remove_thread.join()\n",
    "\n",
    "print(\"Final list:\", numbers)\n"
   ]
  },
  {
   "cell_type": "markdown",
   "metadata": {},
   "source": [
    "Que 5. Describe the methods and tools available in Python for safely sharing data between threads and\n",
    "processes."
   ]
  },
  {
   "cell_type": "markdown",
   "metadata": {},
   "source": [
    "ANS 5)\n",
    "\n",
    "Here’s a list of methods and tools available in Python for safely sharing data between threads and processes:\n",
    "\n",
    "1. Threading: Safe Data Sharing Between Threads (Same Memory Space)\n",
    "   1. Locks (`threading.Lock`)\n",
    "      - Ensures only one thread accesses a shared resource at a time.\n",
    "\n",
    "   2. RLocks (`threading.RLock`)\n",
    "      - A thread can acquire the same lock multiple times (useful in recursive calls).\n",
    "\n",
    "   3. Condition Variables (`threading.Condition`)\n",
    "      - Allows threads to wait for a specific condition to be met and notify others.\n",
    "\n",
    "   4. Semaphores (`threading.Semaphore`)\n",
    "      - Controls access to a limited number of resources (e.g., connection pools).\n",
    "\n",
    "   5. Queues (`queue.Queue`) \n",
    "      - A thread-safe FIFO queue for sharing data between threads.\n",
    "\n",
    "   6. Event (`threading.Event`) \n",
    "      - Used to notify multiple threads that an event has occurred.\n",
    "\n",
    "   7. Barrier (`threading.Barrier`)\n",
    "      - Synchronizes a group of threads to wait until all reach a common point.\n",
    "\n",
    "2. Multiprocessing: Safe Data Sharing Between Processes (Separate Memory Spaces)**  \n",
    "   1. Value (`multiprocessing.Value`)  \n",
    "      - Shares a single primitive value (e.g., int, float) across processes.\n",
    "   \n",
    "   2. Array (`multiprocessing.Array`) \n",
    "      - Shares an array of primitive values between processes.\n",
    "   \n",
    "   3. Queue (`multiprocessing.Queue`) \n",
    "      - A process-safe queue for passing data between processes.\n",
    "   \n",
    "   4. Pipe (`multiprocessing.Pipe`)\n",
    "      - Creates a two-way communication channel between two processes.\n",
    "   \n",
    "   5. Manager (`multiprocessing.Manager`) \n",
    "      - Shares complex objects (like lists or dictionaries) between processes.\n",
    "   \n",
    "   6. Event (`multiprocessing.Event`)\n",
    "      - Notifies multiple processes when an event occurs.\n",
    "\n",
    "3. Tools for Synchronization Across Threads and Processes  \n",
    "   1. Lock (`threading.Lock` / `multiprocessing.Lock`)\n",
    "      - Provides mutual exclusion for shared resources.\n",
    "\n",
    "   2. RLock (`threading.RLock`) \n",
    "      - Allows the same thread to acquire a lock multiple times.\n",
    "\n",
    "   3. Semaphore (`threading.Semaphore`)\n",
    "      - Limits the number of threads/processes accessing a resource at once.\n",
    "\n",
    "   4. Barrier (`threading.Barrier`)  \n",
    "      - Forces threads or processes to wait at a synchronization point.\n",
    "\n",
    "\n",
    "This structured list covers tools in both `threading` and `multiprocessing` modules, ensuring safe data sharing and coordination in multi-threaded and multi-process environments."
   ]
  },
  {
   "cell_type": "markdown",
   "metadata": {},
   "source": [
    "Que 6. Discuss why it’s crucial to handle exceptions in concurrent programs and the techniques available for\n",
    "doing so."
   ]
  },
  {
   "cell_type": "markdown",
   "metadata": {},
   "source": [
    "ANS 6)\n",
    "\n",
    "Handling exceptions in concurrent programs is crucial due to the complexity and unpredictability of concurrent execution.\n",
    "\n",
    "Reasons to do exception handling:\n",
    "\n",
    "1. Prevent Program Crashes: Unhandled exceptions can terminate the entire program, losing progress and data.\n",
    "2. Maintain Program Integrity: Exceptions can leave the program in an inconsistent state, causing further errors.\n",
    "3. Provide Error Information: Caught exceptions can provide valuable insights into the error cause.\n",
    "4. Ensure Resource Cleanup: Proper exception handling ensures resources (e.g., locks, sockets) are released."
   ]
  },
  {
   "cell_type": "markdown",
   "metadata": {},
   "source": [
    "Que 7. Create a program that uses a thread pool to calculate the factorial of numbers from 1 to 10 concurrently.\n",
    "Use concurrent.futures.ThreadPoolExecutor to manage the threads."
   ]
  },
  {
   "cell_type": "code",
   "execution_count": 2,
   "metadata": {},
   "outputs": [
    {
     "name": "stdout",
     "output_type": "stream",
     "text": [
      "Factorial of 6 = 720\n",
      "Factorial of 4 = 24\n",
      "Factorial of 8 = 40320\n",
      "Factorial of 5 = 120\n",
      "Factorial of 3 = 6\n",
      "Factorial of 2 = 2\n",
      "Factorial of 9 = 362880\n",
      "Factorial of 7 = 5040\n",
      "Factorial of 1 = 1\n",
      "Factorial of 10 = 3628800\n"
     ]
    }
   ],
   "source": [
    "import concurrent.futures\n",
    "import math\n",
    "\n",
    "def calculate_factorial(n):\n",
    "    result = 1\n",
    "    for i in range(1, n + 1):\n",
    "        result *= i\n",
    "    return n, result\n",
    "\n",
    "def main():\n",
    "    with concurrent.futures.ThreadPoolExecutor(max_workers=5) as executor:\n",
    "        futures = {executor.submit(calculate_factorial, n): n for n in range(1, 11)}\n",
    "        for future in concurrent.futures.as_completed(futures):\n",
    "            n = futures[future]\n",
    "            try:\n",
    "                result = future.result()\n",
    "                print(f\"Factorial of {result[0]} = {result[1]}\")\n",
    "            except Exception as e:\n",
    "                print(f\"Error calculating factorial of {n}: {e}\")\n",
    "\n",
    "if __name__ == \"__main__\":\n",
    "    main()\n"
   ]
  },
  {
   "cell_type": "markdown",
   "metadata": {},
   "source": [
    "Que 8. Create a Python program that uses multiprocessing.Pool to compute the square of numbers from 1 to 10 in\n",
    "parallel. Measure the time taken to perform this computation using a pool of different sizes (e.g., 2, 4, 8\n",
    "processes)."
   ]
  },
  {
   "cell_type": "code",
   "execution_count": 3,
   "metadata": {},
   "outputs": [
    {
     "name": "stdout",
     "output_type": "stream",
     "text": [
      "Pool Size: 2, Results: [1, 4, 9, 16, 25, 36, 49, 64, 81, 100], Time Taken: 5.0069 seconds\n",
      "Pool Size: 4, Results: [1, 4, 9, 16, 25, 36, 49, 64, 81, 100], Time Taken: 3.0027 seconds\n",
      "Pool Size: 8, Results: [1, 4, 9, 16, 25, 36, 49, 64, 81, 100], Time Taken: 2.0017 seconds\n"
     ]
    }
   ],
   "source": [
    "import concurrent.futures\n",
    "import time\n",
    "\n",
    "def square(n):\n",
    "    time.sleep(1)\n",
    "    return n * n\n",
    "\n",
    "def compute_squares(pool_size):\n",
    "    numbers = list(range(1, 11))\n",
    "    start_time = time.time()\n",
    "\n",
    "    try:\n",
    "        with concurrent.futures.ThreadPoolExecutor(max_workers=pool_size) as executor:\n",
    "            results = list(executor.map(square, numbers))\n",
    "    except Exception as e:\n",
    "        print(f\"An error occurred with pool size {pool_size}: {e}\")\n",
    "        return []\n",
    "\n",
    "    end_time = time.time()\n",
    "    print(f\"Pool Size: {pool_size}, Results: {results}, Time Taken: {end_time - start_time:.4f} seconds\")\n",
    "\n",
    "\n",
    "def main():\n",
    "    pool_sizes = [2,4,8]\n",
    "    for size in pool_sizes:\n",
    "        compute_squares(size)\n",
    "\n",
    "if __name__ == \"__main__\":\n",
    "    main()\n"
   ]
  }
 ],
 "metadata": {
  "kernelspec": {
   "display_name": "Python 3",
   "language": "python",
   "name": "python3"
  },
  "language_info": {
   "codemirror_mode": {
    "name": "ipython",
    "version": 3
   },
   "file_extension": ".py",
   "mimetype": "text/x-python",
   "name": "python",
   "nbconvert_exporter": "python",
   "pygments_lexer": "ipython3",
   "version": "3.12.0"
  }
 },
 "nbformat": 4,
 "nbformat_minor": 2
}
